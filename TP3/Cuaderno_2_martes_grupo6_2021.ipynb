{
  "nbformat": 4,
  "nbformat_minor": 0,
  "metadata": {
    "colab": {
      "name": "Cuaderno_2_martes_grupo6_2021.ipynb",
      "provenance": [],
      "include_colab_link": true
    },
    "kernelspec": {
      "display_name": "Python 3",
      "name": "python3"
    },
    "language_info": {
      "name": "python"
    },
    "accelerator": "GPU",
    "widgets": {
      "application/vnd.jupyter.widget-state+json": {
        "5014750c96fc41beb5d4c7723df011ea": {
          "model_module": "catboost-widget",
          "model_name": "CatboostWidgetModel",
          "state": {
            "_view_name": "CatboostWidgetView",
            "_dom_classes": [],
            "_model_name": "CatboostWidgetModel",
            "data": {
              "catboost_info": {
                "content": {
                  "data": {
                    "meta": {
                      "name": "experiment",
                      "parameters": "",
                      "test_metrics": [
                        {
                          "best_value": "Min",
                          "name": "MultiClass"
                        }
                      ],
                      "learn_sets": [
                        "learn"
                      ],
                      "launch_mode": "Train",
                      "learn_metrics": [
                        {
                          "best_value": "Min",
                          "name": "MultiClass"
                        }
                      ],
                      "iteration_count": 1000,
                      "test_sets": [
                        "test"
                      ]
                    },
                    "iterations": [
                      {
                        "test": [
                          1.974961914
                        ],
                        "passed_time": 0.111108385,
                        "iteration": 0,
                        "remaining_time": 110.9972766,
                        "learn": [
                          1.984575781
                        ]
                      },
                      {
                        "test": [
                          1.763291797
                        ],
                        "passed_time": 0.2118520793,
                        "iteration": 1,
                        "remaining_time": 105.7141876,
                        "learn": [
                          1.773122266
                        ]
                      },
                      {
                        "test": [
                          1.61373584
                        ],
                        "passed_time": 0.2779929138,
                        "iteration": 2,
                        "remaining_time": 92.38631168,
                        "learn": [
                          1.625032422
                        ]
                      },
                      {
                        "test": [
                          1.485604102
                        ],
                        "passed_time": 0.3453833789,
                        "iteration": 3,
                        "remaining_time": 86.00046134,
                        "learn": [
                          1.500834375
                        ]
                      },
                      {
                        "test": [
                          1.392812891
                        ],
                        "passed_time": 0.3999573732,
                        "iteration": 4,
                        "remaining_time": 79.59151727,
                        "learn": [
                          1.407215365
                        ]
                      },
                      {
                        "test": [
                          1.306299902
                        ],
                        "passed_time": 0.4492490305,
                        "iteration": 5,
                        "remaining_time": 74.42558938,
                        "learn": [
                          1.322260938
                        ]
                      },
                      {
                        "test": [
                          1.215204102
                        ],
                        "passed_time": 0.4962337982,
                        "iteration": 6,
                        "remaining_time": 70.3943088,
                        "learn": [
                          1.23096875
                        ]
                      },
                      {
                        "test": [
                          1.140009961
                        ],
                        "passed_time": 0.5540099718,
                        "iteration": 7,
                        "remaining_time": 68.69723651,
                        "learn": [
                          1.155927995
                        ]
                      },
                      {
                        "test": [
                          1.073143848
                        ],
                        "passed_time": 0.6010062602,
                        "iteration": 8,
                        "remaining_time": 66.17746709,
                        "learn": [
                          1.089043945
                        ]
                      },
                      {
                        "test": [
                          1.013945801
                        ],
                        "passed_time": 0.6475390157,
                        "iteration": 9,
                        "remaining_time": 64.10636255,
                        "learn": [
                          1.030091276
                        ]
                      },
                      {
                        "test": [
                          0.9618420898
                        ],
                        "passed_time": 0.6994647352,
                        "iteration": 10,
                        "remaining_time": 62.88823847,
                        "learn": [
                          0.9780319661
                        ]
                      },
                      {
                        "test": [
                          0.9136181641
                        ],
                        "passed_time": 0.7447379185,
                        "iteration": 11,
                        "remaining_time": 61.31675529,
                        "learn": [
                          0.9285358724
                        ]
                      },
                      {
                        "test": [
                          0.8691332031
                        ],
                        "passed_time": 0.79073153,
                        "iteration": 12,
                        "remaining_time": 60.03477078,
                        "learn": [
                          0.8844816406
                        ]
                      },
                      {
                        "test": [
                          0.8337339844
                        ],
                        "passed_time": 0.8341377934,
                        "iteration": 13,
                        "remaining_time": 58.74713317,
                        "learn": [
                          0.8480260417
                        ]
                      },
                      {
                        "test": [
                          0.7970532227
                        ],
                        "passed_time": 0.880158469,
                        "iteration": 14,
                        "remaining_time": 57.7970728,
                        "learn": [
                          0.8119380208
                        ]
                      },
                      {
                        "test": [
                          0.7628426758
                        ],
                        "passed_time": 0.9265518927,
                        "iteration": 15,
                        "remaining_time": 56.9829414,
                        "learn": [
                          0.7771442708
                        ]
                      },
                      {
                        "test": [
                          0.7323345215
                        ],
                        "passed_time": 0.9705427664,
                        "iteration": 16,
                        "remaining_time": 56.1202082,
                        "learn": [
                          0.7456933594
                        ]
                      },
                      {
                        "test": [
                          0.7044594238
                        ],
                        "passed_time": 1.017001546,
                        "iteration": 17,
                        "remaining_time": 55.48308433,
                        "learn": [
                          0.716951237
                        ]
                      },
                      {
                        "test": [
                          0.680684082
                        ],
                        "passed_time": 1.058491495,
                        "iteration": 18,
                        "remaining_time": 54.6515872,
                        "learn": [
                          0.6926696615
                        ]
                      },
                      {
                        "test": [
                          0.6574563477
                        ],
                        "passed_time": 1.102721201,
                        "iteration": 19,
                        "remaining_time": 54.03333886,
                        "learn": [
                          0.6680746094
                        ]
                      },
                      {
                        "test": [
                          0.6354038574
                        ],
                        "passed_time": 1.149488334,
                        "iteration": 20,
                        "remaining_time": 53.58805138,
                        "learn": [
                          0.6455919922
                        ]
                      },
                      {
                        "test": [
                          0.6133379395
                        ],
                        "passed_time": 1.200400839,
                        "iteration": 21,
                        "remaining_time": 53.36327367,
                        "learn": [
                          0.6242123047
                        ]
                      },
                      {
                        "test": [
                          0.5945126953
                        ],
                        "passed_time": 1.243048552,
                        "iteration": 22,
                        "remaining_time": 52.80254065,
                        "learn": [
                          0.6049673828
                        ]
                      },
                      {
                        "test": [
                          0.5770256348
                        ],
                        "passed_time": 1.285666248,
                        "iteration": 23,
                        "remaining_time": 52.28376077,
                        "learn": [
                          0.5869963542
                        ]
                      },
                      {
                        "test": [
                          0.563046875
                        ],
                        "passed_time": 1.327403319,
                        "iteration": 24,
                        "remaining_time": 51.76872943,
                        "learn": [
                          0.5724116536
                        ]
                      },
                      {
                        "test": [
                          0.5468716797
                        ],
                        "passed_time": 1.369978723,
                        "iteration": 25,
                        "remaining_time": 51.32151062,
                        "learn": [
                          0.5564140625
                        ]
                      },
                      {
                        "test": [
                          0.5302551758
                        ],
                        "passed_time": 1.414553288,
                        "iteration": 26,
                        "remaining_time": 50.97630924,
                        "learn": [
                          0.5400128906
                        ]
                      },
                      {
                        "test": [
                          0.5172731934
                        ],
                        "passed_time": 1.455974079,
                        "iteration": 27,
                        "remaining_time": 50.54310018,
                        "learn": [
                          0.5274693359
                        ]
                      },
                      {
                        "test": [
                          0.5056150879
                        ],
                        "passed_time": 1.498641126,
                        "iteration": 28,
                        "remaining_time": 50.17863908,
                        "learn": [
                          0.5153178711
                        ]
                      },
                      {
                        "test": [
                          0.4921633789
                        ],
                        "passed_time": 1.546726655,
                        "iteration": 29,
                        "remaining_time": 50.01082851,
                        "learn": [
                          0.5012004557
                        ]
                      },
                      {
                        "test": [
                          0.4789934082
                        ],
                        "passed_time": 1.602767537,
                        "iteration": 30,
                        "remaining_time": 50.09941108,
                        "learn": [
                          0.4877118164
                        ]
                      },
                      {
                        "test": [
                          0.4669935547
                        ],
                        "passed_time": 1.64768468,
                        "iteration": 31,
                        "remaining_time": 49.84246158,
                        "learn": [
                          0.4755722005
                        ]
                      },
                      {
                        "test": [
                          0.4547846191
                        ],
                        "passed_time": 1.691657423,
                        "iteration": 32,
                        "remaining_time": 49.57068872,
                        "learn": [
                          0.4630770508
                        ]
                      },
                      {
                        "test": [
                          0.445949707
                        ],
                        "passed_time": 1.735005204,
                        "iteration": 33,
                        "remaining_time": 49.29455961,
                        "learn": [
                          0.453638444
                        ]
                      },
                      {
                        "test": [
                          0.4361201172
                        ],
                        "passed_time": 1.778561147,
                        "iteration": 34,
                        "remaining_time": 49.03747164,
                        "learn": [
                          0.4435663737
                        ]
                      },
                      {
                        "test": [
                          0.4286370605
                        ],
                        "passed_time": 1.81967359,
                        "iteration": 35,
                        "remaining_time": 48.72681502,
                        "learn": [
                          0.4356861654
                        ]
                      },
                      {
                        "test": [
                          0.419242334
                        ],
                        "passed_time": 1.866228857,
                        "iteration": 36,
                        "remaining_time": 48.57238889,
                        "learn": [
                          0.4259158529
                        ]
                      },
                      {
                        "test": [
                          0.408542041
                        ],
                        "passed_time": 1.914061633,
                        "iteration": 37,
                        "remaining_time": 48.45598134,
                        "learn": [
                          0.4149442383
                        ]
                      },
                      {
                        "test": [
                          0.4001498047
                        ],
                        "passed_time": 1.957228841,
                        "iteration": 38,
                        "remaining_time": 48.22812606,
                        "learn": [
                          0.4062003255
                        ]
                      },
                      {
                        "test": [
                          0.3904326904
                        ],
                        "passed_time": 2.00260461,
                        "iteration": 39,
                        "remaining_time": 48.06251063,
                        "learn": [
                          0.3963073568
                        ]
                      },
                      {
                        "test": [
                          0.3826380859
                        ],
                        "passed_time": 2.046734253,
                        "iteration": 40,
                        "remaining_time": 47.87361339,
                        "learn": [
                          0.388439974
                        ]
                      },
                      {
                        "test": [
                          0.3767851318
                        ],
                        "passed_time": 2.08989703,
                        "iteration": 41,
                        "remaining_time": 47.66955606,
                        "learn": [
                          0.3824052734
                        ]
                      },
                      {
                        "test": [
                          0.3697335205
                        ],
                        "passed_time": 2.132493179,
                        "iteration": 42,
                        "remaining_time": 47.46037146,
                        "learn": [
                          0.3751567057
                        ]
                      },
                      {
                        "test": [
                          0.3626989014
                        ],
                        "passed_time": 2.175682868,
                        "iteration": 43,
                        "remaining_time": 47.27165504,
                        "learn": [
                          0.3675854492
                        ]
                      },
                      {
                        "test": [
                          0.3556063232
                        ],
                        "passed_time": 2.227826253,
                        "iteration": 44,
                        "remaining_time": 47.27942382,
                        "learn": [
                          0.3603770833
                        ]
                      },
                      {
                        "test": [
                          0.3488119873
                        ],
                        "passed_time": 2.271054374,
                        "iteration": 45,
                        "remaining_time": 47.09969289,
                        "learn": [
                          0.3532145182
                        ]
                      },
                      {
                        "test": [
                          0.3443733398
                        ],
                        "passed_time": 2.311743052,
                        "iteration": 46,
                        "remaining_time": 46.87427932,
                        "learn": [
                          0.3483591797
                        ]
                      },
                      {
                        "test": [
                          0.338954248
                        ],
                        "passed_time": 2.355296215,
                        "iteration": 47,
                        "remaining_time": 46.71337492,
                        "learn": [
                          0.3424901367
                        ]
                      },
                      {
                        "test": [
                          0.332027417
                        ],
                        "passed_time": 2.401830932,
                        "iteration": 48,
                        "remaining_time": 46.61512686,
                        "learn": [
                          0.3355036784
                        ]
                      },
                      {
                        "test": [
                          0.3269979492
                        ],
                        "passed_time": 2.446920248,
                        "iteration": 49,
                        "remaining_time": 46.49148471,
                        "learn": [
                          0.3301582357
                        ]
                      },
                      {
                        "test": [
                          0.3229897461
                        ],
                        "passed_time": 2.488356384,
                        "iteration": 50,
                        "remaining_time": 46.30294526,
                        "learn": [
                          0.3260260091
                        ]
                      },
                      {
                        "test": [
                          0.3181671387
                        ],
                        "passed_time": 2.530148263,
                        "iteration": 51,
                        "remaining_time": 46.1265491,
                        "learn": [
                          0.3212679362
                        ]
                      },
                      {
                        "test": [
                          0.3130655518
                        ],
                        "passed_time": 2.582251686,
                        "iteration": 52,
                        "remaining_time": 46.13947824,
                        "learn": [
                          0.3162422526
                        ]
                      },
                      {
                        "test": [
                          0.3088282227
                        ],
                        "passed_time": 2.624194057,
                        "iteration": 53,
                        "remaining_time": 45.97199218,
                        "learn": [
                          0.3117562174
                        ]
                      },
                      {
                        "test": [
                          0.3046023682
                        ],
                        "passed_time": 2.666079946,
                        "iteration": 54,
                        "remaining_time": 45.8081009,
                        "learn": [
                          0.3070986654
                        ]
                      },
                      {
                        "test": [
                          0.3005253174
                        ],
                        "passed_time": 2.704249069,
                        "iteration": 55,
                        "remaining_time": 45.58591288,
                        "learn": [
                          0.3026183919
                        ]
                      },
                      {
                        "test": [
                          0.2963095947
                        ],
                        "passed_time": 2.748475425,
                        "iteration": 56,
                        "remaining_time": 45.47039168,
                        "learn": [
                          0.2981223307
                        ]
                      },
                      {
                        "test": [
                          0.2925086914
                        ],
                        "passed_time": 2.790510285,
                        "iteration": 57,
                        "remaining_time": 45.32173602,
                        "learn": [
                          0.2941052409
                        ]
                      },
                      {
                        "test": [
                          0.2887516357
                        ],
                        "passed_time": 2.831672829,
                        "iteration": 58,
                        "remaining_time": 45.1627819,
                        "learn": [
                          0.2901313477
                        ]
                      },
                      {
                        "test": [
                          0.2846472168
                        ],
                        "passed_time": 2.874967851,
                        "iteration": 59,
                        "remaining_time": 45.04116299,
                        "learn": [
                          0.2858974935
                        ]
                      },
                      {
                        "test": [
                          0.2815630371
                        ],
                        "passed_time": 2.915248888,
                        "iteration": 60,
                        "remaining_time": 44.87571649,
                        "learn": [
                          0.2825388021
                        ]
                      },
                      {
                        "test": [
                          0.2776811523
                        ],
                        "passed_time": 2.959336393,
                        "iteration": 61,
                        "remaining_time": 44.77189576,
                        "learn": [
                          0.2783883789
                        ]
                      },
                      {
                        "test": [
                          0.2744988037
                        ],
                        "passed_time": 2.997224301,
                        "iteration": 62,
                        "remaining_time": 44.57776461,
                        "learn": [
                          0.2752483724
                        ]
                      },
                      {
                        "test": [
                          0.2709208252
                        ],
                        "passed_time": 3.038195055,
                        "iteration": 63,
                        "remaining_time": 44.43360268,
                        "learn": [
                          0.2717477214
                        ]
                      },
                      {
                        "test": [
                          0.267323291
                        ],
                        "passed_time": 3.082423071,
                        "iteration": 64,
                        "remaining_time": 44.33947033,
                        "learn": [
                          0.2682842611
                        ]
                      },
                      {
                        "test": [
                          0.264270459
                        ],
                        "passed_time": 3.122536269,
                        "iteration": 65,
                        "remaining_time": 44.18861932,
                        "learn": [
                          0.2650400553
                        ]
                      },
                      {
                        "test": [
                          0.2603458984
                        ],
                        "passed_time": 3.16658571,
                        "iteration": 66,
                        "remaining_time": 44.09588758,
                        "learn": [
                          0.260843099
                        ]
                      },
                      {
                        "test": [
                          0.2575274414
                        ],
                        "passed_time": 3.219476324,
                        "iteration": 67,
                        "remaining_time": 44.12576374,
                        "learn": [
                          0.2580406901
                        ]
                      },
                      {
                        "test": [
                          0.2549304688
                        ],
                        "passed_time": 3.259654486,
                        "iteration": 68,
                        "remaining_time": 43.98171488,
                        "learn": [
                          0.2553195638
                        ]
                      },
                      {
                        "test": [
                          0.2521693359
                        ],
                        "passed_time": 3.301271236,
                        "iteration": 69,
                        "remaining_time": 43.85974642,
                        "learn": [
                          0.2525885091
                        ]
                      },
                      {
                        "test": [
                          0.2493882324
                        ],
                        "passed_time": 3.343564046,
                        "iteration": 70,
                        "remaining_time": 43.7488873,
                        "learn": [
                          0.2496671387
                        ]
                      },
                      {
                        "test": [
                          0.2472654541
                        ],
                        "passed_time": 3.383088199,
                        "iteration": 71,
                        "remaining_time": 43.6042479,
                        "learn": [
                          0.2474192057
                        ]
                      },
                      {
                        "test": [
                          0.2451715332
                        ],
                        "passed_time": 3.419556814,
                        "iteration": 72,
                        "remaining_time": 43.42368721,
                        "learn": [
                          0.2453885254
                        ]
                      },
                      {
                        "test": [
                          0.243605542
                        ],
                        "passed_time": 3.457602414,
                        "iteration": 73,
                        "remaining_time": 43.26675453,
                        "learn": [
                          0.2435590332
                        ]
                      },
                      {
                        "test": [
                          0.2415043701
                        ],
                        "passed_time": 3.494622362,
                        "iteration": 74,
                        "remaining_time": 43.10034247,
                        "learn": [
                          0.2412794596
                        ]
                      },
                      {
                        "test": [
                          0.2388344482
                        ],
                        "passed_time": 3.536314158,
                        "iteration": 75,
                        "remaining_time": 42.99413529,
                        "learn": [
                          0.238437679
                        ]
                      },
                      {
                        "test": [
                          0.2363524658
                        ],
                        "passed_time": 3.590539645,
                        "iteration": 76,
                        "remaining_time": 43.03984535,
                        "learn": [
                          0.2358351563
                        ]
                      },
                      {
                        "test": [
                          0.2339998535
                        ],
                        "passed_time": 3.63086482,
                        "iteration": 77,
                        "remaining_time": 42.91868416,
                        "learn": [
                          0.2333604167
                        ]
                      },
                      {
                        "test": [
                          0.2318661377
                        ],
                        "passed_time": 3.672489642,
                        "iteration": 78,
                        "remaining_time": 42.81472102,
                        "learn": [
                          0.2309206706
                        ]
                      },
                      {
                        "test": [
                          0.2297323975
                        ],
                        "passed_time": 3.716096678,
                        "iteration": 79,
                        "remaining_time": 42.7351118,
                        "learn": [
                          0.2285845052
                        ]
                      },
                      {
                        "test": [
                          0.2278032471
                        ],
                        "passed_time": 3.768655699,
                        "iteration": 80,
                        "remaining_time": 42.75795787,
                        "learn": [
                          0.2263910645
                        ]
                      },
                      {
                        "test": [
                          0.2255559814
                        ],
                        "passed_time": 3.808057987,
                        "iteration": 81,
                        "remaining_time": 42.63167356,
                        "learn": [
                          0.2240366211
                        ]
                      },
                      {
                        "test": [
                          0.2232347656
                        ],
                        "passed_time": 3.850293328,
                        "iteration": 82,
                        "remaining_time": 42.53878291,
                        "learn": [
                          0.2215316406
                        ]
                      },
                      {
                        "test": [
                          0.2214646484
                        ],
                        "passed_time": 3.887606726,
                        "iteration": 83,
                        "remaining_time": 42.39342573,
                        "learn": [
                          0.2196835612
                        ]
                      },
                      {
                        "test": [
                          0.218619165
                        ],
                        "passed_time": 3.930786378,
                        "iteration": 84,
                        "remaining_time": 42.31375925,
                        "learn": [
                          0.2167537109
                        ]
                      },
                      {
                        "test": [
                          0.2169099854
                        ],
                        "passed_time": 3.971803417,
                        "iteration": 85,
                        "remaining_time": 42.21195725,
                        "learn": [
                          0.2148994141
                        ]
                      },
                      {
                        "test": [
                          0.2156296631
                        ],
                        "passed_time": 4.009242301,
                        "iteration": 86,
                        "remaining_time": 42.07400254,
                        "learn": [
                          0.2134983887
                        ]
                      },
                      {
                        "test": [
                          0.2145063721
                        ],
                        "passed_time": 4.052101823,
                        "iteration": 87,
                        "remaining_time": 41.9945098,
                        "learn": [
                          0.2120077637
                        ]
                      },
                      {
                        "test": [
                          0.2122225342
                        ],
                        "passed_time": 4.095780898,
                        "iteration": 88,
                        "remaining_time": 41.92422919,
                        "learn": [
                          0.2095522786
                        ]
                      },
                      {
                        "test": [
                          0.2102435791
                        ],
                        "passed_time": 4.137435122,
                        "iteration": 89,
                        "remaining_time": 41.83406624,
                        "learn": [
                          0.207496582
                        ]
                      },
                      {
                        "test": [
                          0.2090151855
                        ],
                        "passed_time": 4.176288644,
                        "iteration": 90,
                        "remaining_time": 41.71699315,
                        "learn": [
                          0.2061273437
                        ]
                      },
                      {
                        "test": [
                          0.2068997559
                        ],
                        "passed_time": 4.234253621,
                        "iteration": 91,
                        "remaining_time": 41.79024226,
                        "learn": [
                          0.2039785156
                        ]
                      },
                      {
                        "test": [
                          0.2051318848
                        ],
                        "passed_time": 4.276644156,
                        "iteration": 92,
                        "remaining_time": 41.70877688,
                        "learn": [
                          0.2021265788
                        ]
                      },
                      {
                        "test": [
                          0.2032269653
                        ],
                        "passed_time": 4.318219774,
                        "iteration": 93,
                        "remaining_time": 41.62028846,
                        "learn": [
                          0.1999342611
                        ]
                      },
                      {
                        "test": [
                          0.201248291
                        ],
                        "passed_time": 4.359628956,
                        "iteration": 94,
                        "remaining_time": 41.53120216,
                        "learn": [
                          0.1978433594
                        ]
                      },
                      {
                        "test": [
                          0.1997020874
                        ],
                        "passed_time": 4.397260042,
                        "iteration": 95,
                        "remaining_time": 41.40753206,
                        "learn": [
                          0.196249056
                        ]
                      },
                      {
                        "test": [
                          0.1986283081
                        ],
                        "passed_time": 4.435506719,
                        "iteration": 96,
                        "remaining_time": 41.29136667,
                        "learn": [
                          0.1950417318
                        ]
                      },
                      {
                        "test": [
                          0.1973477051
                        ],
                        "passed_time": 4.471953891,
                        "iteration": 97,
                        "remaining_time": 41.16022867,
                        "learn": [
                          0.1936279134
                        ]
                      },
                      {
                        "test": [
                          0.1963237793
                        ],
                        "passed_time": 4.508408433,
                        "iteration": 98,
                        "remaining_time": 41.03107069,
                        "learn": [
                          0.1925147624
                        ]
                      },
                      {
                        "test": [
                          0.19483302
                        ],
                        "passed_time": 4.547946843,
                        "iteration": 99,
                        "remaining_time": 40.93152159,
                        "learn": [
                          0.1909644043
                        ]
                      },
                      {
                        "test": [
                          0.1935828857
                        ],
                        "passed_time": 4.589886767,
                        "iteration": 100,
                        "remaining_time": 40.85453667,
                        "learn": [
                          0.1895470703
                        ]
                      },
                      {
                        "test": [
                          0.1918962646
                        ],
                        "passed_time": 4.638041107,
                        "iteration": 101,
                        "remaining_time": 40.83295014,
                        "learn": [
                          0.1876516439
                        ]
                      },
                      {
                        "test": [
                          0.1909770996
                        ],
                        "passed_time": 4.672745457,
                        "iteration": 102,
                        "remaining_time": 40.69371529,
                        "learn": [
                          0.1865300944
                        ]
                      },
                      {
                        "test": [
                          0.1905562256
                        ],
                        "passed_time": 4.702721925,
                        "iteration": 103,
                        "remaining_time": 40.51575812,
                        "learn": [
                          0.1860784342
                        ]
                      },
                      {
                        "test": [
                          0.1888469727
                        ],
                        "passed_time": 4.745905528,
                        "iteration": 104,
                        "remaining_time": 40.45319474,
                        "learn": [
                          0.184137207
                        ]
                      },
                      {
                        "test": [
                          0.1876881836
                        ],
                        "passed_time": 4.78145357,
                        "iteration": 105,
                        "remaining_time": 40.32659897,
                        "learn": [
                          0.1828576823
                        ]
                      },
                      {
                        "test": [
                          0.1864400635
                        ],
                        "passed_time": 4.823075061,
                        "iteration": 106,
                        "remaining_time": 40.2523928,
                        "learn": [
                          0.181526888
                        ]
                      },
                      {
                        "test": [
                          0.1850845581
                        ],
                        "passed_time": 4.866166032,
                        "iteration": 107,
                        "remaining_time": 40.19092686,
                        "learn": [
                          0.1799087891
                        ]
                      },
                      {
                        "test": [
                          0.1839085571
                        ],
                        "passed_time": 4.90273698,
                        "iteration": 108,
                        "remaining_time": 40.07650137,
                        "learn": [
                          0.1785973958
                        ]
                      },
                      {
                        "test": [
                          0.1821716309
                        ],
                        "passed_time": 4.946916705,
                        "iteration": 109,
                        "remaining_time": 40.02505334,
                        "learn": [
                          0.1767628743
                        ]
                      },
                      {
                        "test": [
                          0.18174021
                        ],
                        "passed_time": 4.980909539,
                        "iteration": 110,
                        "remaining_time": 39.89214937,
                        "learn": [
                          0.1762192546
                        ]
                      },
                      {
                        "test": [
                          0.1811697144
                        ],
                        "passed_time": 5.017258269,
                        "iteration": 111,
                        "remaining_time": 39.77969056,
                        "learn": [
                          0.1754906087
                        ]
                      },
                      {
                        "test": [
                          0.1804604492
                        ],
                        "passed_time": 5.049231125,
                        "iteration": 112,
                        "remaining_time": 39.63423016,
                        "learn": [
                          0.1747719889
                        ]
                      },
                      {
                        "test": [
                          0.1793090088
                        ],
                        "passed_time": 5.083339776,
                        "iteration": 113,
                        "remaining_time": 39.50736002,
                        "learn": [
                          0.1735088704
                        ]
                      },
                      {
                        "test": [
                          0.1788145752
                        ],
                        "passed_time": 5.114584843,
                        "iteration": 114,
                        "remaining_time": 39.36006596,
                        "learn": [
                          0.1729854818
                        ]
                      },
                      {
                        "test": [
                          0.1779521973
                        ],
                        "passed_time": 5.147977826,
                        "iteration": 115,
                        "remaining_time": 39.23114136,
                        "learn": [
                          0.1721666016
                        ]
                      },
                      {
                        "test": [
                          0.1778223633
                        ],
                        "passed_time": 5.174692919,
                        "iteration": 116,
                        "remaining_time": 39.05345169,
                        "learn": [
                          0.1719706055
                        ]
                      },
                      {
                        "test": [
                          0.1769171143
                        ],
                        "passed_time": 5.212602533,
                        "iteration": 117,
                        "remaining_time": 38.96199521,
                        "learn": [
                          0.1709239258
                        ]
                      },
                      {
                        "test": [
                          0.1766331543
                        ],
                        "passed_time": 5.255829851,
                        "iteration": 118,
                        "remaining_time": 38.91080755,
                        "learn": [
                          0.1705926432
                        ]
                      },
                      {
                        "test": [
                          0.1759173218
                        ],
                        "passed_time": 5.290765171,
                        "iteration": 119,
                        "remaining_time": 38.79894459,
                        "learn": [
                          0.169769043
                        ]
                      },
                      {
                        "test": [
                          0.1756017822
                        ],
                        "passed_time": 5.321397191,
                        "iteration": 120,
                        "remaining_time": 38.65709199,
                        "learn": [
                          0.1694301107
                        ]
                      },
                      {
                        "test": [
                          0.1749483765
                        ],
                        "passed_time": 5.364069895,
                        "iteration": 121,
                        "remaining_time": 38.60371613,
                        "learn": [
                          0.1685922038
                        ]
                      },
                      {
                        "test": [
                          0.1741563477
                        ],
                        "passed_time": 5.402571947,
                        "iteration": 122,
                        "remaining_time": 38.52077722,
                        "learn": [
                          0.1676956868
                        ]
                      },
                      {
                        "test": [
                          0.1739525757
                        ],
                        "passed_time": 5.429713233,
                        "iteration": 123,
                        "remaining_time": 38.35829671,
                        "learn": [
                          0.1674069987
                        ]
                      },
                      {
                        "test": [
                          0.1735385254
                        ],
                        "passed_time": 5.461602415,
                        "iteration": 124,
                        "remaining_time": 38.23121691,
                        "learn": [
                          0.1669233398
                        ]
                      },
                      {
                        "test": [
                          0.1733887817
                        ],
                        "passed_time": 5.493385498,
                        "iteration": 125,
                        "remaining_time": 38.10491211,
                        "learn": [
                          0.1666701986
                        ]
                      },
                      {
                        "test": [
                          0.1721146973
                        ],
                        "passed_time": 5.534915291,
                        "iteration": 126,
                        "remaining_time": 38.04709487,
                        "learn": [
                          0.1653162109
                        ]
                      },
                      {
                        "test": [
                          0.1712604614
                        ],
                        "passed_time": 5.573068264,
                        "iteration": 127,
                        "remaining_time": 37.96652755,
                        "learn": [
                          0.164263623
                        ]
                      },
                      {
                        "test": [
                          0.1709973511
                        ],
                        "passed_time": 5.60730004,
                        "iteration": 128,
                        "remaining_time": 37.86014213,
                        "learn": [
                          0.1640006348
                        ]
                      },
                      {
                        "test": [
                          0.1699248047
                        ],
                        "passed_time": 5.64918057,
                        "iteration": 129,
                        "remaining_time": 37.80605459,
                        "learn": [
                          0.162804069
                        ]
                      },
                      {
                        "test": [
                          0.1690061279
                        ],
                        "passed_time": 5.683196591,
                        "iteration": 130,
                        "remaining_time": 37.69998349,
                        "learn": [
                          0.1618938314
                        ]
                      },
                      {
                        "test": [
                          0.1681992676
                        ],
                        "passed_time": 5.718611197,
                        "iteration": 131,
                        "remaining_time": 37.6042009,
                        "learn": [
                          0.1610181478
                        ]
                      },
                      {
                        "test": [
                          0.1679049683
                        ],
                        "passed_time": 5.750028089,
                        "iteration": 132,
                        "remaining_time": 37.48326581,
                        "learn": [
                          0.1607342611
                        ]
                      },
                      {
                        "test": [
                          0.1676347412
                        ],
                        "passed_time": 5.778693945,
                        "iteration": 133,
                        "remaining_time": 37.34588773,
                        "learn": [
                          0.1604735352
                        ]
                      },
                      {
                        "test": [
                          0.1675195923
                        ],
                        "passed_time": 5.804996619,
                        "iteration": 134,
                        "remaining_time": 37.19497833,
                        "learn": [
                          0.1603273926
                        ]
                      },
                      {
                        "test": [
                          0.1662517456
                        ],
                        "passed_time": 5.845684151,
                        "iteration": 135,
                        "remaining_time": 37.13728755,
                        "learn": [
                          0.1588601074
                        ]
                      },
                      {
                        "test": [
                          0.1656805908
                        ],
                        "passed_time": 5.876086916,
                        "iteration": 136,
                        "remaining_time": 37.01505845,
                        "learn": [
                          0.1582738607
                        ]
                      },
                      {
                        "test": [
                          0.1651903687
                        ],
                        "passed_time": 5.911766546,
                        "iteration": 137,
                        "remaining_time": 36.92712147,
                        "learn": [
                          0.1576363932
                        ]
                      },
                      {
                        "test": [
                          0.164763269
                        ],
                        "passed_time": 5.945271455,
                        "iteration": 138,
                        "remaining_time": 36.82646563,
                        "learn": [
                          0.1571568522
                        ]
                      },
                      {
                        "test": [
                          0.1639986328
                        ],
                        "passed_time": 5.983215191,
                        "iteration": 139,
                        "remaining_time": 36.75403617,
                        "learn": [
                          0.1564527507
                        ]
                      },
                      {
                        "test": [
                          0.1639981445
                        ],
                        "passed_time": 6.008361651,
                        "iteration": 140,
                        "remaining_time": 36.60413233,
                        "learn": [
                          0.1564499512
                        ]
                      },
                      {
                        "test": [
                          0.1630341797
                        ],
                        "passed_time": 6.047092657,
                        "iteration": 141,
                        "remaining_time": 36.5380669,
                        "learn": [
                          0.1553312826
                        ]
                      },
                      {
                        "test": [
                          0.1626241333
                        ],
                        "passed_time": 6.082602428,
                        "iteration": 142,
                        "remaining_time": 36.45307889,
                        "learn": [
                          0.1548795247
                        ]
                      },
                      {
                        "test": [
                          0.162070752
                        ],
                        "passed_time": 6.117507919,
                        "iteration": 143,
                        "remaining_time": 36.36518597,
                        "learn": [
                          0.1541273438
                        ]
                      },
                      {
                        "test": [
                          0.1615894409
                        ],
                        "passed_time": 6.149301799,
                        "iteration": 144,
                        "remaining_time": 36.25967612,
                        "learn": [
                          0.1536830078
                        ]
                      },
                      {
                        "test": [
                          0.161499585
                        ],
                        "passed_time": 6.176159208,
                        "iteration": 145,
                        "remaining_time": 36.12630112,
                        "learn": [
                          0.1535924316
                        ]
                      },
                      {
                        "test": [
                          0.1605873901
                        ],
                        "passed_time": 6.213330437,
                        "iteration": 146,
                        "remaining_time": 36.05422356,
                        "learn": [
                          0.1525717773
                        ]
                      },
                      {
                        "test": [
                          0.1602529785
                        ],
                        "passed_time": 6.251789916,
                        "iteration": 147,
                        "remaining_time": 35.99003384,
                        "learn": [
                          0.152262321
                        ]
                      },
                      {
                        "test": [
                          0.1598344849
                        ],
                        "passed_time": 6.291883162,
                        "iteration": 148,
                        "remaining_time": 35.93552061,
                        "learn": [
                          0.1517949056
                        ]
                      },
                      {
                        "test": [
                          0.1597008057
                        ],
                        "passed_time": 6.322542805,
                        "iteration": 149,
                        "remaining_time": 35.82774256,
                        "learn": [
                          0.1515852376
                        ]
                      },
                      {
                        "test": [
                          0.1597008789
                        ],
                        "passed_time": 6.347716505,
                        "iteration": 150,
                        "remaining_time": 35.69014114,
                        "learn": [
                          0.1515827637
                        ]
                      },
                      {
                        "test": [
                          0.1593534546
                        ],
                        "passed_time": 6.383783596,
                        "iteration": 151,
                        "remaining_time": 35.61479269,
                        "learn": [
                          0.1511391113
                        ]
                      },
                      {
                        "test": [
                          0.1588774048
                        ],
                        "passed_time": 6.415656092,
                        "iteration": 152,
                        "remaining_time": 35.51673667,
                        "learn": [
                          0.1505944173
                        ]
                      },
                      {
                        "test": [
                          0.1588778931
                        ],
                        "passed_time": 6.440779714,
                        "iteration": 153,
                        "remaining_time": 35.38246518,
                        "learn": [
                          0.1505907389
                        ]
                      },
                      {
                        "test": [
                          0.1583346436
                        ],
                        "passed_time": 6.473936576,
                        "iteration": 154,
                        "remaining_time": 35.29339617,
                        "learn": [
                          0.1499703288
                        ]
                      },
                      {
                        "test": [
                          0.158099707
                        ],
                        "passed_time": 6.505015664,
                        "iteration": 155,
                        "remaining_time": 35.1938027,
                        "learn": [
                          0.1496812174
                        ]
                      },
                      {
                        "test": [
                          0.1573006348
                        ],
                        "passed_time": 6.539513164,
                        "iteration": 156,
                        "remaining_time": 35.11343693,
                        "learn": [
                          0.1488614909
                        ]
                      },
                      {
                        "test": [
                          0.1573000977
                        ],
                        "passed_time": 6.565395086,
                        "iteration": 157,
                        "remaining_time": 34.98773837,
                        "learn": [
                          0.148858252
                        ]
                      },
                      {
                        "test": [
                          0.1567298706
                        ],
                        "passed_time": 6.598279298,
                        "iteration": 158,
                        "remaining_time": 34.90033264,
                        "learn": [
                          0.1482022949
                        ]
                      },
                      {
                        "test": [
                          0.1566394043
                        ],
                        "passed_time": 6.641871891,
                        "iteration": 159,
                        "remaining_time": 34.86982743,
                        "learn": [
                          0.1480209635
                        ]
                      },
                      {
                        "test": [
                          0.1562400391
                        ],
                        "passed_time": 6.680332189,
                        "iteration": 160,
                        "remaining_time": 34.81241433,
                        "learn": [
                          0.1475916829
                        ]
                      },
                      {
                        "test": [
                          0.1552875
                        ],
                        "passed_time": 6.714694441,
                        "iteration": 161,
                        "remaining_time": 34.73403668,
                        "learn": [
                          0.1465653158
                        ]
                      },
                      {
                        "test": [
                          0.155031897
                        ],
                        "passed_time": 6.742575586,
                        "iteration": 162,
                        "remaining_time": 34.62291881,
                        "learn": [
                          0.1462278158
                        ]
                      },
                      {
                        "test": [
                          0.1547166748
                        ],
                        "passed_time": 6.776712392,
                        "iteration": 163,
                        "remaining_time": 34.54470463,
                        "learn": [
                          0.1458528646
                        ]
                      },
                      {
                        "test": [
                          0.1547170654
                        ],
                        "passed_time": 6.802533125,
                        "iteration": 164,
                        "remaining_time": 34.42494036,
                        "learn": [
                          0.1458489583
                        ]
                      },
                      {
                        "test": [
                          0.1545937622
                        ],
                        "passed_time": 6.834559357,
                        "iteration": 165,
                        "remaining_time": 34.33748496,
                        "learn": [
                          0.1457194987
                        ]
                      },
                      {
                        "test": [
                          0.1545600586
                        ],
                        "passed_time": 6.859646833,
                        "iteration": 166,
                        "remaining_time": 34.21608271,
                        "learn": [
                          0.1456593262
                        ]
                      },
                      {
                        "test": [
                          0.1538183594
                        ],
                        "passed_time": 6.898965343,
                        "iteration": 167,
                        "remaining_time": 34.16630456,
                        "learn": [
                          0.144787793
                        ]
                      },
                      {
                        "test": [
                          0.1536154541
                        ],
                        "passed_time": 6.926821701,
                        "iteration": 168,
                        "remaining_time": 34.06028896,
                        "learn": [
                          0.1445651204
                        ]
                      },
                      {
                        "test": [
                          0.1536150024
                        ],
                        "passed_time": 6.95165943,
                        "iteration": 169,
                        "remaining_time": 33.94045487,
                        "learn": [
                          0.1445624023
                        ]
                      },
                      {
                        "test": [
                          0.1534521362
                        ],
                        "passed_time": 6.982634578,
                        "iteration": 170,
                        "remaining_time": 33.85148576,
                        "learn": [
                          0.1443513184
                        ]
                      },
                      {
                        "test": [
                          0.1532597168
                        ],
                        "passed_time": 7.009048991,
                        "iteration": 171,
                        "remaining_time": 33.74123584,
                        "learn": [
                          0.144142806
                        ]
                      },
                      {
                        "test": [
                          0.1532129883
                        ],
                        "passed_time": 7.034139372,
                        "iteration": 172,
                        "remaining_time": 33.62562578,
                        "learn": [
                          0.1440591146
                        ]
                      },
                      {
                        "test": [
                          0.1525797974
                        ],
                        "passed_time": 7.068043035,
                        "iteration": 173,
                        "remaining_time": 33.55289395,
                        "learn": [
                          0.1434306803
                        ]
                      },
                      {
                        "test": [
                          0.1524293091
                        ],
                        "passed_time": 7.093624441,
                        "iteration": 174,
                        "remaining_time": 33.44137237,
                        "learn": [
                          0.1432537109
                        ]
                      },
                      {
                        "test": [
                          0.1523946899
                        ],
                        "passed_time": 7.12177914,
                        "iteration": 175,
                        "remaining_time": 33.34287507,
                        "learn": [
                          0.1431980469
                        ]
                      },
                      {
                        "test": [
                          0.1523634033
                        ],
                        "passed_time": 7.149169531,
                        "iteration": 176,
                        "remaining_time": 33.24161878,
                        "learn": [
                          0.1431224772
                        ]
                      },
                      {
                        "test": [
                          0.152021875
                        ],
                        "passed_time": 7.181834402,
                        "iteration": 177,
                        "remaining_time": 33.16554988,
                        "learn": [
                          0.1427248698
                        ]
                      },
                      {
                        "test": [
                          0.1517765137
                        ],
                        "passed_time": 7.212480501,
                        "iteration": 178,
                        "remaining_time": 33.08070666,
                        "learn": [
                          0.1424674316
                        ]
                      },
                      {
                        "test": [
                          0.1513648193
                        ],
                        "passed_time": 7.245737015,
                        "iteration": 179,
                        "remaining_time": 33.00835751,
                        "learn": [
                          0.1420435547
                        ]
                      },
                      {
                        "test": [
                          0.1510118286
                        ],
                        "passed_time": 7.299967388,
                        "iteration": 180,
                        "remaining_time": 33.03134415,
                        "learn": [
                          0.1415872559
                        ]
                      },
                      {
                        "test": [
                          0.1509345703
                        ],
                        "passed_time": 7.328226551,
                        "iteration": 181,
                        "remaining_time": 32.9367545,
                        "learn": [
                          0.1414986491
                        ]
                      },
                      {
                        "test": [
                          0.1507566528
                        ],
                        "passed_time": 7.358625828,
                        "iteration": 182,
                        "remaining_time": 32.85244427,
                        "learn": [
                          0.141269694
                        ]
                      },
                      {
                        "test": [
                          0.1507428101
                        ],
                        "passed_time": 7.382935665,
                        "iteration": 183,
                        "remaining_time": 32.74171469,
                        "learn": [
                          0.1412326335
                        ]
                      },
                      {
                        "test": [
                          0.1504009155
                        ],
                        "passed_time": 7.417323494,
                        "iteration": 184,
                        "remaining_time": 32.67631702,
                        "learn": [
                          0.1407644694
                        ]
                      },
                      {
                        "test": [
                          0.1503327637
                        ],
                        "passed_time": 7.448851343,
                        "iteration": 185,
                        "remaining_time": 32.59873652,
                        "learn": [
                          0.1406365072
                        ]
                      },
                      {
                        "test": [
                          0.1498862061
                        ],
                        "passed_time": 7.484482165,
                        "iteration": 186,
                        "remaining_time": 32.53948663,
                        "learn": [
                          0.1401528809
                        ]
                      },
                      {
                        "test": [
                          0.1498459351
                        ],
                        "passed_time": 7.510894531,
                        "iteration": 187,
                        "remaining_time": 32.44067212,
                        "learn": [
                          0.1401044759
                        ]
                      },
                      {
                        "test": [
                          0.1498562744
                        ],
                        "passed_time": 7.538842395,
                        "iteration": 188,
                        "remaining_time": 32.34921261,
                        "learn": [
                          0.1400896973
                        ]
                      },
                      {
                        "test": [
                          0.1498389526
                        ],
                        "passed_time": 7.564612682,
                        "iteration": 189,
                        "remaining_time": 32.24913827,
                        "learn": [
                          0.1400347656
                        ]
                      },
                      {
                        "test": [
                          0.1497305054
                        ],
                        "passed_time": 7.59943823,
                        "iteration": 190,
                        "remaining_time": 32.18819648,
                        "learn": [
                          0.1398825195
                        ]
                      },
                      {
                        "test": [
                          0.149687793
                        ],
                        "passed_time": 7.636827664,
                        "iteration": 191,
                        "remaining_time": 32.13831642,
                        "learn": [
                          0.139830306
                        ]
                      },
                      {
                        "test": [
                          0.1495774414
                        ],
                        "passed_time": 7.664412669,
                        "iteration": 192,
                        "remaining_time": 32.04757007,
                        "learn": [
                          0.1397435872
                        ]
                      },
                      {
                        "test": [
                          0.1495911621
                        ],
                        "passed_time": 7.69113998,
                        "iteration": 193,
                        "remaining_time": 31.95391146,
                        "learn": [
                          0.1397087891
                        ]
                      },
                      {
                        "test": [
                          0.1495507568
                        ],
                        "passed_time": 7.718304877,
                        "iteration": 194,
                        "remaining_time": 31.86274577,
                        "learn": [
                          0.1396782878
                        ]
                      },
                      {
                        "test": [
                          0.1493171997
                        ],
                        "passed_time": 7.7511587,
                        "iteration": 195,
                        "remaining_time": 31.79556936,
                        "learn": [
                          0.1393776367
                        ]
                      },
                      {
                        "test": [
                          0.1487654175
                        ],
                        "passed_time": 7.786477948,
                        "iteration": 196,
                        "remaining_time": 31.73879082,
                        "learn": [
                          0.1387255534
                        ]
                      },
                      {
                        "test": [
                          0.1486649414
                        ],
                        "passed_time": 7.816207625,
                        "iteration": 197,
                        "remaining_time": 31.65958846,
                        "learn": [
                          0.1385763346
                        ]
                      },
                      {
                        "test": [
                          0.1485161011
                        ],
                        "passed_time": 7.845514364,
                        "iteration": 198,
                        "remaining_time": 31.57918093,
                        "learn": [
                          0.1383786296
                        ]
                      },
                      {
                        "test": [
                          0.1484901001
                        ],
                        "passed_time": 7.872797175,
                        "iteration": 199,
                        "remaining_time": 31.4911887,
                        "learn": [
                          0.138345931
                        ]
                      },
                      {
                        "test": [
                          0.1482518921
                        ],
                        "passed_time": 7.901791458,
                        "iteration": 200,
                        "remaining_time": 31.41060385,
                        "learn": [
                          0.1380994466
                        ]
                      },
                      {
                        "test": [
                          0.1476856323
                        ],
                        "passed_time": 7.942575951,
                        "iteration": 201,
                        "remaining_time": 31.37710698,
                        "learn": [
                          0.1373633464
                        ]
                      },
                      {
                        "test": [
                          0.1474498901
                        ],
                        "passed_time": 7.972458058,
                        "iteration": 202,
                        "remaining_time": 31.30073435,
                        "learn": [
                          0.1371288737
                        ]
                      },
                      {
                        "test": [
                          0.147423584
                        ],
                        "passed_time": 7.998722348,
                        "iteration": 203,
                        "remaining_time": 31.21070093,
                        "learn": [
                          0.1370854818
                        ]
                      },
                      {
                        "test": [
                          0.1473399902
                        ],
                        "passed_time": 8.028321605,
                        "iteration": 204,
                        "remaining_time": 31.13422281,
                        "learn": [
                          0.1369781413
                        ]
                      },
                      {
                        "test": [
                          0.1473004517
                        ],
                        "passed_time": 8.055459549,
                        "iteration": 205,
                        "remaining_time": 31.04871302,
                        "learn": [
                          0.13694764
                        ]
                      },
                      {
                        "test": [
                          0.1471339233
                        ],
                        "passed_time": 8.08315308,
                        "iteration": 206,
                        "remaining_time": 30.96589561,
                        "learn": [
                          0.136775944
                        ]
                      },
                      {
                        "test": [
                          0.1471094482
                        ],
                        "passed_time": 8.110016227,
                        "iteration": 207,
                        "remaining_time": 30.8804464,
                        "learn": [
                          0.1367588704
                        ]
                      },
                      {
                        "test": [
                          0.1470227417
                        ],
                        "passed_time": 8.137506462,
                        "iteration": 208,
                        "remaining_time": 30.79793116,
                        "learn": [
                          0.1366089844
                        ]
                      },
                      {
                        "test": [
                          0.1468575562
                        ],
                        "passed_time": 8.16605896,
                        "iteration": 209,
                        "remaining_time": 30.71993609,
                        "learn": [
                          0.1363698242
                        ]
                      },
                      {
                        "test": [
                          0.1464863525
                        ],
                        "passed_time": 8.19633369,
                        "iteration": 210,
                        "remaining_time": 30.64884967,
                        "learn": [
                          0.1359731364
                        ]
                      },
                      {
                        "test": [
                          0.1464650513
                        ],
                        "passed_time": 8.224027321,
                        "iteration": 211,
                        "remaining_time": 30.56855438,
                        "learn": [
                          0.1359427734
                        ]
                      },
                      {
                        "test": [
                          0.146381604
                        ],
                        "passed_time": 8.250229977,
                        "iteration": 212,
                        "remaining_time": 30.48324409,
                        "learn": [
                          0.135866154
                        ]
                      },
                      {
                        "test": [
                          0.146265918
                        ],
                        "passed_time": 8.283470013,
                        "iteration": 213,
                        "remaining_time": 30.42433379,
                        "learn": [
                          0.1357059163
                        ]
                      },
                      {
                        "test": [
                          0.1462650269
                        ],
                        "passed_time": 8.320566795,
                        "iteration": 214,
                        "remaining_time": 30.37974388,
                        "learn": [
                          0.1357021973
                        ]
                      },
                      {
                        "test": [
                          0.1461971313
                        ],
                        "passed_time": 8.348325532,
                        "iteration": 215,
                        "remaining_time": 30.30132971,
                        "learn": [
                          0.1355891602
                        ]
                      },
                      {
                        "test": [
                          0.1461472168
                        ],
                        "passed_time": 8.373359103,
                        "iteration": 216,
                        "remaining_time": 30.2135492,
                        "learn": [
                          0.1355328695
                        ]
                      },
                      {
                        "test": [
                          0.1459975342
                        ],
                        "passed_time": 8.405659691,
                        "iteration": 217,
                        "remaining_time": 30.15241229,
                        "learn": [
                          0.1353170003
                        ]
                      },
                      {
                        "test": [
                          0.1459969604
                        ],
                        "passed_time": 8.430683857,
                        "iteration": 218,
                        "remaining_time": 30.06558946,
                        "learn": [
                          0.1353147868
                        ]
                      },
                      {
                        "test": [
                          0.1455934448
                        ],
                        "passed_time": 8.465764009,
                        "iteration": 219,
                        "remaining_time": 30.01498149,
                        "learn": [
                          0.1348985433
                        ]
                      },
                      {
                        "test": [
                          0.1453158447
                        ],
                        "passed_time": 8.497028188,
                        "iteration": 220,
                        "remaining_time": 29.95106316,
                        "learn": [
                          0.1346202311
                        ]
                      },
                      {
                        "test": [
                          0.1452105103
                        ],
                        "passed_time": 8.525112814,
                        "iteration": 221,
                        "remaining_time": 29.87629626,
                        "learn": [
                          0.1344361572
                        ]
                      },
                      {
                        "test": [
                          0.1452102051
                        ],
                        "passed_time": 8.550456961,
                        "iteration": 222,
                        "remaining_time": 29.79239937,
                        "learn": [
                          0.1344318848
                        ]
                      },
                      {
                        "test": [
                          0.1451790405
                        ],
                        "passed_time": 8.578269536,
                        "iteration": 223,
                        "remaining_time": 29.71757661,
                        "learn": [
                          0.134404484
                        ]
                      },
                      {
                        "test": [
                          0.145143103
                        ],
                        "passed_time": 8.604683991,
                        "iteration": 224,
                        "remaining_time": 29.63835597,
                        "learn": [
                          0.134342041
                        ]
                      },
                      {
                        "test": [
                          0.1451202393
                        ],
                        "passed_time": 8.629522574,
                        "iteration": 225,
                        "remaining_time": 29.55420563,
                        "learn": [
                          0.1342930745
                        ]
                      },
                      {
                        "test": [
                          0.1450560547
                        ],
                        "passed_time": 8.66717779,
                        "iteration": 226,
                        "remaining_time": 29.51422216,
                        "learn": [
                          0.1342438965
                        ]
                      },
                      {
                        "test": [
                          0.1450667847
                        ],
                        "passed_time": 8.693332411,
                        "iteration": 227,
                        "remaining_time": 29.43531851,
                        "learn": [
                          0.1342364014
                        ]
                      },
                      {
                        "test": [
                          0.1449256104
                        ],
                        "passed_time": 8.724739926,
                        "iteration": 228,
                        "remaining_time": 29.37456106,
                        "learn": [
                          0.1340857992
                        ]
                      },
                      {
                        "test": [
                          0.1448802612
                        ],
                        "passed_time": 8.75278121,
                        "iteration": 229,
                        "remaining_time": 29.30278927,
                        "learn": [
                          0.1339505697
                        ]
                      },
                      {
                        "test": [
                          0.1448161865
                        ],
                        "passed_time": 8.785170917,
                        "iteration": 230,
                        "remaining_time": 29.24587201,
                        "learn": [
                          0.1338928874
                        ]
                      },
                      {
                        "test": [
                          0.1448158203
                        ],
                        "passed_time": 8.809502552,
                        "iteration": 231,
                        "remaining_time": 29.16249121,
                        "learn": [
                          0.1338898763
                        ]
                      },
                      {
                        "test": [
                          0.144614856
                        ],
                        "passed_time": 8.841579739,
                        "iteration": 232,
                        "remaining_time": 29.10511442,
                        "learn": [
                          0.1336433675
                        ]
                      },
                      {
                        "test": [
                          0.1445897705
                        ],
                        "passed_time": 8.868231828,
                        "iteration": 233,
                        "remaining_time": 29.03019479,
                        "learn": [
                          0.1336281006
                        ]
                      },
                      {
                        "test": [
                          0.144505835
                        ],
                        "passed_time": 8.896292494,
                        "iteration": 234,
                        "remaining_time": 28.96027131,
                        "learn": [
                          0.1335017578
                        ]
                      },
                      {
                        "test": [
                          0.1444654541
                        ],
                        "passed_time": 8.923800518,
                        "iteration": 235,
                        "remaining_time": 28.88891354,
                        "learn": [
                          0.1334020589
                        ]
                      },
                      {
                        "test": [
                          0.1443822021
                        ],
                        "passed_time": 8.950685846,
                        "iteration": 236,
                        "remaining_time": 28.8159211,
                        "learn": [
                          0.1333123617
                        ]
                      },
                      {
                        "test": [
                          0.1443818726
                        ],
                        "passed_time": 8.974830765,
                        "iteration": 237,
                        "remaining_time": 28.7345422,
                        "learn": [
                          0.1333102539
                        ]
                      },
                      {
                        "test": [
                          0.1442383911
                        ],
                        "passed_time": 9.005822032,
                        "iteration": 238,
                        "remaining_time": 28.6754417,
                        "learn": [
                          0.133012264
                        ]
                      },
                      {
                        "test": [
                          0.1438542847
                        ],
                        "passed_time": 9.044432624,
                        "iteration": 239,
                        "remaining_time": 28.64070331,
                        "learn": [
                          0.132504777
                        ]
                      },
                      {
                        "test": [
                          0.1437140747
                        ],
                        "passed_time": 9.072970389,
                        "iteration": 240,
                        "remaining_time": 28.57420965,
                        "learn": [
                          0.1323624756
                        ]
                      },
                      {
                        "test": [
                          0.1434366821
                        ],
                        "passed_time": 9.106523572,
                        "iteration": 241,
                        "remaining_time": 28.52373912,
                        "learn": [
                          0.1321090332
                        ]
                      },
                      {
                        "test": [
                          0.1429495972
                        ],
                        "passed_time": 9.142004655,
                        "iteration": 242,
                        "remaining_time": 28.47941368,
                        "learn": [
                          0.131562557
                        ]
                      },
                      {
                        "test": [
                          0.1428740601
                        ],
                        "passed_time": 9.168360895,
                        "iteration": 243,
                        "remaining_time": 28.40688868,
                        "learn": [
                          0.1315078288
                        ]
                      },
                      {
                        "test": [
                          0.1427252319
                        ],
                        "passed_time": 9.200888618,
                        "iteration": 244,
                        "remaining_time": 28.3537588,
                        "learn": [
                          0.131224821
                        ]
                      },
                      {
                        "test": [
                          0.1427251343
                        ],
                        "passed_time": 9.226222435,
                        "iteration": 245,
                        "remaining_time": 28.27874681,
                        "learn": [
                          0.1312231852
                        ]
                      },
                      {
                        "test": [
                          0.1426282593
                        ],
                        "passed_time": 9.255572653,
                        "iteration": 246,
                        "remaining_time": 28.21638141,
                        "learn": [
                          0.1310988281
                        ]
                      },
                      {
                        "test": [
                          0.1425241699
                        ],
                        "passed_time": 9.283261814,
                        "iteration": 247,
                        "remaining_time": 28.1492455,
                        "learn": [
                          0.1309366292
                        ]
                      },
                      {
                        "test": [
                          0.142508728
                        ],
                        "passed_time": 9.328456942,
                        "iteration": 248,
                        "remaining_time": 28.13522556,
                        "learn": [
                          0.1308478923
                        ]
                      },
                      {
                        "test": [
                          0.1424809814
                        ],
                        "passed_time": 9.35913739,
                        "iteration": 249,
                        "remaining_time": 28.07741217,
                        "learn": [
                          0.1308122721
                        ]
                      },
                      {
                        "test": [
                          0.1423981934
                        ],
                        "passed_time": 9.391508946,
                        "iteration": 250,
                        "remaining_time": 28.02486136,
                        "learn": [
                          0.1306740153
                        ]
                      },
                      {
                        "test": [
                          0.1420274536
                        ],
                        "passed_time": 9.426593169,
                        "iteration": 251,
                        "remaining_time": 27.98052258,
                        "learn": [
                          0.1302445801
                        ]
                      },
                      {
                        "test": [
                          0.1418857666
                        ],
                        "passed_time": 9.454273479,
                        "iteration": 252,
                        "remaining_time": 27.9143964,
                        "learn": [
                          0.1300462321
                        ]
                      },
                      {
                        "test": [
                          0.141752356
                        ],
                        "passed_time": 9.483856889,
                        "iteration": 253,
                        "remaining_time": 27.85416236,
                        "learn": [
                          0.1298522868
                        ]
                      },
                      {
                        "test": [
                          0.141519104
                        ],
                        "passed_time": 9.516620458,
                        "iteration": 254,
                        "remaining_time": 27.80345977,
                        "learn": [
                          0.1295133301
                        ]
                      },
                      {
                        "test": [
                          0.1413951538
                        ],
                        "passed_time": 9.548496047,
                        "iteration": 255,
                        "remaining_time": 27.75031664,
                        "learn": [
                          0.1293395101
                        ]
                      },
                      {
                        "test": [
                          0.1413907471
                        ],
                        "passed_time": 9.574150509,
                        "iteration": 256,
                        "remaining_time": 27.67935342,
                        "learn": [
                          0.1293372721
                        ]
                      },
                      {
                        "test": [
                          0.1413503052
                        ],
                        "passed_time": 9.605224462,
                        "iteration": 257,
                        "remaining_time": 27.62432772,
                        "learn": [
                          0.1292149251
                        ]
                      },
                      {
                        "test": [
                          0.1409753052
                        ],
                        "passed_time": 9.639368523,
                        "iteration": 258,
                        "remaining_time": 27.57827056,
                        "learn": [
                          0.1288124512
                        ]
                      },
                      {
                        "test": [
                          0.1409235229
                        ],
                        "passed_time": 9.681124827,
                        "iteration": 259,
                        "remaining_time": 27.55397066,
                        "learn": [
                          0.128748234
                        ]
                      },
                      {
                        "test": [
                          0.140892395
                        ],
                        "passed_time": 9.711372013,
                        "iteration": 260,
                        "remaining_time": 27.49694988,
                        "learn": [
                          0.1287252441
                        ]
                      },
                      {
                        "test": [
                          0.1402835571
                        ],
                        "passed_time": 9.746464933,
                        "iteration": 261,
                        "remaining_time": 27.4537829,
                        "learn": [
                          0.1280762533
                        ]
                      },
                      {
                        "test": [
                          0.1401425537
                        ],
                        "passed_time": 9.774711686,
                        "iteration": 262,
                        "remaining_time": 27.39149244,
                        "learn": [
                          0.1279412354
                        ]
                      },
                      {
                        "test": [
                          0.1401395752
                        ],
                        "passed_time": 9.800266813,
                        "iteration": 263,
                        "remaining_time": 27.32195596,
                        "learn": [
                          0.1279392578
                        ]
                      },
                      {
                        "test": [
                          0.1393446411
                        ],
                        "passed_time": 9.834093821,
                        "iteration": 264,
                        "remaining_time": 27.27569418,
                        "learn": [
                          0.1271412272
                        ]
                      },
                      {
                        "test": [
                          0.1390052612
                        ],
                        "passed_time": 9.867903604,
                        "iteration": 265,
                        "remaining_time": 27.22947836,
                        "learn": [
                          0.1267248698
                        ]
                      },
                      {
                        "test": [
                          0.1390047119
                        ],
                        "passed_time": 9.893587391,
                        "iteration": 266,
                        "remaining_time": 27.16104703,
                        "learn": [
                          0.1267221191
                        ]
                      },
                      {
                        "test": [
                          0.1388651489
                        ],
                        "passed_time": 9.923100007,
                        "iteration": 267,
                        "remaining_time": 27.10339256,
                        "learn": [
                          0.1265285645
                        ]
                      },
                      {
                        "test": [
                          0.1387138672
                        ],
                        "passed_time": 9.953441327,
                        "iteration": 268,
                        "remaining_time": 27.04819929,
                        "learn": [
                          0.1264276123
                        ]
                      },
                      {
                        "test": [
                          0.138694519
                        ],
                        "passed_time": 9.981541309,
                        "iteration": 269,
                        "remaining_time": 26.98713021,
                        "learn": [
                          0.1264095296
                        ]
                      },
                      {
                        "test": [
                          0.1386818726
                        ],
                        "passed_time": 10.00984479,
                        "iteration": 270,
                        "remaining_time": 26.92685184,
                        "learn": [
                          0.126373641
                        ]
                      },
                      {
                        "test": [
                          0.1385223999
                        ],
                        "passed_time": 10.04102871,
                        "iteration": 271,
                        "remaining_time": 26.87451803,
                        "learn": [
                          0.1262361979
                        ]
                      },
                      {
                        "test": [
                          0.1385262207
                        ],
                        "passed_time": 10.06802254,
                        "iteration": 272,
                        "remaining_time": 26.8111809,
                        "learn": [
                          0.1262251953
                        ]
                      },
                      {
                        "test": [
                          0.1384555298
                        ],
                        "passed_time": 10.0953902,
                        "iteration": 273,
                        "remaining_time": 26.74909957,
                        "learn": [
                          0.1261182048
                        ]
                      },
                      {
                        "test": [
                          0.1382692383
                        ],
                        "passed_time": 10.12842437,
                        "iteration": 274,
                        "remaining_time": 26.70220969,
                        "learn": [
                          0.1258453939
                        ]
                      },
                      {
                        "test": [
                          0.1381537354
                        ],
                        "passed_time": 10.15720403,
                        "iteration": 275,
                        "remaining_time": 26.64425986,
                        "learn": [
                          0.1256836263
                        ]
                      },
                      {
                        "test": [
                          0.1375970581
                        ],
                        "passed_time": 10.19273013,
                        "iteration": 276,
                        "remaining_time": 26.60412953,
                        "learn": [
                          0.125132015
                        ]
                      },
                      {
                        "test": [
                          0.1375974609
                        ],
                        "passed_time": 10.21817856,
                        "iteration": 277,
                        "remaining_time": 26.53785941,
                        "learn": [
                          0.1251266764
                        ]
                      },
                      {
                        "test": [
                          0.1375497681
                        ],
                        "passed_time": 10.24330042,
                        "iteration": 278,
                        "remaining_time": 26.47103801,
                        "learn": [
                          0.1250808024
                        ]
                      },
                      {
                        "test": [
                          0.1375202148
                        ],
                        "passed_time": 10.26894613,
                        "iteration": 279,
                        "remaining_time": 26.40586147,
                        "learn": [
                          0.1250355062
                        ]
                      },
                      {
                        "test": [
                          0.1375105469
                        ],
                        "passed_time": 10.29758901,
                        "iteration": 280,
                        "remaining_time": 26.34863523,
                        "learn": [
                          0.1250177165
                        ]
                      },
                      {
                        "test": [
                          0.137304834
                        ],
                        "passed_time": 10.32984607,
                        "iteration": 281,
                        "remaining_time": 26.30081376,
                        "learn": [
                          0.1247222982
                        ]
                      },
                      {
                        "test": [
                          0.1370639771
                        ],
                        "passed_time": 10.37696412,
                        "iteration": 282,
                        "remaining_time": 26.29075362,
                        "learn": [
                          0.1244762777
                        ]
                      },
                      {
                        "test": [
                          0.1370737915
                        ],
                        "passed_time": 10.40516691,
                        "iteration": 283,
                        "remaining_time": 26.23274475,
                        "learn": [
                          0.1244557536
                        ]
                      },
                      {
                        "test": [
                          0.1370499268
                        ],
                        "passed_time": 10.43286117,
                        "iteration": 284,
                        "remaining_time": 26.17366925,
                        "learn": [
                          0.1244137858
                        ]
                      },
                      {
                        "test": [
                          0.1370498169
                        ],
                        "passed_time": 10.45781856,
                        "iteration": 285,
                        "remaining_time": 26.1079806,
                        "learn": [
                          0.1244118245
                        ]
                      },
                      {
                        "test": [
                          0.1370565186
                        ],
                        "passed_time": 10.48511621,
                        "iteration": 286,
                        "remaining_time": 26.04838975,
                        "learn": [
                          0.1243979899
                        ]
                      },
                      {
                        "test": [
                          0.1370557739
                        ],
                        "passed_time": 10.50977159,
                        "iteration": 287,
                        "remaining_time": 25.98249087,
                        "learn": [
                          0.1243958496
                        ]
                      },
                      {
                        "test": [
                          0.1369644287
                        ],
                        "passed_time": 10.53904434,
                        "iteration": 288,
                        "remaining_time": 25.92823711,
                        "learn": [
                          0.1242619548
                        ]
                      },
                      {
                        "test": [
                          0.13692146
                        ],
                        "passed_time": 10.57052217,
                        "iteration": 289,
                        "remaining_time": 25.87955428,
                        "learn": [
                          0.1242123779
                        ]
                      },
                      {
                        "test": [
                          0.136894458
                        ],
                        "passed_time": 10.59676816,
                        "iteration": 290,
                        "remaining_time": 25.81824269,
                        "learn": [
                          0.1241818604
                        ]
                      },
                      {
                        "test": [
                          0.1367829346
                        ],
                        "passed_time": 10.62443531,
                        "iteration": 291,
                        "remaining_time": 25.76061713,
                        "learn": [
                          0.1240824788
                        ]
                      },
                      {
                        "test": [
                          0.1367543335
                        ],
                        "passed_time": 10.65563219,
                        "iteration": 292,
                        "remaining_time": 25.71171316,
                        "learn": [
                          0.1239709229
                        ]
                      },
                      {
                        "test": [
                          0.1367143188
                        ],
                        "passed_time": 10.68946235,
                        "iteration": 293,
                        "remaining_time": 25.66925313,
                        "learn": [
                          0.1239352295
                        ]
                      },
                      {
                        "test": [
                          0.1366137085
                        ],
                        "passed_time": 10.72278023,
                        "iteration": 294,
                        "remaining_time": 25.62562733,
                        "learn": [
                          0.1237809326
                        ]
                      },
                      {
                        "test": [
                          0.1366122559
                        ],
                        "passed_time": 10.75014745,
                        "iteration": 295,
                        "remaining_time": 25.56791826,
                        "learn": [
                          0.1237793864
                        ]
                      },
                      {
                        "test": [
                          0.1365113892
                        ],
                        "passed_time": 10.77983917,
                        "iteration": 296,
                        "remaining_time": 25.51591562,
                        "learn": [
                          0.1235960937
                        ]
                      },
                      {
                        "test": [
                          0.1364841675
                        ],
                        "passed_time": 10.80725111,
                        "iteration": 297,
                        "remaining_time": 25.45869221,
                        "learn": [
                          0.1235756999
                        ]
                      },
                      {
                        "test": [
                          0.1364698608
                        ],
                        "passed_time": 10.83460373,
                        "iteration": 298,
                        "remaining_time": 25.40152914,
                        "learn": [
                          0.1235177083
                        ]
                      },
                      {
                        "test": [
                          0.136342334
                        ],
                        "passed_time": 10.86416258,
                        "iteration": 299,
                        "remaining_time": 25.34971269,
                        "learn": [
                          0.1233410319
                        ]
                      },
                      {
                        "test": [
                          0.1363400024
                        ],
                        "passed_time": 10.89209528,
                        "iteration": 300,
                        "remaining_time": 25.29426777,
                        "learn": [
                          0.1233234782
                        ]
                      },
                      {
                        "test": [
                          0.1358899292
                        ],
                        "passed_time": 10.92666332,
                        "iteration": 301,
                        "remaining_time": 25.25434104,
                        "learn": [
                          0.1227164063
                        ]
                      },
                      {
                        "test": [
                          0.1357716309
                        ],
                        "passed_time": 10.95204568,
                        "iteration": 302,
                        "remaining_time": 25.1933196,
                        "learn": [
                          0.1226189453
                        ]
                      },
                      {
                        "test": [
                          0.1355104858
                        ],
                        "passed_time": 10.98211776,
                        "iteration": 303,
                        "remaining_time": 25.14326961,
                        "learn": [
                          0.1223551188
                        ]
                      },
                      {
                        "test": [
                          0.1350938599
                        ],
                        "passed_time": 11.01459545,
                        "iteration": 304,
                        "remaining_time": 25.09883226,
                        "learn": [
                          0.1219569092
                        ]
                      },
                      {
                        "test": [
                          0.1350936768
                        ],
                        "passed_time": 11.04221625,
                        "iteration": 305,
                        "remaining_time": 25.04345776,
                        "learn": [
                          0.1219550618
                        ]
                      },
                      {
                        "test": [
                          0.1349469604
                        ],
                        "passed_time": 11.07202219,
                        "iteration": 306,
                        "remaining_time": 24.99319667,
                        "learn": [
                          0.1218039144
                        ]
                      },
                      {
                        "test": [
                          0.1349413086
                        ],
                        "passed_time": 11.09790342,
                        "iteration": 307,
                        "remaining_time": 24.93425054,
                        "learn": [
                          0.1217967855
                        ]
                      },
                      {
                        "test": [
                          0.1347765747
                        ],
                        "passed_time": 11.12984019,
                        "iteration": 308,
                        "remaining_time": 24.8890601,
                        "learn": [
                          0.121647583
                        ]
                      },
                      {
                        "test": [
                          0.1346774414
                        ],
                        "passed_time": 11.16041152,
                        "iteration": 309,
                        "remaining_time": 24.84091597,
                        "learn": [
                          0.1215523682
                        ]
                      },
                      {
                        "test": [
                          0.1346040283
                        ],
                        "passed_time": 11.1891115,
                        "iteration": 310,
                        "remaining_time": 24.78873899,
                        "learn": [
                          0.1214691488
                        ]
                      },
                      {
                        "test": [
                          0.1345489136
                        ],
                        "passed_time": 11.22149831,
                        "iteration": 311,
                        "remaining_time": 24.74484242,
                        "learn": [
                          0.1212933268
                        ]
                      },
                      {
                        "test": [
                          0.1344905273
                        ],
                        "passed_time": 11.26064736,
                        "iteration": 312,
                        "remaining_time": 24.71586178,
                        "learn": [
                          0.1211790365
                        ]
                      },
                      {
                        "test": [
                          0.1343596436
                        ],
                        "passed_time": 11.29279733,
                        "iteration": 313,
                        "remaining_time": 24.67152539,
                        "learn": [
                          0.1209499105
                        ]
                      },
                      {
                        "test": [
                          0.1343612549
                        ],
                        "passed_time": 11.32002969,
                        "iteration": 314,
                        "remaining_time": 24.61657251,
                        "learn": [
                          0.1209344564
                        ]
                      },
                      {
                        "test": [
                          0.1343097656
                        ],
                        "passed_time": 11.35105428,
                        "iteration": 315,
                        "remaining_time": 24.57000356,
                        "learn": [
                          0.1208540202
                        ]
                      },
                      {
                        "test": [
                          0.1341981689
                        ],
                        "passed_time": 11.39272496,
                        "iteration": 316,
                        "remaining_time": 24.54647051,
                        "learn": [
                          0.1207338867
                        ]
                      },
                      {
                        "test": [
                          0.1340749634
                        ],
                        "passed_time": 11.43614788,
                        "iteration": 317,
                        "remaining_time": 24.5265813,
                        "learn": [
                          0.1205409017
                        ]
                      },
                      {
                        "test": [
                          0.1340876953
                        ],
                        "passed_time": 11.46435564,
                        "iteration": 318,
                        "remaining_time": 24.47406329,
                        "learn": [
                          0.120511499
                        ]
                      },
                      {
                        "test": [
                          0.1340587158
                        ],
                        "passed_time": 11.49185773,
                        "iteration": 319,
                        "remaining_time": 24.42019768,
                        "learn": [
                          0.1204830892
                        ]
                      },
                      {
                        "test": [
                          0.1340242676
                        ],
                        "passed_time": 11.52025439,
                        "iteration": 320,
                        "remaining_time": 24.36838857,
                        "learn": [
                          0.1204269857
                        ]
                      },
                      {
                        "test": [
                          0.1340329712
                        ],
                        "passed_time": 11.54848605,
                        "iteration": 321,
                        "remaining_time": 24.31637746,
                        "learn": [
                          0.1204130127
                        ]
                      },
                      {
                        "test": [
                          0.1340283203
                        ],
                        "passed_time": 11.57942128,
                        "iteration": 322,
                        "remaining_time": 24.2701802,
                        "learn": [
                          0.1204029785
                        ]
                      },
                      {
                        "test": [
                          0.1339190308
                        ],
                        "passed_time": 11.61282689,
                        "iteration": 323,
                        "remaining_time": 24.22923141,
                        "learn": [
                          0.1202755534
                        ]
                      },
                      {
                        "test": [
                          0.1338817261
                        ],
                        "passed_time": 11.64098016,
                        "iteration": 324,
                        "remaining_time": 24.17742034,
                        "learn": [
                          0.1202442057
                        ]
                      },
                      {
                        "test": [
                          0.1338462402
                        ],
                        "passed_time": 11.6792162,
                        "iteration": 325,
                        "remaining_time": 24.14660037,
                        "learn": [
                          0.1201630208
                        ]
                      },
                      {
                        "test": [
                          0.1336580688
                        ],
                        "passed_time": 11.71078547,
                        "iteration": 326,
                        "remaining_time": 24.10201413,
                        "learn": [
                          0.1199943685
                        ]
                      },
                      {
                        "test": [
                          0.1336420166
                        ],
                        "passed_time": 11.73696528,
                        "iteration": 327,
                        "remaining_time": 24.04646546,
                        "learn": [
                          0.1199734375
                        ]
                      },
                      {
                        "test": [
                          0.1335592285
                        ],
                        "passed_time": 11.76681789,
                        "iteration": 328,
                        "remaining_time": 23.99858603,
                        "learn": [
                          0.1198876546
                        ]
                      },
                      {
                        "test": [
                          0.1334708618
                        ],
                        "passed_time": 11.79652508,
                        "iteration": 329,
                        "remaining_time": 23.95052062,
                        "learn": [
                          0.1197182454
                        ]
                      },
                      {
                        "test": [
                          0.133419873
                        ],
                        "passed_time": 11.82827042,
                        "iteration": 330,
                        "remaining_time": 23.90668553,
                        "learn": [
                          0.1196158854
                        ]
                      },
                      {
                        "test": [
                          0.1333759277
                        ],
                        "passed_time": 11.85835332,
                        "iteration": 331,
                        "remaining_time": 23.85957836,
                        "learn": [
                          0.1195529948
                        ]
                      },
                      {
                        "test": [
                          0.1333776978
                        ],
                        "passed_time": 11.88468947,
                        "iteration": 332,
                        "remaining_time": 23.8050687,
                        "learn": [
                          0.1195334554
                        ]
                      },
                      {
                        "test": [
                          0.1333674805
                        ],
                        "passed_time": 11.91203885,
                        "iteration": 333,
                        "remaining_time": 23.75274813,
                        "learn": [
                          0.119523877
                        ]
                      },
                      {
                        "test": [
                          0.1333150879
                        ],
                        "passed_time": 11.94082273,
                        "iteration": 334,
                        "remaining_time": 23.70342423,
                        "learn": [
                          0.1194717529
                        ]
                      },
                      {
                        "test": [
                          0.1332182129
                        ],
                        "passed_time": 11.97145545,
                        "iteration": 335,
                        "remaining_time": 23.65787624,
                        "learn": [
                          0.1193767497
                        ]
                      },
                      {
                        "test": [
                          0.1330373779
                        ],
                        "passed_time": 12.00807152,
                        "iteration": 336,
                        "remaining_time": 23.62418819,
                        "learn": [
                          0.1190851969
                        ]
                      },
                      {
                        "test": [
                          0.1329557251
                        ],
                        "passed_time": 12.04097519,
                        "iteration": 337,
                        "remaining_time": 23.58321176,
                        "learn": [
                          0.1189467692
                        ]
                      },
                      {
                        "test": [
                          0.1328296265
                        ],
                        "passed_time": 12.06796705,
                        "iteration": 338,
                        "remaining_time": 23.5307558,
                        "learn": [
                          0.1187837809
                        ]
                      },
                      {
                        "test": [
                          0.132746814
                        ],
                        "passed_time": 12.10009024,
                        "iteration": 339,
                        "remaining_time": 23.48841047,
                        "learn": [
                          0.1186929118
                        ]
                      },
                      {
                        "test": [
                          0.1326624512
                        ],
                        "passed_time": 12.12789706,
                        "iteration": 340,
                        "remaining_time": 23.43778347,
                        "learn": [
                          0.1186245117
                        ]
                      },
                      {
                        "test": [
                          0.1325607056
                        ],
                        "passed_time": 12.15782051,
                        "iteration": 341,
                        "remaining_time": 23.39136227,
                        "learn": [
                          0.1185571777
                        ]
                      },
                      {
                        "test": [
                          0.1324035767
                        ],
                        "passed_time": 12.19118595,
                        "iteration": 342,
                        "remaining_time": 23.35163022,
                        "learn": [
                          0.1183798096
                        ]
                      },
                      {
                        "test": [
                          0.1322377441
                        ],
                        "passed_time": 12.22259338,
                        "iteration": 343,
                        "remaining_time": 23.30820133,
                        "learn": [
                          0.1181593018
                        ]
                      },
                      {
                        "test": [
                          0.1322252563
                        ],
                        "passed_time": 12.26659901,
                        "iteration": 344,
                        "remaining_time": 23.28876043,
                        "learn": [
                          0.1181019043
                        ]
                      },
                      {
                        "test": [
                          0.1321415771
                        ],
                        "passed_time": 12.29922801,
                        "iteration": 345,
                        "remaining_time": 23.24767375,
                        "learn": [
                          0.117954834
                        ]
                      },
                      {
                        "test": [
                          0.1319219238
                        ],
                        "passed_time": 12.33144269,
                        "iteration": 346,
                        "remaining_time": 23.20585612,
                        "learn": [
                          0.1177124837
                        ]
                      },
                      {
                        "test": [
                          0.1316767822
                        ],
                        "passed_time": 12.3673019,
                        "iteration": 347,
                        "remaining_time": 23.17092195,
                        "learn": [
                          0.1174547689
                        ]
                      },
                      {
                        "test": [
                          0.1316634155
                        ],
                        "passed_time": 12.40614724,
                        "iteration": 348,
                        "remaining_time": 23.14155259,
                        "learn": [
                          0.1174299072
                        ]
                      },
                      {
                        "test": [
                          0.1314995239
                        ],
                        "passed_time": 12.44932143,
                        "iteration": 349,
                        "remaining_time": 23.12016837,
                        "learn": [
                          0.1172473714
                        ]
                      },
                      {
                        "test": [
                          0.1313874146
                        ],
                        "passed_time": 12.47709008,
                        "iteration": 350,
                        "remaining_time": 23.0701751,
                        "learn": [
                          0.1171628337
                        ]
                      },
                      {
                        "test": [
                          0.1313106689
                        ],
                        "passed_time": 12.50674273,
                        "iteration": 351,
                        "remaining_time": 23.0237764,
                        "learn": [
                          0.1170807048
                        ]
                      },
                      {
                        "test": [
                          0.1312349731
                        ],
                        "passed_time": 12.53555722,
                        "iteration": 352,
                        "remaining_time": 22.97593631,
                        "learn": [
                          0.1169850179
                        ]
                      },
                      {
                        "test": [
                          0.1312202271
                        ],
                        "passed_time": 12.55979742,
                        "iteration": 353,
                        "remaining_time": 22.91985632,
                        "learn": [
                          0.1169778158
                        ]
                      },
                      {
                        "test": [
                          0.1312096436
                        ],
                        "passed_time": 12.58399332,
                        "iteration": 354,
                        "remaining_time": 22.86387518,
                        "learn": [
                          0.1169724772
                        ]
                      },
                      {
                        "test": [
                          0.1310705688
                        ],
                        "passed_time": 12.61376928,
                        "iteration": 355,
                        "remaining_time": 22.8181669,
                        "learn": [
                          0.1168084147
                        ]
                      },
                      {
                        "test": [
                          0.1310231201
                        ],
                        "passed_time": 12.64177309,
                        "iteration": 356,
                        "remaining_time": 22.76935601,
                        "learn": [
                          0.116749821
                        ]
                      },
                      {
                        "test": [
                          0.1308552856
                        ],
                        "passed_time": 12.68033176,
                        "iteration": 357,
                        "remaining_time": 22.73958935,
                        "learn": [
                          0.1165998047
                        ]
                      },
                      {
                        "test": [
                          0.1308001953
                        ],
                        "passed_time": 12.71484075,
                        "iteration": 358,
                        "remaining_time": 22.70254296,
                        "learn": [
                          0.1165660156
                        ]
                      },
                      {
                        "test": [
                          0.1307493042
                        ],
                        "passed_time": 12.74574608,
                        "iteration": 359,
                        "remaining_time": 22.65910414,
                        "learn": [
                          0.1164848551
                        ]
                      },
                      {
                        "test": [
                          0.1306766479
                        ],
                        "passed_time": 12.77687435,
                        "iteration": 360,
                        "remaining_time": 22.6161294,
                        "learn": [
                          0.116385083
                        ]
                      },
                      {
                        "test": [
                          0.1305915039
                        ],
                        "passed_time": 12.80406634,
                        "iteration": 361,
                        "remaining_time": 22.56628267,
                        "learn": [
                          0.1163111003
                        ]
                      },
                      {
                        "test": [
                          0.1302935547
                        ],
                        "passed_time": 12.83453732,
                        "iteration": 362,
                        "remaining_time": 22.5223148,
                        "learn": [
                          0.1159921875
                        ]
                      },
                      {
                        "test": [
                          0.1302911377
                        ],
                        "passed_time": 12.86131083,
                        "iteration": 363,
                        "remaining_time": 22.47196069,
                        "learn": [
                          0.1159822184
                        ]
                      },
                      {
                        "test": [
                          0.1302471802
                        ],
                        "passed_time": 12.8945296,
                        "iteration": 364,
                        "remaining_time": 22.43294876,
                        "learn": [
                          0.1159213216
                        ]
                      },
                      {
                        "test": [
                          0.1302452637
                        ],
                        "passed_time": 12.92273705,
                        "iteration": 365,
                        "remaining_time": 22.38528768,
                        "learn": [
                          0.1158819906
                        ]
                      },
                      {
                        "test": [
                          0.1299815063
                        ],
                        "passed_time": 12.95243258,
                        "iteration": 366,
                        "remaining_time": 22.34029925,
                        "learn": [
                          0.1156623372
                        ]
                      },
                      {
                        "test": [
                          0.1298839233
                        ],
                        "passed_time": 12.9841712,
                        "iteration": 367,
                        "remaining_time": 22.29890272,
                        "learn": [
                          0.1154435628
                        ]
                      },
                      {
                        "test": [
                          0.1297979492
                        ],
                        "passed_time": 13.01543073,
                        "iteration": 368,
                        "remaining_time": 22.25673927,
                        "learn": [
                          0.115345166
                        ]
                      },
                      {
                        "test": [
                          0.1297626953
                        ],
                        "passed_time": 13.04227074,
                        "iteration": 369,
                        "remaining_time": 22.20710965,
                        "learn": [
                          0.115312443
                        ]
                      },
                      {
                        "test": [
                          0.1296520386
                        ],
                        "passed_time": 13.07072556,
                        "iteration": 370,
                        "remaining_time": 22.16034064,
                        "learn": [
                          0.1151690348
                        ]
                      },
                      {
                        "test": [
                          0.1296033081
                        ],
                        "passed_time": 13.10193339,
                        "iteration": 371,
                        "remaining_time": 22.11831766,
                        "learn": [
                          0.115079126
                        ]
                      },
                      {
                        "test": [
                          0.1295136353
                        ],
                        "passed_time": 13.13086564,
                        "iteration": 372,
                        "remaining_time": 22.07252749,
                        "learn": [
                          0.1149369466
                        ]
                      },
                      {
                        "test": [
                          0.1295128906
                        ],
                        "passed_time": 13.15810411,
                        "iteration": 373,
                        "remaining_time": 22.02399244,
                        "learn": [
                          0.114896403
                        ]
                      },
                      {
                        "test": [
                          0.1293879639
                        ],
                        "passed_time": 13.1938195,
                        "iteration": 374,
                        "remaining_time": 21.98969916,
                        "learn": [
                          0.1147418213
                        ]
                      },
                      {
                        "test": [
                          0.1293236206
                        ],
                        "passed_time": 13.22324872,
                        "iteration": 375,
                        "remaining_time": 21.94496596,
                        "learn": [
                          0.1146432373
                        ]
                      },
                      {
                        "test": [
                          0.1292808838
                        ],
                        "passed_time": 13.25430375,
                        "iteration": 376,
                        "remaining_time": 21.90300063,
                        "learn": [
                          0.1145203288
                        ]
                      },
                      {
                        "test": [
                          0.1291553467
                        ],
                        "passed_time": 13.2829345,
                        "iteration": 377,
                        "remaining_time": 21.85710386,
                        "learn": [
                          0.1144244629
                        ]
                      },
                      {
                        "test": [
                          0.1291003174
                        ],
                        "passed_time": 13.31325481,
                        "iteration": 378,
                        "remaining_time": 21.81406659,
                        "learn": [
                          0.1143598226
                        ]
                      },
                      {
                        "test": [
                          0.1290839233
                        ],
                        "passed_time": 13.3404559,
                        "iteration": 379,
                        "remaining_time": 21.766007,
                        "learn": [
                          0.1143505534
                        ]
                      },
                      {
                        "test": [
                          0.1290835693
                        ],
                        "passed_time": 13.36509967,
                        "iteration": 380,
                        "remaining_time": 21.71390209,
                        "learn": [
                          0.1143490072
                        ]
                      },
                      {
                        "test": [
                          0.1288502319
                        ],
                        "passed_time": 13.39756959,
                        "iteration": 381,
                        "remaining_time": 21.67460212,
                        "learn": [
                          0.1141010986
                        ]
                      },
                      {
                        "test": [
                          0.1283420166
                        ],
                        "passed_time": 13.44944634,
                        "iteration": 382,
                        "remaining_time": 21.66660155,
                        "learn": [
                          0.1135584717
                        ]
                      },
                      {
                        "test": [
                          0.1283387207
                        ],
                        "passed_time": 13.49355585,
                        "iteration": 383,
                        "remaining_time": 21.64591251,
                        "learn": [
                          0.1135197103
                        ]
                      },
                      {
                        "test": [
                          0.1283348389
                        ],
                        "passed_time": 13.52197949,
                        "iteration": 384,
                        "remaining_time": 21.60004515,
                        "learn": [
                          0.1134938802
                        ]
                      },
                      {
                        "test": [
                          0.1282858398
                        ],
                        "passed_time": 13.55445213,
                        "iteration": 385,
                        "remaining_time": 21.56070883,
                        "learn": [
                          0.1134224691
                        ]
                      },
                      {
                        "test": [
                          0.1280594238
                        ],
                        "passed_time": 13.59125879,
                        "iteration": 386,
                        "remaining_time": 21.52827296,
                        "learn": [
                          0.1131556722
                        ]
                      },
                      {
                        "test": [
                          0.1280567139
                        ],
                        "passed_time": 13.6163593,
                        "iteration": 387,
                        "remaining_time": 21.47735023,
                        "learn": [
                          0.113152832
                        ]
                      },
                      {
                        "test": [
                          0.1280271362
                        ],
                        "passed_time": 13.64336205,
                        "iteration": 388,
                        "remaining_time": 21.42954811,
                        "learn": [
                          0.1131090169
                        ]
                      },
                      {
                        "test": [
                          0.1279641235
                        ],
                        "passed_time": 13.67635549,
                        "iteration": 389,
                        "remaining_time": 21.3912227,
                        "learn": [
                          0.1129960042
                        ]
                      },
                      {
                        "test": [
                          0.1279322388
                        ],
                        "passed_time": 13.71305522,
                        "iteration": 390,
                        "remaining_time": 21.35869726,
                        "learn": [
                          0.1129453044
                        ]
                      },
                      {
                        "test": [
                          0.1277588501
                        ],
                        "passed_time": 13.74431368,
                        "iteration": 391,
                        "remaining_time": 21.31771102,
                        "learn": [
                          0.1127219401
                        ]
                      },
                      {
                        "test": [
                          0.1277245117
                        ],
                        "passed_time": 13.77227729,
                        "iteration": 392,
                        "remaining_time": 21.27168529,
                        "learn": [
                          0.1126821533
                        ]
                      },
                      {
                        "test": [
                          0.127724231
                        ],
                        "passed_time": 13.79697537,
                        "iteration": 393,
                        "remaining_time": 21.22072862,
                        "learn": [
                          0.1126805664
                        ]
                      },
                      {
                        "test": [
                          0.1277219849
                        ],
                        "passed_time": 13.82418231,
                        "iteration": 394,
                        "remaining_time": 21.17374759,
                        "learn": [
                          0.112650472
                        ]
                      },
                      {
                        "test": [
                          0.1275976562
                        ],
                        "passed_time": 13.85978445,
                        "iteration": 395,
                        "remaining_time": 21.13967123,
                        "learn": [
                          0.1124975016
                        ]
                      },
                      {
                        "test": [
                          0.1275708008
                        ],
                        "passed_time": 13.89440823,
                        "iteration": 396,
                        "remaining_time": 21.10410117,
                        "learn": [
                          0.1124243083
                        ]
                      },
                      {
                        "test": [
                          0.1275494507
                        ],
                        "passed_time": 13.92080337,
                        "iteration": 397,
                        "remaining_time": 21.05608952,
                        "learn": [
                          0.1124082438
                        ]
                      },
                      {
                        "test": [
                          0.1275373779
                        ],
                        "passed_time": 13.95005979,
                        "iteration": 398,
                        "remaining_time": 21.01249608,
                        "learn": [
                          0.1123787272
                        ]
                      },
                      {
                        "test": [
                          0.1273387085
                        ],
                        "passed_time": 13.98298547,
                        "iteration": 399,
                        "remaining_time": 20.97447821,
                        "learn": [
                          0.1121202962
                        ]
                      },
                      {
                        "test": [
                          0.127333374
                        ],
                        "passed_time": 14.01258998,
                        "iteration": 400,
                        "remaining_time": 20.93152468,
                        "learn": [
                          0.1121143962
                        ]
                      },
                      {
                        "test": [
                          0.12720177
                        ],
                        "passed_time": 14.04472144,
                        "iteration": 401,
                        "remaining_time": 20.89239658,
                        "learn": [
                          0.1119436117
                        ]
                      },
                      {
                        "test": [
                          0.1271121338
                        ],
                        "passed_time": 14.09156082,
                        "iteration": 402,
                        "remaining_time": 20.87509135,
                        "learn": [
                          0.1118465332
                        ]
                      },
                      {
                        "test": [
                          0.1271018433
                        ],
                        "passed_time": 14.11971815,
                        "iteration": 403,
                        "remaining_time": 20.83007925,
                        "learn": [
                          0.1118279867
                        ]
                      },
                      {
                        "test": [
                          0.1270069336
                        ],
                        "passed_time": 14.15039665,
                        "iteration": 404,
                        "remaining_time": 20.78885433,
                        "learn": [
                          0.1117352458
                        ]
                      },
                      {
                        "test": [
                          0.1267926514
                        ],
                        "passed_time": 14.18357127,
                        "iteration": 405,
                        "remaining_time": 20.75133334,
                        "learn": [
                          0.1115098307
                        ]
                      },
                      {
                        "test": [
                          0.1267909058
                        ],
                        "passed_time": 14.2086136,
                        "iteration": 406,
                        "remaining_time": 20.70198493,
                        "learn": [
                          0.1114978678
                        ]
                      },
                      {
                        "test": [
                          0.1267459473
                        ],
                        "passed_time": 14.23666926,
                        "iteration": 407,
                        "remaining_time": 20.65712795,
                        "learn": [
                          0.1114137695
                        ]
                      },
                      {
                        "test": [
                          0.1267327515
                        ],
                        "passed_time": 14.26431521,
                        "iteration": 408,
                        "remaining_time": 20.61176111,
                        "learn": [
                          0.1114021891
                        ]
                      },
                      {
                        "test": [
                          0.1267248657
                        ],
                        "passed_time": 14.29248334,
                        "iteration": 409,
                        "remaining_time": 20.56723212,
                        "learn": [
                          0.1113681152
                        ]
                      },
                      {
                        "test": [
                          0.1264214233
                        ],
                        "passed_time": 14.32409644,
                        "iteration": 410,
                        "remaining_time": 20.52771972,
                        "learn": [
                          0.1110742594
                        ]
                      },
                      {
                        "test": [
                          0.1263821899
                        ],
                        "passed_time": 14.35181761,
                        "iteration": 411,
                        "remaining_time": 20.48269115,
                        "learn": [
                          0.1110201579
                        ]
                      },
                      {
                        "test": [
                          0.1263505249
                        ],
                        "passed_time": 14.37993906,
                        "iteration": 412,
                        "remaining_time": 20.43831532,
                        "learn": [
                          0.1109585531
                        ]
                      },
                      {
                        "test": [
                          0.1263119995
                        ],
                        "passed_time": 14.40585574,
                        "iteration": 413,
                        "remaining_time": 20.39089726,
                        "learn": [
                          0.1109346924
                        ]
                      },
                      {
                        "test": [
                          0.1263061401
                        ],
                        "passed_time": 14.43308718,
                        "iteration": 414,
                        "remaining_time": 20.34543615,
                        "learn": [
                          0.1109086019
                        ]
                      },
                      {
                        "test": [
                          0.1262981812
                        ],
                        "passed_time": 14.47329291,
                        "iteration": 415,
                        "remaining_time": 20.31827658,
                        "learn": [
                          0.1109007894
                        ]
                      },
                      {
                        "test": [
                          0.1262721436
                        ],
                        "passed_time": 14.52594281,
                        "iteration": 416,
                        "remaining_time": 20.30845242,
                        "learn": [
                          0.110837207
                        ]
                      },
                      {
                        "test": [
                          0.1262285034
                        ],
                        "passed_time": 14.55444013,
                        "iteration": 417,
                        "remaining_time": 20.26479463,
                        "learn": [
                          0.1107985514
                        ]
                      },
                      {
                        "test": [
                          0.1261714722
                        ],
                        "passed_time": 14.58193222,
                        "iteration": 418,
                        "remaining_time": 20.21981532,
                        "learn": [
                          0.1107423584
                        ]
                      },
                      {
                        "test": [
                          0.1261581055
                        ],
                        "passed_time": 14.60954406,
                        "iteration": 419,
                        "remaining_time": 20.17508465,
                        "learn": [
                          0.1107340332
                        ]
                      },
                      {
                        "test": [
                          0.1261426147
                        ],
                        "passed_time": 14.63680486,
                        "iteration": 420,
                        "remaining_time": 20.12995252,
                        "learn": [
                          0.1107040283
                        ]
                      },
                      {
                        "test": [
                          0.1259583496
                        ],
                        "passed_time": 14.66647789,
                        "iteration": 421,
                        "remaining_time": 20.08820905,
                        "learn": [
                          0.110565153
                        ]
                      },
                      {
                        "test": [
                          0.1259098511
                        ],
                        "passed_time": 14.70430434,
                        "iteration": 422,
                        "remaining_time": 20.05764446,
                        "learn": [
                          0.1104644287
                        ]
                      },
                      {
                        "test": [
                          0.1258640381
                        ],
                        "passed_time": 14.73558359,
                        "iteration": 423,
                        "remaining_time": 20.01815129,
                        "learn": [
                          0.1103622965
                        ]
                      },
                      {
                        "test": [
                          0.1258494507
                        ],
                        "passed_time": 14.76760793,
                        "iteration": 424,
                        "remaining_time": 19.97970484,
                        "learn": [
                          0.1103367188
                        ]
                      },
                      {
                        "test": [
                          0.1257928345
                        ],
                        "passed_time": 14.79811944,
                        "iteration": 425,
                        "remaining_time": 19.93925013,
                        "learn": [
                          0.1102525391
                        ]
                      },
                      {
                        "test": [
                          0.1257065796
                        ],
                        "passed_time": 14.82712234,
                        "iteration": 426,
                        "remaining_time": 19.89681756,
                        "learn": [
                          0.1101766195
                        ]
                      },
                      {
                        "test": [
                          0.1256969604
                        ],
                        "passed_time": 14.8542821,
                        "iteration": 427,
                        "remaining_time": 19.85198448,
                        "learn": [
                          0.1101719482
                        ]
                      },
                      {
                        "test": [
                          0.125655957
                        ],
                        "passed_time": 14.88500042,
                        "iteration": 428,
                        "remaining_time": 19.81197026,
                        "learn": [
                          0.1101293864
                        ]
                      },
                      {
                        "test": [
                          0.1254534058
                        ],
                        "passed_time": 14.91613019,
                        "iteration": 429,
                        "remaining_time": 19.77254467,
                        "learn": [
                          0.1098959391
                        ]
                      },
                      {
                        "test": [
                          0.1254441162
                        ],
                        "passed_time": 14.94564119,
                        "iteration": 430,
                        "remaining_time": 19.73102051,
                        "learn": [
                          0.1098865397
                        ]
                      },
                      {
                        "test": [
                          0.1254248901
                        ],
                        "passed_time": 14.97487518,
                        "iteration": 431,
                        "remaining_time": 19.68918773,
                        "learn": [
                          0.1098550944
                        ]
                      },
                      {
                        "test": [
                          0.1254417236
                        ],
                        "passed_time": 15.00391912,
                        "iteration": 432,
                        "remaining_time": 19.64716429,
                        "learn": [
                          0.1098392334
                        ]
                      },
                      {
                        "test": [
                          0.1253876709
                        ],
                        "passed_time": 15.03369791,
                        "iteration": 433,
                        "remaining_time": 19.60615903,
                        "learn": [
                          0.1097528483
                        ]
                      },
                      {
                        "test": [
                          0.1252881592
                        ],
                        "passed_time": 15.06533114,
                        "iteration": 434,
                        "remaining_time": 19.567614,
                        "learn": [
                          0.1096706543
                        ]
                      },
                      {
                        "test": [
                          0.1252223389
                        ],
                        "passed_time": 15.09268094,
                        "iteration": 435,
                        "remaining_time": 19.52355975,
                        "learn": [
                          0.1096068115
                        ]
                      },
                      {
                        "test": [
                          0.1250571289
                        ],
                        "passed_time": 15.12357092,
                        "iteration": 436,
                        "remaining_time": 19.48414286,
                        "learn": [
                          0.1094172607
                        ]
                      },
                      {
                        "test": [
                          0.1250348511
                        ],
                        "passed_time": 15.15057198,
                        "iteration": 437,
                        "remaining_time": 19.439775,
                        "learn": [
                          0.1093939209
                        ]
                      },
                      {
                        "test": [
                          0.1249592896
                        ],
                        "passed_time": 15.18193206,
                        "iteration": 438,
                        "remaining_time": 19.40105668,
                        "learn": [
                          0.1093259033
                        ]
                      },
                      {
                        "test": [
                          0.1249591797
                        ],
                        "passed_time": 15.20751683,
                        "iteration": 439,
                        "remaining_time": 19.35502142,
                        "learn": [
                          0.1093241455
                        ]
                      },
                      {
                        "test": [
                          0.1249489258
                        ],
                        "passed_time": 15.23265741,
                        "iteration": 440,
                        "remaining_time": 19.30851586,
                        "learn": [
                          0.1093164144
                        ]
                      },
                      {
                        "test": [
                          0.1249047119
                        ],
                        "passed_time": 15.26870418,
                        "iteration": 441,
                        "remaining_time": 19.27587542,
                        "learn": [
                          0.1092721924
                        ]
                      },
                      {
                        "test": [
                          0.1247910034
                        ],
                        "passed_time": 15.3015235,
                        "iteration": 442,
                        "remaining_time": 19.2391616,
                        "learn": [
                          0.1091198975
                        ]
                      },
                      {
                        "test": [
                          0.124753418
                        ],
                        "passed_time": 15.33363421,
                        "iteration": 443,
                        "remaining_time": 19.20157797,
                        "learn": [
                          0.1090695313
                        ]
                      },
                      {
                        "test": [
                          0.1247565308
                        ],
                        "passed_time": 15.36176726,
                        "iteration": 444,
                        "remaining_time": 19.15905805,
                        "learn": [
                          0.1090579102
                        ]
                      },
                      {
                        "test": [
                          0.1246838745
                        ],
                        "passed_time": 15.39070277,
                        "iteration": 445,
                        "remaining_time": 19.1175994,
                        "learn": [
                          0.1089721598
                        ]
                      },
                      {
                        "test": [
                          0.1245495972
                        ],
                        "passed_time": 15.42460151,
                        "iteration": 446,
                        "remaining_time": 19.08233699,
                        "learn": [
                          0.1087925781
                        ]
                      },
                      {
                        "test": [
                          0.1245121338
                        ],
                        "passed_time": 15.45373402,
                        "iteration": 447,
                        "remaining_time": 19.04120799,
                        "learn": [
                          0.1087393555
                        ]
                      },
                      {
                        "test": [
                          0.1245112183
                        ],
                        "passed_time": 15.49246119,
                        "iteration": 448,
                        "remaining_time": 19.01190671,
                        "learn": [
                          0.1086890788
                        ]
                      },
                      {
                        "test": [
                          0.1243699463
                        ],
                        "passed_time": 15.52088636,
                        "iteration": 449,
                        "remaining_time": 18.96997222,
                        "learn": [
                          0.1085360758
                        ]
                      },
                      {
                        "test": [
                          0.1242803711
                        ],
                        "passed_time": 15.56700134,
                        "iteration": 450,
                        "remaining_time": 18.94963134,
                        "learn": [
                          0.1084237223
                        ]
                      },
                      {
                        "test": [
                          0.1241898804
                        ],
                        "passed_time": 15.59875155,
                        "iteration": 451,
                        "remaining_time": 18.91176073,
                        "learn": [
                          0.1082408285
                        ]
                      },
                      {
                        "test": [
                          0.1241795288
                        ],
                        "passed_time": 15.63019163,
                        "iteration": 452,
                        "remaining_time": 18.87354265,
                        "learn": [
                          0.1081810791
                        ]
                      },
                      {
                        "test": [
                          0.1241323242
                        ],
                        "passed_time": 15.66051553,
                        "iteration": 453,
                        "remaining_time": 18.83401206,
                        "learn": [
                          0.108128654
                        ]
                      },
                      {
                        "test": [
                          0.1241195435
                        ],
                        "passed_time": 15.70240228,
                        "iteration": 454,
                        "remaining_time": 18.80837197,
                        "learn": [
                          0.1080828613
                        ]
                      },
                      {
                        "test": [
                          0.1241023682
                        ],
                        "passed_time": 15.73143424,
                        "iteration": 455,
                        "remaining_time": 18.76732505,
                        "learn": [
                          0.1080617676
                        ]
                      },
                      {
                        "test": [
                          0.1239499878
                        ],
                        "passed_time": 15.76348006,
                        "iteration": 456,
                        "remaining_time": 18.72991176,
                        "learn": [
                          0.1079347331
                        ]
                      },
                      {
                        "test": [
                          0.1239455811
                        ],
                        "passed_time": 15.79190538,
                        "iteration": 457,
                        "remaining_time": 18.68823737,
                        "learn": [
                          0.1079170247
                        ]
                      },
                      {
                        "test": [
                          0.1239390625
                        ],
                        "passed_time": 15.81838941,
                        "iteration": 458,
                        "remaining_time": 18.64433261,
                        "learn": [
                          0.1078669434
                        ]
                      },
                      {
                        "test": [
                          0.123938623
                        ],
                        "passed_time": 15.84295018,
                        "iteration": 459,
                        "remaining_time": 18.59824587,
                        "learn": [
                          0.1078655762
                        ]
                      },
                      {
                        "test": [
                          0.1238299438
                        ],
                        "passed_time": 15.87831383,
                        "iteration": 460,
                        "remaining_time": 18.5648832,
                        "learn": [
                          0.1077276611
                        ]
                      },
                      {
                        "test": [
                          0.1238286499
                        ],
                        "passed_time": 15.90603536,
                        "iteration": 461,
                        "remaining_time": 18.5226126,
                        "learn": [
                          0.10771132
                        ]
                      },
                      {
                        "test": [
                          0.1237286621
                        ],
                        "passed_time": 15.9410078,
                        "iteration": 462,
                        "remaining_time": 18.48881466,
                        "learn": [
                          0.1076224284
                        ]
                      },
                      {
                        "test": [
                          0.123717395
                        ],
                        "passed_time": 15.96686618,
                        "iteration": 463,
                        "remaining_time": 18.44448335,
                        "learn": [
                          0.1076155599
                        ]
                      },
                      {
                        "test": [
                          0.1236842773
                        ],
                        "passed_time": 15.99790039,
                        "iteration": 464,
                        "remaining_time": 18.40618647,
                        "learn": [
                          0.1075900065
                        ]
                      },
                      {
                        "test": [
                          0.1236797974
                        ],
                        "passed_time": 16.02333279,
                        "iteration": 465,
                        "remaining_time": 18.36150153,
                        "learn": [
                          0.1075855387
                        ]
                      },
                      {
                        "test": [
                          0.1236446045
                        ],
                        "passed_time": 16.05123243,
                        "iteration": 466,
                        "remaining_time": 18.31971496,
                        "learn": [
                          0.1075303304
                        ]
                      },
                      {
                        "test": [
                          0.1232138428
                        ],
                        "passed_time": 16.08918191,
                        "iteration": 467,
                        "remaining_time": 18.28941192,
                        "learn": [
                          0.1070469727
                        ]
                      },
                      {
                        "test": [
                          0.1231369751
                        ],
                        "passed_time": 16.11822639,
                        "iteration": 468,
                        "remaining_time": 18.24899406,
                        "learn": [
                          0.106960734
                        ]
                      },
                      {
                        "test": [
                          0.1230405151
                        ],
                        "passed_time": 16.15399913,
                        "iteration": 469,
                        "remaining_time": 18.21621179,
                        "learn": [
                          0.1068413167
                        ]
                      },
                      {
                        "test": [
                          0.1230209717
                        ],
                        "passed_time": 16.18222607,
                        "iteration": 470,
                        "remaining_time": 18.1749418,
                        "learn": [
                          0.1068125977
                        ]
                      },
                      {
                        "test": [
                          0.1229403198
                        ],
                        "passed_time": 16.21004135,
                        "iteration": 471,
                        "remaining_time": 18.13326659,
                        "learn": [
                          0.1067159912
                        ]
                      },
                      {
                        "test": [
                          0.1229402222
                        ],
                        "passed_time": 16.23468157,
                        "iteration": 472,
                        "remaining_time": 18.08811245,
                        "learn": [
                          0.1067146403
                        ]
                      },
                      {
                        "test": [
                          0.1228394531
                        ],
                        "passed_time": 16.26540751,
                        "iteration": 473,
                        "remaining_time": 18.04979821,
                        "learn": [
                          0.1066057861
                        ]
                      },
                      {
                        "test": [
                          0.1227521729
                        ],
                        "passed_time": 16.29849949,
                        "iteration": 474,
                        "remaining_time": 18.01413102,
                        "learn": [
                          0.1064799072
                        ]
                      },
                      {
                        "test": [
                          0.1227317261
                        ],
                        "passed_time": 16.32823809,
                        "iteration": 475,
                        "remaining_time": 17.9747831,
                        "learn": [
                          0.1064284993
                        ]
                      },
                      {
                        "test": [
                          0.1227347168
                        ],
                        "passed_time": 16.35681987,
                        "iteration": 476,
                        "remaining_time": 17.93420711,
                        "learn": [
                          0.1063991048
                        ]
                      },
                      {
                        "test": [
                          0.1226332886
                        ],
                        "passed_time": 16.38690339,
                        "iteration": 477,
                        "remaining_time": 17.89532127,
                        "learn": [
                          0.1063000081
                        ]
                      },
                      {
                        "test": [
                          0.122626062
                        ],
                        "passed_time": 16.41716373,
                        "iteration": 478,
                        "remaining_time": 17.85666451,
                        "learn": [
                          0.1062349365
                        ]
                      },
                      {
                        "test": [
                          0.1226121094
                        ],
                        "passed_time": 16.44537667,
                        "iteration": 479,
                        "remaining_time": 17.81582472,
                        "learn": [
                          0.1062272949
                        ]
                      },
                      {
                        "test": [
                          0.1225722534
                        ],
                        "passed_time": 16.47408241,
                        "iteration": 480,
                        "remaining_time": 17.77556917,
                        "learn": [
                          0.1061730387
                        ]
                      },
                      {
                        "test": [
                          0.1225676025
                        ],
                        "passed_time": 16.50288886,
                        "iteration": 481,
                        "remaining_time": 17.73546978,
                        "learn": [
                          0.1061529297
                        ]
                      },
                      {
                        "test": [
                          0.1225677734
                        ],
                        "passed_time": 16.52869785,
                        "iteration": 482,
                        "remaining_time": 17.69220867,
                        "learn": [
                          0.1061475179
                        ]
                      },
                      {
                        "test": [
                          0.1225080811
                        ],
                        "passed_time": 16.57215655,
                        "iteration": 483,
                        "remaining_time": 17.66783632,
                        "learn": [
                          0.1060790283
                        ]
                      },
                      {
                        "test": [
                          0.1224946045
                        ],
                        "passed_time": 16.61190961,
                        "iteration": 484,
                        "remaining_time": 17.63945041,
                        "learn": [
                          0.1060492187
                        ]
                      },
                      {
                        "test": [
                          0.1224470581
                        ],
                        "passed_time": 16.64529707,
                        "iteration": 485,
                        "remaining_time": 17.60428538,
                        "learn": [
                          0.1058961589
                        ]
                      },
                      {
                        "test": [
                          0.1224269531
                        ],
                        "passed_time": 16.67673578,
                        "iteration": 486,
                        "remaining_time": 17.56707486,
                        "learn": [
                          0.1057963216
                        ]
                      },
                      {
                        "test": [
                          0.1224178101
                        ],
                        "passed_time": 16.70672008,
                        "iteration": 487,
                        "remaining_time": 17.52836205,
                        "learn": [
                          0.1057822835
                        ]
                      },
                      {
                        "test": [
                          0.1223964233
                        ],
                        "passed_time": 16.74173764,
                        "iteration": 488,
                        "remaining_time": 17.49494465,
                        "learn": [
                          0.1057494303
                        ]
                      },
                      {
                        "test": [
                          0.1223962769
                        ],
                        "passed_time": 16.76604896,
                        "iteration": 489,
                        "remaining_time": 17.45037749,
                        "learn": [
                          0.1057484212
                        ]
                      },
                      {
                        "test": [
                          0.1223480225
                        ],
                        "passed_time": 16.79374456,
                        "iteration": 490,
                        "remaining_time": 17.40940118,
                        "learn": [
                          0.1057054443
                        ]
                      },
                      {
                        "test": [
                          0.1221990967
                        ],
                        "passed_time": 16.82739615,
                        "iteration": 491,
                        "remaining_time": 17.37462855,
                        "learn": [
                          0.1055345215
                        ]
                      },
                      {
                        "test": [
                          0.122107251
                        ],
                        "passed_time": 16.85585232,
                        "iteration": 492,
                        "remaining_time": 17.3345175,
                        "learn": [
                          0.1054730143
                        ]
                      },
                      {
                        "test": [
                          0.122045874
                        ],
                        "passed_time": 16.88366298,
                        "iteration": 493,
                        "remaining_time": 17.29379244,
                        "learn": [
                          0.1054065592
                        ]
                      },
                      {
                        "test": [
                          0.1219594849
                        ],
                        "passed_time": 16.91492829,
                        "iteration": 494,
                        "remaining_time": 17.25664401,
                        "learn": [
                          0.105307666
                        ]
                      },
                      {
                        "test": [
                          0.1219011719
                        ],
                        "passed_time": 16.94444802,
                        "iteration": 495,
                        "remaining_time": 17.21774557,
                        "learn": [
                          0.1052472249
                        ]
                      },
                      {
                        "test": [
                          0.1219065063
                        ],
                        "passed_time": 16.971431,
                        "iteration": 496,
                        "remaining_time": 17.17631749,
                        "learn": [
                          0.10523868
                        ]
                      },
                      {
                        "test": [
                          0.1218299072
                        ],
                        "passed_time": 17.00763875,
                        "iteration": 497,
                        "remaining_time": 17.14424629,
                        "learn": [
                          0.1051501709
                        ]
                      },
                      {
                        "test": [
                          0.1217020996
                        ],
                        "passed_time": 17.04056687,
                        "iteration": 498,
                        "remaining_time": 17.10886574,
                        "learn": [
                          0.1049835938
                        ]
                      },
                      {
                        "test": [
                          0.1215014771
                        ],
                        "passed_time": 17.07657042,
                        "iteration": 499,
                        "remaining_time": 17.07657042,
                        "learn": [
                          0.104771582
                        ]
                      },
                      {
                        "test": [
                          0.1214812744
                        ],
                        "passed_time": 17.10477435,
                        "iteration": 500,
                        "remaining_time": 17.03649181,
                        "learn": [
                          0.1047481201
                        ]
                      },
                      {
                        "test": [
                          0.1214844971
                        ],
                        "passed_time": 17.13120417,
                        "iteration": 501,
                        "remaining_time": 16.99470055,
                        "learn": [
                          0.1047213949
                        ]
                      },
                      {
                        "test": [
                          0.1214824829
                        ],
                        "passed_time": 17.15753808,
                        "iteration": 502,
                        "remaining_time": 16.9528756,
                        "learn": [
                          0.1047129476
                        ]
                      },
                      {
                        "test": [
                          0.1214458008
                        ],
                        "passed_time": 17.18612445,
                        "iteration": 503,
                        "remaining_time": 16.91332882,
                        "learn": [
                          0.1046367106
                        ]
                      },
                      {
                        "test": [
                          0.1214224609
                        ],
                        "passed_time": 17.21413704,
                        "iteration": 504,
                        "remaining_time": 16.87326304,
                        "learn": [
                          0.1046088135
                        ]
                      },
                      {
                        "test": [
                          0.1213539429
                        ],
                        "passed_time": 17.24103934,
                        "iteration": 505,
                        "remaining_time": 16.83216094,
                        "learn": [
                          0.1045299398
                        ]
                      },
                      {
                        "test": [
                          0.1212897339
                        ],
                        "passed_time": 17.27151699,
                        "iteration": 506,
                        "remaining_time": 16.79459147,
                        "learn": [
                          0.1044749105
                        ]
                      },
                      {
                        "test": [
                          0.1213089478
                        ],
                        "passed_time": 17.30010098,
                        "iteration": 507,
                        "remaining_time": 16.75521591,
                        "learn": [
                          0.1044623047
                        ]
                      },
                      {
                        "test": [
                          0.1212679077
                        ],
                        "passed_time": 17.33060894,
                        "iteration": 508,
                        "remaining_time": 16.71773868,
                        "learn": [
                          0.1044089925
                        ]
                      },
                      {
                        "test": [
                          0.1212702026
                        ],
                        "passed_time": 17.36083768,
                        "iteration": 509,
                        "remaining_time": 16.68002052,
                        "learn": [
                          0.1043993245
                        ]
                      },
                      {
                        "test": [
                          0.1211391235
                        ],
                        "passed_time": 17.39397337,
                        "iteration": 510,
                        "remaining_time": 16.64511346,
                        "learn": [
                          0.1042212972
                        ]
                      },
                      {
                        "test": [
                          0.1211362915
                        ],
                        "passed_time": 17.42214808,
                        "iteration": 511,
                        "remaining_time": 16.60548489,
                        "learn": [
                          0.10420271
                        ]
                      },
                      {
                        "test": [
                          0.1211161987
                        ],
                        "passed_time": 17.45362006,
                        "iteration": 512,
                        "remaining_time": 16.56903113,
                        "learn": [
                          0.1041890706
                        ]
                      },
                      {
                        "test": [
                          0.1211163818
                        ],
                        "passed_time": 17.48297793,
                        "iteration": 513,
                        "remaining_time": 16.53059781,
                        "learn": [
                          0.1041386719
                        ]
                      },
                      {
                        "test": [
                          0.1210317139
                        ],
                        "passed_time": 17.51220606,
                        "iteration": 514,
                        "remaining_time": 16.49207756,
                        "learn": [
                          0.1040253743
                        ]
                      },
                      {
                        "test": [
                          0.120893042
                        ],
                        "passed_time": 17.54159924,
                        "iteration": 515,
                        "remaining_time": 16.45374812,
                        "learn": [
                          0.1038671305
                        ]
                      },
                      {
                        "test": [
                          0.1208491455
                        ],
                        "passed_time": 17.57308178,
                        "iteration": 516,
                        "remaining_time": 16.41740522,
                        "learn": [
                          0.1037630046
                        ]
                      },
                      {
                        "test": [
                          0.120849585
                        ],
                        "passed_time": 17.61880164,
                        "iteration": 517,
                        "remaining_time": 16.39432894,
                        "learn": [
                          0.1037536296
                        ]
                      },
                      {
                        "test": [
                          0.1207988647
                        ],
                        "passed_time": 17.66358112,
                        "iteration": 518,
                        "remaining_time": 16.37029387,
                        "learn": [
                          0.1036950195
                        ]
                      },
                      {
                        "test": [
                          0.120733252
                        ],
                        "passed_time": 17.69660784,
                        "iteration": 519,
                        "remaining_time": 16.33533031,
                        "learn": [
                          0.1035683268
                        ]
                      },
                      {
                        "test": [
                          0.1207330444
                        ],
                        "passed_time": 17.7311753,
                        "iteration": 520,
                        "remaining_time": 16.30179073,
                        "learn": [
                          0.1035666016
                        ]
                      },
                      {
                        "test": [
                          0.1206229004
                        ],
                        "passed_time": 17.76546254,
                        "iteration": 521,
                        "remaining_time": 16.2679906,
                        "learn": [
                          0.103439152
                        ]
                      },
                      {
                        "test": [
                          0.1205634766
                        ],
                        "passed_time": 17.79817655,
                        "iteration": 522,
                        "remaining_time": 16.23275376,
                        "learn": [
                          0.1033327311
                        ]
                      },
                      {
                        "test": [
                          0.1205571045
                        ],
                        "passed_time": 17.8240847,
                        "iteration": 523,
                        "remaining_time": 16.19134411,
                        "learn": [
                          0.103325944
                        ]
                      },
                      {
                        "test": [
                          0.1205392212
                        ],
                        "passed_time": 17.85022824,
                        "iteration": 524,
                        "remaining_time": 16.1502065,
                        "learn": [
                          0.1033182536
                        ]
                      },
                      {
                        "test": [
                          0.1205175659
                        ],
                        "passed_time": 17.87813679,
                        "iteration": 525,
                        "remaining_time": 16.11071642,
                        "learn": [
                          0.1033021647
                        ]
                      },
                      {
                        "test": [
                          0.1205174438
                        ],
                        "passed_time": 17.90723039,
                        "iteration": 526,
                        "remaining_time": 16.07233392,
                        "learn": [
                          0.1032882243
                        ]
                      },
                      {
                        "test": [
                          0.1202931519
                        ],
                        "passed_time": 17.93941618,
                        "iteration": 527,
                        "remaining_time": 16.03675083,
                        "learn": [
                          0.1030310791
                        ]
                      },
                      {
                        "test": [
                          0.1202888672
                        ],
                        "passed_time": 17.96954082,
                        "iteration": 528,
                        "remaining_time": 15.99934542,
                        "learn": [
                          0.1030265951
                        ]
                      },
                      {
                        "test": [
                          0.1201586792
                        ],
                        "passed_time": 17.99985257,
                        "iteration": 529,
                        "remaining_time": 15.96213341,
                        "learn": [
                          0.1028417074
                        ]
                      },
                      {
                        "test": [
                          0.1200912231
                        ],
                        "passed_time": 18.02929243,
                        "iteration": 530,
                        "remaining_time": 15.9241773,
                        "learn": [
                          0.1027484375
                        ]
                      },
                      {
                        "test": [
                          0.1200761841
                        ],
                        "passed_time": 18.05863268,
                        "iteration": 531,
                        "remaining_time": 15.88616559,
                        "learn": [
                          0.1027152181
                        ]
                      },
                      {
                        "test": [
                          0.1199758911
                        ],
                        "passed_time": 18.0900228,
                        "iteration": 532,
                        "remaining_time": 15.84998246,
                        "learn": [
                          0.1026115885
                        ]
                      },
                      {
                        "test": [
                          0.119965332
                        ],
                        "passed_time": 18.11856893,
                        "iteration": 533,
                        "remaining_time": 15.81133543,
                        "learn": [
                          0.1025618164
                        ]
                      },
                      {
                        "test": [
                          0.1199647461
                        ],
                        "passed_time": 18.14409989,
                        "iteration": 534,
                        "remaining_time": 15.77010551,
                        "learn": [
                          0.1025599365
                        ]
                      },
                      {
                        "test": [
                          0.1198547729
                        ],
                        "passed_time": 18.17126995,
                        "iteration": 535,
                        "remaining_time": 15.73035309,
                        "learn": [
                          0.10248632
                        ]
                      },
                      {
                        "test": [
                          0.1198393555
                        ],
                        "passed_time": 18.19894916,
                        "iteration": 536,
                        "remaining_time": 15.69108652,
                        "learn": [
                          0.1024700439
                        ]
                      },
                      {
                        "test": [
                          0.1198271851
                        ],
                        "passed_time": 18.22674035,
                        "iteration": 537,
                        "remaining_time": 15.65195919,
                        "learn": [
                          0.1024466309
                        ]
                      },
                      {
                        "test": [
                          0.1198184448
                        ],
                        "passed_time": 18.25593156,
                        "iteration": 538,
                        "remaining_time": 15.61407133,
                        "learn": [
                          0.1023985677
                        ]
                      },
                      {
                        "test": [
                          0.1197721924
                        ],
                        "passed_time": 18.28522637,
                        "iteration": 539,
                        "remaining_time": 15.57630394,
                        "learn": [
                          0.1023550781
                        ]
                      },
                      {
                        "test": [
                          0.1195547729
                        ],
                        "passed_time": 18.32142894,
                        "iteration": 540,
                        "remaining_time": 15.54442862,
                        "learn": [
                          0.1021315511
                        ]
                      },
                      {
                        "test": [
                          0.1194930664
                        ],
                        "passed_time": 18.35331104,
                        "iteration": 541,
                        "remaining_time": 15.50888645,
                        "learn": [
                          0.1020309163
                        ]
                      },
                      {
                        "test": [
                          0.1194191284
                        ],
                        "passed_time": 18.38646429,
                        "iteration": 542,
                        "remaining_time": 15.47442759,
                        "learn": [
                          0.1019717285
                        ]
                      },
                      {
                        "test": [
                          0.1194120972
                        ],
                        "passed_time": 18.41368068,
                        "iteration": 543,
                        "remaining_time": 15.43499704,
                        "learn": [
                          0.1019495931
                        ]
                      },
                      {
                        "test": [
                          0.1193521729
                        ],
                        "passed_time": 18.4426881,
                        "iteration": 544,
                        "remaining_time": 15.39710658,
                        "learn": [
                          0.10187111
                        ]
                      },
                      {
                        "test": [
                          0.1193260132
                        ],
                        "passed_time": 18.47152112,
                        "iteration": 545,
                        "remaining_time": 15.35910364,
                        "learn": [
                          0.1018296549
                        ]
                      },
                      {
                        "test": [
                          0.1193119019
                        ],
                        "passed_time": 18.49979144,
                        "iteration": 546,
                        "remaining_time": 15.32066823,
                        "learn": [
                          0.1018160319
                        ]
                      },
                      {
                        "test": [
                          0.1192754395
                        ],
                        "passed_time": 18.52978379,
                        "iteration": 547,
                        "remaining_time": 15.28369028,
                        "learn": [
                          0.1017762614
                        ]
                      },
                      {
                        "test": [
                          0.1191427979
                        ],
                        "passed_time": 18.55833444,
                        "iteration": 548,
                        "remaining_time": 15.24555343,
                        "learn": [
                          0.1016708089
                        ]
                      },
                      {
                        "test": [
                          0.1190974731
                        ],
                        "passed_time": 18.59500994,
                        "iteration": 549,
                        "remaining_time": 15.21409904,
                        "learn": [
                          0.1015696452
                        ]
                      },
                      {
                        "test": [
                          0.1188917358
                        ],
                        "passed_time": 18.63608519,
                        "iteration": 550,
                        "remaining_time": 15.18621098,
                        "learn": [
                          0.1012972819
                        ]
                      },
                      {
                        "test": [
                          0.1188230469
                        ],
                        "passed_time": 18.69688413,
                        "iteration": 551,
                        "remaining_time": 15.17428277,
                        "learn": [
                          0.1012377035
                        ]
                      },
                      {
                        "test": [
                          0.1188207397
                        ],
                        "passed_time": 18.72836015,
                        "iteration": 552,
                        "remaining_time": 15.13847556,
                        "learn": [
                          0.1012310791
                        ]
                      },
                      {
                        "test": [
                          0.11878927
                        ],
                        "passed_time": 18.75893763,
                        "iteration": 553,
                        "remaining_time": 15.10196062,
                        "learn": [
                          0.1011976888
                        ]
                      },
                      {
                        "test": [
                          0.1186628296
                        ],
                        "passed_time": 18.7891704,
                        "iteration": 554,
                        "remaining_time": 15.06519068,
                        "learn": [
                          0.1010692708
                        ]
                      },
                      {
                        "test": [
                          0.1183934326
                        ],
                        "passed_time": 18.82240474,
                        "iteration": 555,
                        "remaining_time": 15.03084119,
                        "learn": [
                          0.1007851481
                        ]
                      },
                      {
                        "test": [
                          0.1182516602
                        ],
                        "passed_time": 18.85577761,
                        "iteration": 556,
                        "remaining_time": 14.99660589,
                        "learn": [
                          0.1005823079
                        ]
                      },
                      {
                        "test": [
                          0.1182577393
                        ],
                        "passed_time": 18.88437437,
                        "iteration": 557,
                        "remaining_time": 14.95859045,
                        "learn": [
                          0.1005756266
                        ]
                      },
                      {
                        "test": [
                          0.1181941284
                        ],
                        "passed_time": 18.91540356,
                        "iteration": 558,
                        "remaining_time": 14.92252767,
                        "learn": [
                          0.1004499674
                        ]
                      },
                      {
                        "test": [
                          0.1181648682
                        ],
                        "passed_time": 18.94503971,
                        "iteration": 559,
                        "remaining_time": 14.88538835,
                        "learn": [
                          0.100406307
                        ]
                      },
                      {
                        "test": [
                          0.1181642578
                        ],
                        "passed_time": 18.9737469,
                        "iteration": 560,
                        "remaining_time": 14.84754882,
                        "learn": [
                          0.1004051921
                        ]
                      },
                      {
                        "test": [
                          0.1181524292
                        ],
                        "passed_time": 19.00158006,
                        "iteration": 561,
                        "remaining_time": 14.80906062,
                        "learn": [
                          0.1003763916
                        ]
                      },
                      {
                        "test": [
                          0.1180999146
                        ],
                        "passed_time": 19.03315177,
                        "iteration": 562,
                        "remaining_time": 14.77351212,
                        "learn": [
                          0.1003307373
                        ]
                      },
                      {
                        "test": [
                          0.1178988037
                        ],
                        "passed_time": 19.07364132,
                        "iteration": 563,
                        "remaining_time": 14.74487166,
                        "learn": [
                          0.1000322591
                        ]
                      },
                      {
                        "test": [
                          0.1177123535
                        ],
                        "passed_time": 19.11025425,
                        "iteration": 564,
                        "remaining_time": 14.7132046,
                        "learn": [
                          0.09986136068
                        ]
                      },
                      {
                        "test": [
                          0.1176329834
                        ],
                        "passed_time": 19.13967177,
                        "iteration": 565,
                        "remaining_time": 14.67600274,
                        "learn": [
                          0.09977573242
                        ]
                      },
                      {
                        "test": [
                          0.1176322632
                        ],
                        "passed_time": 19.1665198,
                        "iteration": 566,
                        "remaining_time": 14.63686609,
                        "learn": [
                          0.09977429199
                        ]
                      },
                      {
                        "test": [
                          0.1175139648
                        ],
                        "passed_time": 19.19806956,
                        "iteration": 567,
                        "remaining_time": 14.60134868,
                        "learn": [
                          0.09968583171
                        ]
                      },
                      {
                        "test": [
                          0.1174349121
                        ],
                        "passed_time": 19.23427933,
                        "iteration": 568,
                        "remaining_time": 14.56937503,
                        "learn": [
                          0.09959080404
                        ]
                      },
                      {
                        "test": [
                          0.1172578247
                        ],
                        "passed_time": 19.27371849,
                        "iteration": 569,
                        "remaining_time": 14.53982272,
                        "learn": [
                          0.09942947591
                        ]
                      },
                      {
                        "test": [
                          0.1172120117
                        ],
                        "passed_time": 19.30543813,
                        "iteration": 570,
                        "remaining_time": 14.504436,
                        "learn": [
                          0.0993636556
                        ]
                      },
                      {
                        "test": [
                          0.1171711548
                        ],
                        "passed_time": 19.33531354,
                        "iteration": 571,
                        "remaining_time": 14.46768216,
                        "learn": [
                          0.09930906576
                        ]
                      },
                      {
                        "test": [
                          0.1171746582
                        ],
                        "passed_time": 19.36661312,
                        "iteration": 572,
                        "remaining_time": 14.43201362,
                        "learn": [
                          0.0992739502
                        ]
                      },
                      {
                        "test": [
                          0.1169999878
                        ],
                        "passed_time": 19.40409414,
                        "iteration": 573,
                        "remaining_time": 14.40094791,
                        "learn": [
                          0.09907674967
                        ]
                      },
                      {
                        "test": [
                          0.1168705933
                        ],
                        "passed_time": 19.43606302,
                        "iteration": 574,
                        "remaining_time": 14.36578571,
                        "learn": [
                          0.09897892253
                        ]
                      },
                      {
                        "test": [
                          0.1168112915
                        ],
                        "passed_time": 19.46838932,
                        "iteration": 575,
                        "remaining_time": 14.33089769,
                        "learn": [
                          0.09888863118
                        ]
                      },
                      {
                        "test": [
                          0.1168017944
                        ],
                        "passed_time": 19.49936233,
                        "iteration": 576,
                        "remaining_time": 14.29502646,
                        "learn": [
                          0.09885721842
                        ]
                      },
                      {
                        "test": [
                          0.1167291748
                        ],
                        "passed_time": 19.52990944,
                        "iteration": 577,
                        "remaining_time": 14.25886122,
                        "learn": [
                          0.09874571126
                        ]
                      },
                      {
                        "test": [
                          0.1165644287
                        ],
                        "passed_time": 19.56627004,
                        "iteration": 578,
                        "remaining_time": 14.22694246,
                        "learn": [
                          0.09853892415
                        ]
                      },
                      {
                        "test": [
                          0.1165473877
                        ],
                        "passed_time": 19.59621421,
                        "iteration": 579,
                        "remaining_time": 14.19036202,
                        "learn": [
                          0.09849098307
                        ]
                      },
                      {
                        "test": [
                          0.1164181152
                        ],
                        "passed_time": 19.62801156,
                        "iteration": 580,
                        "remaining_time": 14.15514087,
                        "learn": [
                          0.09840239258
                        ]
                      },
                      {
                        "test": [
                          0.1164246094
                        ],
                        "passed_time": 19.65509481,
                        "iteration": 581,
                        "remaining_time": 14.11654576,
                        "learn": [
                          0.09838505046
                        ]
                      },
                      {
                        "test": [
                          0.1164036499
                        ],
                        "passed_time": 19.69927094,
                        "iteration": 582,
                        "remaining_time": 14.09021609,
                        "learn": [
                          0.09834715983
                        ]
                      },
                      {
                        "test": [
                          0.1162824341
                        ],
                        "passed_time": 19.75622294,
                        "iteration": 583,
                        "remaining_time": 14.07292593,
                        "learn": [
                          0.09815316569
                        ]
                      },
                      {
                        "test": [
                          0.1162169067
                        ],
                        "passed_time": 19.79640353,
                        "iteration": 584,
                        "remaining_time": 14.04360251,
                        "learn": [
                          0.09810118815
                        ]
                      },
                      {
                        "test": [
                          0.1161295288
                        ],
                        "passed_time": 19.8262401,
                        "iteration": 585,
                        "remaining_time": 14.00693413,
                        "learn": [
                          0.09802416992
                        ]
                      },
                      {
                        "test": [
                          0.1156918701
                        ],
                        "passed_time": 19.86161579,
                        "iteration": 586,
                        "remaining_time": 13.97418624,
                        "learn": [
                          0.09758624674
                        ]
                      },
                      {
                        "test": [
                          0.1156841064
                        ],
                        "passed_time": 19.88834563,
                        "iteration": 587,
                        "remaining_time": 13.93537143,
                        "learn": [
                          0.09757866211
                        ]
                      },
                      {
                        "test": [
                          0.1156903931
                        ],
                        "passed_time": 19.91979862,
                        "iteration": 588,
                        "remaining_time": 13.89989343,
                        "learn": [
                          0.09753679199
                        ]
                      },
                      {
                        "test": [
                          0.1156814575
                        ],
                        "passed_time": 19.94706839,
                        "iteration": 589,
                        "remaining_time": 13.8615221,
                        "learn": [
                          0.0975239502
                        ]
                      },
                      {
                        "test": [
                          0.1156625
                        ],
                        "passed_time": 19.9790407,
                        "iteration": 590,
                        "remaining_time": 13.82644272,
                        "learn": [
                          0.09747494303
                        ]
                      },
                      {
                        "test": [
                          0.1156521118
                        ],
                        "passed_time": 20.00684207,
                        "iteration": 591,
                        "remaining_time": 13.78849926,
                        "learn": [
                          0.09745482585
                        ]
                      },
                      {
                        "test": [
                          0.1156424438
                        ],
                        "passed_time": 20.03529461,
                        "iteration": 592,
                        "remaining_time": 13.75103694,
                        "learn": [
                          0.0974189209
                        ]
                      },
                      {
                        "test": [
                          0.1156424683
                        ],
                        "passed_time": 20.06065759,
                        "iteration": 593,
                        "remaining_time": 13.71149323,
                        "learn": [
                          0.09741750488
                        ]
                      },
                      {
                        "test": [
                          0.1156488037
                        ],
                        "passed_time": 20.08975658,
                        "iteration": 594,
                        "remaining_time": 13.6745402,
                        "learn": [
                          0.09738230794
                        ]
                      },
                      {
                        "test": [
                          0.1156382202
                        ],
                        "passed_time": 20.11802422,
                        "iteration": 595,
                        "remaining_time": 13.63704997,
                        "learn": [
                          0.09736103516
                        ]
                      },
                      {
                        "test": [
                          0.1155335449
                        ],
                        "passed_time": 20.15320002,
                        "iteration": 596,
                        "remaining_time": 13.60425395,
                        "learn": [
                          0.09721421712
                        ]
                      },
                      {
                        "test": [
                          0.1155050537
                        ],
                        "passed_time": 20.18424376,
                        "iteration": 597,
                        "remaining_time": 13.56867223,
                        "learn": [
                          0.09718497721
                        ]
                      },
                      {
                        "test": [
                          0.1154972168
                        ],
                        "passed_time": 20.21517328,
                        "iteration": 598,
                        "remaining_time": 13.53302919,
                        "learn": [
                          0.09716812337
                        ]
                      },
                      {
                        "test": [
                          0.1154324585
                        ],
                        "passed_time": 20.24393658,
                        "iteration": 599,
                        "remaining_time": 13.49595772,
                        "learn": [
                          0.09711657715
                        ]
                      },
                      {
                        "test": [
                          0.1154234009
                        ],
                        "passed_time": 20.27573047,
                        "iteration": 600,
                        "remaining_time": 13.46092588,
                        "learn": [
                          0.09705802409
                        ]
                      },
                      {
                        "test": [
                          0.1154367554
                        ],
                        "passed_time": 20.3047776,
                        "iteration": 601,
                        "remaining_time": 13.42408884,
                        "learn": [
                          0.0970042806
                        ]
                      },
                      {
                        "test": [
                          0.1154265869
                        ],
                        "passed_time": 20.33220463,
                        "iteration": 602,
                        "remaining_time": 13.38621101,
                        "learn": [
                          0.09697492676
                        ]
                      },
                      {
                        "test": [
                          0.1154288452
                        ],
                        "passed_time": 20.35882576,
                        "iteration": 603,
                        "remaining_time": 13.34783941,
                        "learn": [
                          0.09696634115
                        ]
                      },
                      {
                        "test": [
                          0.1153252808
                        ],
                        "passed_time": 20.38980693,
                        "iteration": 604,
                        "remaining_time": 13.31235329,
                        "learn": [
                          0.09688863118
                        ]
                      },
                      {
                        "test": [
                          0.1151597046
                        ],
                        "passed_time": 20.42773285,
                        "iteration": 605,
                        "remaining_time": 13.28139727,
                        "learn": [
                          0.09671280924
                        ]
                      },
                      {
                        "test": [
                          0.115077356
                        ],
                        "passed_time": 20.46065376,
                        "iteration": 606,
                        "remaining_time": 13.24717781,
                        "learn": [
                          0.09662263184
                        ]
                      },
                      {
                        "test": [
                          0.1150062134
                        ],
                        "passed_time": 20.49302685,
                        "iteration": 607,
                        "remaining_time": 13.21260942,
                        "learn": [
                          0.09648971354
                        ]
                      },
                      {
                        "test": [
                          0.1150187866
                        ],
                        "passed_time": 20.52242808,
                        "iteration": 608,
                        "remaining_time": 13.1761402,
                        "learn": [
                          0.09645195313
                        ]
                      },
                      {
                        "test": [
                          0.1150033203
                        ],
                        "passed_time": 20.54773704,
                        "iteration": 609,
                        "remaining_time": 13.13707778,
                        "learn": [
                          0.09644650065
                        ]
                      },
                      {
                        "test": [
                          0.1150028198
                        ],
                        "passed_time": 20.57668157,
                        "iteration": 610,
                        "remaining_time": 13.10037501,
                        "learn": [
                          0.09641291504
                        ]
                      },
                      {
                        "test": [
                          0.1150022949
                        ],
                        "passed_time": 20.60173914,
                        "iteration": 611,
                        "remaining_time": 13.06123331,
                        "learn": [
                          0.09641188151
                        ]
                      },
                      {
                        "test": [
                          0.11494375
                        ],
                        "passed_time": 20.6300538,
                        "iteration": 612,
                        "remaining_time": 13.02419383,
                        "learn": [
                          0.09634916178
                        ]
                      },
                      {
                        "test": [
                          0.1149389038
                        ],
                        "passed_time": 20.65780223,
                        "iteration": 613,
                        "remaining_time": 12.98682681,
                        "learn": [
                          0.09634417318
                        ]
                      },
                      {
                        "test": [
                          0.1148859619
                        ],
                        "passed_time": 20.68685865,
                        "iteration": 614,
                        "remaining_time": 12.95030989,
                        "learn": [
                          0.09628231608
                        ]
                      },
                      {
                        "test": [
                          0.1148442139
                        ],
                        "passed_time": 20.71818105,
                        "iteration": 615,
                        "remaining_time": 12.91522974,
                        "learn": [
                          0.09621513672
                        ]
                      },
                      {
                        "test": [
                          0.1148396851
                        ],
                        "passed_time": 20.77168655,
                        "iteration": 616,
                        "remaining_time": 12.89393185,
                        "learn": [
                          0.09620776367
                        ]
                      },
                      {
                        "test": [
                          0.1147851563
                        ],
                        "passed_time": 20.80395978,
                        "iteration": 617,
                        "remaining_time": 12.85940556,
                        "learn": [
                          0.09610736491
                        ]
                      },
                      {
                        "test": [
                          0.1145082031
                        ],
                        "passed_time": 20.85892827,
                        "iteration": 618,
                        "remaining_time": 12.83885569,
                        "learn": [
                          0.09586255697
                        ]
                      },
                      {
                        "test": [
                          0.114115271
                        ],
                        "passed_time": 20.89636425,
                        "iteration": 619,
                        "remaining_time": 12.80744906,
                        "learn": [
                          0.09542504069
                        ]
                      },
                      {
                        "test": [
                          0.1141200684
                        ],
                        "passed_time": 20.92447934,
                        "iteration": 620,
                        "remaining_time": 12.77033441,
                        "learn": [
                          0.09540124512
                        ]
                      },
                      {
                        "test": [
                          0.1140520264
                        ],
                        "passed_time": 20.95852919,
                        "iteration": 621,
                        "remaining_time": 12.73685536,
                        "learn": [
                          0.09528839518
                        ]
                      },
                      {
                        "test": [
                          0.1139960449
                        ],
                        "passed_time": 20.98812551,
                        "iteration": 622,
                        "remaining_time": 12.70067948,
                        "learn": [
                          0.0952162028
                        ]
                      },
                      {
                        "test": [
                          0.1139076782
                        ],
                        "passed_time": 21.01786331,
                        "iteration": 623,
                        "remaining_time": 12.66460994,
                        "learn": [
                          0.09511750488
                        ]
                      },
                      {
                        "test": [
                          0.1137209839
                        ],
                        "passed_time": 21.04884459,
                        "iteration": 624,
                        "remaining_time": 12.62930675,
                        "learn": [
                          0.09494519043
                        ]
                      },
                      {
                        "test": [
                          0.1136277954
                        ],
                        "passed_time": 21.08189456,
                        "iteration": 625,
                        "remaining_time": 12.5952533,
                        "learn": [
                          0.09481896159
                        ]
                      },
                      {
                        "test": [
                          0.1135970093
                        ],
                        "passed_time": 21.11576132,
                        "iteration": 626,
                        "remaining_time": 12.56168895,
                        "learn": [
                          0.09476724447
                        ]
                      },
                      {
                        "test": [
                          0.1135592529
                        ],
                        "passed_time": 21.14579098,
                        "iteration": 627,
                        "remaining_time": 12.52585071,
                        "learn": [
                          0.09472391764
                        ]
                      },
                      {
                        "test": [
                          0.1134018677
                        ],
                        "passed_time": 21.17621523,
                        "iteration": 628,
                        "remaining_time": 12.49026367,
                        "learn": [
                          0.0945463623
                        ]
                      },
                      {
                        "test": [
                          0.113407959
                        ],
                        "passed_time": 21.20351941,
                        "iteration": 629,
                        "remaining_time": 12.4528606,
                        "learn": [
                          0.09452491048
                        ]
                      },
                      {
                        "test": [
                          0.1133835449
                        ],
                        "passed_time": 21.23637135,
                        "iteration": 630,
                        "remaining_time": 12.4187338,
                        "learn": [
                          0.09446118978
                        ]
                      },
                      {
                        "test": [
                          0.1133781006
                        ],
                        "passed_time": 21.26589551,
                        "iteration": 631,
                        "remaining_time": 12.38267333,
                        "learn": [
                          0.0944417806
                        ]
                      },
                      {
                        "test": [
                          0.1133449585
                        ],
                        "passed_time": 21.29703666,
                        "iteration": 632,
                        "remaining_time": 12.34757102,
                        "learn": [
                          0.09440048014
                        ]
                      },
                      {
                        "test": [
                          0.1132523315
                        ],
                        "passed_time": 21.330715,
                        "iteration": 633,
                        "remaining_time": 12.31394588,
                        "learn": [
                          0.09427695312
                        ]
                      },
                      {
                        "test": [
                          0.1132434204
                        ],
                        "passed_time": 21.3612987,
                        "iteration": 634,
                        "remaining_time": 12.27854177,
                        "learn": [
                          0.09424314779
                        ]
                      },
                      {
                        "test": [
                          0.112948877
                        ],
                        "passed_time": 21.39403659,
                        "iteration": 635,
                        "remaining_time": 12.24438572,
                        "learn": [
                          0.09398289388
                        ]
                      },
                      {
                        "test": [
                          0.1129324341
                        ],
                        "passed_time": 21.42528722,
                        "iteration": 636,
                        "remaining_time": 12.20938659,
                        "learn": [
                          0.09395161133
                        ]
                      },
                      {
                        "test": [
                          0.1129278564
                        ],
                        "passed_time": 21.45371851,
                        "iteration": 637,
                        "remaining_time": 12.17279953,
                        "learn": [
                          0.09391456706
                        ]
                      },
                      {
                        "test": [
                          0.1127527466
                        ],
                        "passed_time": 21.48637116,
                        "iteration": 638,
                        "remaining_time": 12.13862283,
                        "learn": [
                          0.09374379883
                        ]
                      },
                      {
                        "test": [
                          0.1127347778
                        ],
                        "passed_time": 21.51960534,
                        "iteration": 639,
                        "remaining_time": 12.104778,
                        "learn": [
                          0.0937040446
                        ]
                      },
                      {
                        "test": [
                          0.1127258179
                        ],
                        "passed_time": 21.5520326,
                        "iteration": 640,
                        "remaining_time": 12.07048315,
                        "learn": [
                          0.09368570964
                        ]
                      },
                      {
                        "test": [
                          0.1126106934
                        ],
                        "passed_time": 21.58698483,
                        "iteration": 641,
                        "remaining_time": 12.03760213,
                        "learn": [
                          0.09358297526
                        ]
                      },
                      {
                        "test": [
                          0.1124678589
                        ],
                        "passed_time": 21.61940703,
                        "iteration": 642,
                        "remaining_time": 12.00330997,
                        "learn": [
                          0.09342486979
                        ]
                      },
                      {
                        "test": [
                          0.1124857178
                        ],
                        "passed_time": 21.6528521,
                        "iteration": 643,
                        "remaining_time": 11.96958905,
                        "learn": [
                          0.09337958171
                        ]
                      },
                      {
                        "test": [
                          0.1124055176
                        ],
                        "passed_time": 21.68506654,
                        "iteration": 644,
                        "remaining_time": 11.93519166,
                        "learn": [
                          0.09329037272
                        ]
                      },
                      {
                        "test": [
                          0.1123992676
                        ],
                        "passed_time": 21.71571523,
                        "iteration": 645,
                        "remaining_time": 11.89994302,
                        "learn": [
                          0.09327973633
                        ]
                      },
                      {
                        "test": [
                          0.1123272217
                        ],
                        "passed_time": 21.74807372,
                        "iteration": 646,
                        "remaining_time": 11.86564146,
                        "learn": [
                          0.09320548503
                        ]
                      },
                      {
                        "test": [
                          0.1123089844
                        ],
                        "passed_time": 21.79559209,
                        "iteration": 647,
                        "remaining_time": 11.83958089,
                        "learn": [
                          0.09313540853
                        ]
                      },
                      {
                        "test": [
                          0.1120601807
                        ],
                        "passed_time": 21.8399539,
                        "iteration": 648,
                        "remaining_time": 11.81174703,
                        "learn": [
                          0.09288492839
                        ]
                      },
                      {
                        "test": [
                          0.1120293213
                        ],
                        "passed_time": 21.86928786,
                        "iteration": 649,
                        "remaining_time": 11.77577039,
                        "learn": [
                          0.09284269206
                        ]
                      },
                      {
                        "test": [
                          0.1120105103
                        ],
                        "passed_time": 21.9111829,
                        "iteration": 650,
                        "remaining_time": 11.74654813,
                        "learn": [
                          0.09280205892
                        ]
                      },
                      {
                        "test": [
                          0.1120099243
                        ],
                        "passed_time": 21.94960431,
                        "iteration": 651,
                        "remaining_time": 11.71543297,
                        "learn": [
                          0.09276812337
                        ]
                      },
                      {
                        "test": [
                          0.1119313599
                        ],
                        "passed_time": 21.97746994,
                        "iteration": 652,
                        "remaining_time": 11.67868617,
                        "learn": [
                          0.09268168132
                        ]
                      },
                      {
                        "test": [
                          0.1119189941
                        ],
                        "passed_time": 22.0061121,
                        "iteration": 653,
                        "remaining_time": 11.64237735,
                        "learn": [
                          0.09259000651
                        ]
                      },
                      {
                        "test": [
                          0.1117978882
                        ],
                        "passed_time": 22.03779946,
                        "iteration": 654,
                        "remaining_time": 11.6076959,
                        "learn": [
                          0.09243636068
                        ]
                      },
                      {
                        "test": [
                          0.1117966553
                        ],
                        "passed_time": 22.06224257,
                        "iteration": 655,
                        "remaining_time": 11.56922476,
                        "learn": [
                          0.09243452148
                        ]
                      },
                      {
                        "test": [
                          0.1117841309
                        ],
                        "passed_time": 22.09291703,
                        "iteration": 656,
                        "remaining_time": 11.53404953,
                        "learn": [
                          0.09238545736
                        ]
                      },
                      {
                        "test": [
                          0.1114280762
                        ],
                        "passed_time": 22.12913785,
                        "iteration": 657,
                        "remaining_time": 11.50177074,
                        "learn": [
                          0.09204101563
                        ]
                      },
                      {
                        "test": [
                          0.1113861816
                        ],
                        "passed_time": 22.15763846,
                        "iteration": 658,
                        "remaining_time": 11.46548515,
                        "learn": [
                          0.09199767253
                        ]
                      },
                      {
                        "test": [
                          0.1113618896
                        ],
                        "passed_time": 22.18540195,
                        "iteration": 659,
                        "remaining_time": 11.42884343,
                        "learn": [
                          0.09198575846
                        ]
                      },
                      {
                        "test": [
                          0.1112918457
                        ],
                        "passed_time": 22.21931562,
                        "iteration": 660,
                        "remaining_time": 11.39538275,
                        "learn": [
                          0.09189200033
                        ]
                      },
                      {
                        "test": [
                          0.1112248169
                        ],
                        "passed_time": 22.25281962,
                        "iteration": 661,
                        "remaining_time": 11.36171153,
                        "learn": [
                          0.0918177002
                        ]
                      },
                      {
                        "test": [
                          0.1112085693
                        ],
                        "passed_time": 22.2857676,
                        "iteration": 662,
                        "remaining_time": 11.32775819,
                        "learn": [
                          0.09178602702
                        ]
                      },
                      {
                        "test": [
                          0.111026123
                        ],
                        "passed_time": 22.31977708,
                        "iteration": 663,
                        "remaining_time": 11.29434503,
                        "learn": [
                          0.09159920247
                        ]
                      },
                      {
                        "test": [
                          0.1109735107
                        ],
                        "passed_time": 22.35000876,
                        "iteration": 664,
                        "remaining_time": 11.25902697,
                        "learn": [
                          0.09156181641
                        ]
                      },
                      {
                        "test": [
                          0.1109765381
                        ],
                        "passed_time": 22.38005406,
                        "iteration": 665,
                        "remaining_time": 11.22363072,
                        "learn": [
                          0.09153049316
                        ]
                      },
                      {
                        "test": [
                          0.1109765625
                        ],
                        "passed_time": 22.40570073,
                        "iteration": 666,
                        "remaining_time": 11.18605449,
                        "learn": [
                          0.09152897135
                        ]
                      },
                      {
                        "test": [
                          0.1109375122
                        ],
                        "passed_time": 22.43529254,
                        "iteration": 667,
                        "remaining_time": 11.15047474,
                        "learn": [
                          0.09148341471
                        ]
                      },
                      {
                        "test": [
                          0.1109249878
                        ],
                        "passed_time": 22.46633305,
                        "iteration": 668,
                        "remaining_time": 11.11562965,
                        "learn": [
                          0.09144300944
                        ]
                      },
                      {
                        "test": [
                          0.1107543701
                        ],
                        "passed_time": 22.49765057,
                        "iteration": 669,
                        "remaining_time": 11.08093237,
                        "learn": [
                          0.09130599772
                        ]
                      },
                      {
                        "test": [
                          0.1107214355
                        ],
                        "passed_time": 22.53087511,
                        "iteration": 670,
                        "remaining_time": 11.0471802,
                        "learn": [
                          0.09126112467
                        ]
                      },
                      {
                        "test": [
                          0.1107185547
                        ],
                        "passed_time": 22.55874641,
                        "iteration": 671,
                        "remaining_time": 11.0108167,
                        "learn": [
                          0.09122532552
                        ]
                      },
                      {
                        "test": [
                          0.1106840332
                        ],
                        "passed_time": 22.59172788,
                        "iteration": 672,
                        "remaining_time": 10.97696139,
                        "learn": [
                          0.09117408854
                        ]
                      },
                      {
                        "test": [
                          0.1106694702
                        ],
                        "passed_time": 22.62036418,
                        "iteration": 673,
                        "remaining_time": 10.94100701,
                        "learn": [
                          0.09114319661
                        ]
                      },
                      {
                        "test": [
                          0.1106516479
                        ],
                        "passed_time": 22.65025324,
                        "iteration": 674,
                        "remaining_time": 10.90567748,
                        "learn": [
                          0.09106503092
                        ]
                      },
                      {
                        "test": [
                          0.1106189575
                        ],
                        "passed_time": 22.67908628,
                        "iteration": 675,
                        "remaining_time": 10.86985792,
                        "learn": [
                          0.09104279785
                        ]
                      },
                      {
                        "test": [
                          0.110590332
                        ],
                        "passed_time": 22.7073662,
                        "iteration": 676,
                        "remaining_time": 10.8337951,
                        "learn": [
                          0.09100647786
                        ]
                      },
                      {
                        "test": [
                          0.1105871216
                        ],
                        "passed_time": 22.73268895,
                        "iteration": 677,
                        "remaining_time": 10.7963508,
                        "learn": [
                          0.09099642741
                        ]
                      },
                      {
                        "test": [
                          0.1105688721
                        ],
                        "passed_time": 22.77054312,
                        "iteration": 678,
                        "remaining_time": 10.76486648,
                        "learn": [
                          0.09098156738
                        ]
                      },
                      {
                        "test": [
                          0.1104902832
                        ],
                        "passed_time": 22.80278398,
                        "iteration": 679,
                        "remaining_time": 10.73072187,
                        "learn": [
                          0.09092790527
                        ]
                      },
                      {
                        "test": [
                          0.1104906982
                        ],
                        "passed_time": 22.82849664,
                        "iteration": 680,
                        "remaining_time": 10.69352486,
                        "learn": [
                          0.09092648926
                        ]
                      },
                      {
                        "test": [
                          0.1104561523
                        ],
                        "passed_time": 22.85854392,
                        "iteration": 681,
                        "remaining_time": 10.65838265,
                        "learn": [
                          0.09088909505
                        ]
                      },
                      {
                        "test": [
                          0.110338501
                        ],
                        "passed_time": 22.90975706,
                        "iteration": 682,
                        "remaining_time": 10.63307904,
                        "learn": [
                          0.09074713542
                        ]
                      },
                      {
                        "test": [
                          0.1102794678
                        ],
                        "passed_time": 22.98760842,
                        "iteration": 683,
                        "remaining_time": 10.62000623,
                        "learn": [
                          0.09065542806
                        ]
                      },
                      {
                        "test": [
                          0.1102784912
                        ],
                        "passed_time": 23.01581656,
                        "iteration": 684,
                        "remaining_time": 10.58391565,
                        "learn": [
                          0.09064344889
                        ]
                      },
                      {
                        "test": [
                          0.1102744141
                        ],
                        "passed_time": 23.04215923,
                        "iteration": 685,
                        "remaining_time": 10.54699417,
                        "learn": [
                          0.09063813477
                        ]
                      },
                      {
                        "test": [
                          0.1102473755
                        ],
                        "passed_time": 23.06932217,
                        "iteration": 686,
                        "remaining_time": 10.5104772,
                        "learn": [
                          0.09060882975
                        ]
                      },
                      {
                        "test": [
                          0.1101976562
                        ],
                        "passed_time": 23.09876313,
                        "iteration": 687,
                        "remaining_time": 10.47502049,
                        "learn": [
                          0.09051459147
                        ]
                      },
                      {
                        "test": [
                          0.1101897583
                        ],
                        "passed_time": 23.12485973,
                        "iteration": 688,
                        "remaining_time": 10.43807166,
                        "learn": [
                          0.09050749512
                        ]
                      },
                      {
                        "test": [
                          0.1101783203
                        ],
                        "passed_time": 23.14962912,
                        "iteration": 689,
                        "remaining_time": 10.40055801,
                        "learn": [
                          0.09050284831
                        ]
                      },
                      {
                        "test": [
                          0.1101723145
                        ],
                        "passed_time": 23.17669115,
                        "iteration": 690,
                        "remaining_time": 10.36410646,
                        "learn": [
                          0.09049016927
                        ]
                      },
                      {
                        "test": [
                          0.1101278809
                        ],
                        "passed_time": 23.20536442,
                        "iteration": 691,
                        "remaining_time": 10.32839919,
                        "learn": [
                          0.09042858887
                        ]
                      },
                      {
                        "test": [
                          0.109980896
                        ],
                        "passed_time": 23.23727167,
                        "iteration": 692,
                        "remaining_time": 10.29414488,
                        "learn": [
                          0.09031844889
                        ]
                      },
                      {
                        "test": [
                          0.1099842041
                        ],
                        "passed_time": 23.26418491,
                        "iteration": 693,
                        "remaining_time": 10.25769536,
                        "learn": [
                          0.09031021322
                        ]
                      },
                      {
                        "test": [
                          0.1099833252
                        ],
                        "passed_time": 23.28919022,
                        "iteration": 694,
                        "remaining_time": 10.220436,
                        "learn": [
                          0.090309375
                        ]
                      },
                      {
                        "test": [
                          0.1099403687
                        ],
                        "passed_time": 23.32269688,
                        "iteration": 695,
                        "remaining_time": 10.18692507,
                        "learn": [
                          0.09023734538
                        ]
                      },
                      {
                        "test": [
                          0.1099116089
                        ],
                        "passed_time": 23.3539553,
                        "iteration": 696,
                        "remaining_time": 10.15243681,
                        "learn": [
                          0.09014495443
                        ]
                      },
                      {
                        "test": [
                          0.1098552856
                        ],
                        "passed_time": 23.38496973,
                        "iteration": 697,
                        "remaining_time": 10.11785223,
                        "learn": [
                          0.09008286947
                        ]
                      },
                      {
                        "test": [
                          0.1098427734
                        ],
                        "passed_time": 23.4177731,
                        "iteration": 698,
                        "remaining_time": 10.08404822,
                        "learn": [
                          0.09005911458
                        ]
                      },
                      {
                        "test": [
                          0.1098577271
                        ],
                        "passed_time": 23.44759549,
                        "iteration": 699,
                        "remaining_time": 10.0489695,
                        "learn": [
                          0.09002983398
                        ]
                      },
                      {
                        "test": [
                          0.1098170776
                        ],
                        "passed_time": 23.47901934,
                        "iteration": 700,
                        "remaining_time": 10.01458885,
                        "learn": [
                          0.08997912598
                        ]
                      },
                      {
                        "test": [
                          0.1097961304
                        ],
                        "passed_time": 23.50665876,
                        "iteration": 701,
                        "remaining_time": 9.97861013,
                        "learn": [
                          0.08995960286
                        ]
                      },
                      {
                        "test": [
                          0.1097943359
                        ],
                        "passed_time": 23.53363016,
                        "iteration": 702,
                        "remaining_time": 9.942372914,
                        "learn": [
                          0.08992425944
                        ]
                      },
                      {
                        "test": [
                          0.109805957
                        ],
                        "passed_time": 23.56444776,
                        "iteration": 703,
                        "remaining_time": 9.90777917,
                        "learn": [
                          0.0898818929
                        ]
                      },
                      {
                        "test": [
                          0.1097767334
                        ],
                        "passed_time": 23.59634568,
                        "iteration": 704,
                        "remaining_time": 9.873648192,
                        "learn": [
                          0.08978508301
                        ]
                      },
                      {
                        "test": [
                          0.1097389038
                        ],
                        "passed_time": 23.63144197,
                        "iteration": 705,
                        "remaining_time": 9.840855438,
                        "learn": [
                          0.08966536458
                        ]
                      },
                      {
                        "test": [
                          0.1097431885
                        ],
                        "passed_time": 23.6601221,
                        "iteration": 706,
                        "remaining_time": 9.805397138,
                        "learn": [
                          0.08963494466
                        ]
                      },
                      {
                        "test": [
                          0.1097440186
                        ],
                        "passed_time": 23.68586552,
                        "iteration": 707,
                        "remaining_time": 9.768746795,
                        "learn": [
                          0.08963417155
                        ]
                      },
                      {
                        "test": [
                          0.1097233765
                        ],
                        "passed_time": 23.71993984,
                        "iteration": 708,
                        "remaining_time": 9.735546536,
                        "learn": [
                          0.08961805013
                        ]
                      },
                      {
                        "test": [
                          0.1097265015
                        ],
                        "passed_time": 23.74843447,
                        "iteration": 709,
                        "remaining_time": 9.700064782,
                        "learn": [
                          0.08961199544
                        ]
                      },
                      {
                        "test": [
                          0.1096026489
                        ],
                        "passed_time": 23.79084272,
                        "iteration": 710,
                        "remaining_time": 9.67025815,
                        "learn": [
                          0.08947008464
                        ]
                      },
                      {
                        "test": [
                          0.1096018311
                        ],
                        "passed_time": 23.81761727,
                        "iteration": 711,
                        "remaining_time": 9.634092379,
                        "learn": [
                          0.08946700846
                        ]
                      },
                      {
                        "test": [
                          0.1095690308
                        ],
                        "passed_time": 23.84586453,
                        "iteration": 712,
                        "remaining_time": 9.598545752,
                        "learn": [
                          0.08942275391
                        ]
                      },
                      {
                        "test": [
                          0.1095692627
                        ],
                        "passed_time": 23.87213942,
                        "iteration": 713,
                        "remaining_time": 9.562229517,
                        "learn": [
                          0.08941944987
                        ]
                      },
                      {
                        "test": [
                          0.1094173584
                        ],
                        "passed_time": 23.90276171,
                        "iteration": 714,
                        "remaining_time": 9.527674249,
                        "learn": [
                          0.08925599772
                        ]
                      },
                      {
                        "test": [
                          0.1092471313
                        ],
                        "passed_time": 23.94689394,
                        "iteration": 715,
                        "remaining_time": 9.498488657,
                        "learn": [
                          0.08912556152
                        ]
                      },
                      {
                        "test": [
                          0.1092449219
                        ],
                        "passed_time": 23.97407678,
                        "iteration": 716,
                        "remaining_time": 9.46257145,
                        "learn": [
                          0.08911971029
                        ]
                      },
                      {
                        "test": [
                          0.1092417725
                        ],
                        "passed_time": 24.00172661,
                        "iteration": 717,
                        "remaining_time": 9.426861982,
                        "learn": [
                          0.08911469727
                        ]
                      },
                      {
                        "test": [
                          0.1092427368
                        ],
                        "passed_time": 24.04749596,
                        "iteration": 718,
                        "remaining_time": 9.39825642,
                        "learn": [
                          0.08908845215
                        ]
                      },
                      {
                        "test": [
                          0.1092443848
                        ],
                        "passed_time": 24.08429854,
                        "iteration": 719,
                        "remaining_time": 9.3661161,
                        "learn": [
                          0.08906975098
                        ]
                      },
                      {
                        "test": [
                          0.1092440674
                        ],
                        "passed_time": 24.10950846,
                        "iteration": 720,
                        "remaining_time": 9.32947692,
                        "learn": [
                          0.08906891276
                        ]
                      },
                      {
                        "test": [
                          0.1090675903
                        ],
                        "passed_time": 24.14510358,
                        "iteration": 721,
                        "remaining_time": 9.296868139,
                        "learn": [
                          0.08884674479
                        ]
                      },
                      {
                        "test": [
                          0.1090675537
                        ],
                        "passed_time": 24.17003487,
                        "iteration": 722,
                        "remaining_time": 9.260165505,
                        "learn": [
                          0.08884597168
                        ]
                      },
                      {
                        "test": [
                          0.1090382324
                        ],
                        "passed_time": 24.20004828,
                        "iteration": 723,
                        "remaining_time": 9.22543277,
                        "learn": [
                          0.0887894043
                        ]
                      },
                      {
                        "test": [
                          0.1089814697
                        ],
                        "passed_time": 24.22738077,
                        "iteration": 724,
                        "remaining_time": 9.189696153,
                        "learn": [
                          0.08872606608
                        ]
                      },
                      {
                        "test": [
                          0.1089487793
                        ],
                        "passed_time": 24.25673205,
                        "iteration": 725,
                        "remaining_time": 9.154744602,
                        "learn": [
                          0.08868452962
                        ]
                      },
                      {
                        "test": [
                          0.1089450928
                        ],
                        "passed_time": 24.28659445,
                        "iteration": 726,
                        "remaining_time": 9.120000391,
                        "learn": [
                          0.08867207845
                        ]
                      },
                      {
                        "test": [
                          0.1089460815
                        ],
                        "passed_time": 24.32327558,
                        "iteration": 727,
                        "remaining_time": 9.08781725,
                        "learn": [
                          0.08865358887
                        ]
                      },
                      {
                        "test": [
                          0.1089252197
                        ],
                        "passed_time": 24.36535636,
                        "iteration": 728,
                        "remaining_time": 9.057629046,
                        "learn": [
                          0.08862896322
                        ]
                      },
                      {
                        "test": [
                          0.1088422607
                        ],
                        "passed_time": 24.39626523,
                        "iteration": 729,
                        "remaining_time": 9.023276181,
                        "learn": [
                          0.08852854004
                        ]
                      },
                      {
                        "test": [
                          0.1088378906
                        ],
                        "passed_time": 24.42402816,
                        "iteration": 730,
                        "remaining_time": 8.987775067,
                        "learn": [
                          0.08849778646
                        ]
                      },
                      {
                        "test": [
                          0.108842749
                        ],
                        "passed_time": 24.45161585,
                        "iteration": 731,
                        "remaining_time": 8.952230941,
                        "learn": [
                          0.08849063314
                        ]
                      },
                      {
                        "test": [
                          0.1088351562
                        ],
                        "passed_time": 24.47871813,
                        "iteration": 732,
                        "remaining_time": 8.916531707,
                        "learn": [
                          0.08847781576
                        ]
                      },
                      {
                        "test": [
                          0.1087422852
                        ],
                        "passed_time": 24.51606364,
                        "iteration": 733,
                        "remaining_time": 8.884568022,
                        "learn": [
                          0.08837958171
                        ]
                      },
                      {
                        "test": [
                          0.1087325562
                        ],
                        "passed_time": 24.54682093,
                        "iteration": 734,
                        "remaining_time": 8.85021435,
                        "learn": [
                          0.08834719238
                        ]
                      },
                      {
                        "test": [
                          0.1087276489
                        ],
                        "passed_time": 24.57463553,
                        "iteration": 735,
                        "remaining_time": 8.814814919,
                        "learn": [
                          0.08834245605
                        ]
                      },
                      {
                        "test": [
                          0.1086868286
                        ],
                        "passed_time": 24.60605446,
                        "iteration": 736,
                        "remaining_time": 8.780722283,
                        "learn": [
                          0.08827759603
                        ]
                      },
                      {
                        "test": [
                          0.1086927734
                        ],
                        "passed_time": 24.6329853,
                        "iteration": 737,
                        "remaining_time": 8.745043562,
                        "learn": [
                          0.08824073893
                        ]
                      },
                      {
                        "test": [
                          0.1086776978
                        ],
                        "passed_time": 24.66229882,
                        "iteration": 738,
                        "remaining_time": 8.710230031,
                        "learn": [
                          0.08820849609
                        ]
                      },
                      {
                        "test": [
                          0.1086485596
                        ],
                        "passed_time": 24.69367541,
                        "iteration": 739,
                        "remaining_time": 8.676156223,
                        "learn": [
                          0.0881633138
                        ]
                      },
                      {
                        "test": [
                          0.1086005737
                        ],
                        "passed_time": 24.72155939,
                        "iteration": 740,
                        "remaining_time": 8.640868937,
                        "learn": [
                          0.08813526204
                        ]
                      },
                      {
                        "test": [
                          0.1085821289
                        ],
                        "passed_time": 24.74990435,
                        "iteration": 741,
                        "remaining_time": 8.605761891,
                        "learn": [
                          0.08812115885
                        ]
                      },
                      {
                        "test": [
                          0.1085597778
                        ],
                        "passed_time": 24.79018276,
                        "iteration": 742,
                        "remaining_time": 8.574800766,
                        "learn": [
                          0.08810015462
                        ]
                      },
                      {
                        "test": [
                          0.1084759399
                        ],
                        "passed_time": 24.82205277,
                        "iteration": 743,
                        "remaining_time": 8.540921382,
                        "learn": [
                          0.08798535156
                        ]
                      },
                      {
                        "test": [
                          0.1084593872
                        ],
                        "passed_time": 24.85451462,
                        "iteration": 744,
                        "remaining_time": 8.507249971,
                        "learn": [
                          0.08793942871
                        ]
                      },
                      {
                        "test": [
                          0.1084045654
                        ],
                        "passed_time": 24.88389341,
                        "iteration": 745,
                        "remaining_time": 8.472532071,
                        "learn": [
                          0.08788200684
                        ]
                      },
                      {
                        "test": [
                          0.1083964355
                        ],
                        "passed_time": 24.91511295,
                        "iteration": 746,
                        "remaining_time": 8.43845191,
                        "learn": [
                          0.08785724284
                        ]
                      },
                      {
                        "test": [
                          0.1083476318
                        ],
                        "passed_time": 24.94511332,
                        "iteration": 747,
                        "remaining_time": 8.403968657,
                        "learn": [
                          0.08774483236
                        ]
                      },
                      {
                        "test": [
                          0.1083152222
                        ],
                        "passed_time": 24.97241249,
                        "iteration": 748,
                        "remaining_time": 8.368592171,
                        "learn": [
                          0.08772180176
                        ]
                      },
                      {
                        "test": [
                          0.1082439453
                        ],
                        "passed_time": 25.00224842,
                        "iteration": 749,
                        "remaining_time": 8.334082808,
                        "learn": [
                          0.08766638184
                        ]
                      },
                      {
                        "test": [
                          0.1082199219
                        ],
                        "passed_time": 25.04455269,
                        "iteration": 750,
                        "remaining_time": 8.303719865,
                        "learn": [
                          0.08765620117
                        ]
                      },
                      {
                        "test": [
                          0.1081640747
                        ],
                        "passed_time": 25.11435621,
                        "iteration": 751,
                        "remaining_time": 8.28239407,
                        "learn": [
                          0.08758667806
                        ]
                      },
                      {
                        "test": [
                          0.1081421265
                        ],
                        "passed_time": 25.14732493,
                        "iteration": 752,
                        "remaining_time": 8.248856917,
                        "learn": [
                          0.08753344727
                        ]
                      },
                      {
                        "test": [
                          0.1081227905
                        ],
                        "passed_time": 25.17989673,
                        "iteration": 753,
                        "remaining_time": 8.21519177,
                        "learn": [
                          0.08748209635
                        ]
                      },
                      {
                        "test": [
                          0.108086731
                        ],
                        "passed_time": 25.21713526,
                        "iteration": 754,
                        "remaining_time": 8.183043892,
                        "learn": [
                          0.08738947754
                        ]
                      },
                      {
                        "test": [
                          0.1080797852
                        ],
                        "passed_time": 25.24871926,
                        "iteration": 755,
                        "remaining_time": 8.149057538,
                        "learn": [
                          0.08734561361
                        ]
                      },
                      {
                        "test": [
                          0.1080541382
                        ],
                        "passed_time": 25.27932861,
                        "iteration": 756,
                        "remaining_time": 8.114764667,
                        "learn": [
                          0.08726861165
                        ]
                      },
                      {
                        "test": [
                          0.1080699097
                        ],
                        "passed_time": 25.30652262,
                        "iteration": 757,
                        "remaining_time": 8.079391126,
                        "learn": [
                          0.08725593262
                        ]
                      },
                      {
                        "test": [
                          0.1080689209
                        ],
                        "passed_time": 25.3351215,
                        "iteration": 758,
                        "remaining_time": 8.04448522,
                        "learn": [
                          0.08724116211
                        ]
                      },
                      {
                        "test": [
                          0.1080273438
                        ],
                        "passed_time": 25.36605003,
                        "iteration": 759,
                        "remaining_time": 8.01033159,
                        "learn": [
                          0.08718621419
                        ]
                      },
                      {
                        "test": [
                          0.1080074219
                        ],
                        "passed_time": 25.39541763,
                        "iteration": 760,
                        "remaining_time": 7.975696209,
                        "learn": [
                          0.08716178385
                        ]
                      },
                      {
                        "test": [
                          0.1079304199
                        ],
                        "passed_time": 25.42543961,
                        "iteration": 761,
                        "remaining_time": 7.941279038,
                        "learn": [
                          0.08708146159
                        ]
                      },
                      {
                        "test": [
                          0.1079200195
                        ],
                        "passed_time": 25.45695889,
                        "iteration": 762,
                        "remaining_time": 7.907338476,
                        "learn": [
                          0.08704256999
                        ]
                      },
                      {
                        "test": [
                          0.1078936523
                        ],
                        "passed_time": 25.48669821,
                        "iteration": 763,
                        "remaining_time": 7.872854421,
                        "learn": [
                          0.08701005859
                        ]
                      },
                      {
                        "test": [
                          0.1078442017
                        ],
                        "passed_time": 25.51887425,
                        "iteration": 764,
                        "remaining_time": 7.839131306,
                        "learn": [
                          0.0869313151
                        ]
                      },
                      {
                        "test": [
                          0.1078359497
                        ],
                        "passed_time": 25.55017612,
                        "iteration": 765,
                        "remaining_time": 7.805145184,
                        "learn": [
                          0.0869261556
                        ]
                      },
                      {
                        "test": [
                          0.1078404541
                        ],
                        "passed_time": 25.57915184,
                        "iteration": 766,
                        "remaining_time": 7.770459424,
                        "learn": [
                          0.08690303548
                        ]
                      },
                      {
                        "test": [
                          0.1078197632
                        ],
                        "passed_time": 25.60930767,
                        "iteration": 767,
                        "remaining_time": 7.736145026,
                        "learn": [
                          0.0868742513
                        ]
                      },
                      {
                        "test": [
                          0.1078256714
                        ],
                        "passed_time": 25.64010613,
                        "iteration": 768,
                        "remaining_time": 7.702034482,
                        "learn": [
                          0.0868608724
                        ]
                      },
                      {
                        "test": [
                          0.1077929443
                        ],
                        "passed_time": 25.67173842,
                        "iteration": 769,
                        "remaining_time": 7.668181607,
                        "learn": [
                          0.0867759847
                        ]
                      },
                      {
                        "test": [
                          0.1078036621
                        ],
                        "passed_time": 25.7009322,
                        "iteration": 770,
                        "remaining_time": 7.633610213,
                        "learn": [
                          0.08675315755
                        ]
                      },
                      {
                        "test": [
                          0.1075661621
                        ],
                        "passed_time": 25.7323787,
                        "iteration": 771,
                        "remaining_time": 7.599718061,
                        "learn": [
                          0.08653469238
                        ]
                      },
                      {
                        "test": [
                          0.1074859497
                        ],
                        "passed_time": 25.76185637,
                        "iteration": 772,
                        "remaining_time": 7.565254071,
                        "learn": [
                          0.08648741048
                        ]
                      },
                      {
                        "test": [
                          0.1074640991
                        ],
                        "passed_time": 25.80550054,
                        "iteration": 773,
                        "remaining_time": 7.534939433,
                        "learn": [
                          0.08643387044
                        ]
                      },
                      {
                        "test": [
                          0.107408252
                        ],
                        "passed_time": 25.83788999,
                        "iteration": 774,
                        "remaining_time": 7.501322899,
                        "learn": [
                          0.08636369629
                        ]
                      },
                      {
                        "test": [
                          0.1073718384
                        ],
                        "passed_time": 25.86800671,
                        "iteration": 775,
                        "remaining_time": 7.467053482,
                        "learn": [
                          0.08631638184
                        ]
                      },
                      {
                        "test": [
                          0.1073337036
                        ],
                        "passed_time": 25.90178476,
                        "iteration": 776,
                        "remaining_time": 7.433845562,
                        "learn": [
                          0.08629134115
                        ]
                      },
                      {
                        "test": [
                          0.1073281128
                        ],
                        "passed_time": 25.92715397,
                        "iteration": 777,
                        "remaining_time": 7.398236736,
                        "learn": [
                          0.0862892334
                        ]
                      },
                      {
                        "test": [
                          0.107322229
                        ],
                        "passed_time": 25.95539054,
                        "iteration": 778,
                        "remaining_time": 7.363467664,
                        "learn": [
                          0.08627848307
                        ]
                      },
                      {
                        "test": [
                          0.1073184692
                        ],
                        "passed_time": 25.98437906,
                        "iteration": 779,
                        "remaining_time": 7.328927426,
                        "learn": [
                          0.0862543457
                        ]
                      },
                      {
                        "test": [
                          0.1072987915
                        ],
                        "passed_time": 26.01355699,
                        "iteration": 780,
                        "remaining_time": 7.294454521,
                        "learn": [
                          0.08624090983
                        ]
                      },
                      {
                        "test": [
                          0.1072825562
                        ],
                        "passed_time": 26.04250163,
                        "iteration": 781,
                        "remaining_time": 7.259930121,
                        "learn": [
                          0.08621523438
                        ]
                      },
                      {
                        "test": [
                          0.1072540894
                        ],
                        "passed_time": 26.07219077,
                        "iteration": 782,
                        "remaining_time": 7.225626307,
                        "learn": [
                          0.08617237142
                        ]
                      },
                      {
                        "test": [
                          0.1072296753
                        ],
                        "passed_time": 26.10927074,
                        "iteration": 783,
                        "remaining_time": 7.193370509,
                        "learn": [
                          0.0861350179
                        ]
                      },
                      {
                        "test": [
                          0.1072194336
                        ],
                        "passed_time": 26.13699455,
                        "iteration": 784,
                        "remaining_time": 7.158539908,
                        "learn": [
                          0.08612085775
                        ]
                      },
                      {
                        "test": [
                          0.1071318726
                        ],
                        "passed_time": 26.18421948,
                        "iteration": 785,
                        "remaining_time": 7.129036856,
                        "learn": [
                          0.08600008952
                        ]
                      },
                      {
                        "test": [
                          0.1071071777
                        ],
                        "passed_time": 26.2350871,
                        "iteration": 786,
                        "remaining_time": 7.100474654,
                        "learn": [
                          0.08597530111
                        ]
                      },
                      {
                        "test": [
                          0.1070096069
                        ],
                        "passed_time": 26.26391728,
                        "iteration": 787,
                        "remaining_time": 7.065926985,
                        "learn": [
                          0.08590059408
                        ]
                      },
                      {
                        "test": [
                          0.1068203857
                        ],
                        "passed_time": 26.29875792,
                        "iteration": 788,
                        "remaining_time": 7.033001167,
                        "learn": [
                          0.08570266113
                        ]
                      },
                      {
                        "test": [
                          0.1067729492
                        ],
                        "passed_time": 26.32859648,
                        "iteration": 789,
                        "remaining_time": 6.998740835,
                        "learn": [
                          0.08563725586
                        ]
                      },
                      {
                        "test": [
                          0.1067710327
                        ],
                        "passed_time": 26.35354398,
                        "iteration": 790,
                        "remaining_time": 6.963199357,
                        "learn": [
                          0.08563325195
                        ]
                      },
                      {
                        "test": [
                          0.1067790771
                        ],
                        "passed_time": 26.38071707,
                        "iteration": 791,
                        "remaining_time": 6.92826913,
                        "learn": [
                          0.08562789714
                        ]
                      },
                      {
                        "test": [
                          0.1067200928
                        ],
                        "passed_time": 26.41362366,
                        "iteration": 792,
                        "remaining_time": 6.894855105,
                        "learn": [
                          0.08554873047
                        ]
                      },
                      {
                        "test": [
                          0.1067207764
                        ],
                        "passed_time": 26.44697774,
                        "iteration": 793,
                        "remaining_time": 6.861558456,
                        "learn": [
                          0.08547386068
                        ]
                      },
                      {
                        "test": [
                          0.1066938354
                        ],
                        "passed_time": 26.47842481,
                        "iteration": 794,
                        "remaining_time": 6.827769921,
                        "learn": [
                          0.08542196452
                        ]
                      },
                      {
                        "test": [
                          0.1066592407
                        ],
                        "passed_time": 26.50835138,
                        "iteration": 795,
                        "remaining_time": 6.793597591,
                        "learn": [
                          0.08537986654
                        ]
                      },
                      {
                        "test": [
                          0.1065537964
                        ],
                        "passed_time": 26.53901869,
                        "iteration": 796,
                        "remaining_time": 6.759624584,
                        "learn": [
                          0.08528959147
                        ]
                      },
                      {
                        "test": [
                          0.1065046509
                        ],
                        "passed_time": 26.5711224,
                        "iteration": 797,
                        "remaining_time": 6.726023465,
                        "learn": [
                          0.08521030273
                        ]
                      },
                      {
                        "test": [
                          0.1064984619
                        ],
                        "passed_time": 26.60190589,
                        "iteration": 798,
                        "remaining_time": 6.692093972,
                        "learn": [
                          0.08517679036
                        ]
                      },
                      {
                        "test": [
                          0.1064456055
                        ],
                        "passed_time": 26.63566005,
                        "iteration": 799,
                        "remaining_time": 6.658915012,
                        "learn": [
                          0.08510467936
                        ]
                      },
                      {
                        "test": [
                          0.1064222046
                        ],
                        "passed_time": 26.66706881,
                        "iteration": 800,
                        "remaining_time": 6.625151927,
                        "learn": [
                          0.08509025879
                        ]
                      },
                      {
                        "test": [
                          0.1064089722
                        ],
                        "passed_time": 26.69574134,
                        "iteration": 801,
                        "remaining_time": 6.590719185,
                        "learn": [
                          0.08507755534
                        ]
                      },
                      {
                        "test": [
                          0.1063643677
                        ],
                        "passed_time": 26.72624862,
                        "iteration": 802,
                        "remaining_time": 6.556750907,
                        "learn": [
                          0.08503313802
                        ]
                      },
                      {
                        "test": [
                          0.1062057129
                        ],
                        "passed_time": 26.76111196,
                        "iteration": 803,
                        "remaining_time": 6.523853163,
                        "learn": [
                          0.08485915527
                        ]
                      },
                      {
                        "test": [
                          0.1061042358
                        ],
                        "passed_time": 26.80571863,
                        "iteration": 804,
                        "remaining_time": 6.493310724,
                        "learn": [
                          0.08469743652
                        ]
                      },
                      {
                        "test": [
                          0.1061003662
                        ],
                        "passed_time": 26.83354793,
                        "iteration": 805,
                        "remaining_time": 6.45869516,
                        "learn": [
                          0.08467121582
                        ]
                      },
                      {
                        "test": [
                          0.1060538818
                        ],
                        "passed_time": 26.86156261,
                        "iteration": 806,
                        "remaining_time": 6.424140749,
                        "learn": [
                          0.08461636556
                        ]
                      },
                      {
                        "test": [
                          0.1060531128
                        ],
                        "passed_time": 26.8934101,
                        "iteration": 807,
                        "remaining_time": 6.390513292,
                        "learn": [
                          0.08458536784
                        ]
                      },
                      {
                        "test": [
                          0.1060547363
                        ],
                        "passed_time": 26.92028041,
                        "iteration": 808,
                        "remaining_time": 6.355715152,
                        "learn": [
                          0.08457802734
                        ]
                      },
                      {
                        "test": [
                          0.1060505859
                        ],
                        "passed_time": 26.94735492,
                        "iteration": 809,
                        "remaining_time": 6.320984488,
                        "learn": [
                          0.08456459147
                        ]
                      },
                      {
                        "test": [
                          0.1060474487
                        ],
                        "passed_time": 26.97532342,
                        "iteration": 810,
                        "remaining_time": 6.286481043,
                        "learn": [
                          0.08455803223
                        ]
                      },
                      {
                        "test": [
                          0.1060228149
                        ],
                        "passed_time": 27.00688324,
                        "iteration": 811,
                        "remaining_time": 6.252825184,
                        "learn": [
                          0.08451575521
                        ]
                      },
                      {
                        "test": [
                          0.1059253052
                        ],
                        "passed_time": 27.04074236,
                        "iteration": 812,
                        "remaining_time": 6.219703348,
                        "learn": [
                          0.0844262207
                        ]
                      },
                      {
                        "test": [
                          0.1058161621
                        ],
                        "passed_time": 27.07509512,
                        "iteration": 813,
                        "remaining_time": 6.186692496,
                        "learn": [
                          0.08429392904
                        ]
                      },
                      {
                        "test": [
                          0.1058153076
                        ],
                        "passed_time": 27.10034081,
                        "iteration": 814,
                        "remaining_time": 6.151611103,
                        "learn": [
                          0.08429216309
                        ]
                      },
                      {
                        "test": [
                          0.1056772705
                        ],
                        "passed_time": 27.13462794,
                        "iteration": 815,
                        "remaining_time": 6.118592575,
                        "learn": [
                          0.08413170573
                        ]
                      },
                      {
                        "test": [
                          0.1056595947
                        ],
                        "passed_time": 27.16525752,
                        "iteration": 816,
                        "remaining_time": 6.084751683,
                        "learn": [
                          0.08409641113
                        ]
                      },
                      {
                        "test": [
                          0.1056332031
                        ],
                        "passed_time": 27.20193035,
                        "iteration": 817,
                        "remaining_time": 6.052263232,
                        "learn": [
                          0.08404486491
                        ]
                      },
                      {
                        "test": [
                          0.1055959961
                        ],
                        "passed_time": 27.23177802,
                        "iteration": 818,
                        "remaining_time": 6.018256191,
                        "learn": [
                          0.08401315918
                        ]
                      },
                      {
                        "test": [
                          0.1055790405
                        ],
                        "passed_time": 27.29803038,
                        "iteration": 819,
                        "remaining_time": 5.992250571,
                        "learn": [
                          0.08400494792
                        ]
                      },
                      {
                        "test": [
                          0.1055632935
                        ],
                        "passed_time": 27.32634209,
                        "iteration": 820,
                        "remaining_time": 5.957874829,
                        "learn": [
                          0.08397759603
                        ]
                      },
                      {
                        "test": [
                          0.1055681885
                        ],
                        "passed_time": 27.35539423,
                        "iteration": 821,
                        "remaining_time": 5.923674176,
                        "learn": [
                          0.0839617513
                        ]
                      },
                      {
                        "test": [
                          0.1055593994
                        ],
                        "passed_time": 27.38270081,
                        "iteration": 822,
                        "remaining_time": 5.889110624,
                        "learn": [
                          0.08395310059
                        ]
                      },
                      {
                        "test": [
                          0.1055561157
                        ],
                        "passed_time": 27.41073926,
                        "iteration": 823,
                        "remaining_time": 5.854721007,
                        "learn": [
                          0.08394983724
                        ]
                      },
                      {
                        "test": [
                          0.1055442383
                        ],
                        "passed_time": 27.4382454,
                        "iteration": 824,
                        "remaining_time": 5.820233873,
                        "learn": [
                          0.0839289388
                        ]
                      },
                      {
                        "test": [
                          0.1055509888
                        ],
                        "passed_time": 27.46801944,
                        "iteration": 825,
                        "remaining_time": 5.786241384,
                        "learn": [
                          0.08387087402
                        ]
                      },
                      {
                        "test": [
                          0.1054978394
                        ],
                        "passed_time": 27.49994595,
                        "iteration": 826,
                        "remaining_time": 5.752709371,
                        "learn": [
                          0.08380697428
                        ]
                      },
                      {
                        "test": [
                          0.1054975952
                        ],
                        "passed_time": 27.53079883,
                        "iteration": 827,
                        "remaining_time": 5.718958211,
                        "learn": [
                          0.08375083822
                        ]
                      },
                      {
                        "test": [
                          0.1055051514
                        ],
                        "passed_time": 27.56182451,
                        "iteration": 828,
                        "remaining_time": 5.685249687,
                        "learn": [
                          0.08371148275
                        ]
                      },
                      {
                        "test": [
                          0.1055090942
                        ],
                        "passed_time": 27.59214287,
                        "iteration": 829,
                        "remaining_time": 5.651402756,
                        "learn": [
                          0.08370078125
                        ]
                      },
                      {
                        "test": [
                          0.1054891968
                        ],
                        "passed_time": 27.62328815,
                        "iteration": 830,
                        "remaining_time": 5.617732488,
                        "learn": [
                          0.08367414551
                        ]
                      },
                      {
                        "test": [
                          0.1054683716
                        ],
                        "passed_time": 27.65007697,
                        "iteration": 831,
                        "remaining_time": 5.58318862,
                        "learn": [
                          0.08365506999
                        ]
                      },
                      {
                        "test": [
                          0.1054111084
                        ],
                        "passed_time": 27.67903959,
                        "iteration": 832,
                        "remaining_time": 5.549099174,
                        "learn": [
                          0.08359938151
                        ]
                      },
                      {
                        "test": [
                          0.105383728
                        ],
                        "passed_time": 27.70678325,
                        "iteration": 833,
                        "remaining_time": 5.514779401,
                        "learn": [
                          0.08358123372
                        ]
                      },
                      {
                        "test": [
                          0.1053027832
                        ],
                        "passed_time": 27.7377919,
                        "iteration": 834,
                        "remaining_time": 5.481120555,
                        "learn": [
                          0.0834694987
                        ]
                      },
                      {
                        "test": [
                          0.1053025024
                        ],
                        "passed_time": 27.76250353,
                        "iteration": 835,
                        "remaining_time": 5.446232751,
                        "learn": [
                          0.08346882324
                        ]
                      },
                      {
                        "test": [
                          0.1052386108
                        ],
                        "passed_time": 27.8010226,
                        "iteration": 836,
                        "remaining_time": 5.414058164,
                        "learn": [
                          0.08336987305
                        ]
                      },
                      {
                        "test": [
                          0.105277002
                        ],
                        "passed_time": 27.8321001,
                        "iteration": 837,
                        "remaining_time": 5.380429852,
                        "learn": [
                          0.08334613444
                        ]
                      },
                      {
                        "test": [
                          0.1052135376
                        ],
                        "passed_time": 27.85941881,
                        "iteration": 838,
                        "remaining_time": 5.346086328,
                        "learn": [
                          0.08327556152
                        ]
                      },
                      {
                        "test": [
                          0.1051771606
                        ],
                        "passed_time": 27.88836466,
                        "iteration": 839,
                        "remaining_time": 5.312069459,
                        "learn": [
                          0.08324424642
                        ]
                      },
                      {
                        "test": [
                          0.1051762817
                        ],
                        "passed_time": 27.91385561,
                        "iteration": 840,
                        "remaining_time": 5.277411465,
                        "learn": [
                          0.08324356283
                        ]
                      },
                      {
                        "test": [
                          0.105181543
                        ],
                        "passed_time": 27.94562625,
                        "iteration": 841,
                        "remaining_time": 5.24395362,
                        "learn": [
                          0.0831957194
                        ]
                      },
                      {
                        "test": [
                          0.105175293
                        ],
                        "passed_time": 27.97236128,
                        "iteration": 842,
                        "remaining_time": 5.209561947,
                        "learn": [
                          0.08318520508
                        ]
                      },
                      {
                        "test": [
                          0.1051499146
                        ],
                        "passed_time": 28.00462859,
                        "iteration": 843,
                        "remaining_time": 5.176210972,
                        "learn": [
                          0.08309899089
                        ]
                      },
                      {
                        "test": [
                          0.1050766602
                        ],
                        "passed_time": 28.03971032,
                        "iteration": 844,
                        "remaining_time": 5.143378816,
                        "learn": [
                          0.08301400553
                        ]
                      },
                      {
                        "test": [
                          0.105050415
                        ],
                        "passed_time": 28.07104241,
                        "iteration": 845,
                        "remaining_time": 5.109858784,
                        "learn": [
                          0.08295308431
                        ]
                      },
                      {
                        "test": [
                          0.1050549805
                        ],
                        "passed_time": 28.10059766,
                        "iteration": 846,
                        "remaining_time": 5.076022954,
                        "learn": [
                          0.08293216146
                        ]
                      },
                      {
                        "test": [
                          0.1050094727
                        ],
                        "passed_time": 28.13758872,
                        "iteration": 847,
                        "remaining_time": 5.043530053,
                        "learn": [
                          0.08284991048
                        ]
                      },
                      {
                        "test": [
                          0.1049616211
                        ],
                        "passed_time": 28.1738854,
                        "iteration": 848,
                        "remaining_time": 5.010903057,
                        "learn": [
                          0.08272901204
                        ]
                      },
                      {
                        "test": [
                          0.1049660889
                        ],
                        "passed_time": 28.20349257,
                        "iteration": 849,
                        "remaining_time": 4.977086924,
                        "learn": [
                          0.08271245117
                        ]
                      },
                      {
                        "test": [
                          0.1049672241
                        ],
                        "passed_time": 28.23206695,
                        "iteration": 850,
                        "remaining_time": 4.943099854,
                        "learn": [
                          0.0827057373
                        ]
                      },
                      {
                        "test": [
                          0.104853064
                        ],
                        "passed_time": 28.27632211,
                        "iteration": 851,
                        "remaining_time": 4.911849381,
                        "learn": [
                          0.0825780599
                        ]
                      },
                      {
                        "test": [
                          0.1048498657
                        ],
                        "passed_time": 28.30521412,
                        "iteration": 852,
                        "remaining_time": 4.877920839,
                        "learn": [
                          0.08256954753
                        ]
                      },
                      {
                        "test": [
                          0.1048520874
                        ],
                        "passed_time": 28.33379093,
                        "iteration": 853,
                        "remaining_time": 4.843950206,
                        "learn": [
                          0.08255877279
                        ]
                      },
                      {
                        "test": [
                          0.1048466797
                        ],
                        "passed_time": 28.37176721,
                        "iteration": 854,
                        "remaining_time": 4.811586252,
                        "learn": [
                          0.0825519043
                        ]
                      },
                      {
                        "test": [
                          0.1048196655
                        ],
                        "passed_time": 28.41671106,
                        "iteration": 855,
                        "remaining_time": 4.780381301,
                        "learn": [
                          0.08250000814
                        ]
                      },
                      {
                        "test": [
                          0.1048191162
                        ],
                        "passed_time": 28.44724731,
                        "iteration": 856,
                        "remaining_time": 4.746740216,
                        "learn": [
                          0.082474764
                        ]
                      },
                      {
                        "test": [
                          0.1047587646
                        ],
                        "passed_time": 28.48462734,
                        "iteration": 857,
                        "remaining_time": 4.714239023,
                        "learn": [
                          0.08240730794
                        ]
                      },
                      {
                        "test": [
                          0.1047264282
                        ],
                        "passed_time": 28.51917491,
                        "iteration": 858,
                        "remaining_time": 4.681261539,
                        "learn": [
                          0.08231223145
                        ]
                      },
                      {
                        "test": [
                          0.10470448
                        ],
                        "passed_time": 28.5512312,
                        "iteration": 859,
                        "remaining_time": 4.647874847,
                        "learn": [
                          0.08223256022
                        ]
                      },
                      {
                        "test": [
                          0.10462323
                        ],
                        "passed_time": 28.58601443,
                        "iteration": 860,
                        "remaining_time": 4.614931482,
                        "learn": [
                          0.08211865234
                        ]
                      },
                      {
                        "test": [
                          0.1046107666
                        ],
                        "passed_time": 28.61515651,
                        "iteration": 861,
                        "remaining_time": 4.581080741,
                        "learn": [
                          0.08207329102
                        ]
                      },
                      {
                        "test": [
                          0.104588147
                        ],
                        "passed_time": 28.64459156,
                        "iteration": 862,
                        "remaining_time": 4.54728742,
                        "learn": [
                          0.08204186198
                        ]
                      },
                      {
                        "test": [
                          0.1044868408
                        ],
                        "passed_time": 28.67677166,
                        "iteration": 863,
                        "remaining_time": 4.51393628,
                        "learn": [
                          0.08198757324
                        ]
                      },
                      {
                        "test": [
                          0.1044437256
                        ],
                        "passed_time": 28.70606574,
                        "iteration": 864,
                        "remaining_time": 4.480137428,
                        "learn": [
                          0.08194799805
                        ]
                      },
                      {
                        "test": [
                          0.1044147095
                        ],
                        "passed_time": 28.73450079,
                        "iteration": 865,
                        "remaining_time": 4.446216058,
                        "learn": [
                          0.0819329834
                        ]
                      },
                      {
                        "test": [
                          0.1044230957
                        ],
                        "passed_time": 28.76302602,
                        "iteration": 866,
                        "remaining_time": 4.412321177,
                        "learn": [
                          0.08192434896
                        ]
                      },
                      {
                        "test": [
                          0.104404895
                        ],
                        "passed_time": 28.80174272,
                        "iteration": 867,
                        "remaining_time": 4.379988525,
                        "learn": [
                          0.08187254232
                        ]
                      },
                      {
                        "test": [
                          0.1043913818
                        ],
                        "passed_time": 28.83133171,
                        "iteration": 868,
                        "remaining_time": 4.346265195,
                        "learn": [
                          0.08184593099
                        ]
                      },
                      {
                        "test": [
                          0.1043966187
                        ],
                        "passed_time": 28.85975993,
                        "iteration": 869,
                        "remaining_time": 4.312377921,
                        "learn": [
                          0.08184012044
                        ]
                      },
                      {
                        "test": [
                          0.1043967651
                        ],
                        "passed_time": 28.89310981,
                        "iteration": 870,
                        "remaining_time": 4.279232108,
                        "learn": [
                          0.08182381185
                        ]
                      },
                      {
                        "test": [
                          0.1043758179
                        ],
                        "passed_time": 28.91970327,
                        "iteration": 871,
                        "remaining_time": 4.245094057,
                        "learn": [
                          0.08180976563
                        ]
                      },
                      {
                        "test": [
                          0.1043078613
                        ],
                        "passed_time": 28.95214849,
                        "iteration": 872,
                        "remaining_time": 4.21182458,
                        "learn": [
                          0.08166552734
                        ]
                      },
                      {
                        "test": [
                          0.1043098389
                        ],
                        "passed_time": 28.98218085,
                        "iteration": 873,
                        "remaining_time": 4.178209138,
                        "learn": [
                          0.0816568929
                        ]
                      },
                      {
                        "test": [
                          0.1042715088
                        ],
                        "passed_time": 29.01546042,
                        "iteration": 874,
                        "remaining_time": 4.145065774,
                        "learn": [
                          0.08161529948
                        ]
                      },
                      {
                        "test": [
                          0.104259436
                        ],
                        "passed_time": 29.04385694,
                        "iteration": 875,
                        "remaining_time": 4.111230891,
                        "learn": [
                          0.08158676758
                        ]
                      },
                      {
                        "test": [
                          0.104235144
                        ],
                        "passed_time": 29.07531934,
                        "iteration": 876,
                        "remaining_time": 4.077838403,
                        "learn": [
                          0.08155883789
                        ]
                      },
                      {
                        "test": [
                          0.1042390137
                        ],
                        "passed_time": 29.10609805,
                        "iteration": 877,
                        "remaining_time": 4.04435531,
                        "learn": [
                          0.08154239909
                        ]
                      },
                      {
                        "test": [
                          0.1042394775
                        ],
                        "passed_time": 29.1361881,
                        "iteration": 878,
                        "remaining_time": 4.010783572,
                        "learn": [
                          0.08150852051
                        ]
                      },
                      {
                        "test": [
                          0.1040588623
                        ],
                        "passed_time": 29.17165868,
                        "iteration": 879,
                        "remaining_time": 3.977953457,
                        "learn": [
                          0.08125151367
                        ]
                      },
                      {
                        "test": [
                          0.1040482544
                        ],
                        "passed_time": 29.19977179,
                        "iteration": 880,
                        "remaining_time": 3.944123545,
                        "learn": [
                          0.0812348877
                        ]
                      },
                      {
                        "test": [
                          0.1040187256
                        ],
                        "passed_time": 29.23095392,
                        "iteration": 881,
                        "remaining_time": 3.910717191,
                        "learn": [
                          0.08119138997
                        ]
                      },
                      {
                        "test": [
                          0.1040085815
                        ],
                        "passed_time": 29.27772237,
                        "iteration": 882,
                        "remaining_time": 3.879381107,
                        "learn": [
                          0.08117464193
                        ]
                      },
                      {
                        "test": [
                          0.1039793945
                        ],
                        "passed_time": 29.307031,
                        "iteration": 883,
                        "remaining_time": 3.845719001,
                        "learn": [
                          0.08113989258
                        ]
                      },
                      {
                        "test": [
                          0.1039657959
                        ],
                        "passed_time": 29.33786068,
                        "iteration": 884,
                        "remaining_time": 3.812264383,
                        "learn": [
                          0.0810957194
                        ]
                      },
                      {
                        "test": [
                          0.1039533447
                        ],
                        "passed_time": 29.38560111,
                        "iteration": 885,
                        "remaining_time": 3.780991565,
                        "learn": [
                          0.08107651367
                        ]
                      },
                      {
                        "test": [
                          0.1039376953
                        ],
                        "passed_time": 29.41360067,
                        "iteration": 886,
                        "remaining_time": 3.747166714,
                        "learn": [
                          0.08105377604
                        ]
                      },
                      {
                        "test": [
                          0.1039326904
                        ],
                        "passed_time": 29.44414207,
                        "iteration": 887,
                        "remaining_time": 3.713675577,
                        "learn": [
                          0.08100490723
                        ]
                      },
                      {
                        "test": [
                          0.1039421021
                        ],
                        "passed_time": 29.49880867,
                        "iteration": 888,
                        "remaining_time": 3.683203333,
                        "learn": [
                          0.08095946452
                        ]
                      },
                      {
                        "test": [
                          0.1039384155
                        ],
                        "passed_time": 29.54509964,
                        "iteration": 889,
                        "remaining_time": 3.651641529,
                        "learn": [
                          0.0809430013
                        ]
                      },
                      {
                        "test": [
                          0.1039382568
                        ],
                        "passed_time": 29.57016544,
                        "iteration": 890,
                        "remaining_time": 3.617450093,
                        "learn": [
                          0.08094253743
                        ]
                      },
                      {
                        "test": [
                          0.1039113525
                        ],
                        "passed_time": 29.59752921,
                        "iteration": 891,
                        "remaining_time": 3.583557348,
                        "learn": [
                          0.08092211914
                        ]
                      },
                      {
                        "test": [
                          0.1038745605
                        ],
                        "passed_time": 29.63647008,
                        "iteration": 892,
                        "remaining_time": 3.551066404,
                        "learn": [
                          0.08087001953
                        ]
                      },
                      {
                        "test": [
                          0.1038487671
                        ],
                        "passed_time": 29.66813932,
                        "iteration": 893,
                        "remaining_time": 3.517698846,
                        "learn": [
                          0.08082520345
                        ]
                      },
                      {
                        "test": [
                          0.1038484985
                        ],
                        "passed_time": 29.69449743,
                        "iteration": 894,
                        "remaining_time": 3.483711989,
                        "learn": [
                          0.08082390951
                        ]
                      },
                      {
                        "test": [
                          0.1038070923
                        ],
                        "passed_time": 29.72488929,
                        "iteration": 895,
                        "remaining_time": 3.450210364,
                        "learn": [
                          0.08078078613
                        ]
                      },
                      {
                        "test": [
                          0.103790332
                        ],
                        "passed_time": 29.75283762,
                        "iteration": 896,
                        "remaining_time": 3.416435089,
                        "learn": [
                          0.08075909017
                        ]
                      },
                      {
                        "test": [
                          0.1037542969
                        ],
                        "passed_time": 29.78162285,
                        "iteration": 897,
                        "remaining_time": 3.382767851,
                        "learn": [
                          0.0807222819
                        ]
                      },
                      {
                        "test": [
                          0.1037405273
                        ],
                        "passed_time": 29.82120567,
                        "iteration": 898,
                        "remaining_time": 3.350324553,
                        "learn": [
                          0.08070924479
                        ]
                      },
                      {
                        "test": [
                          0.1037395752
                        ],
                        "passed_time": 29.85254392,
                        "iteration": 899,
                        "remaining_time": 3.316949324,
                        "learn": [
                          0.08068500977
                        ]
                      },
                      {
                        "test": [
                          0.1036445068
                        ],
                        "passed_time": 29.88482659,
                        "iteration": 900,
                        "remaining_time": 3.283682389,
                        "learn": [
                          0.08056236979
                        ]
                      },
                      {
                        "test": [
                          0.1036203979
                        ],
                        "passed_time": 29.91184478,
                        "iteration": 901,
                        "remaining_time": 3.249845663,
                        "learn": [
                          0.08054352214
                        ]
                      },
                      {
                        "test": [
                          0.1032677856
                        ],
                        "passed_time": 29.94814036,
                        "iteration": 902,
                        "remaining_time": 3.217020614,
                        "learn": [
                          0.08015293783
                        ]
                      },
                      {
                        "test": [
                          0.1032446289
                        ],
                        "passed_time": 29.9769194,
                        "iteration": 903,
                        "remaining_time": 3.18338967,
                        "learn": [
                          0.08011734212
                        ]
                      },
                      {
                        "test": [
                          0.1032453857
                        ],
                        "passed_time": 30.00607723,
                        "iteration": 904,
                        "remaining_time": 3.149809212,
                        "learn": [
                          0.08011166992
                        ]
                      },
                      {
                        "test": [
                          0.103241272
                        ],
                        "passed_time": 30.03998444,
                        "iteration": 905,
                        "remaining_time": 3.116731277,
                        "learn": [
                          0.08004585775
                        ]
                      },
                      {
                        "test": [
                          0.1032355469
                        ],
                        "passed_time": 30.06676272,
                        "iteration": 906,
                        "remaining_time": 3.082920544,
                        "learn": [
                          0.08003787435
                        ]
                      },
                      {
                        "test": [
                          0.1032150391
                        ],
                        "passed_time": 30.0977435,
                        "iteration": 907,
                        "remaining_time": 3.049551103,
                        "learn": [
                          0.08000540365
                        ]
                      },
                      {
                        "test": [
                          0.1031880737
                        ],
                        "passed_time": 30.12861152,
                        "iteration": 908,
                        "remaining_time": 3.016175631,
                        "learn": [
                          0.07997736003
                        ]
                      },
                      {
                        "test": [
                          0.103144873
                        ],
                        "passed_time": 30.16090407,
                        "iteration": 909,
                        "remaining_time": 2.982946556,
                        "learn": [
                          0.07992591146
                        ]
                      },
                      {
                        "test": [
                          0.1031402954
                        ],
                        "passed_time": 30.18861721,
                        "iteration": 910,
                        "remaining_time": 2.949272153,
                        "learn": [
                          0.07991800944
                        ]
                      },
                      {
                        "test": [
                          0.1031363281
                        ],
                        "passed_time": 30.2158165,
                        "iteration": 911,
                        "remaining_time": 2.915561242,
                        "learn": [
                          0.07990623372
                        ]
                      },
                      {
                        "test": [
                          0.1031429932
                        ],
                        "passed_time": 30.24241705,
                        "iteration": 912,
                        "remaining_time": 2.88180754,
                        "learn": [
                          0.0798984375
                        ]
                      },
                      {
                        "test": [
                          0.1030426758
                        ],
                        "passed_time": 30.27449472,
                        "iteration": 913,
                        "remaining_time": 2.848584842,
                        "learn": [
                          0.07980970052
                        ]
                      },
                      {
                        "test": [
                          0.1030254028
                        ],
                        "passed_time": 30.30411246,
                        "iteration": 914,
                        "remaining_time": 2.81513613,
                        "learn": [
                          0.07977527669
                        ]
                      },
                      {
                        "test": [
                          0.1030150757
                        ],
                        "passed_time": 30.33900604,
                        "iteration": 915,
                        "remaining_time": 2.782179593,
                        "learn": [
                          0.07974105632
                        ]
                      },
                      {
                        "test": [
                          0.102923584
                        ],
                        "passed_time": 30.37141799,
                        "iteration": 916,
                        "remaining_time": 2.748994213,
                        "learn": [
                          0.07964440104
                        ]
                      },
                      {
                        "test": [
                          0.1027158325
                        ],
                        "passed_time": 30.40340599,
                        "iteration": 917,
                        "remaining_time": 2.715772648,
                        "learn": [
                          0.07945109049
                        ]
                      },
                      {
                        "test": [
                          0.102712561
                        ],
                        "passed_time": 30.43428395,
                        "iteration": 918,
                        "remaining_time": 2.68245593,
                        "learn": [
                          0.07941722005
                        ]
                      },
                      {
                        "test": [
                          0.1027088501
                        ],
                        "passed_time": 30.48106853,
                        "iteration": 919,
                        "remaining_time": 2.650527698,
                        "learn": [
                          0.07940999349
                        ]
                      },
                      {
                        "test": [
                          0.102709375
                        ],
                        "passed_time": 30.50755329,
                        "iteration": 920,
                        "remaining_time": 2.61682596,
                        "learn": [
                          0.0793993571
                        ]
                      },
                      {
                        "test": [
                          0.1026953613
                        ],
                        "passed_time": 30.53896954,
                        "iteration": 921,
                        "remaining_time": 2.583557076,
                        "learn": [
                          0.07932972819
                        ]
                      },
                      {
                        "test": [
                          0.1026210327
                        ],
                        "passed_time": 30.58862977,
                        "iteration": 922,
                        "remaining_time": 2.551814184,
                        "learn": [
                          0.07923126628
                        ]
                      },
                      {
                        "test": [
                          0.1025763672
                        ],
                        "passed_time": 30.62828145,
                        "iteration": 923,
                        "remaining_time": 2.519209297,
                        "learn": [
                          0.07917736816
                        ]
                      },
                      {
                        "test": [
                          0.1025497925
                        ],
                        "passed_time": 30.65572427,
                        "iteration": 924,
                        "remaining_time": 2.485599265,
                        "learn": [
                          0.07914662272
                        ]
                      },
                      {
                        "test": [
                          0.1025552124
                        ],
                        "passed_time": 30.68354509,
                        "iteration": 925,
                        "remaining_time": 2.452032761,
                        "learn": [
                          0.07914226888
                        ]
                      },
                      {
                        "test": [
                          0.1025607666
                        ],
                        "passed_time": 30.70904735,
                        "iteration": 926,
                        "remaining_time": 2.418296069,
                        "learn": [
                          0.07913439128
                        ]
                      },
                      {
                        "test": [
                          0.1025486572
                        ],
                        "passed_time": 30.73736002,
                        "iteration": 927,
                        "remaining_time": 2.384795174,
                        "learn": [
                          0.07911849772
                        ]
                      },
                      {
                        "test": [
                          0.1025191895
                        ],
                        "passed_time": 30.77014725,
                        "iteration": 928,
                        "remaining_time": 2.351647422,
                        "learn": [
                          0.0790844401
                        ]
                      },
                      {
                        "test": [
                          0.1025156738
                        ],
                        "passed_time": 30.81162583,
                        "iteration": 929,
                        "remaining_time": 2.319154633,
                        "learn": [
                          0.07905650228
                        ]
                      },
                      {
                        "test": [
                          0.1025022827
                        ],
                        "passed_time": 30.84389867,
                        "iteration": 930,
                        "remaining_time": 2.285960267,
                        "learn": [
                          0.07903479004
                        ]
                      },
                      {
                        "test": [
                          0.1025047974
                        ],
                        "passed_time": 30.87132499,
                        "iteration": 931,
                        "remaining_time": 2.252414269,
                        "learn": [
                          0.07902972819
                        ]
                      },
                      {
                        "test": [
                          0.1024517822
                        ],
                        "passed_time": 30.90132376,
                        "iteration": 932,
                        "remaining_time": 2.219066122,
                        "learn": [
                          0.07896726074
                        ]
                      },
                      {
                        "test": [
                          0.1024321289
                        ],
                        "passed_time": 30.93208073,
                        "iteration": 933,
                        "remaining_time": 2.185778724,
                        "learn": [
                          0.07893135579
                        ]
                      },
                      {
                        "test": [
                          0.1024338745
                        ],
                        "passed_time": 30.96148036,
                        "iteration": 934,
                        "remaining_time": 2.152402378,
                        "learn": [
                          0.07892782389
                        ]
                      },
                      {
                        "test": [
                          0.1023670898
                        ],
                        "passed_time": 30.99755864,
                        "iteration": 935,
                        "remaining_time": 2.119491189,
                        "learn": [
                          0.07881756185
                        ]
                      },
                      {
                        "test": [
                          0.102333313
                        ],
                        "passed_time": 31.02654527,
                        "iteration": 936,
                        "remaining_time": 2.086096427,
                        "learn": [
                          0.07878430176
                        ]
                      },
                      {
                        "test": [
                          0.1022953979
                        ],
                        "passed_time": 31.05734632,
                        "iteration": 937,
                        "remaining_time": 2.052830994,
                        "learn": [
                          0.07875433757
                        ]
                      },
                      {
                        "test": [
                          0.102287146
                        ],
                        "passed_time": 31.08698189,
                        "iteration": 938,
                        "remaining_time": 2.019495096,
                        "learn": [
                          0.07874632975
                        ]
                      },
                      {
                        "test": [
                          0.1022229187
                        ],
                        "passed_time": 31.12112494,
                        "iteration": 939,
                        "remaining_time": 1.986454783,
                        "learn": [
                          0.07867017415
                        ]
                      },
                      {
                        "test": [
                          0.1021968689
                        ],
                        "passed_time": 31.15511161,
                        "iteration": 940,
                        "remaining_time": 1.953402322,
                        "learn": [
                          0.07861905924
                        ]
                      },
                      {
                        "test": [
                          0.1021926575
                        ],
                        "passed_time": 31.18240774,
                        "iteration": 941,
                        "remaining_time": 1.919935933,
                        "learn": [
                          0.07861536458
                        ]
                      },
                      {
                        "test": [
                          0.1021530273
                        ],
                        "passed_time": 31.21609577,
                        "iteration": 942,
                        "remaining_time": 1.886868991,
                        "learn": [
                          0.07854185384
                        ]
                      },
                      {
                        "test": [
                          0.1021559082
                        ],
                        "passed_time": 31.24752473,
                        "iteration": 943,
                        "remaining_time": 1.853666721,
                        "learn": [
                          0.07849880371
                        ]
                      },
                      {
                        "test": [
                          0.1021357849
                        ],
                        "passed_time": 31.27461088,
                        "iteration": 944,
                        "remaining_time": 1.820215448,
                        "learn": [
                          0.07847986654
                        ]
                      },
                      {
                        "test": [
                          0.1021373352
                        ],
                        "passed_time": 31.30350889,
                        "iteration": 945,
                        "remaining_time": 1.786881057,
                        "learn": [
                          0.07844532064
                        ]
                      },
                      {
                        "test": [
                          0.1021001526
                        ],
                        "passed_time": 31.33212117,
                        "iteration": 946,
                        "remaining_time": 1.753540044,
                        "learn": [
                          0.07842623698
                        ]
                      },
                      {
                        "test": [
                          0.1020946045
                        ],
                        "passed_time": 31.36036853,
                        "iteration": 947,
                        "remaining_time": 1.720188991,
                        "learn": [
                          0.07841428223
                        ]
                      },
                      {
                        "test": [
                          0.1020291565
                        ],
                        "passed_time": 31.39152386,
                        "iteration": 948,
                        "remaining_time": 1.68700497,
                        "learn": [
                          0.07837017415
                        ]
                      },
                      {
                        "test": [
                          0.1020226196
                        ],
                        "passed_time": 31.41896078,
                        "iteration": 949,
                        "remaining_time": 1.653629515,
                        "learn": [
                          0.0783568278
                        ]
                      },
                      {
                        "test": [
                          0.1019468262
                        ],
                        "passed_time": 31.45025361,
                        "iteration": 950,
                        "remaining_time": 1.620465223,
                        "learn": [
                          0.07827449544
                        ]
                      },
                      {
                        "test": [
                          0.1019427673
                        ],
                        "passed_time": 31.48143785,
                        "iteration": 951,
                        "remaining_time": 1.587299387,
                        "learn": [
                          0.07826901042
                        ]
                      },
                      {
                        "test": [
                          0.1019503723
                        ],
                        "passed_time": 31.50955709,
                        "iteration": 952,
                        "remaining_time": 1.553986551,
                        "learn": [
                          0.07825413411
                        ]
                      },
                      {
                        "test": [
                          0.1018007996
                        ],
                        "passed_time": 31.54579583,
                        "iteration": 953,
                        "remaining_time": 1.521076109,
                        "learn": [
                          0.07811581217
                        ]
                      },
                      {
                        "test": [
                          0.1018046936
                        ],
                        "passed_time": 31.57530383,
                        "iteration": 954,
                        "remaining_time": 1.487841542,
                        "learn": [
                          0.07809370117
                        ]
                      },
                      {
                        "test": [
                          0.1017874939
                        ],
                        "passed_time": 31.60866985,
                        "iteration": 955,
                        "remaining_time": 1.454792336,
                        "learn": [
                          0.07806306966
                        ]
                      },
                      {
                        "test": [
                          0.1017301147
                        ],
                        "passed_time": 31.6365945,
                        "iteration": 956,
                        "remaining_time": 1.421497976,
                        "learn": [
                          0.07800315755
                        ]
                      },
                      {
                        "test": [
                          0.1017262329
                        ],
                        "passed_time": 31.69700199,
                        "iteration": 957,
                        "remaining_time": 1.389638918,
                        "learn": [
                          0.07799073079
                        ]
                      },
                      {
                        "test": [
                          0.1017039917
                        ],
                        "passed_time": 31.7407894,
                        "iteration": 958,
                        "remaining_time": 1.357009766,
                        "learn": [
                          0.07794089355
                        ]
                      },
                      {
                        "test": [
                          0.1016811523
                        ],
                        "passed_time": 31.77241593,
                        "iteration": 959,
                        "remaining_time": 1.323850664,
                        "learn": [
                          0.07790557454
                        ]
                      },
                      {
                        "test": [
                          0.1016092529
                        ],
                        "passed_time": 31.80348407,
                        "iteration": 960,
                        "remaining_time": 1.29067209,
                        "learn": [
                          0.07784628906
                        ]
                      },
                      {
                        "test": [
                          0.1015555054
                        ],
                        "passed_time": 31.83411901,
                        "iteration": 961,
                        "remaining_time": 1.257480792,
                        "learn": [
                          0.077768986
                        ]
                      },
                      {
                        "test": [
                          0.10156203
                        ],
                        "passed_time": 31.86403933,
                        "iteration": 962,
                        "remaining_time": 1.224267347,
                        "learn": [
                          0.07775802409
                        ]
                      },
                      {
                        "test": [
                          0.101560675
                        ],
                        "passed_time": 31.88970711,
                        "iteration": 963,
                        "remaining_time": 1.190901925,
                        "learn": [
                          0.07775411784
                        ]
                      },
                      {
                        "test": [
                          0.1015290588
                        ],
                        "passed_time": 31.92220999,
                        "iteration": 964,
                        "remaining_time": 1.157800362,
                        "learn": [
                          0.0777200765
                        ]
                      },
                      {
                        "test": [
                          0.101515918
                        ],
                        "passed_time": 31.95246669,
                        "iteration": 965,
                        "remaining_time": 1.124620981,
                        "learn": [
                          0.07770128581
                        ]
                      },
                      {
                        "test": [
                          0.1015093994
                        ],
                        "passed_time": 31.98448119,
                        "iteration": 966,
                        "remaining_time": 1.091507631,
                        "learn": [
                          0.07763119303
                        ]
                      },
                      {
                        "test": [
                          0.1014934326
                        ],
                        "passed_time": 32.01546675,
                        "iteration": 967,
                        "remaining_time": 1.058362537,
                        "learn": [
                          0.07758399251
                        ]
                      },
                      {
                        "test": [
                          0.1014977234
                        ],
                        "passed_time": 32.04610446,
                        "iteration": 968,
                        "remaining_time": 1.025210772,
                        "learn": [
                          0.07755406901
                        ]
                      },
                      {
                        "test": [
                          0.1014942078
                        ],
                        "passed_time": 32.07346102,
                        "iteration": 969,
                        "remaining_time": 0.991962712,
                        "learn": [
                          0.07754783529
                        ]
                      },
                      {
                        "test": [
                          0.1014052429
                        ],
                        "passed_time": 32.10399199,
                        "iteration": 970,
                        "remaining_time": 0.9588215941,
                        "learn": [
                          0.07745756836
                        ]
                      },
                      {
                        "test": [
                          0.1014071899
                        ],
                        "passed_time": 32.1328307,
                        "iteration": 971,
                        "remaining_time": 0.9256370983,
                        "learn": [
                          0.07743819987
                        ]
                      },
                      {
                        "test": [
                          0.1013809021
                        ],
                        "passed_time": 32.16040611,
                        "iteration": 972,
                        "remaining_time": 0.89242648,
                        "learn": [
                          0.07742319336
                        ]
                      },
                      {
                        "test": [
                          0.1013639038
                        ],
                        "passed_time": 32.19245431,
                        "iteration": 973,
                        "remaining_time": 0.8593468297,
                        "learn": [
                          0.07739467773
                        ]
                      },
                      {
                        "test": [
                          0.1013786621
                        ],
                        "passed_time": 32.22694018,
                        "iteration": 974,
                        "remaining_time": 0.8263317994,
                        "learn": [
                          0.07737489421
                        ]
                      },
                      {
                        "test": [
                          0.1013585449
                        ],
                        "passed_time": 32.26184534,
                        "iteration": 975,
                        "remaining_time": 0.7933240657,
                        "learn": [
                          0.07734141439
                        ]
                      },
                      {
                        "test": [
                          0.1013534119
                        ],
                        "passed_time": 32.28904083,
                        "iteration": 976,
                        "remaining_time": 0.760130951,
                        "learn": [
                          0.07733755697
                        ]
                      },
                      {
                        "test": [
                          0.1012885193
                        ],
                        "passed_time": 32.32305807,
                        "iteration": 977,
                        "remaining_time": 0.7271035559,
                        "learn": [
                          0.07725512695
                        ]
                      },
                      {
                        "test": [
                          0.1012758057
                        ],
                        "passed_time": 32.35186318,
                        "iteration": 978,
                        "remaining_time": 0.6939623359,
                        "learn": [
                          0.07723499349
                        ]
                      },
                      {
                        "test": [
                          0.1012685425
                        ],
                        "passed_time": 32.39166535,
                        "iteration": 979,
                        "remaining_time": 0.6610543948,
                        "learn": [
                          0.07720367025
                        ]
                      },
                      {
                        "test": [
                          0.1011975281
                        ],
                        "passed_time": 32.42406343,
                        "iteration": 980,
                        "remaining_time": 0.6279889961,
                        "learn": [
                          0.07711726888
                        ]
                      },
                      {
                        "test": [
                          0.1011823059
                        ],
                        "passed_time": 32.45558334,
                        "iteration": 981,
                        "remaining_time": 0.5949088596,
                        "learn": [
                          0.07709641113
                        ]
                      },
                      {
                        "test": [
                          0.1011355957
                        ],
                        "passed_time": 32.48564956,
                        "iteration": 982,
                        "remaining_time": 0.5618067574,
                        "learn": [
                          0.07706488444
                        ]
                      },
                      {
                        "test": [
                          0.1011369141
                        ],
                        "passed_time": 32.51893299,
                        "iteration": 983,
                        "remaining_time": 0.5287631381,
                        "learn": [
                          0.07702120768
                        ]
                      },
                      {
                        "test": [
                          0.1011414856
                        ],
                        "passed_time": 32.54681228,
                        "iteration": 984,
                        "remaining_time": 0.4956367353,
                        "learn": [
                          0.07701220703
                        ]
                      },
                      {
                        "test": [
                          0.101099176
                        ],
                        "passed_time": 32.57737034,
                        "iteration": 985,
                        "remaining_time": 0.4625590109,
                        "learn": [
                          0.07698641764
                        ]
                      },
                      {
                        "test": [
                          0.1010944336
                        ],
                        "passed_time": 32.60933472,
                        "iteration": 986,
                        "remaining_time": 0.4295049152,
                        "learn": [
                          0.07694659831
                        ]
                      },
                      {
                        "test": [
                          0.1011105347
                        ],
                        "passed_time": 32.64251106,
                        "iteration": 987,
                        "remaining_time": 0.3964677456,
                        "learn": [
                          0.07686022135
                        ]
                      },
                      {
                        "test": [
                          0.1010912842
                        ],
                        "passed_time": 32.69403388,
                        "iteration": 988,
                        "remaining_time": 0.3636343505,
                        "learn": [
                          0.07683575846
                        ]
                      },
                      {
                        "test": [
                          0.1010689697
                        ],
                        "passed_time": 32.72541702,
                        "iteration": 989,
                        "remaining_time": 0.3305597679,
                        "learn": [
                          0.07676503906
                        ]
                      },
                      {
                        "test": [
                          0.1010366516
                        ],
                        "passed_time": 32.76372353,
                        "iteration": 990,
                        "remaining_time": 0.2975514751,
                        "learn": [
                          0.07670946452
                        ]
                      },
                      {
                        "test": [
                          0.1010364868
                        ],
                        "passed_time": 32.79197558,
                        "iteration": 991,
                        "remaining_time": 0.264451416,
                        "learn": [
                          0.07670186361
                        ]
                      },
                      {
                        "test": [
                          0.1009996643
                        ],
                        "passed_time": 32.84064294,
                        "iteration": 992,
                        "remaining_time": 0.2315050358,
                        "learn": [
                          0.0766542806
                        ]
                      },
                      {
                        "test": [
                          0.1009890381
                        ],
                        "passed_time": 32.89090291,
                        "iteration": 993,
                        "remaining_time": 0.1985366373,
                        "learn": [
                          0.076606014
                        ]
                      },
                      {
                        "test": [
                          0.1009183777
                        ],
                        "passed_time": 32.9230764,
                        "iteration": 994,
                        "remaining_time": 0.165442595,
                        "learn": [
                          0.07648719889
                        ]
                      },
                      {
                        "test": [
                          0.1009200562
                        ],
                        "passed_time": 32.95105435,
                        "iteration": 995,
                        "remaining_time": 0.1323335516,
                        "learn": [
                          0.07648112793
                        ]
                      },
                      {
                        "test": [
                          0.1009282593
                        ],
                        "passed_time": 32.97876422,
                        "iteration": 996,
                        "remaining_time": 0.09923399465,
                        "learn": [
                          0.07647433268
                        ]
                      },
                      {
                        "test": [
                          0.1009299194
                        ],
                        "passed_time": 33.0088327,
                        "iteration": 997,
                        "remaining_time": 0.06614996532,
                        "learn": [
                          0.07646328939
                        ]
                      },
                      {
                        "test": [
                          0.1008831116
                        ],
                        "passed_time": 33.03735993,
                        "iteration": 998,
                        "remaining_time": 0.03307043036,
                        "learn": [
                          0.07641621094
                        ]
                      },
                      {
                        "test": [
                          0.1008780945
                        ],
                        "passed_time": 33.06913526,
                        "iteration": 999,
                        "remaining_time": 0,
                        "learn": [
                          0.07640305176
                        ]
                      }
                    ]
                  },
                  "total_iterations": 1000,
                  "passed_iterations": 999
                },
                "path": "catboost_info",
                "name": "catboost_info"
              }
            },
            "_view_module": "catboost-widget",
            "_model_module_version": "^1.0.0",
            "_view_count": null,
            "_view_module_version": "^1.0.0",
            "layout": "IPY_MODEL_c9b302684e2e4e06882e15be30849609",
            "_model_module": "catboost-widget"
          }
        },
        "c31dd6f6ef6941ef95d32ae0d812b926": {
          "model_module": "catboost-widget",
          "model_name": "CatboostWidgetModel",
          "state": {
            "_view_name": "CatboostWidgetView",
            "_dom_classes": [],
            "_model_name": "CatboostWidgetModel",
            "data": {
              "catboost_info": {
                "content": {
                  "data": {
                    "meta": {
                      "name": "experiment",
                      "parameters": "",
                      "test_metrics": [
                        {
                          "best_value": "Min",
                          "name": "MultiClass"
                        }
                      ],
                      "learn_sets": [
                        "learn"
                      ],
                      "launch_mode": "Train",
                      "learn_metrics": [
                        {
                          "best_value": "Min",
                          "name": "MultiClass"
                        }
                      ],
                      "iteration_count": 1000,
                      "test_sets": [
                        "test"
                      ]
                    },
                    "iterations": [
                      {
                        "test": [
                          1.982629705
                        ],
                        "passed_time": 3.504437031,
                        "iteration": 0,
                        "remaining_time": 3500.932594,
                        "learn": [
                          1.992771113
                        ]
                      },
                      {
                        "test": [
                          1.779212939
                        ],
                        "passed_time": 6.788288156,
                        "iteration": 1,
                        "remaining_time": 3387.35579,
                        "learn": [
                          1.786942456
                        ]
                      },
                      {
                        "test": [
                          1.608258092
                        ],
                        "passed_time": 10.05231338,
                        "iteration": 2,
                        "remaining_time": 3340.718813,
                        "learn": [
                          1.617630194
                        ]
                      },
                      {
                        "test": [
                          1.483082942
                        ],
                        "passed_time": 13.40139652,
                        "iteration": 3,
                        "remaining_time": 3336.947735,
                        "learn": [
                          1.496102802
                        ]
                      },
                      {
                        "test": [
                          1.367685614
                        ],
                        "passed_time": 16.66271582,
                        "iteration": 4,
                        "remaining_time": 3315.880448,
                        "learn": [
                          1.381195431
                        ]
                      },
                      {
                        "test": [
                          1.282632117
                        ],
                        "passed_time": 19.90356931,
                        "iteration": 5,
                        "remaining_time": 3297.357982,
                        "learn": [
                          1.297787969
                        ]
                      },
                      {
                        "test": [
                          1.202488266
                        ],
                        "passed_time": 23.25098776,
                        "iteration": 6,
                        "remaining_time": 3298.318692,
                        "learn": [
                          1.218409782
                        ]
                      },
                      {
                        "test": [
                          1.128197375
                        ],
                        "passed_time": 26.77782409,
                        "iteration": 7,
                        "remaining_time": 3320.450187,
                        "learn": [
                          1.143330893
                        ]
                      },
                      {
                        "test": [
                          1.076281911
                        ],
                        "passed_time": 30.24814907,
                        "iteration": 8,
                        "remaining_time": 3330.657303,
                        "learn": [
                          1.090849286
                        ]
                      },
                      {
                        "test": [
                          1.017532701
                        ],
                        "passed_time": 33.7409005,
                        "iteration": 9,
                        "remaining_time": 3340.34915,
                        "learn": [
                          1.033399811
                        ]
                      },
                      {
                        "test": [
                          0.9681889152
                        ],
                        "passed_time": 37.22887127,
                        "iteration": 10,
                        "remaining_time": 3347.213972,
                        "learn": [
                          0.9833813932
                        ]
                      },
                      {
                        "test": [
                          0.922515171
                        ],
                        "passed_time": 40.67662667,
                        "iteration": 11,
                        "remaining_time": 3349.042262,
                        "learn": [
                          0.9371998039
                        ]
                      },
                      {
                        "test": [
                          0.8856672673
                        ],
                        "passed_time": 44.12307233,
                        "iteration": 12,
                        "remaining_time": 3349.959415,
                        "learn": [
                          0.8992095446
                        ]
                      },
                      {
                        "test": [
                          0.8466105079
                        ],
                        "passed_time": 47.54326453,
                        "iteration": 13,
                        "remaining_time": 3348.404202,
                        "learn": [
                          0.8584053181
                        ]
                      },
                      {
                        "test": [
                          0.8091130505
                        ],
                        "passed_time": 50.82166473,
                        "iteration": 14,
                        "remaining_time": 3337.289317,
                        "learn": [
                          0.8215808924
                        ]
                      },
                      {
                        "test": [
                          0.7770606262
                        ],
                        "passed_time": 54.09163715,
                        "iteration": 15,
                        "remaining_time": 3326.635684,
                        "learn": [
                          0.7883841874
                        ]
                      },
                      {
                        "test": [
                          0.7521273975
                        ],
                        "passed_time": 57.38489245,
                        "iteration": 16,
                        "remaining_time": 3318.197016,
                        "learn": [
                          0.7631792736
                        ]
                      },
                      {
                        "test": [
                          0.7267325222
                        ],
                        "passed_time": 60.60038783,
                        "iteration": 17,
                        "remaining_time": 3306.087825,
                        "learn": [
                          0.7378102361
                        ]
                      },
                      {
                        "test": [
                          0.6975423763
                        ],
                        "passed_time": 63.9463967,
                        "iteration": 18,
                        "remaining_time": 3301.653429,
                        "learn": [
                          0.7095936105
                        ]
                      },
                      {
                        "test": [
                          0.6724940796
                        ],
                        "passed_time": 67.21992555,
                        "iteration": 19,
                        "remaining_time": 3293.776352,
                        "learn": [
                          0.6843002255
                        ]
                      },
                      {
                        "test": [
                          0.6485971169
                        ],
                        "passed_time": 70.51060923,
                        "iteration": 20,
                        "remaining_time": 3287.137449,
                        "learn": [
                          0.6606053837
                        ]
                      },
                      {
                        "test": [
                          0.6272840548
                        ],
                        "passed_time": 73.75627557,
                        "iteration": 21,
                        "remaining_time": 3278.801705,
                        "learn": [
                          0.6385913198
                        ]
                      },
                      {
                        "test": [
                          0.6082917131
                        ],
                        "passed_time": 77.06247773,
                        "iteration": 22,
                        "remaining_time": 3273.480032,
                        "learn": [
                          0.6193856114
                        ]
                      },
                      {
                        "test": [
                          0.5916215156
                        ],
                        "passed_time": 80.3370081,
                        "iteration": 23,
                        "remaining_time": 3267.038329,
                        "learn": [
                          0.6027156461
                        ]
                      },
                      {
                        "test": [
                          0.57456999
                        ],
                        "passed_time": 83.61117073,
                        "iteration": 24,
                        "remaining_time": 3260.835659,
                        "learn": [
                          0.5860418721
                        ]
                      },
                      {
                        "test": [
                          0.5593196398
                        ],
                        "passed_time": 86.94599166,
                        "iteration": 25,
                        "remaining_time": 3257.130611,
                        "learn": [
                          0.5706989045
                        ]
                      },
                      {
                        "test": [
                          0.5424268184
                        ],
                        "passed_time": 90.45914739,
                        "iteration": 26,
                        "remaining_time": 3259.879645,
                        "learn": [
                          0.554005951
                        ]
                      },
                      {
                        "test": [
                          0.5251180364
                        ],
                        "passed_time": 93.97705984,
                        "iteration": 27,
                        "remaining_time": 3262.346506,
                        "learn": [
                          0.5362016532
                        ]
                      },
                      {
                        "test": [
                          0.5118695519
                        ],
                        "passed_time": 97.45352602,
                        "iteration": 28,
                        "remaining_time": 3263.012888,
                        "learn": [
                          0.5227890998
                        ]
                      },
                      {
                        "test": [
                          0.5001220086
                        ],
                        "passed_time": 100.9410393,
                        "iteration": 29,
                        "remaining_time": 3263.760271,
                        "learn": [
                          0.5102903584
                        ]
                      },
                      {
                        "test": [
                          0.4887350626
                        ],
                        "passed_time": 104.4313973,
                        "iteration": 30,
                        "remaining_time": 3264.323353,
                        "learn": [
                          0.498196305
                        ]
                      },
                      {
                        "test": [
                          0.4765629049
                        ],
                        "passed_time": 107.9417918,
                        "iteration": 31,
                        "remaining_time": 3265.239201,
                        "learn": [
                          0.4858723797
                        ]
                      },
                      {
                        "test": [
                          0.4663182099
                        ],
                        "passed_time": 111.4198457,
                        "iteration": 32,
                        "remaining_time": 3264.939114,
                        "learn": [
                          0.4751363432
                        ]
                      },
                      {
                        "test": [
                          0.454498249
                        ],
                        "passed_time": 114.7600383,
                        "iteration": 33,
                        "remaining_time": 3260.535207,
                        "learn": [
                          0.4629950646
                        ]
                      },
                      {
                        "test": [
                          0.4455959357
                        ],
                        "passed_time": 118.0488486,
                        "iteration": 34,
                        "remaining_time": 3254.775398,
                        "learn": [
                          0.4540160393
                        ]
                      },
                      {
                        "test": [
                          0.4340063868
                        ],
                        "passed_time": 121.3568365,
                        "iteration": 35,
                        "remaining_time": 3249.666399,
                        "learn": [
                          0.4422476546
                        ]
                      },
                      {
                        "test": [
                          0.4243154014
                        ],
                        "passed_time": 124.6053074,
                        "iteration": 36,
                        "remaining_time": 3243.105704,
                        "learn": [
                          0.4321501625
                        ]
                      },
                      {
                        "test": [
                          0.4167520414
                        ],
                        "passed_time": 127.8973091,
                        "iteration": 37,
                        "remaining_time": 3237.82135,
                        "learn": [
                          0.4240913769
                        ]
                      },
                      {
                        "test": [
                          0.4060707529
                        ],
                        "passed_time": 131.1572254,
                        "iteration": 38,
                        "remaining_time": 3231.848554,
                        "learn": [
                          0.4133000966
                        ]
                      },
                      {
                        "test": [
                          0.3989631124
                        ],
                        "passed_time": 134.4397709,
                        "iteration": 39,
                        "remaining_time": 3226.554501,
                        "learn": [
                          0.4058662385
                        ]
                      },
                      {
                        "test": [
                          0.3912855865
                        ],
                        "passed_time": 137.6756974,
                        "iteration": 40,
                        "remaining_time": 3220.268142,
                        "learn": [
                          0.3980449337
                        ]
                      },
                      {
                        "test": [
                          0.3842830244
                        ],
                        "passed_time": 140.9442643,
                        "iteration": 41,
                        "remaining_time": 3214.871552,
                        "learn": [
                          0.3909258167
                        ]
                      },
                      {
                        "test": [
                          0.3781736938
                        ],
                        "passed_time": 144.1544241,
                        "iteration": 42,
                        "remaining_time": 3208.274044,
                        "learn": [
                          0.384723432
                        ]
                      },
                      {
                        "test": [
                          0.3705933081
                        ],
                        "passed_time": 147.4166785,
                        "iteration": 43,
                        "remaining_time": 3202.962379,
                        "learn": [
                          0.3772073614
                        ]
                      },
                      {
                        "test": [
                          0.3645720285
                        ],
                        "passed_time": 150.6452493,
                        "iteration": 44,
                        "remaining_time": 3197.026958,
                        "learn": [
                          0.3708615725
                        ]
                      },
                      {
                        "test": [
                          0.3578454682
                        ],
                        "passed_time": 153.8729971,
                        "iteration": 45,
                        "remaining_time": 3191.192158,
                        "learn": [
                          0.3640850498
                        ]
                      },
                      {
                        "test": [
                          0.350934779
                        ],
                        "passed_time": 157.3018755,
                        "iteration": 46,
                        "remaining_time": 3189.546539,
                        "learn": [
                          0.3572891262
                        ]
                      },
                      {
                        "test": [
                          0.3461807329
                        ],
                        "passed_time": 160.8033971,
                        "iteration": 47,
                        "remaining_time": 3189.267377,
                        "learn": [
                          0.3519271986
                        ]
                      },
                      {
                        "test": [
                          0.3410201123
                        ],
                        "passed_time": 164.249095,
                        "iteration": 48,
                        "remaining_time": 3187.773251,
                        "learn": [
                          0.3467112192
                        ]
                      },
                      {
                        "test": [
                          0.3362294226
                        ],
                        "passed_time": 167.7012953,
                        "iteration": 49,
                        "remaining_time": 3186.324611,
                        "learn": [
                          0.3418775495
                        ]
                      },
                      {
                        "test": [
                          0.3297257199
                        ],
                        "passed_time": 171.1789836,
                        "iteration": 50,
                        "remaining_time": 3185.271675,
                        "learn": [
                          0.3353873185
                        ]
                      },
                      {
                        "test": [
                          0.3260894266
                        ],
                        "passed_time": 174.6758945,
                        "iteration": 51,
                        "remaining_time": 3184.475922,
                        "learn": [
                          0.3315443365
                        ]
                      },
                      {
                        "test": [
                          0.3219154643
                        ],
                        "passed_time": 178.2459433,
                        "iteration": 52,
                        "remaining_time": 3184.885063,
                        "learn": [
                          0.3269236229
                        ]
                      },
                      {
                        "test": [
                          0.3165611429
                        ],
                        "passed_time": 181.6597623,
                        "iteration": 53,
                        "remaining_time": 3182.409909,
                        "learn": [
                          0.3213941542
                        ]
                      },
                      {
                        "test": [
                          0.311433399
                        ],
                        "passed_time": 184.9361062,
                        "iteration": 54,
                        "remaining_time": 3177.538552,
                        "learn": [
                          0.3161693071
                        ]
                      },
                      {
                        "test": [
                          0.3070279015
                        ],
                        "passed_time": 188.2400133,
                        "iteration": 55,
                        "remaining_time": 3173.188796,
                        "learn": [
                          0.3115929921
                        ]
                      },
                      {
                        "test": [
                          0.3016728303
                        ],
                        "passed_time": 191.5397607,
                        "iteration": 56,
                        "remaining_time": 3168.806918,
                        "learn": [
                          0.3060805116
                        ]
                      },
                      {
                        "test": [
                          0.2974088125
                        ],
                        "passed_time": 194.8570672,
                        "iteration": 57,
                        "remaining_time": 3164.747539,
                        "learn": [
                          0.3015520721
                        ]
                      },
                      {
                        "test": [
                          0.2936875625
                        ],
                        "passed_time": 198.1407054,
                        "iteration": 58,
                        "remaining_time": 3160.176335,
                        "learn": [
                          0.2974134039
                        ]
                      },
                      {
                        "test": [
                          0.290616152
                        ],
                        "passed_time": 201.5195493,
                        "iteration": 59,
                        "remaining_time": 3157.139605,
                        "learn": [
                          0.2940675308
                        ]
                      },
                      {
                        "test": [
                          0.287217453
                        ],
                        "passed_time": 204.8591778,
                        "iteration": 60,
                        "remaining_time": 3153.488,
                        "learn": [
                          0.2903364732
                        ]
                      },
                      {
                        "test": [
                          0.2836865519
                        ],
                        "passed_time": 208.3322421,
                        "iteration": 61,
                        "remaining_time": 3151.865211,
                        "learn": [
                          0.2862809942
                        ]
                      },
                      {
                        "test": [
                          0.279467149
                        ],
                        "passed_time": 211.8514265,
                        "iteration": 62,
                        "remaining_time": 3150.869629,
                        "learn": [
                          0.2817342725
                        ]
                      },
                      {
                        "test": [
                          0.2755442384
                        ],
                        "passed_time": 215.2264099,
                        "iteration": 63,
                        "remaining_time": 3147.686245,
                        "learn": [
                          0.2776897828
                        ]
                      },
                      {
                        "test": [
                          0.2705860367
                        ],
                        "passed_time": 218.7038741,
                        "iteration": 64,
                        "remaining_time": 3145.971111,
                        "learn": [
                          0.2726717524
                        ]
                      },
                      {
                        "test": [
                          0.2676936909
                        ],
                        "passed_time": 222.2115945,
                        "iteration": 65,
                        "remaining_time": 3144.630746,
                        "learn": [
                          0.2694932086
                        ]
                      },
                      {
                        "test": [
                          0.2654852686
                        ],
                        "passed_time": 225.7057402,
                        "iteration": 66,
                        "remaining_time": 3143.03665,
                        "learn": [
                          0.2672722171
                        ]
                      },
                      {
                        "test": [
                          0.2631039235
                        ],
                        "passed_time": 229.2296091,
                        "iteration": 67,
                        "remaining_time": 3141.794055,
                        "learn": [
                          0.2647513379
                        ]
                      },
                      {
                        "test": [
                          0.2603668943
                        ],
                        "passed_time": 232.7737795,
                        "iteration": 68,
                        "remaining_time": 3140.759257,
                        "learn": [
                          0.2616001291
                        ]
                      },
                      {
                        "test": [
                          0.2572817896
                        ],
                        "passed_time": 236.2846267,
                        "iteration": 69,
                        "remaining_time": 3139.21004,
                        "learn": [
                          0.2582198818
                        ]
                      },
                      {
                        "test": [
                          0.2559506642
                        ],
                        "passed_time": 239.8186961,
                        "iteration": 70,
                        "remaining_time": 3137.909418,
                        "learn": [
                          0.2565522242
                        ]
                      },
                      {
                        "test": [
                          0.2529934902
                        ],
                        "passed_time": 243.3663209,
                        "iteration": 71,
                        "remaining_time": 3136.721469,
                        "learn": [
                          0.253449273
                        ]
                      },
                      {
                        "test": [
                          0.2507184745
                        ],
                        "passed_time": 246.7388459,
                        "iteration": 72,
                        "remaining_time": 3133.245345,
                        "learn": [
                          0.2509135626
                        ]
                      },
                      {
                        "test": [
                          0.2480802773
                        ],
                        "passed_time": 250.0593985,
                        "iteration": 73,
                        "remaining_time": 3129.121662,
                        "learn": [
                          0.2478860452
                        ]
                      },
                      {
                        "test": [
                          0.2456404577
                        ],
                        "passed_time": 253.4026904,
                        "iteration": 74,
                        "remaining_time": 3125.299848,
                        "learn": [
                          0.2449511778
                        ]
                      },
                      {
                        "test": [
                          0.2433168691
                        ],
                        "passed_time": 256.8290593,
                        "iteration": 75,
                        "remaining_time": 3122.500668,
                        "learn": [
                          0.242547952
                        ]
                      },
                      {
                        "test": [
                          0.2411563098
                        ],
                        "passed_time": 260.2696738,
                        "iteration": 76,
                        "remaining_time": 3119.85596,
                        "learn": [
                          0.2401536805
                        ]
                      },
                      {
                        "test": [
                          0.239849963
                        ],
                        "passed_time": 263.7030141,
                        "iteration": 77,
                        "remaining_time": 3117.104859,
                        "learn": [
                          0.2386364175
                        ]
                      },
                      {
                        "test": [
                          0.237828371
                        ],
                        "passed_time": 267.1578464,
                        "iteration": 78,
                        "remaining_time": 3114.587045,
                        "learn": [
                          0.2364486981
                        ]
                      },
                      {
                        "test": [
                          0.2354556414
                        ],
                        "passed_time": 270.6102022,
                        "iteration": 79,
                        "remaining_time": 3112.017325,
                        "learn": [
                          0.2338580984
                        ]
                      },
                      {
                        "test": [
                          0.2329408216
                        ],
                        "passed_time": 274.0835977,
                        "iteration": 80,
                        "remaining_time": 3109.664522,
                        "learn": [
                          0.2311860241
                        ]
                      },
                      {
                        "test": [
                          0.2317610648
                        ],
                        "passed_time": 277.4697252,
                        "iteration": 81,
                        "remaining_time": 3106.307411,
                        "learn": [
                          0.229865131
                        ]
                      },
                      {
                        "test": [
                          0.2298722705
                        ],
                        "passed_time": 280.7567941,
                        "iteration": 82,
                        "remaining_time": 3101.855183,
                        "learn": [
                          0.2280105432
                        ]
                      },
                      {
                        "test": [
                          0.2274093794
                        ],
                        "passed_time": 284.0268312,
                        "iteration": 83,
                        "remaining_time": 3097.244969,
                        "learn": [
                          0.2255207511
                        ]
                      },
                      {
                        "test": [
                          0.2260139664
                        ],
                        "passed_time": 287.2887909,
                        "iteration": 84,
                        "remaining_time": 3092.579338,
                        "learn": [
                          0.2240120631
                        ]
                      },
                      {
                        "test": [
                          0.2234769889
                        ],
                        "passed_time": 290.5689493,
                        "iteration": 85,
                        "remaining_time": 3088.139764,
                        "learn": [
                          0.2213283631
                        ]
                      },
                      {
                        "test": [
                          0.2223137903
                        ],
                        "passed_time": 293.8195435,
                        "iteration": 86,
                        "remaining_time": 3083.416589,
                        "learn": [
                          0.2201865208
                        ]
                      },
                      {
                        "test": [
                          0.2204922892
                        ],
                        "passed_time": 297.056314,
                        "iteration": 87,
                        "remaining_time": 3078.583618,
                        "learn": [
                          0.218176585
                        ]
                      },
                      {
                        "test": [
                          0.2183198319
                        ],
                        "passed_time": 300.38921,
                        "iteration": 88,
                        "remaining_time": 3074.770453,
                        "learn": [
                          0.2159754774
                        ]
                      },
                      {
                        "test": [
                          0.2167314091
                        ],
                        "passed_time": 303.7294509,
                        "iteration": 89,
                        "remaining_time": 3071.042226,
                        "learn": [
                          0.2141750894
                        ]
                      },
                      {
                        "test": [
                          0.2156009303
                        ],
                        "passed_time": 306.9473733,
                        "iteration": 90,
                        "remaining_time": 3066.100685,
                        "learn": [
                          0.2129897242
                        ]
                      },
                      {
                        "test": [
                          0.2132091739
                        ],
                        "passed_time": 310.2266828,
                        "iteration": 91,
                        "remaining_time": 3061.802478,
                        "learn": [
                          0.2103918662
                        ]
                      },
                      {
                        "test": [
                          0.2117190504
                        ],
                        "passed_time": 313.5047565,
                        "iteration": 92,
                        "remaining_time": 3057.514131,
                        "learn": [
                          0.2087148637
                        ]
                      },
                      {
                        "test": [
                          0.2105302484
                        ],
                        "passed_time": 316.749141,
                        "iteration": 93,
                        "remaining_time": 3052.922572,
                        "learn": [
                          0.207527703
                        ]
                      },
                      {
                        "test": [
                          0.2094050115
                        ],
                        "passed_time": 320.0983362,
                        "iteration": 94,
                        "remaining_time": 3049.357834,
                        "learn": [
                          0.2062048569
                        ]
                      },
                      {
                        "test": [
                          0.2079715837
                        ],
                        "passed_time": 323.5821132,
                        "iteration": 95,
                        "remaining_time": 3047.0649,
                        "learn": [
                          0.2046341336
                        ]
                      },
                      {
                        "test": [
                          0.2066607526
                        ],
                        "passed_time": 327.0927789,
                        "iteration": 96,
                        "remaining_time": 3044.997726,
                        "learn": [
                          0.2030864071
                        ]
                      },
                      {
                        "test": [
                          0.2051835943
                        ],
                        "passed_time": 330.5879542,
                        "iteration": 97,
                        "remaining_time": 3042.758517,
                        "learn": [
                          0.2013796105
                        ]
                      },
                      {
                        "test": [
                          0.2037931425
                        ],
                        "passed_time": 334.0641575,
                        "iteration": 98,
                        "remaining_time": 3040.321272,
                        "learn": [
                          0.1998385779
                        ]
                      },
                      {
                        "test": [
                          0.2026472258
                        ],
                        "passed_time": 337.5341935,
                        "iteration": 99,
                        "remaining_time": 3037.807741,
                        "learn": [
                          0.1985987749
                        ]
                      },
                      {
                        "test": [
                          0.2009127583
                        ],
                        "passed_time": 340.9952559,
                        "iteration": 100,
                        "remaining_time": 3035.195397,
                        "learn": [
                          0.196587055
                        ]
                      },
                      {
                        "test": [
                          0.1996008484
                        ],
                        "passed_time": 344.4809952,
                        "iteration": 101,
                        "remaining_time": 3032.783664,
                        "learn": [
                          0.1950192415
                        ]
                      },
                      {
                        "test": [
                          0.1983174948
                        ],
                        "passed_time": 347.8363362,
                        "iteration": 102,
                        "remaining_time": 3029.215471,
                        "learn": [
                          0.1936690089
                        ]
                      },
                      {
                        "test": [
                          0.1974578306
                        ],
                        "passed_time": 351.0995358,
                        "iteration": 103,
                        "remaining_time": 3024.857539,
                        "learn": [
                          0.1926506911
                        ]
                      },
                      {
                        "test": [
                          0.1966861464
                        ],
                        "passed_time": 354.4290916,
                        "iteration": 104,
                        "remaining_time": 3021.086067,
                        "learn": [
                          0.191617268
                        ]
                      },
                      {
                        "test": [
                          0.1954690351
                        ],
                        "passed_time": 357.6806076,
                        "iteration": 105,
                        "remaining_time": 3016.664747,
                        "learn": [
                          0.190219384
                        ]
                      },
                      {
                        "test": [
                          0.1936323361
                        ],
                        "passed_time": 360.9510056,
                        "iteration": 106,
                        "remaining_time": 3012.422879,
                        "learn": [
                          0.1884011621
                        ]
                      },
                      {
                        "test": [
                          0.1923903193
                        ],
                        "passed_time": 364.2146736,
                        "iteration": 107,
                        "remaining_time": 3008.143415,
                        "learn": [
                          0.1871249405
                        ]
                      },
                      {
                        "test": [
                          0.1915875477
                        ],
                        "passed_time": 367.464109,
                        "iteration": 108,
                        "remaining_time": 3003.766248,
                        "learn": [
                          0.1860752768
                        ]
                      },
                      {
                        "test": [
                          0.1912712352
                        ],
                        "passed_time": 370.6746004,
                        "iteration": 109,
                        "remaining_time": 2999.094494,
                        "learn": [
                          0.1855209973
                        ]
                      },
                      {
                        "test": [
                          0.1902906372
                        ],
                        "passed_time": 373.9457595,
                        "iteration": 110,
                        "remaining_time": 2994.934957,
                        "learn": [
                          0.1846241998
                        ]
                      },
                      {
                        "test": [
                          0.1892931525
                        ],
                        "passed_time": 377.1835462,
                        "iteration": 111,
                        "remaining_time": 2990.526688,
                        "learn": [
                          0.1835858667
                        ]
                      },
                      {
                        "test": [
                          0.1888582688
                        ],
                        "passed_time": 380.4170461,
                        "iteration": 112,
                        "remaining_time": 2986.105486,
                        "learn": [
                          0.1831311242
                        ]
                      },
                      {
                        "test": [
                          0.1878484777
                        ],
                        "passed_time": 383.6662232,
                        "iteration": 113,
                        "remaining_time": 2981.826963,
                        "learn": [
                          0.1821844384
                        ]
                      },
                      {
                        "test": [
                          0.1869524155
                        ],
                        "passed_time": 387.0830183,
                        "iteration": 114,
                        "remaining_time": 2978.856271,
                        "learn": [
                          0.1811132192
                        ]
                      },
                      {
                        "test": [
                          0.1859413361
                        ],
                        "passed_time": 390.5262002,
                        "iteration": 115,
                        "remaining_time": 2976.078974,
                        "learn": [
                          0.1799294967
                        ]
                      },
                      {
                        "test": [
                          0.1843116579
                        ],
                        "passed_time": 393.9850831,
                        "iteration": 116,
                        "remaining_time": 2973.40879,
                        "learn": [
                          0.1782863112
                        ]
                      },
                      {
                        "test": [
                          0.1834096588
                        ],
                        "passed_time": 397.3932508,
                        "iteration": 117,
                        "remaining_time": 2970.346163,
                        "learn": [
                          0.1773532899
                        ]
                      },
                      {
                        "test": [
                          0.1830371656
                        ],
                        "passed_time": 400.8428944,
                        "iteration": 118,
                        "remaining_time": 2967.584789,
                        "learn": [
                          0.1769950235
                        ]
                      },
                      {
                        "test": [
                          0.1815130949
                        ],
                        "passed_time": 404.2799442,
                        "iteration": 119,
                        "remaining_time": 2964.71959,
                        "learn": [
                          0.1754031844
                        ]
                      },
                      {
                        "test": [
                          0.1804427753
                        ],
                        "passed_time": 407.6681831,
                        "iteration": 120,
                        "remaining_time": 2961.490355,
                        "learn": [
                          0.1741424563
                        ]
                      },
                      {
                        "test": [
                          0.1799551706
                        ],
                        "passed_time": 410.9853519,
                        "iteration": 121,
                        "remaining_time": 2957.747041,
                        "learn": [
                          0.173587063
                        ]
                      },
                      {
                        "test": [
                          0.1785271154
                        ],
                        "passed_time": 414.2606426,
                        "iteration": 122,
                        "remaining_time": 2953.712062,
                        "learn": [
                          0.1721594243
                        ]
                      },
                      {
                        "test": [
                          0.1772111474
                        ],
                        "passed_time": 417.5672621,
                        "iteration": 123,
                        "remaining_time": 2949.910658,
                        "learn": [
                          0.1706653191
                        ]
                      },
                      {
                        "test": [
                          0.1766863095
                        ],
                        "passed_time": 420.8681393,
                        "iteration": 124,
                        "remaining_time": 2946.076975,
                        "learn": [
                          0.1699372711
                        ]
                      },
                      {
                        "test": [
                          0.1761276762
                        ],
                        "passed_time": 424.1539972,
                        "iteration": 125,
                        "remaining_time": 2942.147568,
                        "learn": [
                          0.169270543
                        ]
                      },
                      {
                        "test": [
                          0.1754294298
                        ],
                        "passed_time": 427.4471406,
                        "iteration": 126,
                        "remaining_time": 2938.278376,
                        "learn": [
                          0.1685359243
                        ]
                      },
                      {
                        "test": [
                          0.1753225511
                        ],
                        "passed_time": 430.7238588,
                        "iteration": 127,
                        "remaining_time": 2934.306288,
                        "learn": [
                          0.1683844609
                        ]
                      },
                      {
                        "test": [
                          0.1752288538
                        ],
                        "passed_time": 433.9749526,
                        "iteration": 128,
                        "remaining_time": 2930.171967,
                        "learn": [
                          0.1682407937
                        ]
                      },
                      {
                        "test": [
                          0.1739270025
                        ],
                        "passed_time": 437.2392975,
                        "iteration": 129,
                        "remaining_time": 2926.139914,
                        "learn": [
                          0.1668144535
                        ]
                      },
                      {
                        "test": [
                          0.1738517245
                        ],
                        "passed_time": 440.5123396,
                        "iteration": 130,
                        "remaining_time": 2922.177276,
                        "learn": [
                          0.1667460676
                        ]
                      },
                      {
                        "test": [
                          0.1732568257
                        ],
                        "passed_time": 443.7160896,
                        "iteration": 131,
                        "remaining_time": 2917.769438,
                        "learn": [
                          0.1660836427
                        ]
                      },
                      {
                        "test": [
                          0.1722875973
                        ],
                        "passed_time": 446.9697492,
                        "iteration": 132,
                        "remaining_time": 2913.705057,
                        "learn": [
                          0.1650040518
                        ]
                      },
                      {
                        "test": [
                          0.1708105177
                        ],
                        "passed_time": 450.3163737,
                        "iteration": 133,
                        "remaining_time": 2910.253579,
                        "learn": [
                          0.163541617
                        ]
                      },
                      {
                        "test": [
                          0.1693908744
                        ],
                        "passed_time": 453.8146741,
                        "iteration": 134,
                        "remaining_time": 2907.775504,
                        "learn": [
                          0.1620056457
                        ]
                      },
                      {
                        "test": [
                          0.1692137608
                        ],
                        "passed_time": 457.2160935,
                        "iteration": 135,
                        "remaining_time": 2904.666947,
                        "learn": [
                          0.1617603864
                        ]
                      },
                      {
                        "test": [
                          0.1688440279
                        ],
                        "passed_time": 460.6482645,
                        "iteration": 136,
                        "remaining_time": 2901.747827,
                        "learn": [
                          0.1613266741
                        ]
                      },
                      {
                        "test": [
                          0.1683748263
                        ],
                        "passed_time": 464.0518468,
                        "iteration": 137,
                        "remaining_time": 2898.642695,
                        "learn": [
                          0.1608848063
                        ]
                      },
                      {
                        "test": [
                          0.1683608141
                        ],
                        "passed_time": 467.4937516,
                        "iteration": 138,
                        "remaining_time": 2895.770648,
                        "learn": [
                          0.1608497394
                        ]
                      },
                      {
                        "test": [
                          0.1683576331
                        ],
                        "passed_time": 470.9039383,
                        "iteration": 139,
                        "remaining_time": 2892.695621,
                        "learn": [
                          0.1608419177
                        ]
                      },
                      {
                        "test": [
                          0.1674573587
                        ],
                        "passed_time": 474.2628999,
                        "iteration": 140,
                        "remaining_time": 2889.303766,
                        "learn": [
                          0.1599361751
                        ]
                      },
                      {
                        "test": [
                          0.167464087
                        ],
                        "passed_time": 477.6352028,
                        "iteration": 141,
                        "remaining_time": 2885.992986,
                        "learn": [
                          0.1599018175
                        ]
                      },
                      {
                        "test": [
                          0.1669217642
                        ],
                        "passed_time": 480.9459395,
                        "iteration": 142,
                        "remaining_time": 2882.312379,
                        "learn": [
                          0.1592866983
                        ]
                      },
                      {
                        "test": [
                          0.1663420055
                        ],
                        "passed_time": 484.1512215,
                        "iteration": 143,
                        "remaining_time": 2878.010039,
                        "learn": [
                          0.1587736804
                        ]
                      },
                      {
                        "test": [
                          0.1662177697
                        ],
                        "passed_time": 487.4227289,
                        "iteration": 144,
                        "remaining_time": 2874.113332,
                        "learn": [
                          0.158585554
                        ]
                      },
                      {
                        "test": [
                          0.1661403035
                        ],
                        "passed_time": 490.6766526,
                        "iteration": 145,
                        "remaining_time": 2870.122338,
                        "learn": [
                          0.1584721612
                        ]
                      },
                      {
                        "test": [
                          0.1653666001
                        ],
                        "passed_time": 493.863711,
                        "iteration": 146,
                        "remaining_time": 2865.75337,
                        "learn": [
                          0.1575694275
                        ]
                      },
                      {
                        "test": [
                          0.1653191139
                        ],
                        "passed_time": 497.1251509,
                        "iteration": 147,
                        "remaining_time": 2861.828571,
                        "learn": [
                          0.1575091485
                        ]
                      },
                      {
                        "test": [
                          0.1652786883
                        ],
                        "passed_time": 500.3614897,
                        "iteration": 148,
                        "remaining_time": 2857.769314,
                        "learn": [
                          0.1574685247
                        ]
                      },
                      {
                        "test": [
                          0.1649820035
                        ],
                        "passed_time": 503.6025925,
                        "iteration": 149,
                        "remaining_time": 2853.748024,
                        "learn": [
                          0.1572201022
                        ]
                      },
                      {
                        "test": [
                          0.1639529937
                        ],
                        "passed_time": 506.8898092,
                        "iteration": 150,
                        "remaining_time": 2849.996345,
                        "learn": [
                          0.1561751957
                        ]
                      },
                      {
                        "test": [
                          0.1639251505
                        ],
                        "passed_time": 510.1619834,
                        "iteration": 151,
                        "remaining_time": 2846.166855,
                        "learn": [
                          0.1561339789
                        ]
                      },
                      {
                        "test": [
                          0.1636666198
                        ],
                        "passed_time": 513.4273635,
                        "iteration": 152,
                        "remaining_time": 2842.307039,
                        "learn": [
                          0.1558317258
                        ]
                      },
                      {
                        "test": [
                          0.1631143039
                        ],
                        "passed_time": 516.7371834,
                        "iteration": 153,
                        "remaining_time": 2838.699073,
                        "learn": [
                          0.1552826382
                        ]
                      },
                      {
                        "test": [
                          0.1625331857
                        ],
                        "passed_time": 520.210489,
                        "iteration": 154,
                        "remaining_time": 2835.986214,
                        "learn": [
                          0.1546320061
                        ]
                      },
                      {
                        "test": [
                          0.1620768537
                        ],
                        "passed_time": 523.7078385,
                        "iteration": 155,
                        "remaining_time": 2833.393691,
                        "learn": [
                          0.1541042728
                        ]
                      },
                      {
                        "test": [
                          0.1616707619
                        ],
                        "passed_time": 527.1606573,
                        "iteration": 156,
                        "remaining_time": 2830.550536,
                        "learn": [
                          0.1537219301
                        ]
                      },
                      {
                        "test": [
                          0.1611739127
                        ],
                        "passed_time": 530.6346162,
                        "iteration": 157,
                        "remaining_time": 2827.812322,
                        "learn": [
                          0.1531115236
                        ]
                      },
                      {
                        "test": [
                          0.1611400677
                        ],
                        "passed_time": 534.0874808,
                        "iteration": 158,
                        "remaining_time": 2824.953279,
                        "learn": [
                          0.1530403349
                        ]
                      },
                      {
                        "test": [
                          0.1611023194
                        ],
                        "passed_time": 537.5351414,
                        "iteration": 159,
                        "remaining_time": 2822.059492,
                        "learn": [
                          0.1529907893
                        ]
                      },
                      {
                        "test": [
                          0.1608576135
                        ],
                        "passed_time": 540.951415,
                        "iteration": 160,
                        "remaining_time": 2818.995262,
                        "learn": [
                          0.152743664
                        ]
                      },
                      {
                        "test": [
                          0.1606118187
                        ],
                        "passed_time": 544.4057098,
                        "iteration": 161,
                        "remaining_time": 2816.123363,
                        "learn": [
                          0.1524359011
                        ]
                      },
                      {
                        "test": [
                          0.1604409671
                        ],
                        "passed_time": 547.7313458,
                        "iteration": 162,
                        "remaining_time": 2812.583659,
                        "learn": [
                          0.1522587495
                        ]
                      },
                      {
                        "test": [
                          0.1600261583
                        ],
                        "passed_time": 551.0421462,
                        "iteration": 163,
                        "remaining_time": 2808.97094,
                        "learn": [
                          0.1517006544
                        ]
                      },
                      {
                        "test": [
                          0.1600252298
                        ],
                        "passed_time": 554.505544,
                        "iteration": 164,
                        "remaining_time": 2806.134117,
                        "learn": [
                          0.151697905
                        ]
                      },
                      {
                        "test": [
                          0.1593707152
                        ],
                        "passed_time": 557.9597656,
                        "iteration": 165,
                        "remaining_time": 2803.243641,
                        "learn": [
                          0.1509633115
                        ]
                      },
                      {
                        "test": [
                          0.1593522717
                        ],
                        "passed_time": 561.3866136,
                        "iteration": 166,
                        "remaining_time": 2800.209875,
                        "learn": [
                          0.1509402938
                        ]
                      },
                      {
                        "test": [
                          0.1586468227
                        ],
                        "passed_time": 564.8429119,
                        "iteration": 167,
                        "remaining_time": 2797.317278,
                        "learn": [
                          0.1501784254
                        ]
                      },
                      {
                        "test": [
                          0.1584261917
                        ],
                        "passed_time": 568.2551797,
                        "iteration": 168,
                        "remaining_time": 2794.201505,
                        "learn": [
                          0.1498844304
                        ]
                      },
                      {
                        "test": [
                          0.1584242612
                        ],
                        "passed_time": 571.6814537,
                        "iteration": 169,
                        "remaining_time": 2791.150627,
                        "learn": [
                          0.1498813111
                        ]
                      },
                      {
                        "test": [
                          0.157914822
                        ],
                        "passed_time": 575.1014085,
                        "iteration": 170,
                        "remaining_time": 2788.064723,
                        "learn": [
                          0.1493920054
                        ]
                      },
                      {
                        "test": [
                          0.1576748488
                        ],
                        "passed_time": 578.3683108,
                        "iteration": 171,
                        "remaining_time": 2784.238147,
                        "learn": [
                          0.1490576352
                        ]
                      },
                      {
                        "test": [
                          0.1567199925
                        ],
                        "passed_time": 581.6348831,
                        "iteration": 172,
                        "remaining_time": 2780.416464,
                        "learn": [
                          0.1480017841
                        ]
                      },
                      {
                        "test": [
                          0.1565351675
                        ],
                        "passed_time": 584.8426261,
                        "iteration": 173,
                        "remaining_time": 2776.321892,
                        "learn": [
                          0.1477755384
                        ]
                      },
                      {
                        "test": [
                          0.156133585
                        ],
                        "passed_time": 588.0579771,
                        "iteration": 174,
                        "remaining_time": 2772.27332,
                        "learn": [
                          0.1473715042
                        ]
                      },
                      {
                        "test": [
                          0.1561310883
                        ],
                        "passed_time": 591.374771,
                        "iteration": 175,
                        "remaining_time": 2768.709155,
                        "learn": [
                          0.1473255058
                        ]
                      },
                      {
                        "test": [
                          0.1555549183
                        ],
                        "passed_time": 594.6344096,
                        "iteration": 176,
                        "remaining_time": 2764.882029,
                        "learn": [
                          0.1466149384
                        ]
                      },
                      {
                        "test": [
                          0.1554787668
                        ],
                        "passed_time": 597.8666107,
                        "iteration": 177,
                        "remaining_time": 2760.934573,
                        "learn": [
                          0.1465461362
                        ]
                      },
                      {
                        "test": [
                          0.1552901538
                        ],
                        "passed_time": 601.0954641,
                        "iteration": 178,
                        "remaining_time": 2756.979754,
                        "learn": [
                          0.1463344921
                        ]
                      },
                      {
                        "test": [
                          0.1551925235
                        ],
                        "passed_time": 604.3315801,
                        "iteration": 179,
                        "remaining_time": 2753.066087,
                        "learn": [
                          0.1462089272
                        ]
                      },
                      {
                        "test": [
                          0.1550817158
                        ],
                        "passed_time": 607.5246443,
                        "iteration": 180,
                        "remaining_time": 2748.965103,
                        "learn": [
                          0.1460739948
                        ]
                      },
                      {
                        "test": [
                          0.1550455518
                        ],
                        "passed_time": 610.7077443,
                        "iteration": 181,
                        "remaining_time": 2744.829312,
                        "learn": [
                          0.1460149809
                        ]
                      },
                      {
                        "test": [
                          0.1550384575
                        ],
                        "passed_time": 613.8576025,
                        "iteration": 182,
                        "remaining_time": 2740.555526,
                        "learn": [
                          0.1460002206
                        ]
                      },
                      {
                        "test": [
                          0.1548028735
                        ],
                        "passed_time": 617.0501161,
                        "iteration": 183,
                        "remaining_time": 2736.483123,
                        "learn": [
                          0.145770131
                        ]
                      },
                      {
                        "test": [
                          0.1542338988
                        ],
                        "passed_time": 620.3925008,
                        "iteration": 184,
                        "remaining_time": 2733.080476,
                        "learn": [
                          0.1451790761
                        ]
                      },
                      {
                        "test": [
                          0.1542332307
                        ],
                        "passed_time": 623.7947982,
                        "iteration": 185,
                        "remaining_time": 2729.940676,
                        "learn": [
                          0.1451758149
                        ]
                      },
                      {
                        "test": [
                          0.1541291088
                        ],
                        "passed_time": 627.1677173,
                        "iteration": 186,
                        "remaining_time": 2726.670343,
                        "learn": [
                          0.1450335553
                        ]
                      },
                      {
                        "test": [
                          0.1540012529
                        ],
                        "passed_time": 630.5798282,
                        "iteration": 187,
                        "remaining_time": 2723.568194,
                        "learn": [
                          0.1448736571
                        ]
                      },
                      {
                        "test": [
                          0.1539337883
                        ],
                        "passed_time": 633.9502705,
                        "iteration": 188,
                        "remaining_time": 2720.283965,
                        "learn": [
                          0.1447882692
                        ]
                      },
                      {
                        "test": [
                          0.1536263156
                        ],
                        "passed_time": 637.3101385,
                        "iteration": 189,
                        "remaining_time": 2716.953748,
                        "learn": [
                          0.1445179464
                        ]
                      },
                      {
                        "test": [
                          0.153484765
                        ],
                        "passed_time": 640.6641167,
                        "iteration": 190,
                        "remaining_time": 2713.598274,
                        "learn": [
                          0.1444136269
                        ]
                      },
                      {
                        "test": [
                          0.1528836108
                        ],
                        "passed_time": 643.9327093,
                        "iteration": 191,
                        "remaining_time": 2709.883485,
                        "learn": [
                          0.143665357
                        ]
                      },
                      {
                        "test": [
                          0.1525267287
                        ],
                        "passed_time": 647.1150115,
                        "iteration": 192,
                        "remaining_time": 2705.812509,
                        "learn": [
                          0.143202036
                        ]
                      },
                      {
                        "test": [
                          0.1525187542
                        ],
                        "passed_time": 650.3129926,
                        "iteration": 193,
                        "remaining_time": 2701.815835,
                        "learn": [
                          0.1431859809
                        ]
                      },
                      {
                        "test": [
                          0.1525180334
                        ],
                        "passed_time": 653.4935017,
                        "iteration": 194,
                        "remaining_time": 2697.755225,
                        "learn": [
                          0.1431834779
                        ]
                      },
                      {
                        "test": [
                          0.1522003273
                        ],
                        "passed_time": 656.7069794,
                        "iteration": 195,
                        "remaining_time": 2693.838834,
                        "learn": [
                          0.1427408865
                        ]
                      },
                      {
                        "test": [
                          0.1521289172
                        ],
                        "passed_time": 659.9095674,
                        "iteration": 196,
                        "remaining_time": 2689.885191,
                        "learn": [
                          0.1426166646
                        ]
                      },
                      {
                        "test": [
                          0.1516333772
                        ],
                        "passed_time": 663.0478113,
                        "iteration": 197,
                        "remaining_time": 2685.678508,
                        "learn": [
                          0.1421061433
                        ]
                      },
                      {
                        "test": [
                          0.1515696962
                        ],
                        "passed_time": 666.1993172,
                        "iteration": 198,
                        "remaining_time": 2681.535945,
                        "learn": [
                          0.1420451663
                        ]
                      },
                      {
                        "test": [
                          0.1513785455
                        ],
                        "passed_time": 669.3143102,
                        "iteration": 199,
                        "remaining_time": 2677.257241,
                        "learn": [
                          0.1418044081
                        ]
                      },
                      {
                        "test": [
                          0.1511433306
                        ],
                        "passed_time": 672.4320691,
                        "iteration": 200,
                        "remaining_time": 2673.001111,
                        "learn": [
                          0.1415581214
                        ]
                      },
                      {
                        "test": [
                          0.150374094
                        ],
                        "passed_time": 675.6357904,
                        "iteration": 201,
                        "remaining_time": 2669.095845,
                        "learn": [
                          0.1407485145
                        ]
                      },
                      {
                        "test": [
                          0.1499846375
                        ],
                        "passed_time": 678.8243113,
                        "iteration": 202,
                        "remaining_time": 2665.137813,
                        "learn": [
                          0.1402986825
                        ]
                      },
                      {
                        "test": [
                          0.1499842537
                        ],
                        "passed_time": 681.9764463,
                        "iteration": 203,
                        "remaining_time": 2661.045349,
                        "learn": [
                          0.1402960496
                        ]
                      },
                      {
                        "test": [
                          0.1497419765
                        ],
                        "passed_time": 685.2988833,
                        "iteration": 204,
                        "remaining_time": 2657.622499,
                        "learn": [
                          0.1399736514
                        ]
                      },
                      {
                        "test": [
                          0.1495394491
                        ],
                        "passed_time": 688.6804015,
                        "iteration": 205,
                        "remaining_time": 2654.428343,
                        "learn": [
                          0.1397141716
                        ]
                      },
                      {
                        "test": [
                          0.1495389729
                        ],
                        "passed_time": 692.0975937,
                        "iteration": 206,
                        "remaining_time": 2651.369042,
                        "learn": [
                          0.1397111433
                        ]
                      },
                      {
                        "test": [
                          0.1493708329
                        ],
                        "passed_time": 695.4464566,
                        "iteration": 207,
                        "remaining_time": 2648.046123,
                        "learn": [
                          0.1394884232
                        ]
                      },
                      {
                        "test": [
                          0.1491141845
                        ],
                        "passed_time": 698.8032248,
                        "iteration": 208,
                        "remaining_time": 2644.752875,
                        "learn": [
                          0.1391983605
                        ]
                      },
                      {
                        "test": [
                          0.148920871
                        ],
                        "passed_time": 702.1604352,
                        "iteration": 209,
                        "remaining_time": 2641.460685,
                        "learn": [
                          0.1389860062
                        ]
                      },
                      {
                        "test": [
                          0.1489216885
                        ],
                        "passed_time": 705.5793322,
                        "iteration": 210,
                        "remaining_time": 2638.398545,
                        "learn": [
                          0.138981175
                        ]
                      },
                      {
                        "test": [
                          0.148892567
                        ],
                        "passed_time": 708.9143879,
                        "iteration": 211,
                        "remaining_time": 2635.021404,
                        "learn": [
                          0.1389423801
                        ]
                      },
                      {
                        "test": [
                          0.148742012
                        ],
                        "passed_time": 712.165402,
                        "iteration": 212,
                        "remaining_time": 2631.334138,
                        "learn": [
                          0.1387749867
                        ]
                      },
                      {
                        "test": [
                          0.1487501507
                        ],
                        "passed_time": 715.3840142,
                        "iteration": 213,
                        "remaining_time": 2627.53194,
                        "learn": [
                          0.1387673824
                        ]
                      },
                      {
                        "test": [
                          0.1483966521
                        ],
                        "passed_time": 718.6127568,
                        "iteration": 214,
                        "remaining_time": 2623.772159,
                        "learn": [
                          0.1383825989
                        ]
                      },
                      {
                        "test": [
                          0.1483008712
                        ],
                        "passed_time": 721.7915979,
                        "iteration": 215,
                        "remaining_time": 2619.83617,
                        "learn": [
                          0.1382364461
                        ]
                      },
                      {
                        "test": [
                          0.1481476593
                        ],
                        "passed_time": 725.0416828,
                        "iteration": 216,
                        "remaining_time": 2616.164229,
                        "learn": [
                          0.1380437478
                        ]
                      },
                      {
                        "test": [
                          0.148137529
                        ],
                        "passed_time": 728.3903789,
                        "iteration": 217,
                        "remaining_time": 2612.849891,
                        "learn": [
                          0.138032469
                        ]
                      },
                      {
                        "test": [
                          0.1477649942
                        ],
                        "passed_time": 731.7357824,
                        "iteration": 218,
                        "remaining_time": 2609.523498,
                        "learn": [
                          0.1375233479
                        ]
                      },
                      {
                        "test": [
                          0.1475737323
                        ],
                        "passed_time": 735.0233782,
                        "iteration": 219,
                        "remaining_time": 2605.991977,
                        "learn": [
                          0.1373606176
                        ]
                      },
                      {
                        "test": [
                          0.1473925004
                        ],
                        "passed_time": 738.2494945,
                        "iteration": 220,
                        "remaining_time": 2602.245956,
                        "learn": [
                          0.1371760074
                        ]
                      },
                      {
                        "test": [
                          0.1473879226
                        ],
                        "passed_time": 741.5604052,
                        "iteration": 221,
                        "remaining_time": 2598.801781,
                        "learn": [
                          0.1371531268
                        ]
                      },
                      {
                        "test": [
                          0.1469799568
                        ],
                        "passed_time": 744.7317949,
                        "iteration": 222,
                        "remaining_time": 2594.872667,
                        "learn": [
                          0.1367305916
                        ]
                      },
                      {
                        "test": [
                          0.1466956322
                        ],
                        "passed_time": 747.9724844,
                        "iteration": 223,
                        "remaining_time": 2591.190392,
                        "learn": [
                          0.1364161501
                        ]
                      },
                      {
                        "test": [
                          0.1461391173
                        ],
                        "passed_time": 751.4353863,
                        "iteration": 224,
                        "remaining_time": 2588.277442,
                        "learn": [
                          0.1357276468
                        ]
                      },
                      {
                        "test": [
                          0.1460852555
                        ],
                        "passed_time": 754.8900152,
                        "iteration": 225,
                        "remaining_time": 2585.331291,
                        "learn": [
                          0.1356097391
                        ]
                      },
                      {
                        "test": [
                          0.1460054834
                        ],
                        "passed_time": 758.3196375,
                        "iteration": 226,
                        "remaining_time": 2582.295506,
                        "learn": [
                          0.1354657439
                        ]
                      },
                      {
                        "test": [
                          0.1459218567
                        ],
                        "passed_time": 761.7314301,
                        "iteration": 227,
                        "remaining_time": 2579.195895,
                        "learn": [
                          0.1353646596
                        ]
                      },
                      {
                        "test": [
                          0.1457537178
                        ],
                        "passed_time": 765.2250589,
                        "iteration": 228,
                        "remaining_time": 2576.369085,
                        "learn": [
                          0.1352315372
                        ]
                      },
                      {
                        "test": [
                          0.1456397766
                        ],
                        "passed_time": 768.7050392,
                        "iteration": 229,
                        "remaining_time": 2573.490784,
                        "learn": [
                          0.1350222608
                        ]
                      },
                      {
                        "test": [
                          0.1452427277
                        ],
                        "passed_time": 772.1198115,
                        "iteration": 230,
                        "remaining_time": 2570.390195,
                        "learn": [
                          0.1345319083
                        ]
                      },
                      {
                        "test": [
                          0.1449194368
                        ],
                        "passed_time": 775.4452165,
                        "iteration": 231,
                        "remaining_time": 2566.991062,
                        "learn": [
                          0.1341818393
                        ]
                      },
                      {
                        "test": [
                          0.1449445095
                        ],
                        "passed_time": 778.8120046,
                        "iteration": 232,
                        "remaining_time": 2563.728788,
                        "learn": [
                          0.1341666704
                        ]
                      },
                      {
                        "test": [
                          0.144569048
                        ],
                        "passed_time": 782.1056059,
                        "iteration": 233,
                        "remaining_time": 2560.226043,
                        "learn": [
                          0.1336997233
                        ]
                      },
                      {
                        "test": [
                          0.1443598811
                        ],
                        "passed_time": 785.4206489,
                        "iteration": 234,
                        "remaining_time": 2556.794878,
                        "learn": [
                          0.1334309539
                        ]
                      },
                      {
                        "test": [
                          0.1441078338
                        ],
                        "passed_time": 788.7471611,
                        "iteration": 235,
                        "remaining_time": 2553.401827,
                        "learn": [
                          0.1331518548
                        ]
                      },
                      {
                        "test": [
                          0.1439060953
                        ],
                        "passed_time": 792.0581617,
                        "iteration": 236,
                        "remaining_time": 2549.959398,
                        "learn": [
                          0.1329472871
                        ]
                      },
                      {
                        "test": [
                          0.1433691854
                        ],
                        "passed_time": 795.3670573,
                        "iteration": 237,
                        "remaining_time": 2546.511335,
                        "learn": [
                          0.1323651544
                        ]
                      },
                      {
                        "test": [
                          0.1432760552
                        ],
                        "passed_time": 798.6586892,
                        "iteration": 238,
                        "remaining_time": 2543.009467,
                        "learn": [
                          0.1322484187
                        ]
                      },
                      {
                        "test": [
                          0.1432790129
                        ],
                        "passed_time": 801.9211955,
                        "iteration": 239,
                        "remaining_time": 2539.417119,
                        "learn": [
                          0.1322326552
                        ]
                      },
                      {
                        "test": [
                          0.1431646814
                        ],
                        "passed_time": 805.1640828,
                        "iteration": 240,
                        "remaining_time": 2535.765721,
                        "learn": [
                          0.1320534144
                        ]
                      },
                      {
                        "test": [
                          0.1430480258
                        ],
                        "passed_time": 808.3669553,
                        "iteration": 241,
                        "remaining_time": 2531.992364,
                        "learn": [
                          0.131932646
                        ]
                      },
                      {
                        "test": [
                          0.1428756475
                        ],
                        "passed_time": 811.5814223,
                        "iteration": 242,
                        "remaining_time": 2528.259822,
                        "learn": [
                          0.1317583545
                        ]
                      },
                      {
                        "test": [
                          0.1427819132
                        ],
                        "passed_time": 814.8419314,
                        "iteration": 243,
                        "remaining_time": 2524.674181,
                        "learn": [
                          0.1316313274
                        ]
                      },
                      {
                        "test": [
                          0.1427815057
                        ],
                        "passed_time": 818.2919098,
                        "iteration": 244,
                        "remaining_time": 2521.675069,
                        "learn": [
                          0.1316195094
                        ]
                      },
                      {
                        "test": [
                          0.1426832818
                        ],
                        "passed_time": 821.7578056,
                        "iteration": 245,
                        "remaining_time": 2518.721079,
                        "learn": [
                          0.1314817807
                        ]
                      },
                      {
                        "test": [
                          0.1425299356
                        ],
                        "passed_time": 825.1984974,
                        "iteration": 246,
                        "remaining_time": 2515.686107,
                        "learn": [
                          0.1313191217
                        ]
                      },
                      {
                        "test": [
                          0.142509277
                        ],
                        "passed_time": 828.603105,
                        "iteration": 247,
                        "remaining_time": 2512.538447,
                        "learn": [
                          0.1312965264
                        ]
                      },
                      {
                        "test": [
                          0.1424591543
                        ],
                        "passed_time": 832.0266365,
                        "iteration": 248,
                        "remaining_time": 2509.445799,
                        "learn": [
                          0.1312226774
                        ]
                      },
                      {
                        "test": [
                          0.1424365905
                        ],
                        "passed_time": 835.4839847,
                        "iteration": 249,
                        "remaining_time": 2506.451954,
                        "learn": [
                          0.1311913604
                        ]
                      },
                      {
                        "test": [
                          0.1424202308
                        ],
                        "passed_time": 838.9387466,
                        "iteration": 250,
                        "remaining_time": 2503.446698,
                        "learn": [
                          0.1311650387
                        ]
                      },
                      {
                        "test": [
                          0.1421434538
                        ],
                        "passed_time": 842.3593178,
                        "iteration": 251,
                        "remaining_time": 2500.336388,
                        "learn": [
                          0.1308168032
                        ]
                      },
                      {
                        "test": [
                          0.1417118126
                        ],
                        "passed_time": 845.6267757,
                        "iteration": 252,
                        "remaining_time": 2496.771547,
                        "learn": [
                          0.1303782576
                        ]
                      },
                      {
                        "test": [
                          0.1417101268
                        ],
                        "passed_time": 848.9673905,
                        "iteration": 253,
                        "remaining_time": 2493.423911,
                        "learn": [
                          0.1303279182
                        ]
                      },
                      {
                        "test": [
                          0.1413206797
                        ],
                        "passed_time": 852.3091704,
                        "iteration": 254,
                        "remaining_time": 2490.079733,
                        "learn": [
                          0.1299912331
                        ]
                      },
                      {
                        "test": [
                          0.1411270133
                        ],
                        "passed_time": 855.705325,
                        "iteration": 255,
                        "remaining_time": 2486.893601,
                        "learn": [
                          0.1297684252
                        ]
                      },
                      {
                        "test": [
                          0.1410969163
                        ],
                        "passed_time": 859.0861952,
                        "iteration": 256,
                        "remaining_time": 2483.661646,
                        "learn": [
                          0.1297302983
                        ]
                      },
                      {
                        "test": [
                          0.141027207
                        ],
                        "passed_time": 862.4356327,
                        "iteration": 257,
                        "remaining_time": 2480.338137,
                        "learn": [
                          0.1296835804
                        ]
                      },
                      {
                        "test": [
                          0.1409370686
                        ],
                        "passed_time": 865.8520036,
                        "iteration": 258,
                        "remaining_time": 2477.205925,
                        "learn": [
                          0.1295697691
                        ]
                      },
                      {
                        "test": [
                          0.140904191
                        ],
                        "passed_time": 869.2996025,
                        "iteration": 259,
                        "remaining_time": 2474.160407,
                        "learn": [
                          0.1295097861
                        ]
                      },
                      {
                        "test": [
                          0.1407502616
                        ],
                        "passed_time": 872.6701379,
                        "iteration": 260,
                        "remaining_time": 2470.893609,
                        "learn": [
                          0.1293507127
                        ]
                      },
                      {
                        "test": [
                          0.140668788
                        ],
                        "passed_time": 875.9397082,
                        "iteration": 261,
                        "remaining_time": 2467.341621,
                        "learn": [
                          0.1292091652
                        ]
                      },
                      {
                        "test": [
                          0.1406576944
                        ],
                        "passed_time": 879.1617854,
                        "iteration": 262,
                        "remaining_time": 2463.658691,
                        "learn": [
                          0.1291874239
                        ]
                      },
                      {
                        "test": [
                          0.1404938681
                        ],
                        "passed_time": 882.3488844,
                        "iteration": 263,
                        "remaining_time": 2459.881738,
                        "learn": [
                          0.1290096604
                        ]
                      },
                      {
                        "test": [
                          0.1403786929
                        ],
                        "passed_time": 885.5095206,
                        "iteration": 264,
                        "remaining_time": 2456.03584,
                        "learn": [
                          0.1288803649
                        ]
                      },
                      {
                        "test": [
                          0.1403348881
                        ],
                        "passed_time": 888.7302879,
                        "iteration": 265,
                        "remaining_time": 2452.36102,
                        "learn": [
                          0.1288271164
                        ]
                      },
                      {
                        "test": [
                          0.1402726176
                        ],
                        "passed_time": 891.8737081,
                        "iteration": 266,
                        "remaining_time": 2448.477259,
                        "learn": [
                          0.1287566886
                        ]
                      },
                      {
                        "test": [
                          0.1402670745
                        ],
                        "passed_time": 894.9990271,
                        "iteration": 267,
                        "remaining_time": 2444.549581,
                        "learn": [
                          0.1287522827
                        ]
                      },
                      {
                        "test": [
                          0.1402474895
                        ],
                        "passed_time": 898.1679581,
                        "iteration": 268,
                        "remaining_time": 2440.746384,
                        "learn": [
                          0.1286448462
                        ]
                      },
                      {
                        "test": [
                          0.1402460029
                        ],
                        "passed_time": 901.4186894,
                        "iteration": 269,
                        "remaining_time": 2437.169049,
                        "learn": [
                          0.1286249597
                        ]
                      },
                      {
                        "test": [
                          0.140183894
                        ],
                        "passed_time": 904.5926199,
                        "iteration": 270,
                        "remaining_time": 2433.387527,
                        "learn": [
                          0.1285368076
                        ]
                      },
                      {
                        "test": [
                          0.1401093436
                        ],
                        "passed_time": 907.7839828,
                        "iteration": 271,
                        "remaining_time": 2429.657131,
                        "learn": [
                          0.1284646978
                        ]
                      },
                      {
                        "test": [
                          0.1400020029
                        ],
                        "passed_time": 910.9832035,
                        "iteration": 272,
                        "remaining_time": 2425.951608,
                        "learn": [
                          0.1283254393
                        ]
                      },
                      {
                        "test": [
                          0.1395223628
                        ],
                        "passed_time": 914.2586826,
                        "iteration": 273,
                        "remaining_time": 2422.451838,
                        "learn": [
                          0.1278610719
                        ]
                      },
                      {
                        "test": [
                          0.1391008247
                        ],
                        "passed_time": 917.6881033,
                        "iteration": 274,
                        "remaining_time": 2419.359545,
                        "learn": [
                          0.1274287435
                        ]
                      },
                      {
                        "test": [
                          0.1390536562
                        ],
                        "passed_time": 921.1084936,
                        "iteration": 275,
                        "remaining_time": 2416.241121,
                        "learn": [
                          0.1273855647
                        ]
                      },
                      {
                        "test": [
                          0.1389116785
                        ],
                        "passed_time": 924.4929748,
                        "iteration": 276,
                        "remaining_time": 2413.02679,
                        "learn": [
                          0.1272604525
                        ]
                      },
                      {
                        "test": [
                          0.1389024127
                        ],
                        "passed_time": 927.9318568,
                        "iteration": 277,
                        "remaining_time": 2409.95252,
                        "learn": [
                          0.1272545297
                        ]
                      },
                      {
                        "test": [
                          0.1388946449
                        ],
                        "passed_time": 931.3024668,
                        "iteration": 278,
                        "remaining_time": 2406.699206,
                        "learn": [
                          0.1272373549
                        ]
                      },
                      {
                        "test": [
                          0.1389036898
                        ],
                        "passed_time": 934.7485839,
                        "iteration": 279,
                        "remaining_time": 2403.639216,
                        "learn": [
                          0.1272201435
                        ]
                      },
                      {
                        "test": [
                          0.1388460639
                        ],
                        "passed_time": 938.1677316,
                        "iteration": 280,
                        "remaining_time": 2400.50747,
                        "learn": [
                          0.127188293
                        ]
                      },
                      {
                        "test": [
                          0.1386061493
                        ],
                        "passed_time": 941.4378382,
                        "iteration": 281,
                        "remaining_time": 2396.994212,
                        "learn": [
                          0.1269271179
                        ]
                      },
                      {
                        "test": [
                          0.1385732296
                        ],
                        "passed_time": 944.6915967,
                        "iteration": 282,
                        "remaining_time": 2393.441254,
                        "learn": [
                          0.1268829968
                        ]
                      },
                      {
                        "test": [
                          0.1383792089
                        ],
                        "passed_time": 947.9237302,
                        "iteration": 283,
                        "remaining_time": 2389.835883,
                        "learn": [
                          0.1267598515
                        ]
                      },
                      {
                        "test": [
                          0.1382826024
                        ],
                        "passed_time": 951.1613052,
                        "iteration": 284,
                        "remaining_time": 2386.246783,
                        "learn": [
                          0.1266247488
                        ]
                      },
                      {
                        "test": [
                          0.1382781995
                        ],
                        "passed_time": 954.4310913,
                        "iteration": 285,
                        "remaining_time": 2382.740557,
                        "learn": [
                          0.1266058958
                        ]
                      },
                      {
                        "test": [
                          0.1382277021
                        ],
                        "passed_time": 957.7167997,
                        "iteration": 286,
                        "remaining_time": 2379.275534,
                        "learn": [
                          0.1265196307
                        ]
                      },
                      {
                        "test": [
                          0.1382311619
                        ],
                        "passed_time": 960.958249,
                        "iteration": 287,
                        "remaining_time": 2375.702338,
                        "learn": [
                          0.1265101255
                        ]
                      },
                      {
                        "test": [
                          0.1382149218
                        ],
                        "passed_time": 964.2063871,
                        "iteration": 288,
                        "remaining_time": 2372.147893,
                        "learn": [
                          0.1264946234
                        ]
                      },
                      {
                        "test": [
                          0.1381345757
                        ],
                        "passed_time": 967.4123216,
                        "iteration": 289,
                        "remaining_time": 2368.492236,
                        "learn": [
                          0.1263983725
                        ]
                      },
                      {
                        "test": [
                          0.1380250959
                        ],
                        "passed_time": 970.6546519,
                        "iteration": 290,
                        "remaining_time": 2364.928344,
                        "learn": [
                          0.1262222774
                        ]
                      },
                      {
                        "test": [
                          0.1380131032
                        ],
                        "passed_time": 973.8468842,
                        "iteration": 291,
                        "remaining_time": 2361.245185,
                        "learn": [
                          0.1262142055
                        ]
                      },
                      {
                        "test": [
                          0.1378511541
                        ],
                        "passed_time": 977.1118913,
                        "iteration": 292,
                        "remaining_time": 2357.74098,
                        "learn": [
                          0.1260127731
                        ]
                      },
                      {
                        "test": [
                          0.1378487297
                        ],
                        "passed_time": 980.3916566,
                        "iteration": 293,
                        "remaining_time": 2354.273842,
                        "learn": [
                          0.125998465
                        ]
                      },
                      {
                        "test": [
                          0.1376963863
                        ],
                        "passed_time": 983.827094,
                        "iteration": 294,
                        "remaining_time": 2351.180004,
                        "learn": [
                          0.1258658372
                        ]
                      },
                      {
                        "test": [
                          0.1376033896
                        ],
                        "passed_time": 987.3007377,
                        "iteration": 295,
                        "remaining_time": 2348.174727,
                        "learn": [
                          0.1257614387
                        ]
                      },
                      {
                        "test": [
                          0.1372310375
                        ],
                        "passed_time": 990.7297934,
                        "iteration": 296,
                        "remaining_time": 2345.060757,
                        "learn": [
                          0.1252844205
                        ]
                      },
                      {
                        "test": [
                          0.1371877747
                        ],
                        "passed_time": 994.1197545,
                        "iteration": 297,
                        "remaining_time": 2341.852576,
                        "learn": [
                          0.1251940783
                        ]
                      },
                      {
                        "test": [
                          0.1371547496
                        ],
                        "passed_time": 997.5614848,
                        "iteration": 298,
                        "remaining_time": 2338.764551,
                        "learn": [
                          0.1250947344
                        ]
                      },
                      {
                        "test": [
                          0.1371169413
                        ],
                        "passed_time": 1001.025416,
                        "iteration": 299,
                        "remaining_time": 2335.72597,
                        "learn": [
                          0.1250409977
                        ]
                      },
                      {
                        "test": [
                          0.1371062741
                        ],
                        "passed_time": 1004.442626,
                        "iteration": 300,
                        "remaining_time": 2332.576066,
                        "learn": [
                          0.1249986497
                        ]
                      },
                      {
                        "test": [
                          0.1370689664
                        ],
                        "passed_time": 1007.785768,
                        "iteration": 301,
                        "remaining_time": 2329.2532,
                        "learn": [
                          0.12493322
                        ]
                      },
                      {
                        "test": [
                          0.1370062589
                        ],
                        "passed_time": 1011.010562,
                        "iteration": 302,
                        "remaining_time": 2325.657958,
                        "learn": [
                          0.1248086398
                        ]
                      },
                      {
                        "test": [
                          0.1370048865
                        ],
                        "passed_time": 1014.318995,
                        "iteration": 303,
                        "remaining_time": 2322.256646,
                        "learn": [
                          0.1247950755
                        ]
                      },
                      {
                        "test": [
                          0.1369088032
                        ],
                        "passed_time": 1017.609811,
                        "iteration": 304,
                        "remaining_time": 2318.815799,
                        "learn": [
                          0.1245914391
                        ]
                      },
                      {
                        "test": [
                          0.1368205598
                        ],
                        "passed_time": 1020.889686,
                        "iteration": 305,
                        "remaining_time": 2315.351119,
                        "learn": [
                          0.1244611939
                        ]
                      },
                      {
                        "test": [
                          0.1368188866
                        ],
                        "passed_time": 1024.232355,
                        "iteration": 306,
                        "remaining_time": 2312.029387,
                        "learn": [
                          0.124455907
                        ]
                      },
                      {
                        "test": [
                          0.1367716126
                        ],
                        "passed_time": 1027.708144,
                        "iteration": 307,
                        "remaining_time": 2309.00661,
                        "learn": [
                          0.1244068871
                        ]
                      },
                      {
                        "test": [
                          0.1367715526
                        ],
                        "passed_time": 1031.149219,
                        "iteration": 308,
                        "remaining_time": 2305.90327,
                        "learn": [
                          0.1244049203
                        ]
                      },
                      {
                        "test": [
                          0.1367268951
                        ],
                        "passed_time": 1034.545529,
                        "iteration": 309,
                        "remaining_time": 2302.698113,
                        "learn": [
                          0.1243554065
                        ]
                      },
                      {
                        "test": [
                          0.136725985
                        ],
                        "passed_time": 1037.806954,
                        "iteration": 310,
                        "remaining_time": 2299.192897,
                        "learn": [
                          0.1243506282
                        ]
                      },
                      {
                        "test": [
                          0.1366861436
                        ],
                        "passed_time": 1040.978643,
                        "iteration": 311,
                        "remaining_time": 2295.491367,
                        "learn": [
                          0.1242796197
                        ]
                      },
                      {
                        "test": [
                          0.1366342293
                        ],
                        "passed_time": 1044.196613,
                        "iteration": 312,
                        "remaining_time": 2291.894802,
                        "learn": [
                          0.1242291122
                        ]
                      },
                      {
                        "test": [
                          0.1365611468
                        ],
                        "passed_time": 1047.549003,
                        "iteration": 313,
                        "remaining_time": 2288.594319,
                        "learn": [
                          0.1241672393
                        ]
                      },
                      {
                        "test": [
                          0.1364451742
                        ],
                        "passed_time": 1050.916459,
                        "iteration": 314,
                        "remaining_time": 2285.326268,
                        "learn": [
                          0.1240093795
                        ]
                      },
                      {
                        "test": [
                          0.1362879963
                        ],
                        "passed_time": 1054.30807,
                        "iteration": 315,
                        "remaining_time": 2282.109872,
                        "learn": [
                          0.1237778401
                        ]
                      },
                      {
                        "test": [
                          0.1361709019
                        ],
                        "passed_time": 1057.739385,
                        "iteration": 316,
                        "remaining_time": 2278.977918,
                        "learn": [
                          0.1235908834
                        ]
                      },
                      {
                        "test": [
                          0.1361565011
                        ],
                        "passed_time": 1061.189879,
                        "iteration": 317,
                        "remaining_time": 2275.885213,
                        "learn": [
                          0.1235177646
                        ]
                      },
                      {
                        "test": [
                          0.1359957935
                        ],
                        "passed_time": 1064.632995,
                        "iteration": 318,
                        "remaining_time": 2272.774513,
                        "learn": [
                          0.1233308332
                        ]
                      },
                      {
                        "test": [
                          0.1356468093
                        ],
                        "passed_time": 1068.1702,
                        "iteration": 319,
                        "remaining_time": 2269.861676,
                        "learn": [
                          0.1229953243
                        ]
                      },
                      {
                        "test": [
                          0.1355768381
                        ],
                        "passed_time": 1071.484315,
                        "iteration": 320,
                        "remaining_time": 2266.473053,
                        "learn": [
                          0.1229194653
                        ]
                      },
                      {
                        "test": [
                          0.1355423521
                        ],
                        "passed_time": 1074.715686,
                        "iteration": 321,
                        "remaining_time": 2262.910668,
                        "learn": [
                          0.1228903865
                        ]
                      },
                      {
                        "test": [
                          0.1355297206
                        ],
                        "passed_time": 1077.960357,
                        "iteration": 322,
                        "remaining_time": 2259.37821,
                        "learn": [
                          0.1228736728
                        ]
                      },
                      {
                        "test": [
                          0.1355296627
                        ],
                        "passed_time": 1081.221607,
                        "iteration": 323,
                        "remaining_time": 2255.882117,
                        "learn": [
                          0.1228715555
                        ]
                      },
                      {
                        "test": [
                          0.1355295428
                        ],
                        "passed_time": 1084.441188,
                        "iteration": 324,
                        "remaining_time": 2252.300928,
                        "learn": [
                          0.1228699841
                        ]
                      },
                      {
                        "test": [
                          0.1354979021
                        ],
                        "passed_time": 1087.562946,
                        "iteration": 325,
                        "remaining_time": 2248.519709,
                        "learn": [
                          0.122797915
                        ]
                      },
                      {
                        "test": [
                          0.1354974632
                        ],
                        "passed_time": 1090.771753,
                        "iteration": 326,
                        "remaining_time": 2244.921681,
                        "learn": [
                          0.1227959909
                        ]
                      },
                      {
                        "test": [
                          0.1354365114
                        ],
                        "passed_time": 1094.002363,
                        "iteration": 327,
                        "remaining_time": 2241.370695,
                        "learn": [
                          0.1227462913
                        ]
                      },
                      {
                        "test": [
                          0.1354367624
                        ],
                        "passed_time": 1097.218067,
                        "iteration": 328,
                        "remaining_time": 2237.791255,
                        "learn": [
                          0.1227442819
                        ]
                      },
                      {
                        "test": [
                          0.1354148101
                        ],
                        "passed_time": 1100.392888,
                        "iteration": 329,
                        "remaining_time": 2234.131015,
                        "learn": [
                          0.122720352
                        ]
                      },
                      {
                        "test": [
                          0.1354202908
                        ],
                        "passed_time": 1103.601722,
                        "iteration": 330,
                        "remaining_time": 2230.542453,
                        "learn": [
                          0.1227094092
                        ]
                      },
                      {
                        "test": [
                          0.135379491
                        ],
                        "passed_time": 1106.828512,
                        "iteration": 331,
                        "remaining_time": 2226.992308,
                        "learn": [
                          0.1226678066
                        ]
                      },
                      {
                        "test": [
                          0.1352392496
                        ],
                        "passed_time": 1110.089138,
                        "iteration": 332,
                        "remaining_time": 2223.511878,
                        "learn": [
                          0.1224877654
                        ]
                      },
                      {
                        "test": [
                          0.1352111996
                        ],
                        "passed_time": 1113.423155,
                        "iteration": 333,
                        "remaining_time": 2220.179106,
                        "learn": [
                          0.1224209691
                        ]
                      },
                      {
                        "test": [
                          0.1350788168
                        ],
                        "passed_time": 1116.847162,
                        "iteration": 334,
                        "remaining_time": 2217.024963,
                        "learn": [
                          0.1222738377
                        ]
                      },
                      {
                        "test": [
                          0.135040062
                        ],
                        "passed_time": 1120.228159,
                        "iteration": 335,
                        "remaining_time": 2213.784219,
                        "learn": [
                          0.1222266502
                        ]
                      },
                      {
                        "test": [
                          0.1350368688
                        ],
                        "passed_time": 1123.645043,
                        "iteration": 336,
                        "remaining_time": 2210.613244,
                        "learn": [
                          0.1222012396
                        ]
                      },
                      {
                        "test": [
                          0.1349246372
                        ],
                        "passed_time": 1127.015307,
                        "iteration": 337,
                        "remaining_time": 2207.349507,
                        "learn": [
                          0.1220715656
                        ]
                      },
                      {
                        "test": [
                          0.1347700071
                        ],
                        "passed_time": 1130.395108,
                        "iteration": 338,
                        "remaining_time": 2204.103735,
                        "learn": [
                          0.1218438738
                        ]
                      },
                      {
                        "test": [
                          0.1344189736
                        ],
                        "passed_time": 1133.800972,
                        "iteration": 339,
                        "remaining_time": 2200.90777,
                        "learn": [
                          0.1214476516
                        ]
                      },
                      {
                        "test": [
                          0.1343623692
                        ],
                        "passed_time": 1137.159678,
                        "iteration": 340,
                        "remaining_time": 2197.619436,
                        "learn": [
                          0.1213709155
                        ]
                      },
                      {
                        "test": [
                          0.1343294504
                        ],
                        "passed_time": 1140.417956,
                        "iteration": 341,
                        "remaining_time": 2194.13747,
                        "learn": [
                          0.1213417437
                        ]
                      },
                      {
                        "test": [
                          0.1343261566
                        ],
                        "passed_time": 1143.660704,
                        "iteration": 342,
                        "remaining_time": 2190.627062,
                        "learn": [
                          0.1213397046
                        ]
                      },
                      {
                        "test": [
                          0.1340270598
                        ],
                        "passed_time": 1146.853747,
                        "iteration": 343,
                        "remaining_time": 2187.023425,
                        "learn": [
                          0.1209825115
                        ]
                      },
                      {
                        "test": [
                          0.1340257893
                        ],
                        "passed_time": 1150.067167,
                        "iteration": 344,
                        "remaining_time": 2183.460853,
                        "learn": [
                          0.1209803914
                        ]
                      },
                      {
                        "test": [
                          0.1340231375
                        ],
                        "passed_time": 1153.318498,
                        "iteration": 345,
                        "remaining_time": 2179.971959,
                        "learn": [
                          0.120952324
                        ]
                      },
                      {
                        "test": [
                          0.1337682042
                        ],
                        "passed_time": 1156.521249,
                        "iteration": 346,
                        "remaining_time": 2176.393012,
                        "learn": [
                          0.1206658076
                        ]
                      },
                      {
                        "test": [
                          0.1337630487
                        ],
                        "passed_time": 1159.719261,
                        "iteration": 347,
                        "remaining_time": 2172.807351,
                        "learn": [
                          0.1206567339
                        ]
                      },
                      {
                        "test": [
                          0.1336501572
                        ],
                        "passed_time": 1162.888826,
                        "iteration": 348,
                        "remaining_time": 2169.170848,
                        "learn": [
                          0.1204787689
                        ]
                      },
                      {
                        "test": [
                          0.1336294812
                        ],
                        "passed_time": 1166.112582,
                        "iteration": 349,
                        "remaining_time": 2165.637652,
                        "learn": [
                          0.1204366651
                        ]
                      },
                      {
                        "test": [
                          0.1335840138
                        ],
                        "passed_time": 1169.323239,
                        "iteration": 350,
                        "remaining_time": 2162.082001,
                        "learn": [
                          0.1203706625
                        ]
                      },
                      {
                        "test": [
                          0.1333633112
                        ],
                        "passed_time": 1172.507204,
                        "iteration": 351,
                        "remaining_time": 2158.479172,
                        "learn": [
                          0.1200745272
                        ]
                      },
                      {
                        "test": [
                          0.1333008521
                        ],
                        "passed_time": 1175.677486,
                        "iteration": 352,
                        "remaining_time": 2154.853635,
                        "learn": [
                          0.1199949701
                        ]
                      },
                      {
                        "test": [
                          0.1332360161
                        ],
                        "passed_time": 1178.966732,
                        "iteration": 353,
                        "remaining_time": 2151.447765,
                        "learn": [
                          0.1199424353
                        ]
                      },
                      {
                        "test": [
                          0.1332190588
                        ],
                        "passed_time": 1182.305486,
                        "iteration": 354,
                        "remaining_time": 2148.132503,
                        "learn": [
                          0.1199153607
                        ]
                      },
                      {
                        "test": [
                          0.1331753259
                        ],
                        "passed_time": 1185.732215,
                        "iteration": 355,
                        "remaining_time": 2144.976254,
                        "learn": [
                          0.1198517534
                        ]
                      },
                      {
                        "test": [
                          0.133133359
                        ],
                        "passed_time": 1189.164173,
                        "iteration": 356,
                        "remaining_time": 2141.827909,
                        "learn": [
                          0.1198261607
                        ]
                      },
                      {
                        "test": [
                          0.1331372451
                        ],
                        "passed_time": 1192.535289,
                        "iteration": 357,
                        "remaining_time": 2138.568869,
                        "learn": [
                          0.1198181956
                        ]
                      },
                      {
                        "test": [
                          0.1329676658
                        ],
                        "passed_time": 1195.927109,
                        "iteration": 358,
                        "remaining_time": 2135.346175,
                        "learn": [
                          0.1196063471
                        ]
                      },
                      {
                        "test": [
                          0.1329136765
                        ],
                        "passed_time": 1199.344035,
                        "iteration": 359,
                        "remaining_time": 2132.167173,
                        "learn": [
                          0.1195213422
                        ]
                      },
                      {
                        "test": [
                          0.1328458449
                        ],
                        "passed_time": 1202.696581,
                        "iteration": 360,
                        "remaining_time": 2128.872896,
                        "learn": [
                          0.1194296176
                        ]
                      },
                      {
                        "test": [
                          0.1328465405
                        ],
                        "passed_time": 1205.946632,
                        "iteration": 361,
                        "remaining_time": 2125.397655,
                        "learn": [
                          0.1194249311
                        ]
                      },
                      {
                        "test": [
                          0.132574549
                        ],
                        "passed_time": 1209.143896,
                        "iteration": 362,
                        "remaining_time": 2121.831025,
                        "learn": [
                          0.1191304975
                        ]
                      },
                      {
                        "test": [
                          0.1325258893
                        ],
                        "passed_time": 1212.496385,
                        "iteration": 363,
                        "remaining_time": 2118.53764,
                        "learn": [
                          0.1190581924
                        ]
                      },
                      {
                        "test": [
                          0.1325257758
                        ],
                        "passed_time": 1215.933217,
                        "iteration": 364,
                        "remaining_time": 2115.390666,
                        "learn": [
                          0.1190558785
                        ]
                      },
                      {
                        "test": [
                          0.1324030634
                        ],
                        "passed_time": 1219.314844,
                        "iteration": 365,
                        "remaining_time": 2112.146479,
                        "learn": [
                          0.1188412745
                        ]
                      },
                      {
                        "test": [
                          0.132400764
                        ],
                        "passed_time": 1222.692139,
                        "iteration": 366,
                        "remaining_time": 2108.894071,
                        "learn": [
                          0.1188259719
                        ]
                      },
                      {
                        "test": [
                          0.1323707149
                        ],
                        "passed_time": 1226.116762,
                        "iteration": 367,
                        "remaining_time": 2105.722265,
                        "learn": [
                          0.11878963
                        ]
                      },
                      {
                        "test": [
                          0.1321537135
                        ],
                        "passed_time": 1229.483498,
                        "iteration": 368,
                        "remaining_time": 2102.450102,
                        "learn": [
                          0.1185499591
                        ]
                      },
                      {
                        "test": [
                          0.1321540088
                        ],
                        "passed_time": 1232.91912,
                        "iteration": 369,
                        "remaining_time": 2099.294718,
                        "learn": [
                          0.1185485486
                        ]
                      },
                      {
                        "test": [
                          0.1321272455
                        ],
                        "passed_time": 1236.312934,
                        "iteration": 370,
                        "remaining_time": 2096.066942,
                        "learn": [
                          0.1185086606
                        ]
                      },
                      {
                        "test": [
                          0.1321099038
                        ],
                        "passed_time": 1239.662572,
                        "iteration": 371,
                        "remaining_time": 2092.763696,
                        "learn": [
                          0.1184948645
                        ]
                      },
                      {
                        "test": [
                          0.1320316228
                        ],
                        "passed_time": 1242.910265,
                        "iteration": 372,
                        "remaining_time": 2089.288837,
                        "learn": [
                          0.1184340232
                        ]
                      },
                      {
                        "test": [
                          0.1320310528
                        ],
                        "passed_time": 1246.13201,
                        "iteration": 373,
                        "remaining_time": 2085.77176,
                        "learn": [
                          0.118432424
                        ]
                      },
                      {
                        "test": [
                          0.1320014051
                        ],
                        "passed_time": 1249.426911,
                        "iteration": 374,
                        "remaining_time": 2082.378186,
                        "learn": [
                          0.1183738764
                        ]
                      },
                      {
                        "test": [
                          0.1318436688
                        ],
                        "passed_time": 1252.657926,
                        "iteration": 375,
                        "remaining_time": 2078.879112,
                        "learn": [
                          0.1182196403
                        ]
                      },
                      {
                        "test": [
                          0.131513677
                        ],
                        "passed_time": 1255.84541,
                        "iteration": 376,
                        "remaining_time": 2075.309523,
                        "learn": [
                          0.1178320584
                        ]
                      },
                      {
                        "test": [
                          0.1315124413
                        ],
                        "passed_time": 1259.065682,
                        "iteration": 377,
                        "remaining_time": 2071.795911,
                        "learn": [
                          0.1178295307
                        ]
                      },
                      {
                        "test": [
                          0.131512223
                        ],
                        "passed_time": 1262.255126,
                        "iteration": 378,
                        "remaining_time": 2068.233333,
                        "learn": [
                          0.1177806694
                        ]
                      },
                      {
                        "test": [
                          0.131448313
                        ],
                        "passed_time": 1265.45033,
                        "iteration": 379,
                        "remaining_time": 2064.682117,
                        "learn": [
                          0.117701234
                        ]
                      },
                      {
                        "test": [
                          0.1314481116
                        ],
                        "passed_time": 1268.637524,
                        "iteration": 380,
                        "remaining_time": 2061.119756,
                        "learn": [
                          0.117699558
                        ]
                      },
                      {
                        "test": [
                          0.131308384
                        ],
                        "passed_time": 1271.78975,
                        "iteration": 381,
                        "remaining_time": 2057.502789,
                        "learn": [
                          0.1175703041
                        ]
                      },
                      {
                        "test": [
                          0.1312755136
                        ],
                        "passed_time": 1274.935953,
                        "iteration": 382,
                        "remaining_time": 2053.878546,
                        "learn": [
                          0.1175316552
                        ]
                      },
                      {
                        "test": [
                          0.1310141009
                        ],
                        "passed_time": 1278.243773,
                        "iteration": 383,
                        "remaining_time": 2050.516052,
                        "learn": [
                          0.1171872569
                        ]
                      },
                      {
                        "test": [
                          0.1309147849
                        ],
                        "passed_time": 1281.668888,
                        "iteration": 384,
                        "remaining_time": 2047.341211,
                        "learn": [
                          0.1170481643
                        ]
                      },
                      {
                        "test": [
                          0.130914173
                        ],
                        "passed_time": 1285.098131,
                        "iteration": 385,
                        "remaining_time": 2044.171639,
                        "learn": [
                          0.1170453374
                        ]
                      },
                      {
                        "test": [
                          0.130914313
                        ],
                        "passed_time": 1288.535098,
                        "iteration": 386,
                        "remaining_time": 2041.012959,
                        "learn": [
                          0.1170437745
                        ]
                      },
                      {
                        "test": [
                          0.1308346095
                        ],
                        "passed_time": 1291.907358,
                        "iteration": 387,
                        "remaining_time": 2037.750782,
                        "learn": [
                          0.1168702927
                        ]
                      },
                      {
                        "test": [
                          0.1304496548
                        ],
                        "passed_time": 1295.312292,
                        "iteration": 388,
                        "remaining_time": 2034.539358,
                        "learn": [
                          0.1164669712
                        ]
                      },
                      {
                        "test": [
                          0.1304497757
                        ],
                        "passed_time": 1298.731114,
                        "iteration": 389,
                        "remaining_time": 2031.348666,
                        "learn": [
                          0.1164653929
                        ]
                      },
                      {
                        "test": [
                          0.1304384646
                        ],
                        "passed_time": 1302.123187,
                        "iteration": 390,
                        "remaining_time": 2028.115144,
                        "learn": [
                          0.1164270317
                        ]
                      },
                      {
                        "test": [
                          0.1303541096
                        ],
                        "passed_time": 1305.406734,
                        "iteration": 391,
                        "remaining_time": 2024.712485,
                        "learn": [
                          0.1163292746
                        ]
                      },
                      {
                        "test": [
                          0.1302839999
                        ],
                        "passed_time": 1308.566793,
                        "iteration": 392,
                        "remaining_time": 2021.119703,
                        "learn": [
                          0.1162130125
                        ]
                      },
                      {
                        "test": [
                          0.1302017536
                        ],
                        "passed_time": 1311.758394,
                        "iteration": 393,
                        "remaining_time": 2017.577632,
                        "learn": [
                          0.1161287341
                        ]
                      },
                      {
                        "test": [
                          0.1301978524
                        ],
                        "passed_time": 1314.986353,
                        "iteration": 394,
                        "remaining_time": 2014.093021,
                        "learn": [
                          0.1160900257
                        ]
                      },
                      {
                        "test": [
                          0.1301808249
                        ],
                        "passed_time": 1318.161599,
                        "iteration": 395,
                        "remaining_time": 2010.529308,
                        "learn": [
                          0.1160702748
                        ]
                      },
                      {
                        "test": [
                          0.130198712
                        ],
                        "passed_time": 1321.35121,
                        "iteration": 396,
                        "remaining_time": 2006.989369,
                        "learn": [
                          0.116029822
                        ]
                      },
                      {
                        "test": [
                          0.1302038833
                        ],
                        "passed_time": 1324.583179,
                        "iteration": 397,
                        "remaining_time": 2003.515261,
                        "learn": [
                          0.1160228276
                        ]
                      },
                      {
                        "test": [
                          0.1300846029
                        ],
                        "passed_time": 1327.791594,
                        "iteration": 398,
                        "remaining_time": 2000.006887,
                        "learn": [
                          0.1158567115
                        ]
                      },
                      {
                        "test": [
                          0.1300765498
                        ],
                        "passed_time": 1330.959422,
                        "iteration": 399,
                        "remaining_time": 1996.439133,
                        "learn": [
                          0.1158485657
                        ]
                      },
                      {
                        "test": [
                          0.130064114
                        ],
                        "passed_time": 1334.129448,
                        "iteration": 400,
                        "remaining_time": 1992.876656,
                        "learn": [
                          0.1157481963
                        ]
                      },
                      {
                        "test": [
                          0.1299805828
                        ],
                        "passed_time": 1337.245535,
                        "iteration": 401,
                        "remaining_time": 1989.235895,
                        "learn": [
                          0.1156834799
                        ]
                      },
                      {
                        "test": [
                          0.1298256645
                        ],
                        "passed_time": 1340.354454,
                        "iteration": 402,
                        "remaining_time": 1985.58712,
                        "learn": [
                          0.1155216023
                        ]
                      },
                      {
                        "test": [
                          0.1298013484
                        ],
                        "passed_time": 1343.557654,
                        "iteration": 403,
                        "remaining_time": 1982.080103,
                        "learn": [
                          0.1154856927
                        ]
                      },
                      {
                        "test": [
                          0.129738589
                        ],
                        "passed_time": 1347.019138,
                        "iteration": 404,
                        "remaining_time": 1978.954042,
                        "learn": [
                          0.1154429475
                        ]
                      },
                      {
                        "test": [
                          0.1296609389
                        ],
                        "passed_time": 1350.408648,
                        "iteration": 405,
                        "remaining_time": 1975.721027,
                        "learn": [
                          0.1153280503
                        ]
                      },
                      {
                        "test": [
                          0.1296065592
                        ],
                        "passed_time": 1353.8381,
                        "iteration": 406,
                        "remaining_time": 1972.545438,
                        "learn": [
                          0.1152662413
                        ]
                      },
                      {
                        "test": [
                          0.1295498778
                        ],
                        "passed_time": 1357.227913,
                        "iteration": 407,
                        "remaining_time": 1969.31109,
                        "learn": [
                          0.1152038351
                        ]
                      },
                      {
                        "test": [
                          0.1292107431
                        ],
                        "passed_time": 1360.603108,
                        "iteration": 408,
                        "remaining_time": 1966.054858,
                        "learn": [
                          0.1148310281
                        ]
                      },
                      {
                        "test": [
                          0.1289891344
                        ],
                        "passed_time": 1364.04339,
                        "iteration": 409,
                        "remaining_time": 1962.891708,
                        "learn": [
                          0.1146039746
                        ]
                      },
                      {
                        "test": [
                          0.128903496
                        ],
                        "passed_time": 1367.448298,
                        "iteration": 410,
                        "remaining_time": 1959.676514,
                        "learn": [
                          0.1145249498
                        ]
                      },
                      {
                        "test": [
                          0.1287649454
                        ],
                        "passed_time": 1370.658572,
                        "iteration": 411,
                        "remaining_time": 1956.182623,
                        "learn": [
                          0.1143860428
                        ]
                      },
                      {
                        "test": [
                          0.1286725108
                        ],
                        "passed_time": 1373.910655,
                        "iteration": 412,
                        "remaining_time": 1952.749526,
                        "learn": [
                          0.1142923388
                        ]
                      },
                      {
                        "test": [
                          0.1286846765
                        ],
                        "passed_time": 1377.146742,
                        "iteration": 413,
                        "remaining_time": 1949.294664,
                        "learn": [
                          0.1142797018
                        ]
                      },
                      {
                        "test": [
                          0.1286949337
                        ],
                        "passed_time": 1380.498464,
                        "iteration": 414,
                        "remaining_time": 1946.003858,
                        "learn": [
                          0.1142709651
                        ]
                      },
                      {
                        "test": [
                          0.1286630344
                        ],
                        "passed_time": 1383.681824,
                        "iteration": 415,
                        "remaining_time": 1942.476407,
                        "learn": [
                          0.1142361203
                        ]
                      },
                      {
                        "test": [
                          0.1286151091
                        ],
                        "passed_time": 1386.906521,
                        "iteration": 416,
                        "remaining_time": 1939.008397,
                        "learn": [
                          0.1141569558
                        ]
                      },
                      {
                        "test": [
                          0.1285945374
                        ],
                        "passed_time": 1390.114355,
                        "iteration": 417,
                        "remaining_time": 1935.518073,
                        "learn": [
                          0.1141231928
                        ]
                      },
                      {
                        "test": [
                          0.1284861587
                        ],
                        "passed_time": 1393.332233,
                        "iteration": 418,
                        "remaining_time": 1932.043025,
                        "learn": [
                          0.1139229939
                        ]
                      },
                      {
                        "test": [
                          0.1284815197
                        ],
                        "passed_time": 1396.580582,
                        "iteration": 419,
                        "remaining_time": 1928.611279,
                        "learn": [
                          0.1139141201
                        ]
                      },
                      {
                        "test": [
                          0.1284904046
                        ],
                        "passed_time": 1399.832739,
                        "iteration": 420,
                        "remaining_time": 1925.185643,
                        "learn": [
                          0.1139072753
                        ]
                      },
                      {
                        "test": [
                          0.1284017467
                        ],
                        "passed_time": 1403.072235,
                        "iteration": 421,
                        "remaining_time": 1921.743488,
                        "learn": [
                          0.1138131012
                        ]
                      },
                      {
                        "test": [
                          0.1282988347
                        ],
                        "passed_time": 1406.281558,
                        "iteration": 422,
                        "remaining_time": 1918.261132,
                        "learn": [
                          0.1137251764
                        ]
                      },
                      {
                        "test": [
                          0.1282910673
                        ],
                        "passed_time": 1409.562283,
                        "iteration": 423,
                        "remaining_time": 1914.877063,
                        "learn": [
                          0.1137160947
                        ]
                      },
                      {
                        "test": [
                          0.128273406
                        ],
                        "passed_time": 1412.979123,
                        "iteration": 424,
                        "remaining_time": 1911.677637,
                        "learn": [
                          0.11369569
                        ]
                      },
                      {
                        "test": [
                          0.128174705
                        ],
                        "passed_time": 1416.386556,
                        "iteration": 425,
                        "remaining_time": 1908.464515,
                        "learn": [
                          0.1135510394
                        ]
                      },
                      {
                        "test": [
                          0.128112932
                        ],
                        "passed_time": 1419.758,
                        "iteration": 426,
                        "remaining_time": 1905.202187,
                        "learn": [
                          0.1134697688
                        ]
                      },
                      {
                        "test": [
                          0.1279737729
                        ],
                        "passed_time": 1423.209507,
                        "iteration": 427,
                        "remaining_time": 1902.046351,
                        "learn": [
                          0.1133298708
                        ]
                      },
                      {
                        "test": [
                          0.1278869768
                        ],
                        "passed_time": 1426.588731,
                        "iteration": 428,
                        "remaining_time": 1898.792927,
                        "learn": [
                          0.1132086537
                        ]
                      },
                      {
                        "test": [
                          0.1278808
                        ],
                        "passed_time": 1429.980186,
                        "iteration": 429,
                        "remaining_time": 1895.55513,
                        "learn": [
                          0.1131994277
                        ]
                      },
                      {
                        "test": [
                          0.1276569266
                        ],
                        "passed_time": 1433.395512,
                        "iteration": 430,
                        "remaining_time": 1892.348135,
                        "learn": [
                          0.1129818808
                        ]
                      },
                      {
                        "test": [
                          0.1276617476
                        ],
                        "passed_time": 1436.667895,
                        "iteration": 431,
                        "remaining_time": 1888.952232,
                        "learn": [
                          0.1129708349
                        ]
                      },
                      {
                        "test": [
                          0.1276320619
                        ],
                        "passed_time": 1439.854323,
                        "iteration": 432,
                        "remaining_time": 1885.444345,
                        "learn": [
                          0.1129268343
                        ]
                      },
                      {
                        "test": [
                          0.1275240475
                        ],
                        "passed_time": 1443.102979,
                        "iteration": 433,
                        "remaining_time": 1882.019093,
                        "learn": [
                          0.1127184992
                        ]
                      },
                      {
                        "test": [
                          0.1275160502
                        ],
                        "passed_time": 1446.306729,
                        "iteration": 434,
                        "remaining_time": 1878.536326,
                        "learn": [
                          0.1127118682
                        ]
                      },
                      {
                        "test": [
                          0.1275010192
                        ],
                        "passed_time": 1449.56966,
                        "iteration": 435,
                        "remaining_time": 1875.131395,
                        "learn": [
                          0.1126985323
                        ]
                      },
                      {
                        "test": [
                          0.127288669
                        ],
                        "passed_time": 1452.810275,
                        "iteration": 436,
                        "remaining_time": 1871.698364,
                        "learn": [
                          0.1124777692
                        ]
                      },
                      {
                        "test": [
                          0.127182355
                        ],
                        "passed_time": 1456.059949,
                        "iteration": 437,
                        "remaining_time": 1868.277834,
                        "learn": [
                          0.1123661082
                        ]
                      },
                      {
                        "test": [
                          0.1271708761
                        ],
                        "passed_time": 1459.319594,
                        "iteration": 438,
                        "remaining_time": 1864.870825,
                        "learn": [
                          0.1123510371
                        ]
                      },
                      {
                        "test": [
                          0.1271224312
                        ],
                        "passed_time": 1462.58432,
                        "iteration": 439,
                        "remaining_time": 1861.470953,
                        "learn": [
                          0.1122964446
                        ]
                      },
                      {
                        "test": [
                          0.1270046481
                        ],
                        "passed_time": 1465.821715,
                        "iteration": 440,
                        "remaining_time": 1858.037049,
                        "learn": [
                          0.1121881848
                        ]
                      },
                      {
                        "test": [
                          0.126957589
                        ],
                        "passed_time": 1469.117025,
                        "iteration": 441,
                        "remaining_time": 1854.677149,
                        "learn": [
                          0.1121196989
                        ]
                      },
                      {
                        "test": [
                          0.1268374452
                        ],
                        "passed_time": 1472.331213,
                        "iteration": 442,
                        "remaining_time": 1851.215544,
                        "learn": [
                          0.1120143266
                        ]
                      },
                      {
                        "test": [
                          0.1267566863
                        ],
                        "passed_time": 1475.543641,
                        "iteration": 443,
                        "remaining_time": 1847.752848,
                        "learn": [
                          0.1119110348
                        ]
                      },
                      {
                        "test": [
                          0.1266508774
                        ],
                        "passed_time": 1478.990113,
                        "iteration": 444,
                        "remaining_time": 1844.583175,
                        "learn": [
                          0.11182194
                        ]
                      },
                      {
                        "test": [
                          0.1265742953
                        ],
                        "passed_time": 1482.416759,
                        "iteration": 445,
                        "remaining_time": 1841.387633,
                        "learn": [
                          0.1116892357
                        ]
                      },
                      {
                        "test": [
                          0.1265532404
                        ],
                        "passed_time": 1485.892751,
                        "iteration": 446,
                        "remaining_time": 1838.252106,
                        "learn": [
                          0.1116495402
                        ]
                      },
                      {
                        "test": [
                          0.1263666022
                        ],
                        "passed_time": 1489.321916,
                        "iteration": 447,
                        "remaining_time": 1835.057361,
                        "learn": [
                          0.1114770978
                        ]
                      },
                      {
                        "test": [
                          0.1263447773
                        ],
                        "passed_time": 1492.76086,
                        "iteration": 448,
                        "remaining_time": 1831.873572,
                        "learn": [
                          0.1114454783
                        ]
                      },
                      {
                        "test": [
                          0.1263238643
                        ],
                        "passed_time": 1496.202169,
                        "iteration": 449,
                        "remaining_time": 1828.69154,
                        "learn": [
                          0.1114315546
                        ]
                      },
                      {
                        "test": [
                          0.1262686318
                        ],
                        "passed_time": 1499.61474,
                        "iteration": 450,
                        "remaining_time": 1825.473375,
                        "learn": [
                          0.1113838066
                        ]
                      },
                      {
                        "test": [
                          0.1262675137
                        ],
                        "passed_time": 1502.932447,
                        "iteration": 451,
                        "remaining_time": 1822.139339,
                        "learn": [
                          0.1113826562
                        ]
                      },
                      {
                        "test": [
                          0.1262580904
                        ],
                        "passed_time": 1506.199323,
                        "iteration": 452,
                        "remaining_time": 1818.743995,
                        "learn": [
                          0.1113585383
                        ]
                      },
                      {
                        "test": [
                          0.1262359094
                        ],
                        "passed_time": 1509.526314,
                        "iteration": 453,
                        "remaining_time": 1815.421515,
                        "learn": [
                          0.1113105778
                        ]
                      },
                      {
                        "test": [
                          0.1261515802
                        ],
                        "passed_time": 1513.068702,
                        "iteration": 454,
                        "remaining_time": 1812.357017,
                        "learn": [
                          0.1112346878
                        ]
                      },
                      {
                        "test": [
                          0.1261454526
                        ],
                        "passed_time": 1516.531507,
                        "iteration": 455,
                        "remaining_time": 1809.195482,
                        "learn": [
                          0.1112271195
                        ]
                      },
                      {
                        "test": [
                          0.1261293969
                        ],
                        "passed_time": 1519.96526,
                        "iteration": 456,
                        "remaining_time": 1805.99811,
                        "learn": [
                          0.1111947082
                        ]
                      },
                      {
                        "test": [
                          0.1259461132
                        ],
                        "passed_time": 1523.385977,
                        "iteration": 457,
                        "remaining_time": 1802.784278,
                        "learn": [
                          0.1109598042
                        ]
                      },
                      {
                        "test": [
                          0.1259476715
                        ],
                        "passed_time": 1526.790443,
                        "iteration": 458,
                        "remaining_time": 1799.550391,
                        "learn": [
                          0.1109552377
                        ]
                      },
                      {
                        "test": [
                          0.1257605626
                        ],
                        "passed_time": 1530.205301,
                        "iteration": 459,
                        "remaining_time": 1796.327962,
                        "learn": [
                          0.1107788881
                        ]
                      },
                      {
                        "test": [
                          0.1257613724
                        ],
                        "passed_time": 1533.645323,
                        "iteration": 460,
                        "remaining_time": 1793.134119,
                        "learn": [
                          0.1107764202
                        ]
                      },
                      {
                        "test": [
                          0.1254233108
                        ],
                        "passed_time": 1536.869802,
                        "iteration": 461,
                        "remaining_time": 1789.68821,
                        "learn": [
                          0.1104629207
                        ]
                      },
                      {
                        "test": [
                          0.1253324874
                        ],
                        "passed_time": 1540.069082,
                        "iteration": 462,
                        "remaining_time": 1786.214032,
                        "learn": [
                          0.1103634588
                        ]
                      },
                      {
                        "test": [
                          0.1253217715
                        ],
                        "passed_time": 1543.316009,
                        "iteration": 463,
                        "remaining_time": 1782.796079,
                        "learn": [
                          0.1103019892
                        ]
                      },
                      {
                        "test": [
                          0.1252344362
                        ],
                        "passed_time": 1546.554684,
                        "iteration": 464,
                        "remaining_time": 1779.369367,
                        "learn": [
                          0.1101929136
                        ]
                      },
                      {
                        "test": [
                          0.1251315487
                        ],
                        "passed_time": 1549.828281,
                        "iteration": 465,
                        "remaining_time": 1775.983481,
                        "learn": [
                          0.1100823023
                        ]
                      },
                      {
                        "test": [
                          0.1251258596
                        ],
                        "passed_time": 1553.013714,
                        "iteration": 466,
                        "remaining_time": 1772.497451,
                        "learn": [
                          0.1100441685
                        ]
                      },
                      {
                        "test": [
                          0.1250537781
                        ],
                        "passed_time": 1556.254069,
                        "iteration": 467,
                        "remaining_time": 1769.075138,
                        "learn": [
                          0.1099468745
                        ]
                      },
                      {
                        "test": [
                          0.1246824123
                        ],
                        "passed_time": 1559.539349,
                        "iteration": 468,
                        "remaining_time": 1765.704466,
                        "learn": [
                          0.1095548505
                        ]
                      },
                      {
                        "test": [
                          0.1246686015
                        ],
                        "passed_time": 1562.759441,
                        "iteration": 469,
                        "remaining_time": 1762.260646,
                        "learn": [
                          0.1095032728
                        ]
                      },
                      {
                        "test": [
                          0.1246132567
                        ],
                        "passed_time": 1566.021924,
                        "iteration": 470,
                        "remaining_time": 1758.865389,
                        "learn": [
                          0.109372576
                        ]
                      },
                      {
                        "test": [
                          0.1246133578
                        ],
                        "passed_time": 1569.29459,
                        "iteration": 471,
                        "remaining_time": 1755.482083,
                        "learn": [
                          0.1093708601
                        ]
                      },
                      {
                        "test": [
                          0.1245976972
                        ],
                        "passed_time": 1572.474949,
                        "iteration": 472,
                        "remaining_time": 1751.996402,
                        "learn": [
                          0.1093576405
                        ]
                      },
                      {
                        "test": [
                          0.124598091
                        ],
                        "passed_time": 1575.859439,
                        "iteration": 473,
                        "remaining_time": 1748.738534,
                        "learn": [
                          0.1093563676
                        ]
                      },
                      {
                        "test": [
                          0.1244015818
                        ],
                        "passed_time": 1579.287454,
                        "iteration": 474,
                        "remaining_time": 1745.528239,
                        "learn": [
                          0.1091607171
                        ]
                      },
                      {
                        "test": [
                          0.1243081239
                        ],
                        "passed_time": 1582.699074,
                        "iteration": 475,
                        "remaining_time": 1742.29898,
                        "learn": [
                          0.1090324597
                        ]
                      },
                      {
                        "test": [
                          0.1242567321
                        ],
                        "passed_time": 1586.07298,
                        "iteration": 476,
                        "remaining_time": 1739.027607,
                        "learn": [
                          0.1089711247
                        ]
                      },
                      {
                        "test": [
                          0.1240732367
                        ],
                        "passed_time": 1589.496062,
                        "iteration": 477,
                        "remaining_time": 1735.809507,
                        "learn": [
                          0.1087792889
                        ]
                      },
                      {
                        "test": [
                          0.123978002
                        ],
                        "passed_time": 1592.874281,
                        "iteration": 478,
                        "remaining_time": 1732.541755,
                        "learn": [
                          0.108574499
                        ]
                      },
                      {
                        "test": [
                          0.1238772126
                        ],
                        "passed_time": 1596.252629,
                        "iteration": 479,
                        "remaining_time": 1729.273681,
                        "learn": [
                          0.108482959
                        ]
                      },
                      {
                        "test": [
                          0.1238475808
                        ],
                        "passed_time": 1599.62111,
                        "iteration": 480,
                        "remaining_time": 1725.994503,
                        "learn": [
                          0.1084102641
                        ]
                      },
                      {
                        "test": [
                          0.1237817924
                        ],
                        "passed_time": 1602.928345,
                        "iteration": 481,
                        "remaining_time": 1722.649135,
                        "learn": [
                          0.1083596384
                        ]
                      },
                      {
                        "test": [
                          0.1237670394
                        ],
                        "passed_time": 1606.127001,
                        "iteration": 482,
                        "remaining_time": 1719.187701,
                        "learn": [
                          0.1083312163
                        ]
                      },
                      {
                        "test": [
                          0.1237567642
                        ],
                        "passed_time": 1609.408266,
                        "iteration": 483,
                        "remaining_time": 1715.815424,
                        "learn": [
                          0.108299551
                        ]
                      },
                      {
                        "test": [
                          0.1237263116
                        ],
                        "passed_time": 1612.667843,
                        "iteration": 484,
                        "remaining_time": 1712.420493,
                        "learn": [
                          0.1082186871
                        ]
                      },
                      {
                        "test": [
                          0.1237144903
                        ],
                        "passed_time": 1615.904861,
                        "iteration": 485,
                        "remaining_time": 1709.00226,
                        "learn": [
                          0.1082043385
                        ]
                      },
                      {
                        "test": [
                          0.123699853
                        ],
                        "passed_time": 1619.172622,
                        "iteration": 486,
                        "remaining_time": 1705.617156,
                        "learn": [
                          0.1081867619
                        ]
                      },
                      {
                        "test": [
                          0.1236537072
                        ],
                        "passed_time": 1622.376077,
                        "iteration": 487,
                        "remaining_time": 1702.165064,
                        "learn": [
                          0.1080963625
                        ]
                      },
                      {
                        "test": [
                          0.123595607
                        ],
                        "passed_time": 1625.595603,
                        "iteration": 488,
                        "remaining_time": 1698.730783,
                        "learn": [
                          0.1079454829
                        ]
                      },
                      {
                        "test": [
                          0.1233871707
                        ],
                        "passed_time": 1628.816503,
                        "iteration": 489,
                        "remaining_time": 1695.29881,
                        "learn": [
                          0.1077424865
                        ]
                      },
                      {
                        "test": [
                          0.1233730983
                        ],
                        "passed_time": 1632.093344,
                        "iteration": 490,
                        "remaining_time": 1691.925686,
                        "learn": [
                          0.1076858655
                        ]
                      },
                      {
                        "test": [
                          0.1232575228
                        ],
                        "passed_time": 1635.270782,
                        "iteration": 491,
                        "remaining_time": 1688.45032,
                        "learn": [
                          0.1075705343
                        ]
                      },
                      {
                        "test": [
                          0.1231287728
                        ],
                        "passed_time": 1638.438372,
                        "iteration": 492,
                        "remaining_time": 1684.966034,
                        "learn": [
                          0.1073693642
                        ]
                      },
                      {
                        "test": [
                          0.1231361071
                        ],
                        "passed_time": 1641.770834,
                        "iteration": 493,
                        "remaining_time": 1681.651907,
                        "learn": [
                          0.1073518546
                        ]
                      },
                      {
                        "test": [
                          0.1231370604
                        ],
                        "passed_time": 1645.213671,
                        "iteration": 494,
                        "remaining_time": 1678.450311,
                        "learn": [
                          0.1073503432
                        ]
                      },
                      {
                        "test": [
                          0.1231204783
                        ],
                        "passed_time": 1648.599782,
                        "iteration": 495,
                        "remaining_time": 1675.190101,
                        "learn": [
                          0.1072623736
                        ]
                      },
                      {
                        "test": [
                          0.1230607633
                        ],
                        "passed_time": 1652.050325,
                        "iteration": 496,
                        "remaining_time": 1671.994594,
                        "learn": [
                          0.1071718382
                        ]
                      },
                      {
                        "test": [
                          0.123063176
                        ],
                        "passed_time": 1655.483779,
                        "iteration": 497,
                        "remaining_time": 1668.780837,
                        "learn": [
                          0.1071527504
                        ]
                      },
                      {
                        "test": [
                          0.1229574277
                        ],
                        "passed_time": 1658.856494,
                        "iteration": 498,
                        "remaining_time": 1665.505217,
                        "learn": [
                          0.107001829
                        ]
                      },
                      {
                        "test": [
                          0.1229533384
                        ],
                        "passed_time": 1662.303878,
                        "iteration": 499,
                        "remaining_time": 1662.303878,
                        "learn": [
                          0.1069937449
                        ]
                      },
                      {
                        "test": [
                          0.1229394809
                        ],
                        "passed_time": 1665.694124,
                        "iteration": 500,
                        "remaining_time": 1659.044646,
                        "learn": [
                          0.1069693048
                        ]
                      },
                      {
                        "test": [
                          0.1229190224
                        ],
                        "passed_time": 1668.983479,
                        "iteration": 501,
                        "remaining_time": 1655.684806,
                        "learn": [
                          0.1069285604
                        ]
                      },
                      {
                        "test": [
                          0.1228929651
                        ],
                        "passed_time": 1672.202763,
                        "iteration": 502,
                        "remaining_time": 1652.256011,
                        "learn": [
                          0.1069011071
                        ]
                      },
                      {
                        "test": [
                          0.1228236907
                        ],
                        "passed_time": 1675.458408,
                        "iteration": 503,
                        "remaining_time": 1648.86383,
                        "learn": [
                          0.1068458523
                        ]
                      },
                      {
                        "test": [
                          0.1228060467
                        ],
                        "passed_time": 1678.656949,
                        "iteration": 504,
                        "remaining_time": 1645.416217,
                        "learn": [
                          0.1068026659
                        ]
                      },
                      {
                        "test": [
                          0.1228076233
                        ],
                        "passed_time": 1681.916737,
                        "iteration": 505,
                        "remaining_time": 1642.029384,
                        "learn": [
                          0.1067971118
                        ]
                      },
                      {
                        "test": [
                          0.1226288527
                        ],
                        "passed_time": 1685.123833,
                        "iteration": 506,
                        "remaining_time": 1638.591814,
                        "learn": [
                          0.1066377137
                        ]
                      },
                      {
                        "test": [
                          0.1225460222
                        ],
                        "passed_time": 1688.346182,
                        "iteration": 507,
                        "remaining_time": 1635.169924,
                        "learn": [
                          0.1065798985
                        ]
                      },
                      {
                        "test": [
                          0.1222174565
                        ],
                        "passed_time": 1691.497962,
                        "iteration": 508,
                        "remaining_time": 1631.680745,
                        "learn": [
                          0.1062815489
                        ]
                      },
                      {
                        "test": [
                          0.1222017498
                        ],
                        "passed_time": 1694.697825,
                        "iteration": 509,
                        "remaining_time": 1628.239087,
                        "learn": [
                          0.1062632511
                        ]
                      },
                      {
                        "test": [
                          0.1220764455
                        ],
                        "passed_time": 1697.82437,
                        "iteration": 510,
                        "remaining_time": 1624.728214,
                        "learn": [
                          0.1061103483
                        ]
                      },
                      {
                        "test": [
                          0.122075357
                        ],
                        "passed_time": 1700.999155,
                        "iteration": 511,
                        "remaining_time": 1621.264819,
                        "learn": [
                          0.1060751569
                        ]
                      },
                      {
                        "test": [
                          0.1220738446
                        ],
                        "passed_time": 1704.190176,
                        "iteration": 512,
                        "remaining_time": 1617.817964,
                        "learn": [
                          0.1060719968
                        ]
                      },
                      {
                        "test": [
                          0.1218938632
                        ],
                        "passed_time": 1707.466348,
                        "iteration": 513,
                        "remaining_time": 1614.452617,
                        "learn": [
                          0.1058841836
                        ]
                      },
                      {
                        "test": [
                          0.1218073615
                        ],
                        "passed_time": 1710.907951,
                        "iteration": 514,
                        "remaining_time": 1611.24341,
                        "learn": [
                          0.1057823545
                        ]
                      },
                      {
                        "test": [
                          0.121801219
                        ],
                        "passed_time": 1714.346246,
                        "iteration": 515,
                        "remaining_time": 1608.0302,
                        "learn": [
                          0.1057664819
                        ]
                      },
                      {
                        "test": [
                          0.1217980762
                        ],
                        "passed_time": 1717.772452,
                        "iteration": 516,
                        "remaining_time": 1604.804824,
                        "learn": [
                          0.1057551131
                        ]
                      },
                      {
                        "test": [
                          0.1216197588
                        ],
                        "passed_time": 1721.176714,
                        "iteration": 517,
                        "remaining_time": 1601.558255,
                        "learn": [
                          0.1056127291
                        ]
                      },
                      {
                        "test": [
                          0.1216076848
                        ],
                        "passed_time": 1724.617053,
                        "iteration": 518,
                        "remaining_time": 1598.344513,
                        "learn": [
                          0.1056051594
                        ]
                      },
                      {
                        "test": [
                          0.1215332386
                        ],
                        "passed_time": 1728.119639,
                        "iteration": 519,
                        "remaining_time": 1595.187359,
                        "learn": [
                          0.1054601606
                        ]
                      },
                      {
                        "test": [
                          0.1213112287
                        ],
                        "passed_time": 1731.513832,
                        "iteration": 520,
                        "remaining_time": 1591.929224,
                        "learn": [
                          0.1052106173
                        ]
                      },
                      {
                        "test": [
                          0.1212270614
                        ],
                        "passed_time": 1734.741245,
                        "iteration": 521,
                        "remaining_time": 1588.517845,
                        "learn": [
                          0.1051304694
                        ]
                      },
                      {
                        "test": [
                          0.1211862466
                        ],
                        "passed_time": 1737.941691,
                        "iteration": 522,
                        "remaining_time": 1585.082575,
                        "learn": [
                          0.1050816316
                        ]
                      },
                      {
                        "test": [
                          0.1210415462
                        ],
                        "passed_time": 1741.193391,
                        "iteration": 523,
                        "remaining_time": 1581.69476,
                        "learn": [
                          0.1049641019
                        ]
                      },
                      {
                        "test": [
                          0.1210480286
                        ],
                        "passed_time": 1744.422375,
                        "iteration": 524,
                        "remaining_time": 1578.28691,
                        "learn": [
                          0.1049511592
                        ]
                      },
                      {
                        "test": [
                          0.1210311133
                        ],
                        "passed_time": 1747.640795,
                        "iteration": 525,
                        "remaining_time": 1574.870222,
                        "learn": [
                          0.1049397412
                        ]
                      },
                      {
                        "test": [
                          0.1209158564
                        ],
                        "passed_time": 1750.783277,
                        "iteration": 526,
                        "remaining_time": 1571.386129,
                        "learn": [
                          0.1047789616
                        ]
                      },
                      {
                        "test": [
                          0.1209033394
                        ],
                        "passed_time": 1753.968866,
                        "iteration": 527,
                        "remaining_time": 1567.941865,
                        "learn": [
                          0.1047153923
                        ]
                      },
                      {
                        "test": [
                          0.1209088107
                        ],
                        "passed_time": 1757.202551,
                        "iteration": 528,
                        "remaining_time": 1564.541402,
                        "learn": [
                          0.10469776
                        ]
                      },
                      {
                        "test": [
                          0.120902725
                        ],
                        "passed_time": 1760.427969,
                        "iteration": 529,
                        "remaining_time": 1561.134236,
                        "learn": [
                          0.1046871724
                        ]
                      },
                      {
                        "test": [
                          0.1208253715
                        ],
                        "passed_time": 1763.666004,
                        "iteration": 530,
                        "remaining_time": 1557.7389,
                        "learn": [
                          0.1045833674
                        ]
                      },
                      {
                        "test": [
                          0.1207736504
                        ],
                        "passed_time": 1766.926122,
                        "iteration": 531,
                        "remaining_time": 1554.363581,
                        "learn": [
                          0.1045298712
                        ]
                      },
                      {
                        "test": [
                          0.1207329697
                        ],
                        "passed_time": 1770.154954,
                        "iteration": 532,
                        "remaining_time": 1550.961282,
                        "learn": [
                          0.1044794425
                        ]
                      },
                      {
                        "test": [
                          0.1207215536
                        ],
                        "passed_time": 1773.512523,
                        "iteration": 533,
                        "remaining_time": 1547.671977,
                        "learn": [
                          0.1044726821
                        ]
                      },
                      {
                        "test": [
                          0.1206937604
                        ],
                        "passed_time": 1776.930964,
                        "iteration": 534,
                        "remaining_time": 1544.435324,
                        "learn": [
                          0.1044273318
                        ]
                      },
                      {
                        "test": [
                          0.1206927064
                        ],
                        "passed_time": 1780.364794,
                        "iteration": 535,
                        "remaining_time": 1541.211314,
                        "learn": [
                          0.104426093
                        ]
                      },
                      {
                        "test": [
                          0.1206809984
                        ],
                        "passed_time": 1783.757545,
                        "iteration": 536,
                        "remaining_time": 1537.951105,
                        "learn": [
                          0.104400817
                        ]
                      },
                      {
                        "test": [
                          0.1206209081
                        ],
                        "passed_time": 1787.162396,
                        "iteration": 537,
                        "remaining_time": 1534.700793,
                        "learn": [
                          0.1043137309
                        ]
                      },
                      {
                        "test": [
                          0.1205659261
                        ],
                        "passed_time": 1790.613528,
                        "iteration": 538,
                        "remaining_time": 1531.489492,
                        "learn": [
                          0.1042453453
                        ]
                      },
                      {
                        "test": [
                          0.1205747215
                        ],
                        "passed_time": 1794.019175,
                        "iteration": 539,
                        "remaining_time": 1528.238557,
                        "learn": [
                          0.1042316919
                        ]
                      },
                      {
                        "test": [
                          0.1205750344
                        ],
                        "passed_time": 1797.422527,
                        "iteration": 540,
                        "remaining_time": 1524.985101,
                        "learn": [
                          0.104230329
                        ]
                      },
                      {
                        "test": [
                          0.1205568021
                        ],
                        "passed_time": 1800.737353,
                        "iteration": 541,
                        "remaining_time": 1521.656287,
                        "learn": [
                          0.1041657483
                        ]
                      },
                      {
                        "test": [
                          0.1204653667
                        ],
                        "passed_time": 1803.937199,
                        "iteration": 542,
                        "remaining_time": 1518.230755,
                        "learn": [
                          0.1040319531
                        ]
                      },
                      {
                        "test": [
                          0.1204671053
                        ],
                        "passed_time": 1807.228789,
                        "iteration": 543,
                        "remaining_time": 1514.882955,
                        "learn": [
                          0.104028918
                        ]
                      },
                      {
                        "test": [
                          0.1204590233
                        ],
                        "passed_time": 1810.535009,
                        "iteration": 544,
                        "remaining_time": 1511.547576,
                        "learn": [
                          0.1040160134
                        ]
                      },
                      {
                        "test": [
                          0.1203521937
                        ],
                        "passed_time": 1813.717834,
                        "iteration": 545,
                        "remaining_time": 1508.109701,
                        "learn": [
                          0.1039252285
                        ]
                      },
                      {
                        "test": [
                          0.120325101
                        ],
                        "passed_time": 1816.897538,
                        "iteration": 546,
                        "remaining_time": 1504.670173,
                        "learn": [
                          0.1038856883
                        ]
                      },
                      {
                        "test": [
                          0.1201243767
                        ],
                        "passed_time": 1820.082887,
                        "iteration": 547,
                        "remaining_time": 1501.23625,
                        "learn": [
                          0.103690146
                        ]
                      },
                      {
                        "test": [
                          0.1201250544
                        ],
                        "passed_time": 1823.305032,
                        "iteration": 548,
                        "remaining_time": 1497.83346,
                        "learn": [
                          0.1036845437
                        ]
                      },
                      {
                        "test": [
                          0.1200652566
                        ],
                        "passed_time": 1826.513476,
                        "iteration": 549,
                        "remaining_time": 1494.420116,
                        "learn": [
                          0.1036103591
                        ]
                      },
                      {
                        "test": [
                          0.1200651704
                        ],
                        "passed_time": 1829.760617,
                        "iteration": 550,
                        "remaining_time": 1491.039051,
                        "learn": [
                          0.1036090982
                        ]
                      },
                      {
                        "test": [
                          0.1200656849
                        ],
                        "passed_time": 1832.967393,
                        "iteration": 551,
                        "remaining_time": 1487.62571,
                        "learn": [
                          0.1036074877
                        ]
                      },
                      {
                        "test": [
                          0.1200066771
                        ],
                        "passed_time": 1836.166315,
                        "iteration": 552,
                        "remaining_time": 1484.206768,
                        "learn": [
                          0.1035443781
                        ]
                      },
                      {
                        "test": [
                          0.1199589835
                        ],
                        "passed_time": 1839.464249,
                        "iteration": 553,
                        "remaining_time": 1480.86833,
                        "learn": [
                          0.1034527052
                        ]
                      },
                      {
                        "test": [
                          0.119959347
                        ],
                        "passed_time": 1842.937955,
                        "iteration": 554,
                        "remaining_time": 1477.670973,
                        "learn": [
                          0.1034514886
                        ]
                      },
                      {
                        "test": [
                          0.1196370593
                        ],
                        "passed_time": 1846.350456,
                        "iteration": 555,
                        "remaining_time": 1474.423745,
                        "learn": [
                          0.1031346477
                        ]
                      },
                      {
                        "test": [
                          0.1195801251
                        ],
                        "passed_time": 1849.7193,
                        "iteration": 556,
                        "remaining_time": 1471.141203,
                        "learn": [
                          0.1030665083
                        ]
                      },
                      {
                        "test": [
                          0.1195215983
                        ],
                        "passed_time": 1853.126039,
                        "iteration": 557,
                        "remaining_time": 1467.888368,
                        "learn": [
                          0.1029335517
                        ]
                      },
                      {
                        "test": [
                          0.1194928444
                        ],
                        "passed_time": 1856.528344,
                        "iteration": 558,
                        "remaining_time": 1464.631484,
                        "learn": [
                          0.1028726943
                        ]
                      },
                      {
                        "test": [
                          0.1194528826
                        ],
                        "passed_time": 1859.92848,
                        "iteration": 559,
                        "remaining_time": 1461.372377,
                        "learn": [
                          0.1028172316
                        ]
                      },
                      {
                        "test": [
                          0.1194526881
                        ],
                        "passed_time": 1863.334083,
                        "iteration": 560,
                        "remaining_time": 1458.117046,
                        "learn": [
                          0.1028161074
                        ]
                      },
                      {
                        "test": [
                          0.1193783052
                        ],
                        "passed_time": 1866.570147,
                        "iteration": 561,
                        "remaining_time": 1454.729047,
                        "learn": [
                          0.1027172819
                        ]
                      },
                      {
                        "test": [
                          0.1193522361
                        ],
                        "passed_time": 1869.786,
                        "iteration": 562,
                        "remaining_time": 1451.325901,
                        "learn": [
                          0.1026595018
                        ]
                      },
                      {
                        "test": [
                          0.1192225732
                        ],
                        "passed_time": 1873.173761,
                        "iteration": 563,
                        "remaining_time": 1448.056311,
                        "learn": [
                          0.1025173304
                        ]
                      },
                      {
                        "test": [
                          0.1191937599
                        ],
                        "passed_time": 1876.591727,
                        "iteration": 564,
                        "remaining_time": 1444.80956,
                        "learn": [
                          0.1024376103
                        ]
                      },
                      {
                        "test": [
                          0.1191689218
                        ],
                        "passed_time": 1879.998333,
                        "iteration": 565,
                        "remaining_time": 1441.553492,
                        "learn": [
                          0.1023950598
                        ]
                      },
                      {
                        "test": [
                          0.1191663452
                        ],
                        "passed_time": 1883.406042,
                        "iteration": 566,
                        "remaining_time": 1438.297736,
                        "learn": [
                          0.1023500041
                        ]
                      },
                      {
                        "test": [
                          0.1191513199
                        ],
                        "passed_time": 1886.85926,
                        "iteration": 567,
                        "remaining_time": 1435.076057,
                        "learn": [
                          0.1023278958
                        ]
                      },
                      {
                        "test": [
                          0.1191519108
                        ],
                        "passed_time": 1890.297434,
                        "iteration": 568,
                        "remaining_time": 1431.842169,
                        "learn": [
                          0.1023261498
                        ]
                      },
                      {
                        "test": [
                          0.1191445149
                        ],
                        "passed_time": 1893.813961,
                        "iteration": 569,
                        "remaining_time": 1428.666672,
                        "learn": [
                          0.1023213653
                        ]
                      },
                      {
                        "test": [
                          0.1187666377
                        ],
                        "passed_time": 1897.138762,
                        "iteration": 570,
                        "remaining_time": 1425.345935,
                        "learn": [
                          0.1018514168
                        ]
                      },
                      {
                        "test": [
                          0.1187147837
                        ],
                        "passed_time": 1900.316814,
                        "iteration": 571,
                        "remaining_time": 1421.915378,
                        "learn": [
                          0.101806631
                        ]
                      },
                      {
                        "test": [
                          0.1186683433
                        ],
                        "passed_time": 1903.563453,
                        "iteration": 572,
                        "remaining_time": 1418.536814,
                        "learn": [
                          0.1017594895
                        ]
                      },
                      {
                        "test": [
                          0.1186629884
                        ],
                        "passed_time": 1906.807711,
                        "iteration": 573,
                        "remaining_time": 1415.156942,
                        "learn": [
                          0.101756638
                        ]
                      },
                      {
                        "test": [
                          0.1185093531
                        ],
                        "passed_time": 1909.978683,
                        "iteration": 574,
                        "remaining_time": 1411.723375,
                        "learn": [
                          0.1016079316
                        ]
                      },
                      {
                        "test": [
                          0.1185094108
                        ],
                        "passed_time": 1913.226696,
                        "iteration": 575,
                        "remaining_time": 1408.347429,
                        "learn": [
                          0.1016065575
                        ]
                      },
                      {
                        "test": [
                          0.1185074753
                        ],
                        "passed_time": 1916.461288,
                        "iteration": 576,
                        "remaining_time": 1404.962088,
                        "learn": [
                          0.1015869099
                        ]
                      },
                      {
                        "test": [
                          0.1185050947
                        ],
                        "passed_time": 1919.751151,
                        "iteration": 577,
                        "remaining_time": 1401.617622,
                        "learn": [
                          0.1015548054
                        ]
                      },
                      {
                        "test": [
                          0.1185059617
                        ],
                        "passed_time": 1923.024443,
                        "iteration": 578,
                        "remaining_time": 1398.261296,
                        "learn": [
                          0.101553298
                        ]
                      },
                      {
                        "test": [
                          0.1184951577
                        ],
                        "passed_time": 1926.280341,
                        "iteration": 579,
                        "remaining_time": 1394.892661,
                        "learn": [
                          0.1015476027
                        ]
                      },
                      {
                        "test": [
                          0.1185016704
                        ],
                        "passed_time": 1929.511447,
                        "iteration": 580,
                        "remaining_time": 1391.506534,
                        "learn": [
                          0.1015080865
                        ]
                      },
                      {
                        "test": [
                          0.1184075657
                        ],
                        "passed_time": 1932.721144,
                        "iteration": 581,
                        "remaining_time": 1388.105564,
                        "learn": [
                          0.1013696643
                        ]
                      },
                      {
                        "test": [
                          0.1182899842
                        ],
                        "passed_time": 1935.903316,
                        "iteration": 582,
                        "remaining_time": 1384.685563,
                        "learn": [
                          0.1012290655
                        ]
                      },
                      {
                        "test": [
                          0.1182655181
                        ],
                        "passed_time": 1939.252864,
                        "iteration": 583,
                        "remaining_time": 1381.385602,
                        "learn": [
                          0.1011755641
                        ]
                      },
                      {
                        "test": [
                          0.1181782064
                        ],
                        "passed_time": 1942.703766,
                        "iteration": 584,
                        "remaining_time": 1378.157372,
                        "learn": [
                          0.1010459765
                        ]
                      },
                      {
                        "test": [
                          0.1181279006
                        ],
                        "passed_time": 1946.131278,
                        "iteration": 585,
                        "remaining_time": 1374.911859,
                        "learn": [
                          0.1009636233
                        ]
                      },
                      {
                        "test": [
                          0.1181292004
                        ],
                        "passed_time": 1949.544132,
                        "iteration": 586,
                        "remaining_time": 1371.655411,
                        "learn": [
                          0.100957786
                        ]
                      },
                      {
                        "test": [
                          0.1180222154
                        ],
                        "passed_time": 1952.968832,
                        "iteration": 587,
                        "remaining_time": 1368.406733,
                        "learn": [
                          0.1008060129
                        ]
                      },
                      {
                        "test": [
                          0.1179880832
                        ],
                        "passed_time": 1956.334285,
                        "iteration": 588,
                        "remaining_time": 1365.116114,
                        "learn": [
                          0.1007489357
                        ]
                      },
                      {
                        "test": [
                          0.1179818555
                        ],
                        "passed_time": 1959.767859,
                        "iteration": 589,
                        "remaining_time": 1361.87258,
                        "learn": [
                          0.1007372763
                        ]
                      },
                      {
                        "test": [
                          0.1178231654
                        ],
                        "passed_time": 1963.261801,
                        "iteration": 590,
                        "remaining_time": 1358.670181,
                        "learn": [
                          0.1006021269
                        ]
                      },
                      {
                        "test": [
                          0.1177224981
                        ],
                        "passed_time": 1966.493315,
                        "iteration": 591,
                        "remaining_time": 1355.285934,
                        "learn": [
                          0.1004818798
                        ]
                      },
                      {
                        "test": [
                          0.1176441413
                        ],
                        "passed_time": 1969.671928,
                        "iteration": 592,
                        "remaining_time": 1351.865894,
                        "learn": [
                          0.1004171125
                        ]
                      },
                      {
                        "test": [
                          0.1176362374
                        ],
                        "passed_time": 1972.952904,
                        "iteration": 593,
                        "remaining_time": 1348.516631,
                        "learn": [
                          0.1004106174
                        ]
                      },
                      {
                        "test": [
                          0.1176495053
                        ],
                        "passed_time": 1976.173528,
                        "iteration": 594,
                        "remaining_time": 1345.126519,
                        "learn": [
                          0.1003980536
                        ]
                      },
                      {
                        "test": [
                          0.1176493846
                        ],
                        "passed_time": 1979.400021,
                        "iteration": 595,
                        "remaining_time": 1341.740954,
                        "learn": [
                          0.1003965309
                        ]
                      },
                      {
                        "test": [
                          0.1175403158
                        ],
                        "passed_time": 1982.585551,
                        "iteration": 596,
                        "remaining_time": 1338.32827,
                        "learn": [
                          0.1002777851
                        ]
                      },
                      {
                        "test": [
                          0.1175194842
                        ],
                        "passed_time": 1985.74096,
                        "iteration": 597,
                        "remaining_time": 1334.896097,
                        "learn": [
                          0.1002663431
                        ]
                      },
                      {
                        "test": [
                          0.1175289138
                        ],
                        "passed_time": 1988.926063,
                        "iteration": 598,
                        "remaining_time": 1331.484726,
                        "learn": [
                          0.1002489952
                        ]
                      },
                      {
                        "test": [
                          0.117524066
                        ],
                        "passed_time": 1992.069468,
                        "iteration": 599,
                        "remaining_time": 1328.046312,
                        "learn": [
                          0.100219695
                        ]
                      },
                      {
                        "test": [
                          0.1175131926
                        ],
                        "passed_time": 1995.243508,
                        "iteration": 600,
                        "remaining_time": 1324.629218,
                        "learn": [
                          0.1002123795
                        ]
                      },
                      {
                        "test": [
                          0.1173495491
                        ],
                        "passed_time": 1998.376527,
                        "iteration": 601,
                        "remaining_time": 1321.18581,
                        "learn": [
                          0.1000438657
                        ]
                      },
                      {
                        "test": [
                          0.1173331803
                        ],
                        "passed_time": 2001.580811,
                        "iteration": 602,
                        "remaining_time": 1317.790352,
                        "learn": [
                          0.1000087254
                        ]
                      },
                      {
                        "test": [
                          0.117143657
                        ],
                        "passed_time": 2004.855065,
                        "iteration": 603,
                        "remaining_time": 1314.4414,
                        "learn": [
                          0.09980076922
                        ]
                      },
                      {
                        "test": [
                          0.1171273594
                        ],
                        "passed_time": 2008.253834,
                        "iteration": 604,
                        "remaining_time": 1311.173991,
                        "learn": [
                          0.09978855575
                        ]
                      },
                      {
                        "test": [
                          0.1170520429
                        ],
                        "passed_time": 2011.630365,
                        "iteration": 605,
                        "remaining_time": 1307.89169,
                        "learn": [
                          0.09965786805
                        ]
                      },
                      {
                        "test": [
                          0.1170129941
                        ],
                        "passed_time": 2014.995948,
                        "iteration": 606,
                        "remaining_time": 1304.601989,
                        "learn": [
                          0.09959929556
                        ]
                      },
                      {
                        "test": [
                          0.1169997673
                        ],
                        "passed_time": 2018.3887,
                        "iteration": 607,
                        "remaining_time": 1301.329557,
                        "learn": [
                          0.09958152917
                        ]
                      },
                      {
                        "test": [
                          0.1169975537
                        ],
                        "passed_time": 2021.757739,
                        "iteration": 608,
                        "remaining_time": 1298.041504,
                        "learn": [
                          0.09957438115
                        ]
                      },
                      {
                        "test": [
                          0.1169509487
                        ],
                        "passed_time": 2025.299705,
                        "iteration": 609,
                        "remaining_time": 1294.863746,
                        "learn": [
                          0.0995309346
                        ]
                      },
                      {
                        "test": [
                          0.1168862039
                        ],
                        "passed_time": 2028.657623,
                        "iteration": 610,
                        "remaining_time": 1291.567619,
                        "learn": [
                          0.0994586927
                        ]
                      },
                      {
                        "test": [
                          0.1168871836
                        ],
                        "passed_time": 2031.854276,
                        "iteration": 611,
                        "remaining_time": 1288.169051,
                        "learn": [
                          0.09945543552
                        ]
                      },
                      {
                        "test": [
                          0.1168694361
                        ],
                        "passed_time": 2035.071505,
                        "iteration": 612,
                        "remaining_time": 1284.784131,
                        "learn": [
                          0.09942961224
                        ]
                      },
                      {
                        "test": [
                          0.1168570046
                        ],
                        "passed_time": 2038.240947,
                        "iteration": 613,
                        "remaining_time": 1281.369716,
                        "learn": [
                          0.09939593177
                        ]
                      },
                      {
                        "test": [
                          0.1168199216
                        ],
                        "passed_time": 2041.442163,
                        "iteration": 614,
                        "remaining_time": 1277.975988,
                        "learn": [
                          0.09931640497
                        ]
                      },
                      {
                        "test": [
                          0.1167971444
                        ],
                        "passed_time": 2044.654246,
                        "iteration": 615,
                        "remaining_time": 1274.58966,
                        "learn": [
                          0.09929296041
                        ]
                      },
                      {
                        "test": [
                          0.1167249817
                        ],
                        "passed_time": 2047.791572,
                        "iteration": 616,
                        "remaining_time": 1271.157491,
                        "learn": [
                          0.099240102
                        ]
                      },
                      {
                        "test": [
                          0.1166727475
                        ],
                        "passed_time": 2050.991362,
                        "iteration": 617,
                        "remaining_time": 1267.764887,
                        "learn": [
                          0.09915474792
                        ]
                      },
                      {
                        "test": [
                          0.1166069166
                        ],
                        "passed_time": 2054.180115,
                        "iteration": 618,
                        "remaining_time": 1264.366113,
                        "learn": [
                          0.09905415526
                        ]
                      },
                      {
                        "test": [
                          0.1165467757
                        ],
                        "passed_time": 2057.333192,
                        "iteration": 619,
                        "remaining_time": 1260.94615,
                        "learn": [
                          0.09900737355
                        ]
                      },
                      {
                        "test": [
                          0.1164556189
                        ],
                        "passed_time": 2060.476908,
                        "iteration": 620,
                        "remaining_time": 1257.521334,
                        "learn": [
                          0.09893696782
                        ]
                      },
                      {
                        "test": [
                          0.1163633075
                        ],
                        "passed_time": 2063.675355,
                        "iteration": 621,
                        "remaining_time": 1254.130682,
                        "learn": [
                          0.09876054513
                        ]
                      },
                      {
                        "test": [
                          0.1163631239
                        ],
                        "passed_time": 2066.898387,
                        "iteration": 622,
                        "remaining_time": 1250.755525,
                        "learn": [
                          0.09875964863
                        ]
                      },
                      {
                        "test": [
                          0.1163701663
                        ],
                        "passed_time": 2070.189749,
                        "iteration": 623,
                        "remaining_time": 1247.422028,
                        "learn": [
                          0.0987394985
                        ]
                      },
                      {
                        "test": [
                          0.1163674354
                        ],
                        "passed_time": 2073.584679,
                        "iteration": 624,
                        "remaining_time": 1244.150807,
                        "learn": [
                          0.09871861196
                        ]
                      },
                      {
                        "test": [
                          0.1163666699
                        ],
                        "passed_time": 2077.053182,
                        "iteration": 625,
                        "remaining_time": 1240.923147,
                        "learn": [
                          0.09871770694
                        ]
                      },
                      {
                        "test": [
                          0.1162471016
                        ],
                        "passed_time": 2080.461962,
                        "iteration": 626,
                        "remaining_time": 1237.65919,
                        "learn": [
                          0.09857216876
                        ]
                      },
                      {
                        "test": [
                          0.1161482635
                        ],
                        "passed_time": 2083.987723,
                        "iteration": 627,
                        "remaining_time": 1234.464065,
                        "learn": [
                          0.09847732713
                        ]
                      },
                      {
                        "test": [
                          0.1160746126
                        ],
                        "passed_time": 2087.41199,
                        "iteration": 628,
                        "remaining_time": 1231.208026,
                        "learn": [
                          0.09835172331
                        ]
                      },
                      {
                        "test": [
                          0.1159547519
                        ],
                        "passed_time": 2090.79846,
                        "iteration": 629,
                        "remaining_time": 1227.929255,
                        "learn": [
                          0.09820063547
                        ]
                      },
                      {
                        "test": [
                          0.1158789736
                        ],
                        "passed_time": 2094.199161,
                        "iteration": 630,
                        "remaining_time": 1224.658464,
                        "learn": [
                          0.09812865291
                        ]
                      },
                      {
                        "test": [
                          0.1158267013
                        ],
                        "passed_time": 2097.626629,
                        "iteration": 631,
                        "remaining_time": 1221.402848,
                        "learn": [
                          0.09808945731
                        ]
                      },
                      {
                        "test": [
                          0.1157832377
                        ],
                        "passed_time": 2100.850757,
                        "iteration": 632,
                        "remaining_time": 1218.028796,
                        "learn": [
                          0.09802098319
                        ]
                      },
                      {
                        "test": [
                          0.1157520248
                        ],
                        "passed_time": 2104.035956,
                        "iteration": 633,
                        "remaining_time": 1214.632744,
                        "learn": [
                          0.09799846448
                        ]
                      },
                      {
                        "test": [
                          0.1156271363
                        ],
                        "passed_time": 2107.265258,
                        "iteration": 634,
                        "remaining_time": 1211.262708,
                        "learn": [
                          0.09782254947
                        ]
                      },
                      {
                        "test": [
                          0.1155789499
                        ],
                        "passed_time": 2110.49633,
                        "iteration": 635,
                        "remaining_time": 1207.894126,
                        "learn": [
                          0.09777206927
                        ]
                      },
                      {
                        "test": [
                          0.1155717267
                        ],
                        "passed_time": 2113.731924,
                        "iteration": 636,
                        "remaining_time": 1204.528553,
                        "learn": [
                          0.09776444883
                        ]
                      },
                      {
                        "test": [
                          0.1155074787
                        ],
                        "passed_time": 2116.899474,
                        "iteration": 637,
                        "remaining_time": 1201.12478,
                        "learn": [
                          0.09765336554
                        ]
                      },
                      {
                        "test": [
                          0.1154576713
                        ],
                        "passed_time": 2120.095486,
                        "iteration": 638,
                        "remaining_time": 1197.737825,
                        "learn": [
                          0.09760693096
                        ]
                      },
                      {
                        "test": [
                          0.1154361231
                        ],
                        "passed_time": 2123.308774,
                        "iteration": 639,
                        "remaining_time": 1194.361185,
                        "learn": [
                          0.09758312482
                        ]
                      },
                      {
                        "test": [
                          0.1154052087
                        ],
                        "passed_time": 2126.56484,
                        "iteration": 640,
                        "remaining_time": 1191.009014,
                        "learn": [
                          0.09754513707
                        ]
                      },
                      {
                        "test": [
                          0.1152958049
                        ],
                        "passed_time": 2129.808648,
                        "iteration": 641,
                        "remaining_time": 1187.650305,
                        "learn": [
                          0.09738117507
                        ]
                      },
                      {
                        "test": [
                          0.1152958313
                        ],
                        "passed_time": 2133.025757,
                        "iteration": 642,
                        "remaining_time": 1184.277131,
                        "learn": [
                          0.09737622043
                        ]
                      },
                      {
                        "test": [
                          0.115289288
                        ],
                        "passed_time": 2136.332804,
                        "iteration": 643,
                        "remaining_time": 1180.954159,
                        "learn": [
                          0.09736658465
                        ]
                      },
                      {
                        "test": [
                          0.115205375
                        ],
                        "passed_time": 2139.694088,
                        "iteration": 644,
                        "remaining_time": 1177.661087,
                        "learn": [
                          0.09730432756
                        ]
                      },
                      {
                        "test": [
                          0.1150391335
                        ],
                        "passed_time": 2143.078029,
                        "iteration": 645,
                        "remaining_time": 1174.38022,
                        "learn": [
                          0.09716868072
                        ]
                      },
                      {
                        "test": [
                          0.1148679198
                        ],
                        "passed_time": 2146.45943,
                        "iteration": 646,
                        "remaining_time": 1171.097649,
                        "learn": [
                          0.09697830088
                        ]
                      },
                      {
                        "test": [
                          0.1148096192
                        ],
                        "passed_time": 2149.857562,
                        "iteration": 647,
                        "remaining_time": 1167.823861,
                        "learn": [
                          0.09690566279
                        ]
                      },
                      {
                        "test": [
                          0.1147448049
                        ],
                        "passed_time": 2153.228876,
                        "iteration": 648,
                        "remaining_time": 1164.535185,
                        "learn": [
                          0.09680501649
                        ]
                      },
                      {
                        "test": [
                          0.1147311994
                        ],
                        "passed_time": 2156.642981,
                        "iteration": 649,
                        "remaining_time": 1161.269297,
                        "learn": [
                          0.0967837612
                        ]
                      },
                      {
                        "test": [
                          0.1146548509
                        ],
                        "passed_time": 2159.96157,
                        "iteration": 650,
                        "remaining_time": 1157.951748,
                        "learn": [
                          0.09667239005
                        ]
                      },
                      {
                        "test": [
                          0.114380452
                        ],
                        "passed_time": 2163.208103,
                        "iteration": 651,
                        "remaining_time": 1154.595736,
                        "learn": [
                          0.09640448757
                        ]
                      },
                      {
                        "test": [
                          0.114206915
                        ],
                        "passed_time": 2166.38675,
                        "iteration": 652,
                        "remaining_time": 1151.203985,
                        "learn": [
                          0.09623855868
                        ]
                      },
                      {
                        "test": [
                          0.1140909102
                        ],
                        "passed_time": 2169.620037,
                        "iteration": 653,
                        "remaining_time": 1147.841793,
                        "learn": [
                          0.096098974
                        ]
                      },
                      {
                        "test": [
                          0.113930918
                        ],
                        "passed_time": 2173.010625,
                        "iteration": 654,
                        "remaining_time": 1144.562848,
                        "learn": [
                          0.0960086672
                        ]
                      },
                      {
                        "test": [
                          0.1139337285
                        ],
                        "passed_time": 2176.428312,
                        "iteration": 655,
                        "remaining_time": 1141.297773,
                        "learn": [
                          0.09599042016
                        ]
                      },
                      {
                        "test": [
                          0.1139352697
                        ],
                        "passed_time": 2179.835266,
                        "iteration": 656,
                        "remaining_time": 1138.026631,
                        "learn": [
                          0.0959629351
                        ]
                      },
                      {
                        "test": [
                          0.1139209659
                        ],
                        "passed_time": 2183.292489,
                        "iteration": 657,
                        "remaining_time": 1134.781202,
                        "learn": [
                          0.095919357
                        ]
                      },
                      {
                        "test": [
                          0.1137955111
                        ],
                        "passed_time": 2186.685342,
                        "iteration": 658,
                        "remaining_time": 1131.501823,
                        "learn": [
                          0.09585572032
                        ]
                      },
                      {
                        "test": [
                          0.1137700927
                        ],
                        "passed_time": 2190.053392,
                        "iteration": 659,
                        "remaining_time": 1128.209323,
                        "learn": [
                          0.09584648616
                        ]
                      },
                      {
                        "test": [
                          0.1137079413
                        ],
                        "passed_time": 2193.386163,
                        "iteration": 660,
                        "remaining_time": 1124.898501,
                        "learn": [
                          0.09576160747
                        ]
                      },
                      {
                        "test": [
                          0.1136537826
                        ],
                        "passed_time": 2196.631272,
                        "iteration": 661,
                        "remaining_time": 1121.542855,
                        "learn": [
                          0.09571313645
                        ]
                      },
                      {
                        "test": [
                          0.1135708167
                        ],
                        "passed_time": 2199.851074,
                        "iteration": 662,
                        "remaining_time": 1118.174679,
                        "learn": [
                          0.0956212108
                        ]
                      },
                      {
                        "test": [
                          0.1134896485
                        ],
                        "passed_time": 2203.082077,
                        "iteration": 663,
                        "remaining_time": 1114.812618,
                        "learn": [
                          0.09550962718
                        ]
                      },
                      {
                        "test": [
                          0.1134839368
                        ],
                        "passed_time": 2206.308075,
                        "iteration": 664,
                        "remaining_time": 1111.448429,
                        "learn": [
                          0.09550391088
                        ]
                      },
                      {
                        "test": [
                          0.1134832546
                        ],
                        "passed_time": 2209.557737,
                        "iteration": 665,
                        "remaining_time": 1108.096523,
                        "learn": [
                          0.09550271972
                        ]
                      },
                      {
                        "test": [
                          0.1134607389
                        ],
                        "passed_time": 2212.771715,
                        "iteration": 666,
                        "remaining_time": 1104.727108,
                        "learn": [
                          0.09549402471
                        ]
                      },
                      {
                        "test": [
                          0.113432752
                        ],
                        "passed_time": 2215.952285,
                        "iteration": 667,
                        "remaining_time": 1101.341555,
                        "learn": [
                          0.0954164183
                        ]
                      },
                      {
                        "test": [
                          0.1134387062
                        ],
                        "passed_time": 2219.274657,
                        "iteration": 668,
                        "remaining_time": 1098.026774,
                        "learn": [
                          0.09538651493
                        ]
                      },
                      {
                        "test": [
                          0.1134321905
                        ],
                        "passed_time": 2222.503314,
                        "iteration": 669,
                        "remaining_time": 1094.665811,
                        "learn": [
                          0.09532783794
                        ]
                      },
                      {
                        "test": [
                          0.1134386144
                        ],
                        "passed_time": 2225.800738,
                        "iteration": 670,
                        "remaining_time": 1091.338961,
                        "learn": [
                          0.09529674568
                        ]
                      },
                      {
                        "test": [
                          0.1133615246
                        ],
                        "passed_time": 2229.026275,
                        "iteration": 671,
                        "remaining_time": 1087.97711,
                        "learn": [
                          0.0952107603
                        ]
                      },
                      {
                        "test": [
                          0.1133393877
                        ],
                        "passed_time": 2232.226628,
                        "iteration": 672,
                        "remaining_time": 1084.603428,
                        "learn": [
                          0.0951656064
                        ]
                      },
                      {
                        "test": [
                          0.1133219504
                        ],
                        "passed_time": 2235.558169,
                        "iteration": 673,
                        "remaining_time": 1081.293714,
                        "learn": [
                          0.09514599625
                        ]
                      },
                      {
                        "test": [
                          0.1131212128
                        ],
                        "passed_time": 2238.952138,
                        "iteration": 674,
                        "remaining_time": 1078.013992,
                        "learn": [
                          0.09498624023
                        ]
                      },
                      {
                        "test": [
                          0.1131206949
                        ],
                        "passed_time": 2242.367947,
                        "iteration": 675,
                        "remaining_time": 1074.744401,
                        "learn": [
                          0.09497739129
                        ]
                      },
                      {
                        "test": [
                          0.113105511
                        ],
                        "passed_time": 2245.765433,
                        "iteration": 676,
                        "remaining_time": 1071.465635,
                        "learn": [
                          0.09495115271
                        ]
                      },
                      {
                        "test": [
                          0.1130908278
                        ],
                        "passed_time": 2249.191997,
                        "iteration": 677,
                        "remaining_time": 1068.200329,
                        "learn": [
                          0.09494081302
                        ]
                      },
                      {
                        "test": [
                          0.1130912314
                        ],
                        "passed_time": 2252.643015,
                        "iteration": 678,
                        "remaining_time": 1064.946109,
                        "learn": [
                          0.09493994044
                        ]
                      },
                      {
                        "test": [
                          0.1130941824
                        ],
                        "passed_time": 2256.063447,
                        "iteration": 679,
                        "remaining_time": 1061.676916,
                        "learn": [
                          0.09493024237
                        ]
                      },
                      {
                        "test": [
                          0.1130654032
                        ],
                        "passed_time": 2259.47931,
                        "iteration": 680,
                        "remaining_time": 1058.405139,
                        "learn": [
                          0.09488612905
                        ]
                      },
                      {
                        "test": [
                          0.1130632542
                        ],
                        "passed_time": 2262.786451,
                        "iteration": 681,
                        "remaining_time": 1055.082246,
                        "learn": [
                          0.09487998983
                        ]
                      },
                      {
                        "test": [
                          0.1130498189
                        ],
                        "passed_time": 2266.015676,
                        "iteration": 682,
                        "remaining_time": 1051.723235,
                        "learn": [
                          0.09485969417
                        ]
                      },
                      {
                        "test": [
                          0.1130286182
                        ],
                        "passed_time": 2269.228011,
                        "iteration": 683,
                        "remaining_time": 1048.3568,
                        "learn": [
                          0.09482455212
                        ]
                      },
                      {
                        "test": [
                          0.1129248939
                        ],
                        "passed_time": 2272.449342,
                        "iteration": 684,
                        "remaining_time": 1044.994953,
                        "learn": [
                          0.09472231677
                        ]
                      },
                      {
                        "test": [
                          0.1127931758
                        ],
                        "passed_time": 2275.624265,
                        "iteration": 685,
                        "remaining_time": 1041.612273,
                        "learn": [
                          0.09462112079
                        ]
                      },
                      {
                        "test": [
                          0.112796442
                        ],
                        "passed_time": 2278.742419,
                        "iteration": 686,
                        "remaining_time": 1038.204333,
                        "learn": [
                          0.09460886555
                        ]
                      },
                      {
                        "test": [
                          0.1127882267
                        ],
                        "passed_time": 2281.960736,
                        "iteration": 687,
                        "remaining_time": 1034.842659,
                        "learn": [
                          0.09459437465
                        ]
                      },
                      {
                        "test": [
                          0.1127572089
                        ],
                        "passed_time": 2285.108915,
                        "iteration": 688,
                        "remaining_time": 1031.449742,
                        "learn": [
                          0.09454275534
                        ]
                      },
                      {
                        "test": [
                          0.1127568078
                        ],
                        "passed_time": 2288.290842,
                        "iteration": 689,
                        "remaining_time": 1028.072697,
                        "learn": [
                          0.09452900939
                        ]
                      },
                      {
                        "test": [
                          0.1127038859
                        ],
                        "passed_time": 2291.499662,
                        "iteration": 690,
                        "remaining_time": 1024.708242,
                        "learn": [
                          0.09446504451
                        ]
                      },
                      {
                        "test": [
                          0.112711607
                        ],
                        "passed_time": 2294.774787,
                        "iteration": 691,
                        "remaining_time": 1021.373749,
                        "learn": [
                          0.09444634635
                        ]
                      },
                      {
                        "test": [
                          0.1126962033
                        ],
                        "passed_time": 2298.078806,
                        "iteration": 692,
                        "remaining_time": 1018.052227,
                        "learn": [
                          0.09441036793
                        ]
                      },
                      {
                        "test": [
                          0.1125894175
                        ],
                        "passed_time": 2301.323213,
                        "iteration": 693,
                        "remaining_time": 1014.704472,
                        "learn": [
                          0.09435324224
                        ]
                      },
                      {
                        "test": [
                          0.1125998398
                        ],
                        "passed_time": 2304.684302,
                        "iteration": 694,
                        "remaining_time": 1011.408219,
                        "learn": [
                          0.09434847619
                        ]
                      },
                      {
                        "test": [
                          0.1125643988
                        ],
                        "passed_time": 2308.048611,
                        "iteration": 695,
                        "remaining_time": 1008.113186,
                        "learn": [
                          0.09430049652
                        ]
                      },
                      {
                        "test": [
                          0.1125388796
                        ],
                        "passed_time": 2311.501935,
                        "iteration": 696,
                        "remaining_time": 1004.856652,
                        "learn": [
                          0.0942500377
                        ]
                      },
                      {
                        "test": [
                          0.1125249186
                        ],
                        "passed_time": 2314.908915,
                        "iteration": 697,
                        "remaining_time": 1001.579502,
                        "learn": [
                          0.09420356663
                        ]
                      },
                      {
                        "test": [
                          0.1124205606
                        ],
                        "passed_time": 2318.327824,
                        "iteration": 698,
                        "remaining_time": 998.3071174,
                        "learn": [
                          0.0941102901
                        ]
                      },
                      {
                        "test": [
                          0.1123483886
                        ],
                        "passed_time": 2321.766561,
                        "iteration": 699,
                        "remaining_time": 995.0428117,
                        "learn": [
                          0.09402713502
                        ]
                      },
                      {
                        "test": [
                          0.112349561
                        ],
                        "passed_time": 2325.26793,
                        "iteration": 700,
                        "remaining_time": 991.8047232,
                        "learn": [
                          0.09402645359
                        ]
                      },
                      {
                        "test": [
                          0.112350818
                        ],
                        "passed_time": 2328.509226,
                        "iteration": 701,
                        "remaining_time": 988.4554835,
                        "learn": [
                          0.09401133475
                        ]
                      },
                      {
                        "test": [
                          0.1122168018
                        ],
                        "passed_time": 2331.773686,
                        "iteration": 702,
                        "remaining_time": 985.1163369,
                        "learn": [
                          0.09383236929
                        ]
                      },
                      {
                        "test": [
                          0.1122046298
                        ],
                        "passed_time": 2335.067827,
                        "iteration": 703,
                        "remaining_time": 981.7898817,
                        "learn": [
                          0.09379849146
                        ]
                      },
                      {
                        "test": [
                          0.11219502
                        ],
                        "passed_time": 2338.355042,
                        "iteration": 704,
                        "remaining_time": 978.4606204,
                        "learn": [
                          0.09378276538
                        ]
                      },
                      {
                        "test": [
                          0.1121592603
                        ],
                        "passed_time": 2341.613404,
                        "iteration": 705,
                        "remaining_time": 975.119463,
                        "learn": [
                          0.09371277799
                        ]
                      },
                      {
                        "test": [
                          0.1121542497
                        ],
                        "passed_time": 2344.860183,
                        "iteration": 706,
                        "remaining_time": 971.7737391,
                        "learn": [
                          0.09370385785
                        ]
                      },
                      {
                        "test": [
                          0.112128945
                        ],
                        "passed_time": 2348.052463,
                        "iteration": 707,
                        "remaining_time": 968.405818,
                        "learn": [
                          0.09364181655
                        ]
                      },
                      {
                        "test": [
                          0.1121289532
                        ],
                        "passed_time": 2351.245214,
                        "iteration": 708,
                        "remaining_time": 965.0385856,
                        "learn": [
                          0.09362577228
                        ]
                      },
                      {
                        "test": [
                          0.1120731892
                        ],
                        "passed_time": 2354.483987,
                        "iteration": 709,
                        "remaining_time": 961.6906425,
                        "learn": [
                          0.09357808682
                        ]
                      },
                      {
                        "test": [
                          0.1120692806
                        ],
                        "passed_time": 2357.74596,
                        "iteration": 710,
                        "remaining_time": 958.3524367,
                        "learn": [
                          0.09354529152
                        ]
                      },
                      {
                        "test": [
                          0.1120013029
                        ],
                        "passed_time": 2360.923833,
                        "iteration": 711,
                        "remaining_time": 954.9804267,
                        "learn": [
                          0.09349310238
                        ]
                      },
                      {
                        "test": [
                          0.1118711336
                        ],
                        "passed_time": 2364.206093,
                        "iteration": 712,
                        "remaining_time": 951.65098,
                        "learn": [
                          0.0933512483
                        ]
                      },
                      {
                        "test": [
                          0.1118638126
                        ],
                        "passed_time": 2367.53071,
                        "iteration": 713,
                        "remaining_time": 948.3386317,
                        "learn": [
                          0.09334612889
                        ]
                      },
                      {
                        "test": [
                          0.1117988965
                        ],
                        "passed_time": 2370.975893,
                        "iteration": 714,
                        "remaining_time": 945.0743069,
                        "learn": [
                          0.09327534429
                        ]
                      },
                      {
                        "test": [
                          0.1117416622
                        ],
                        "passed_time": 2374.412827,
                        "iteration": 715,
                        "remaining_time": 941.8062053,
                        "learn": [
                          0.09320451597
                        ]
                      },
                      {
                        "test": [
                          0.1117484548
                        ],
                        "passed_time": 2377.847563,
                        "iteration": 716,
                        "remaining_time": 938.5367648,
                        "learn": [
                          0.09320080632
                        ]
                      },
                      {
                        "test": [
                          0.1115680184
                        ],
                        "passed_time": 2381.214494,
                        "iteration": 717,
                        "remaining_time": 935.2402331,
                        "learn": [
                          0.09300357109
                        ]
                      },
                      {
                        "test": [
                          0.1114723369
                        ],
                        "passed_time": 2384.649333,
                        "iteration": 718,
                        "remaining_time": 931.9700452,
                        "learn": [
                          0.09291831911
                        ]
                      },
                      {
                        "test": [
                          0.111467602
                        ],
                        "passed_time": 2388.112319,
                        "iteration": 719,
                        "remaining_time": 928.7103464,
                        "learn": [
                          0.09291571831
                        ]
                      },
                      {
                        "test": [
                          0.1114567945
                        ],
                        "passed_time": 2391.590066,
                        "iteration": 720,
                        "remaining_time": 925.4557952,
                        "learn": [
                          0.09290321115
                        ]
                      },
                      {
                        "test": [
                          0.1114564464
                        ],
                        "passed_time": 2394.978491,
                        "iteration": 721,
                        "remaining_time": 922.1662334,
                        "learn": [
                          0.09290235729
                        ]
                      },
                      {
                        "test": [
                          0.1114566611
                        ],
                        "passed_time": 2398.221531,
                        "iteration": 722,
                        "remaining_time": 918.8206971,
                        "learn": [
                          0.092900494
                        ]
                      },
                      {
                        "test": [
                          0.1114703113
                        ],
                        "passed_time": 2401.434782,
                        "iteration": 723,
                        "remaining_time": 915.4640883,
                        "learn": [
                          0.09283367876
                        ]
                      },
                      {
                        "test": [
                          0.1114594127
                        ],
                        "passed_time": 2404.648342,
                        "iteration": 724,
                        "remaining_time": 912.1079917,
                        "learn": [
                          0.09280574345
                        ]
                      },
                      {
                        "test": [
                          0.1114037648
                        ],
                        "passed_time": 2407.963823,
                        "iteration": 725,
                        "remaining_time": 908.7907543,
                        "learn": [
                          0.09274790544
                        ]
                      },
                      {
                        "test": [
                          0.1113904161
                        ],
                        "passed_time": 2411.140202,
                        "iteration": 726,
                        "remaining_time": 905.4212861,
                        "learn": [
                          0.09270543683
                        ]
                      },
                      {
                        "test": [
                          0.111348196
                        ],
                        "passed_time": 2414.341774,
                        "iteration": 727,
                        "remaining_time": 902.0617615,
                        "learn": [
                          0.09265963551
                        ]
                      },
                      {
                        "test": [
                          0.111343047
                        ],
                        "passed_time": 2417.53166,
                        "iteration": 728,
                        "remaining_time": 898.6983261,
                        "learn": [
                          0.09263900707
                        ]
                      },
                      {
                        "test": [
                          0.1113296098
                        ],
                        "passed_time": 2420.706477,
                        "iteration": 729,
                        "remaining_time": 895.3297928,
                        "learn": [
                          0.09259035886
                        ]
                      },
                      {
                        "test": [
                          0.1113224502
                        ],
                        "passed_time": 2423.92065,
                        "iteration": 730,
                        "remaining_time": 891.976272,
                        "learn": [
                          0.09254418147
                        ]
                      },
                      {
                        "test": [
                          0.1113148679
                        ],
                        "passed_time": 2427.11792,
                        "iteration": 731,
                        "remaining_time": 888.6169436,
                        "learn": [
                          0.09253748487
                        ]
                      },
                      {
                        "test": [
                          0.1112996759
                        ],
                        "passed_time": 2430.299102,
                        "iteration": 732,
                        "remaining_time": 885.2521967,
                        "learn": [
                          0.092517798
                        ]
                      },
                      {
                        "test": [
                          0.1112559382
                        ],
                        "passed_time": 2433.562477,
                        "iteration": 733,
                        "remaining_time": 881.9177369,
                        "learn": [
                          0.09244679896
                        ]
                      },
                      {
                        "test": [
                          0.1112511844
                        ],
                        "passed_time": 2437.018786,
                        "iteration": 734,
                        "remaining_time": 878.6530318,
                        "learn": [
                          0.09242269023
                        ]
                      },
                      {
                        "test": [
                          0.1111964924
                        ],
                        "passed_time": 2440.38938,
                        "iteration": 735,
                        "remaining_time": 875.3570602,
                        "learn": [
                          0.0923363354
                        ]
                      },
                      {
                        "test": [
                          0.1111864848
                        ],
                        "passed_time": 2443.746466,
                        "iteration": 736,
                        "remaining_time": 872.0560658,
                        "learn": [
                          0.09229632012
                        ]
                      },
                      {
                        "test": [
                          0.1109828913
                        ],
                        "passed_time": 2447.133489,
                        "iteration": 737,
                        "remaining_time": 868.7655477,
                        "learn": [
                          0.09209074449
                        ]
                      },
                      {
                        "test": [
                          0.1109883489
                        ],
                        "passed_time": 2450.664899,
                        "iteration": 738,
                        "remaining_time": 865.5257629,
                        "learn": [
                          0.09208429507
                        ]
                      },
                      {
                        "test": [
                          0.1109900064
                        ],
                        "passed_time": 2454.137155,
                        "iteration": 739,
                        "remaining_time": 862.264406,
                        "learn": [
                          0.09208128751
                        ]
                      },
                      {
                        "test": [
                          0.1109415872
                        ],
                        "passed_time": 2457.529777,
                        "iteration": 740,
                        "remaining_time": 858.9746453,
                        "learn": [
                          0.09202096553
                        ]
                      },
                      {
                        "test": [
                          0.1108816468
                        ],
                        "passed_time": 2460.774142,
                        "iteration": 741,
                        "remaining_time": 855.6330574,
                        "learn": [
                          0.09193033101
                        ]
                      },
                      {
                        "test": [
                          0.1108653308
                        ],
                        "passed_time": 2463.950565,
                        "iteration": 742,
                        "remaining_time": 852.2682304,
                        "learn": [
                          0.09188968634
                        ]
                      },
                      {
                        "test": [
                          0.11089021
                        ],
                        "passed_time": 2467.115624,
                        "iteration": 743,
                        "remaining_time": 848.8999997,
                        "learn": [
                          0.09187090193
                        ]
                      },
                      {
                        "test": [
                          0.1108363845
                        ],
                        "passed_time": 2470.304885,
                        "iteration": 744,
                        "remaining_time": 845.5405981,
                        "learn": [
                          0.09179196677
                        ]
                      },
                      {
                        "test": [
                          0.1108259965
                        ],
                        "passed_time": 2473.560379,
                        "iteration": 745,
                        "remaining_time": 842.2042043,
                        "learn": [
                          0.09178401909
                        ]
                      },
                      {
                        "test": [
                          0.1107270379
                        ],
                        "passed_time": 2476.701245,
                        "iteration": 746,
                        "remaining_time": 838.8292034,
                        "learn": [
                          0.09169233959
                        ]
                      },
                      {
                        "test": [
                          0.1106974028
                        ],
                        "passed_time": 2479.970227,
                        "iteration": 747,
                        "remaining_time": 835.4979909,
                        "learn": [
                          0.09167898445
                        ]
                      },
                      {
                        "test": [
                          0.1106693437
                        ],
                        "passed_time": 2483.158998,
                        "iteration": 748,
                        "remaining_time": 832.1400646,
                        "learn": [
                          0.09165117351
                        ]
                      },
                      {
                        "test": [
                          0.1106536374
                        ],
                        "passed_time": 2486.370694,
                        "iteration": 749,
                        "remaining_time": 828.7902314,
                        "learn": [
                          0.0915255959
                        ]
                      },
                      {
                        "test": [
                          0.1106524322
                        ],
                        "passed_time": 2489.667567,
                        "iteration": 750,
                        "remaining_time": 825.469007,
                        "learn": [
                          0.09149141313
                        ]
                      },
                      {
                        "test": [
                          0.1106266875
                        ],
                        "passed_time": 2492.884172,
                        "iteration": 751,
                        "remaining_time": 822.1213758,
                        "learn": [
                          0.09143099927
                        ]
                      },
                      {
                        "test": [
                          0.1105640858
                        ],
                        "passed_time": 2496.01666,
                        "iteration": 752,
                        "remaining_time": 818.7465007,
                        "learn": [
                          0.09136597265
                        ]
                      },
                      {
                        "test": [
                          0.1104297191
                        ],
                        "passed_time": 2499.242364,
                        "iteration": 753,
                        "remaining_time": 815.4026811,
                        "learn": [
                          0.09117625358
                        ]
                      },
                      {
                        "test": [
                          0.1103653212
                        ],
                        "passed_time": 2502.628787,
                        "iteration": 754,
                        "remaining_time": 812.1113281,
                        "learn": [
                          0.09110553697
                        ]
                      },
                      {
                        "test": [
                          0.1103637051
                        ],
                        "passed_time": 2506.062926,
                        "iteration": 755,
                        "remaining_time": 808.8351241,
                        "learn": [
                          0.09106638019
                        ]
                      },
                      {
                        "test": [
                          0.1103422759
                        ],
                        "passed_time": 2509.502227,
                        "iteration": 756,
                        "remaining_time": 805.56016,
                        "learn": [
                          0.09102508473
                        ]
                      },
                      {
                        "test": [
                          0.1102893037
                        ],
                        "passed_time": 2512.90625,
                        "iteration": 757,
                        "remaining_time": 802.2734994,
                        "learn": [
                          0.09097775585
                        ]
                      },
                      {
                        "test": [
                          0.1102595939
                        ],
                        "passed_time": 2516.25823,
                        "iteration": 758,
                        "remaining_time": 798.9700046,
                        "learn": [
                          0.09093057146
                        ]
                      },
                      {
                        "test": [
                          0.1101664231
                        ],
                        "passed_time": 2519.69267,
                        "iteration": 759,
                        "remaining_time": 795.692422,
                        "learn": [
                          0.09085808994
                        ]
                      },
                      {
                        "test": [
                          0.1101466446
                        ],
                        "passed_time": 2523.102157,
                        "iteration": 760,
                        "remaining_time": 792.4065907,
                        "learn": [
                          0.09083682578
                        ]
                      },
                      {
                        "test": [
                          0.1101401247
                        ],
                        "passed_time": 2526.430027,
                        "iteration": 761,
                        "remaining_time": 789.094943,
                        "learn": [
                          0.09082983693
                        ]
                      },
                      {
                        "test": [
                          0.1101083657
                        ],
                        "passed_time": 2529.643565,
                        "iteration": 762,
                        "remaining_time": 785.7477392,
                        "learn": [
                          0.09078268665
                        ]
                      },
                      {
                        "test": [
                          0.110096693
                        ],
                        "passed_time": 2533.001522,
                        "iteration": 763,
                        "remaining_time": 782.4454962,
                        "learn": [
                          0.09076615379
                        ]
                      },
                      {
                        "test": [
                          0.1101087494
                        ],
                        "passed_time": 2536.465945,
                        "iteration": 764,
                        "remaining_time": 779.1758131,
                        "learn": [
                          0.09072035246
                        ]
                      },
                      {
                        "test": [
                          0.1101018872
                        ],
                        "passed_time": 2539.87341,
                        "iteration": 765,
                        "remaining_time": 775.8882219,
                        "learn": [
                          0.09065232336
                        ]
                      },
                      {
                        "test": [
                          0.1100689429
                        ],
                        "passed_time": 2543.302576,
                        "iteration": 766,
                        "remaining_time": 772.6069102,
                        "learn": [
                          0.09057462471
                        ]
                      },
                      {
                        "test": [
                          0.1100422823
                        ],
                        "passed_time": 2546.705301,
                        "iteration": 767,
                        "remaining_time": 769.3172262,
                        "learn": [
                          0.09055486441
                        ]
                      },
                      {
                        "test": [
                          0.1100283612
                        ],
                        "passed_time": 2550.133732,
                        "iteration": 768,
                        "remaining_time": 766.0349704,
                        "learn": [
                          0.0904882015
                        ]
                      },
                      {
                        "test": [
                          0.1099659616
                        ],
                        "passed_time": 2553.534856,
                        "iteration": 769,
                        "remaining_time": 762.7441778,
                        "learn": [
                          0.09038682974
                        ]
                      },
                      {
                        "test": [
                          0.1099716187
                        ],
                        "passed_time": 2556.896459,
                        "iteration": 770,
                        "remaining_time": 759.4413608,
                        "learn": [
                          0.09038307933
                        ]
                      },
                      {
                        "test": [
                          0.1099510145
                        ],
                        "passed_time": 2560.120031,
                        "iteration": 771,
                        "remaining_time": 756.0976257,
                        "learn": [
                          0.0903392925
                        ]
                      },
                      {
                        "test": [
                          0.1099502919
                        ],
                        "passed_time": 2563.328128,
                        "iteration": 772,
                        "remaining_time": 752.7496574,
                        "learn": [
                          0.09033825679
                        ]
                      },
                      {
                        "test": [
                          0.1099042954
                        ],
                        "passed_time": 2566.521411,
                        "iteration": 773,
                        "remaining_time": 749.3977247,
                        "learn": [
                          0.09028522424
                        ]
                      },
                      {
                        "test": [
                          0.1098990029
                        ],
                        "passed_time": 2569.833212,
                        "iteration": 774,
                        "remaining_time": 746.0806099,
                        "learn": [
                          0.09027690256
                        ]
                      },
                      {
                        "test": [
                          0.1098948341
                        ],
                        "passed_time": 2572.960853,
                        "iteration": 775,
                        "remaining_time": 742.7103493,
                        "learn": [
                          0.09026389009
                        ]
                      },
                      {
                        "test": [
                          0.10981136
                        ],
                        "passed_time": 2576.123266,
                        "iteration": 776,
                        "remaining_time": 739.350693,
                        "learn": [
                          0.09016945702
                        ]
                      },
                      {
                        "test": [
                          0.1098104066
                        ],
                        "passed_time": 2579.356204,
                        "iteration": 777,
                        "remaining_time": 736.0116674,
                        "learn": [
                          0.09016485447
                        ]
                      },
                      {
                        "test": [
                          0.1097996885
                        ],
                        "passed_time": 2582.587258,
                        "iteration": 778,
                        "remaining_time": 732.6723799,
                        "learn": [
                          0.0901015938
                        ]
                      },
                      {
                        "test": [
                          0.1098154562
                        ],
                        "passed_time": 2585.767013,
                        "iteration": 779,
                        "remaining_time": 729.3189012,
                        "learn": [
                          0.0900689908
                        ]
                      },
                      {
                        "test": [
                          0.1098083012
                        ],
                        "passed_time": 2588.935472,
                        "iteration": 780,
                        "remaining_time": 725.9626997,
                        "learn": [
                          0.09002726635
                        ]
                      },
                      {
                        "test": [
                          0.1098092117
                        ],
                        "passed_time": 2592.088275,
                        "iteration": 781,
                        "remaining_time": 722.6026136,
                        "learn": [
                          0.09002342369
                        ]
                      },
                      {
                        "test": [
                          0.1097915108
                        ],
                        "passed_time": 2595.256533,
                        "iteration": 782,
                        "remaining_time": 719.2473405,
                        "learn": [
                          0.0899777248
                        ]
                      },
                      {
                        "test": [
                          0.1097232548
                        ],
                        "passed_time": 2598.553838,
                        "iteration": 783,
                        "remaining_time": 715.9280981,
                        "learn": [
                          0.08988978585
                        ]
                      },
                      {
                        "test": [
                          0.1097302621
                        ],
                        "passed_time": 2601.973654,
                        "iteration": 784,
                        "remaining_time": 712.6424659,
                        "learn": [
                          0.0898810506
                        ]
                      },
                      {
                        "test": [
                          0.1097278303
                        ],
                        "passed_time": 2605.400608,
                        "iteration": 785,
                        "remaining_time": 709.3584353,
                        "learn": [
                          0.08986162071
                        ]
                      },
                      {
                        "test": [
                          0.1097300624
                        ],
                        "passed_time": 2608.978543,
                        "iteration": 786,
                        "remaining_time": 706.1149044,
                        "learn": [
                          0.08981546073
                        ]
                      },
                      {
                        "test": [
                          0.1096560486
                        ],
                        "passed_time": 2612.399722,
                        "iteration": 787,
                        "remaining_time": 702.8283516,
                        "learn": [
                          0.08971810608
                        ]
                      },
                      {
                        "test": [
                          0.1096180574
                        ],
                        "passed_time": 2615.806967,
                        "iteration": 788,
                        "remaining_time": 699.5377313,
                        "learn": [
                          0.08966824461
                        ]
                      },
                      {
                        "test": [
                          0.1095677137
                        ],
                        "passed_time": 2619.2042,
                        "iteration": 789,
                        "remaining_time": 696.2441543,
                        "learn": [
                          0.08959069034
                        ]
                      },
                      {
                        "test": [
                          0.1095673402
                        ],
                        "passed_time": 2622.549194,
                        "iteration": 790,
                        "remaining_time": 692.9365127,
                        "learn": [
                          0.08954816591
                        ]
                      },
                      {
                        "test": [
                          0.1095069398
                        ],
                        "passed_time": 2625.747617,
                        "iteration": 791,
                        "remaining_time": 689.5902832,
                        "learn": [
                          0.08949713452
                        ]
                      },
                      {
                        "test": [
                          0.1095064015
                        ],
                        "passed_time": 2628.967698,
                        "iteration": 792,
                        "remaining_time": 686.25008,
                        "learn": [
                          0.08949623635
                        ]
                      },
                      {
                        "test": [
                          0.1095053612
                        ],
                        "passed_time": 2632.169856,
                        "iteration": 793,
                        "remaining_time": 682.9055294,
                        "learn": [
                          0.08948914301
                        ]
                      },
                      {
                        "test": [
                          0.109476896
                        ],
                        "passed_time": 2635.343634,
                        "iteration": 794,
                        "remaining_time": 679.5540188,
                        "learn": [
                          0.08942794527
                        ]
                      },
                      {
                        "test": [
                          0.1094404817
                        ],
                        "passed_time": 2638.570665,
                        "iteration": 795,
                        "remaining_time": 676.2166026,
                        "learn": [
                          0.08929202673
                        ]
                      },
                      {
                        "test": [
                          0.1094198901
                        ],
                        "passed_time": 2641.722689,
                        "iteration": 796,
                        "remaining_time": 672.8603588,
                        "learn": [
                          0.08922686656
                        ]
                      },
                      {
                        "test": [
                          0.1094367081
                        ],
                        "passed_time": 2644.970639,
                        "iteration": 797,
                        "remaining_time": 669.5289087,
                        "learn": [
                          0.08920358463
                        ]
                      },
                      {
                        "test": [
                          0.1094386416
                        ],
                        "passed_time": 2648.171251,
                        "iteration": 798,
                        "remaining_time": 666.185759,
                        "learn": [
                          0.08916626254
                        ]
                      },
                      {
                        "test": [
                          0.1093102803
                        ],
                        "passed_time": 2651.382751,
                        "iteration": 799,
                        "remaining_time": 662.8456878,
                        "learn": [
                          0.08901472145
                        ]
                      },
                      {
                        "test": [
                          0.1092746346
                        ],
                        "passed_time": 2654.574078,
                        "iteration": 800,
                        "remaining_time": 659.5009257,
                        "learn": [
                          0.08895162835
                        ]
                      },
                      {
                        "test": [
                          0.1092868497
                        ],
                        "passed_time": 2657.776005,
                        "iteration": 801,
                        "remaining_time": 656.1591632,
                        "learn": [
                          0.08893722757
                        ]
                      },
                      {
                        "test": [
                          0.1091380832
                        ],
                        "passed_time": 2660.935778,
                        "iteration": 802,
                        "remaining_time": 652.8074076,
                        "learn": [
                          0.08880492624
                        ]
                      },
                      {
                        "test": [
                          0.1090231263
                        ],
                        "passed_time": 2664.160563,
                        "iteration": 803,
                        "remaining_time": 649.4719781,
                        "learn": [
                          0.0886947225
                        ]
                      },
                      {
                        "test": [
                          0.1090234233
                        ],
                        "passed_time": 2667.575269,
                        "iteration": 804,
                        "remaining_time": 646.1828291,
                        "learn": [
                          0.08869274124
                        ]
                      },
                      {
                        "test": [
                          0.1089085272
                        ],
                        "passed_time": 2670.97173,
                        "iteration": 805,
                        "remaining_time": 642.8889773,
                        "learn": [
                          0.08854147362
                        ]
                      },
                      {
                        "test": [
                          0.108894284
                        ],
                        "passed_time": 2674.372014,
                        "iteration": 806,
                        "remaining_time": 639.5957852,
                        "learn": [
                          0.08851758783
                        ]
                      },
                      {
                        "test": [
                          0.1088102326
                        ],
                        "passed_time": 2677.826563,
                        "iteration": 807,
                        "remaining_time": 636.3152229,
                        "learn": [
                          0.08842666365
                        ]
                      },
                      {
                        "test": [
                          0.1087273804
                        ],
                        "passed_time": 2681.210352,
                        "iteration": 808,
                        "remaining_time": 633.0175244,
                        "learn": [
                          0.08831174334
                        ]
                      },
                      {
                        "test": [
                          0.1083935827
                        ],
                        "passed_time": 2684.579055,
                        "iteration": 809,
                        "remaining_time": 629.7160747,
                        "learn": [
                          0.08799682396
                        ]
                      },
                      {
                        "test": [
                          0.108363546
                        ],
                        "passed_time": 2687.968042,
                        "iteration": 810,
                        "remaining_time": 626.4191862,
                        "learn": [
                          0.08795955802
                        ]
                      },
                      {
                        "test": [
                          0.1083627928
                        ],
                        "passed_time": 2691.207577,
                        "iteration": 811,
                        "remaining_time": 623.0874686,
                        "learn": [
                          0.08794010465
                        ]
                      },
                      {
                        "test": [
                          0.1083540454
                        ],
                        "passed_time": 2694.479216,
                        "iteration": 812,
                        "remaining_time": 619.7633621,
                        "learn": [
                          0.0879284451
                        ]
                      },
                      {
                        "test": [
                          0.1083130913
                        ],
                        "passed_time": 2697.705915,
                        "iteration": 813,
                        "remaining_time": 616.4291157,
                        "learn": [
                          0.08787540483
                        ]
                      },
                      {
                        "test": [
                          0.1083028172
                        ],
                        "passed_time": 2700.957052,
                        "iteration": 814,
                        "remaining_time": 613.1006805,
                        "learn": [
                          0.08786335789
                        ]
                      },
                      {
                        "test": [
                          0.1082537482
                        ],
                        "passed_time": 2704.194807,
                        "iteration": 815,
                        "remaining_time": 609.7694173,
                        "learn": [
                          0.08781478891
                        ]
                      },
                      {
                        "test": [
                          0.1082393853
                        ],
                        "passed_time": 2707.384475,
                        "iteration": 816,
                        "remaining_time": 606.4276119,
                        "learn": [
                          0.08777456043
                        ]
                      },
                      {
                        "test": [
                          0.108237568
                        ],
                        "passed_time": 2710.675656,
                        "iteration": 817,
                        "remaining_time": 603.1087646,
                        "learn": [
                          0.087768945
                        ]
                      },
                      {
                        "test": [
                          0.1082379787
                        ],
                        "passed_time": 2713.89903,
                        "iteration": 818,
                        "remaining_time": 599.7749993,
                        "learn": [
                          0.08776742471
                        ]
                      },
                      {
                        "test": [
                          0.1082087476
                        ],
                        "passed_time": 2717.085383,
                        "iteration": 819,
                        "remaining_time": 596.4333768,
                        "learn": [
                          0.08773389884
                        ]
                      },
                      {
                        "test": [
                          0.1081994625
                        ],
                        "passed_time": 2720.263085,
                        "iteration": 820,
                        "remaining_time": 593.0902463,
                        "learn": [
                          0.08770856352
                        ]
                      },
                      {
                        "test": [
                          0.1081999143
                        ],
                        "passed_time": 2723.437272,
                        "iteration": 821,
                        "remaining_time": 589.7467571,
                        "learn": [
                          0.08770228815
                        ]
                      },
                      {
                        "test": [
                          0.1081254504
                        ],
                        "passed_time": 2726.598482,
                        "iteration": 822,
                        "remaining_time": 586.4008887,
                        "learn": [
                          0.08761054356
                        ]
                      },
                      {
                        "test": [
                          0.1081312045
                        ],
                        "passed_time": 2729.773155,
                        "iteration": 823,
                        "remaining_time": 583.0583438,
                        "learn": [
                          0.0876016182
                        ]
                      },
                      {
                        "test": [
                          0.1080951479
                        ],
                        "passed_time": 2733.168696,
                        "iteration": 824,
                        "remaining_time": 579.7630568,
                        "learn": [
                          0.08755892644
                        ]
                      },
                      {
                        "test": [
                          0.1080832958
                        ],
                        "passed_time": 2736.606359,
                        "iteration": 825,
                        "remaining_time": 576.4764002,
                        "learn": [
                          0.08754332956
                        ]
                      },
                      {
                        "test": [
                          0.1080872528
                        ],
                        "passed_time": 2739.955323,
                        "iteration": 826,
                        "remaining_time": 573.1708234,
                        "learn": [
                          0.08751745349
                        ]
                      },
                      {
                        "test": [
                          0.1080344393
                        ],
                        "passed_time": 2743.444794,
                        "iteration": 827,
                        "remaining_time": 569.8943292,
                        "learn": [
                          0.08738864388
                        ]
                      },
                      {
                        "test": [
                          0.1080230484
                        ],
                        "passed_time": 2746.83561,
                        "iteration": 828,
                        "remaining_time": 566.5969715,
                        "learn": [
                          0.08737020687
                        ]
                      },
                      {
                        "test": [
                          0.1077352793
                        ],
                        "passed_time": 2750.187488,
                        "iteration": 829,
                        "remaining_time": 563.2914132,
                        "learn": [
                          0.08708631235
                        ]
                      },
                      {
                        "test": [
                          0.107741455
                        ],
                        "passed_time": 2753.57378,
                        "iteration": 830,
                        "remaining_time": 559.9927423,
                        "learn": [
                          0.08708377207
                        ]
                      },
                      {
                        "test": [
                          0.1077417141
                        ],
                        "passed_time": 2756.828484,
                        "iteration": 831,
                        "remaining_time": 556.66729,
                        "learn": [
                          0.08706367854
                        ]
                      },
                      {
                        "test": [
                          0.1077260508
                        ],
                        "passed_time": 2760.055216,
                        "iteration": 832,
                        "remaining_time": 553.3363999,
                        "learn": [
                          0.08703104943
                        ]
                      },
                      {
                        "test": [
                          0.1077351669
                        ],
                        "passed_time": 2763.282155,
                        "iteration": 833,
                        "remaining_time": 550.0058006,
                        "learn": [
                          0.0869989404
                        ]
                      },
                      {
                        "test": [
                          0.1077347364
                        ],
                        "passed_time": 2766.480343,
                        "iteration": 834,
                        "remaining_time": 546.6697685,
                        "learn": [
                          0.08697090789
                        ]
                      },
                      {
                        "test": [
                          0.1076730094
                        ],
                        "passed_time": 2769.699108,
                        "iteration": 835,
                        "remaining_time": 543.3381025,
                        "learn": [
                          0.08687765608
                        ]
                      },
                      {
                        "test": [
                          0.1076996892
                        ],
                        "passed_time": 2772.899595,
                        "iteration": 836,
                        "remaining_time": 540.0031468,
                        "learn": [
                          0.08685056533
                        ]
                      },
                      {
                        "test": [
                          0.1076115997
                        ],
                        "passed_time": 2776.117008,
                        "iteration": 837,
                        "remaining_time": 536.6717843,
                        "learn": [
                          0.08671729136
                        ]
                      },
                      {
                        "test": [
                          0.1076089352
                        ],
                        "passed_time": 2779.331289,
                        "iteration": 838,
                        "remaining_time": 533.3400923,
                        "learn": [
                          0.08669656681
                        ]
                      },
                      {
                        "test": [
                          0.1075811574
                        ],
                        "passed_time": 2782.533769,
                        "iteration": 839,
                        "remaining_time": 530.0064323,
                        "learn": [
                          0.08666204266
                        ]
                      },
                      {
                        "test": [
                          0.1075691917
                        ],
                        "passed_time": 2785.66306,
                        "iteration": 840,
                        "remaining_time": 526.6592467,
                        "learn": [
                          0.08663690684
                        ]
                      },
                      {
                        "test": [
                          0.1075411184
                        ],
                        "passed_time": 2788.882579,
                        "iteration": 841,
                        "remaining_time": 523.3295101,
                        "learn": [
                          0.08657938738
                        ]
                      },
                      {
                        "test": [
                          0.1075297053
                        ],
                        "passed_time": 2792.058608,
                        "iteration": 842,
                        "remaining_time": 519.9919353,
                        "learn": [
                          0.08654249418
                        ]
                      },
                      {
                        "test": [
                          0.1075318611
                        ],
                        "passed_time": 2795.25886,
                        "iteration": 843,
                        "remaining_time": 516.6592206,
                        "learn": [
                          0.08652102552
                        ]
                      },
                      {
                        "test": [
                          0.107424304
                        ],
                        "passed_time": 2798.609573,
                        "iteration": 844,
                        "remaining_time": 513.3544188,
                        "learn": [
                          0.0864074096
                        ]
                      },
                      {
                        "test": [
                          0.1073312005
                        ],
                        "passed_time": 2802.024691,
                        "iteration": 845,
                        "remaining_time": 510.0612322,
                        "learn": [
                          0.08628459337
                        ]
                      },
                      {
                        "test": [
                          0.1072771044
                        ],
                        "passed_time": 2805.385975,
                        "iteration": 846,
                        "remaining_time": 506.7580333,
                        "learn": [
                          0.08624011866
                        ]
                      },
                      {
                        "test": [
                          0.1072637866
                        ],
                        "passed_time": 2808.815434,
                        "iteration": 847,
                        "remaining_time": 503.4669175,
                        "learn": [
                          0.08620867825
                        ]
                      },
                      {
                        "test": [
                          0.1072079698
                        ],
                        "passed_time": 2812.15248,
                        "iteration": 848,
                        "remaining_time": 500.1590394,
                        "learn": [
                          0.08615817537
                        ]
                      },
                      {
                        "test": [
                          0.1071930729
                        ],
                        "passed_time": 2815.563088,
                        "iteration": 849,
                        "remaining_time": 496.8640743,
                        "learn": [
                          0.0861344054
                        ]
                      },
                      {
                        "test": [
                          0.107191342
                        ],
                        "passed_time": 2818.994879,
                        "iteration": 850,
                        "remaining_time": 493.5725463,
                        "learn": [
                          0.08610879353
                        ]
                      },
                      {
                        "test": [
                          0.107136858
                        ],
                        "passed_time": 2822.362882,
                        "iteration": 851,
                        "remaining_time": 490.2696086,
                        "learn": [
                          0.08604633508
                        ]
                      },
                      {
                        "test": [
                          0.1070952844
                        ],
                        "passed_time": 2825.638269,
                        "iteration": 852,
                        "remaining_time": 486.9505575,
                        "learn": [
                          0.08599311866
                        ]
                      },
                      {
                        "test": [
                          0.1071021154
                        ],
                        "passed_time": 2828.905699,
                        "iteration": 853,
                        "remaining_time": 483.6302482,
                        "learn": [
                          0.08597536842
                        ]
                      },
                      {
                        "test": [
                          0.1069738996
                        ],
                        "passed_time": 2832.343663,
                        "iteration": 854,
                        "remaining_time": 480.3389837,
                        "learn": [
                          0.08584868655
                        ]
                      },
                      {
                        "test": [
                          0.1069784409
                        ],
                        "passed_time": 2835.804187,
                        "iteration": 855,
                        "remaining_time": 477.0511716,
                        "learn": [
                          0.08584368888
                        ]
                      },
                      {
                        "test": [
                          0.1069233402
                        ],
                        "passed_time": 2839.164535,
                        "iteration": 856,
                        "remaining_time": 473.746241,
                        "learn": [
                          0.08578589806
                        ]
                      },
                      {
                        "test": [
                          0.1068881119
                        ],
                        "passed_time": 2842.648307,
                        "iteration": 857,
                        "remaining_time": 470.4616079,
                        "learn": [
                          0.08575369223
                        ]
                      },
                      {
                        "test": [
                          0.1068710312
                        ],
                        "passed_time": 2846.058316,
                        "iteration": 858,
                        "remaining_time": 467.1644035,
                        "learn": [
                          0.08574269694
                        ]
                      },
                      {
                        "test": [
                          0.1068665401
                        ],
                        "passed_time": 2849.501099,
                        "iteration": 859,
                        "remaining_time": 463.872272,
                        "learn": [
                          0.08573431515
                        ]
                      },
                      {
                        "test": [
                          0.1068130425
                        ],
                        "passed_time": 2852.92683,
                        "iteration": 860,
                        "remaining_time": 460.5770375,
                        "learn": [
                          0.08565140882
                        ]
                      },
                      {
                        "test": [
                          0.1067982833
                        ],
                        "passed_time": 2856.20726,
                        "iteration": 861,
                        "remaining_time": 457.2582389,
                        "learn": [
                          0.08564212055
                        ]
                      },
                      {
                        "test": [
                          0.1067180325
                        ],
                        "passed_time": 2859.41262,
                        "iteration": 862,
                        "remaining_time": 453.9276117,
                        "learn": [
                          0.08556628894
                        ]
                      },
                      {
                        "test": [
                          0.1067242957
                        ],
                        "passed_time": 2862.66139,
                        "iteration": 863,
                        "remaining_time": 450.6041077,
                        "learn": [
                          0.08553751829
                        ]
                      },
                      {
                        "test": [
                          0.1067112661
                        ],
                        "passed_time": 2865.88748,
                        "iteration": 864,
                        "remaining_time": 447.2772368,
                        "learn": [
                          0.08551840825
                        ]
                      },
                      {
                        "test": [
                          0.1066945587
                        ],
                        "passed_time": 2869.153619,
                        "iteration": 865,
                        "remaining_time": 443.9567956,
                        "learn": [
                          0.08549620815
                        ]
                      },
                      {
                        "test": [
                          0.1066461919
                        ],
                        "passed_time": 2872.326367,
                        "iteration": 866,
                        "remaining_time": 440.6221532,
                        "learn": [
                          0.0854400444
                        ]
                      },
                      {
                        "test": [
                          0.1065999545
                        ],
                        "passed_time": 2875.628035,
                        "iteration": 867,
                        "remaining_time": 437.3074891,
                        "learn": [
                          0.085390478
                        ]
                      },
                      {
                        "test": [
                          0.1065894055
                        ],
                        "passed_time": 2878.836095,
                        "iteration": 868,
                        "remaining_time": 433.978744,
                        "learn": [
                          0.08537825224
                        ]
                      },
                      {
                        "test": [
                          0.106564487
                        ],
                        "passed_time": 2882.045683,
                        "iteration": 869,
                        "remaining_time": 430.6505043,
                        "learn": [
                          0.08534369746
                        ]
                      },
                      {
                        "test": [
                          0.1065383762
                        ],
                        "passed_time": 2885.208455,
                        "iteration": 870,
                        "remaining_time": 427.3156036,
                        "learn": [
                          0.08529148462
                        ]
                      },
                      {
                        "test": [
                          0.1065280877
                        ],
                        "passed_time": 2888.4101,
                        "iteration": 871,
                        "remaining_time": 423.9868037,
                        "learn": [
                          0.08525855582
                        ]
                      },
                      {
                        "test": [
                          0.1065011147
                        ],
                        "passed_time": 2891.522998,
                        "iteration": 872,
                        "remaining_time": 420.6453846,
                        "learn": [
                          0.08523876462
                        ]
                      },
                      {
                        "test": [
                          0.1064186738
                        ],
                        "passed_time": 2894.735311,
                        "iteration": 873,
                        "remaining_time": 417.3188206,
                        "learn": [
                          0.08513074049
                        ]
                      },
                      {
                        "test": [
                          0.1063063995
                        ],
                        "passed_time": 2898.145148,
                        "iteration": 874,
                        "remaining_time": 414.0207354,
                        "learn": [
                          0.08499390872
                        ]
                      },
                      {
                        "test": [
                          0.1062706652
                        ],
                        "passed_time": 2901.604094,
                        "iteration": 875,
                        "remaining_time": 410.7293466,
                        "learn": [
                          0.0849260111
                        ]
                      },
                      {
                        "test": [
                          0.106242522
                        ],
                        "passed_time": 2905.149462,
                        "iteration": 876,
                        "remaining_time": 407.4496965,
                        "learn": [
                          0.08489408538
                        ]
                      },
                      {
                        "test": [
                          0.1062424604
                        ],
                        "passed_time": 2908.612889,
                        "iteration": 877,
                        "remaining_time": 404.1580552,
                        "learn": [
                          0.08489256332
                        ]
                      },
                      {
                        "test": [
                          0.10624449
                        ],
                        "passed_time": 2911.997494,
                        "iteration": 878,
                        "remaining_time": 400.8551727,
                        "learn": [
                          0.08486794791
                        ]
                      },
                      {
                        "test": [
                          0.1062465024
                        ],
                        "passed_time": 2915.464442,
                        "iteration": 879,
                        "remaining_time": 397.563333,
                        "learn": [
                          0.08483742494
                        ]
                      },
                      {
                        "test": [
                          0.1062459437
                        ],
                        "passed_time": 2919.080337,
                        "iteration": 880,
                        "remaining_time": 394.2912146,
                        "learn": [
                          0.0848329114
                        ]
                      },
                      {
                        "test": [
                          0.1062186841
                        ],
                        "passed_time": 2922.556553,
                        "iteration": 881,
                        "remaining_time": 390.9996295,
                        "learn": [
                          0.08480054333
                        ]
                      },
                      {
                        "test": [
                          0.1062244092
                        ],
                        "passed_time": 2925.912681,
                        "iteration": 882,
                        "remaining_time": 387.6917143,
                        "learn": [
                          0.08479420309
                        ]
                      },
                      {
                        "test": [
                          0.1062024719
                        ],
                        "passed_time": 2929.208621,
                        "iteration": 883,
                        "remaining_time": 384.3757919,
                        "learn": [
                          0.08477783613
                        ]
                      },
                      {
                        "test": [
                          0.106194667
                        ],
                        "passed_time": 2932.501639,
                        "iteration": 884,
                        "remaining_time": 381.059535,
                        "learn": [
                          0.08473144277
                        ]
                      },
                      {
                        "test": [
                          0.1061574758
                        ],
                        "passed_time": 2935.72253,
                        "iteration": 885,
                        "remaining_time": 377.7340502,
                        "learn": [
                          0.08466917694
                        ]
                      },
                      {
                        "test": [
                          0.1060827215
                        ],
                        "passed_time": 2938.883684,
                        "iteration": 886,
                        "remaining_time": 374.4011909,
                        "learn": [
                          0.08458757089
                        ]
                      },
                      {
                        "test": [
                          0.1060839125
                        ],
                        "passed_time": 2942.134947,
                        "iteration": 887,
                        "remaining_time": 371.0800835,
                        "learn": [
                          0.08458610606
                        ]
                      },
                      {
                        "test": [
                          0.1060561999
                        ],
                        "passed_time": 2945.429024,
                        "iteration": 888,
                        "remaining_time": 367.7644788,
                        "learn": [
                          0.08456029081
                        ]
                      },
                      {
                        "test": [
                          0.1060360433
                        ],
                        "passed_time": 2948.719494,
                        "iteration": 889,
                        "remaining_time": 364.4484767,
                        "learn": [
                          0.08453564563
                        ]
                      },
                      {
                        "test": [
                          0.1059982513
                        ],
                        "passed_time": 2951.888781,
                        "iteration": 890,
                        "remaining_time": 361.1177073,
                        "learn": [
                          0.08446457603
                        ]
                      },
                      {
                        "test": [
                          0.1059431541
                        ],
                        "passed_time": 2955.03413,
                        "iteration": 891,
                        "remaining_time": 357.7844013,
                        "learn": [
                          0.08442657975
                        ]
                      },
                      {
                        "test": [
                          0.105937427
                        ],
                        "passed_time": 2958.212343,
                        "iteration": 892,
                        "remaining_time": 354.4554543,
                        "learn": [
                          0.08440148093
                        ]
                      },
                      {
                        "test": [
                          0.1059342049
                        ],
                        "passed_time": 2961.457132,
                        "iteration": 893,
                        "remaining_time": 351.1347382,
                        "learn": [
                          0.08439855195
                        ]
                      },
                      {
                        "test": [
                          0.1058956739
                        ],
                        "passed_time": 2964.917499,
                        "iteration": 894,
                        "remaining_time": 347.8394831,
                        "learn": [
                          0.08438063145
                        ]
                      },
                      {
                        "test": [
                          0.1058440528
                        ],
                        "passed_time": 2968.26936,
                        "iteration": 895,
                        "remaining_time": 344.531265,
                        "learn": [
                          0.08426383541
                        ]
                      },
                      {
                        "test": [
                          0.1057974663
                        ],
                        "passed_time": 2971.650893,
                        "iteration": 896,
                        "remaining_time": 341.2263567,
                        "learn": [
                          0.08421552625
                        ]
                      },
                      {
                        "test": [
                          0.1057795209
                        ],
                        "passed_time": 2975.019502,
                        "iteration": 897,
                        "remaining_time": 337.9198098,
                        "learn": [
                          0.08419838142
                        ]
                      },
                      {
                        "test": [
                          0.1057766831
                        ],
                        "passed_time": 2978.43148,
                        "iteration": 898,
                        "remaining_time": 334.6179972,
                        "learn": [
                          0.08417780236
                        ]
                      },
                      {
                        "test": [
                          0.1057776113
                        ],
                        "passed_time": 2981.820919,
                        "iteration": 899,
                        "remaining_time": 331.3134355,
                        "learn": [
                          0.08417364947
                        ]
                      },
                      {
                        "test": [
                          0.1057384209
                        ],
                        "passed_time": 2985.175625,
                        "iteration": 900,
                        "remaining_time": 328.0048689,
                        "learn": [
                          0.08407906317
                        ]
                      },
                      {
                        "test": [
                          0.1057250159
                        ],
                        "passed_time": 2988.369062,
                        "iteration": 901,
                        "remaining_time": 324.6786785,
                        "learn": [
                          0.08406795277
                        ]
                      },
                      {
                        "test": [
                          0.1057047499
                        ],
                        "passed_time": 2991.619486,
                        "iteration": 902,
                        "remaining_time": 321.3589038,
                        "learn": [
                          0.08404773674
                        ]
                      },
                      {
                        "test": [
                          0.1057092748
                        ],
                        "passed_time": 2994.780558,
                        "iteration": 903,
                        "remaining_time": 318.0297938,
                        "learn": [
                          0.08401171664
                        ]
                      },
                      {
                        "test": [
                          0.1056877814
                        ],
                        "passed_time": 2997.946706,
                        "iteration": 904,
                        "remaining_time": 314.7015879,
                        "learn": [
                          0.08398614448
                        ]
                      },
                      {
                        "test": [
                          0.1056671249
                        ],
                        "passed_time": 3001.144762,
                        "iteration": 905,
                        "remaining_time": 311.3770504,
                        "learn": [
                          0.08388245968
                        ]
                      },
                      {
                        "test": [
                          0.1055955871
                        ],
                        "passed_time": 3004.379812,
                        "iteration": 906,
                        "remaining_time": 308.0565849,
                        "learn": [
                          0.08381707914
                        ]
                      },
                      {
                        "test": [
                          0.1056146648
                        ],
                        "passed_time": 3007.60618,
                        "iteration": 907,
                        "remaining_time": 304.7354279,
                        "learn": [
                          0.08379572219
                        ]
                      },
                      {
                        "test": [
                          0.1055481322
                        ],
                        "passed_time": 3010.758645,
                        "iteration": 908,
                        "remaining_time": 301.407081,
                        "learn": [
                          0.08372013015
                        ]
                      },
                      {
                        "test": [
                          0.1055419404
                        ],
                        "passed_time": 3013.941791,
                        "iteration": 909,
                        "remaining_time": 298.0821552,
                        "learn": [
                          0.0836826259
                        ]
                      },
                      {
                        "test": [
                          0.1055418894
                        ],
                        "passed_time": 3017.167315,
                        "iteration": 910,
                        "remaining_time": 294.7616806,
                        "learn": [
                          0.08368139262
                        ]
                      },
                      {
                        "test": [
                          0.1055313987
                        ],
                        "passed_time": 3020.479131,
                        "iteration": 911,
                        "remaining_time": 291.4497408,
                        "learn": [
                          0.08367074223
                        ]
                      },
                      {
                        "test": [
                          0.1055314373
                        ],
                        "passed_time": 3023.686938,
                        "iteration": 912,
                        "remaining_time": 288.1278901,
                        "learn": [
                          0.08366951601
                        ]
                      },
                      {
                        "test": [
                          0.1055205856
                        ],
                        "passed_time": 3026.914142,
                        "iteration": 913,
                        "remaining_time": 284.808114,
                        "learn": [
                          0.08364205231
                        ]
                      },
                      {
                        "test": [
                          0.1055224737
                        ],
                        "passed_time": 3030.351092,
                        "iteration": 914,
                        "remaining_time": 281.5080249,
                        "learn": [
                          0.0836391444
                        ]
                      },
                      {
                        "test": [
                          0.1055059028
                        ],
                        "passed_time": 3033.78532,
                        "iteration": 915,
                        "remaining_time": 278.2073874,
                        "learn": [
                          0.08358171262
                        ]
                      },
                      {
                        "test": [
                          0.1055198539
                        ],
                        "passed_time": 3037.190122,
                        "iteration": 916,
                        "remaining_time": 274.9037951,
                        "learn": [
                          0.08355720121
                        ]
                      },
                      {
                        "test": [
                          0.1055221945
                        ],
                        "passed_time": 3040.581548,
                        "iteration": 917,
                        "remaining_time": 271.5987875,
                        "learn": [
                          0.08353015242
                        ]
                      },
                      {
                        "test": [
                          0.1055181246
                        ],
                        "passed_time": 3043.989216,
                        "iteration": 918,
                        "remaining_time": 268.2950234,
                        "learn": [
                          0.08352583505
                        ]
                      },
                      {
                        "test": [
                          0.1054864794
                        ],
                        "passed_time": 3047.413552,
                        "iteration": 919,
                        "remaining_time": 264.9924828,
                        "learn": [
                          0.08348241222
                        ]
                      },
                      {
                        "test": [
                          0.1054431867
                        ],
                        "passed_time": 3050.87505,
                        "iteration": 920,
                        "remaining_time": 261.6928653,
                        "learn": [
                          0.08343308645
                        ]
                      },
                      {
                        "test": [
                          0.1053698268
                        ],
                        "passed_time": 3054.123328,
                        "iteration": 921,
                        "remaining_time": 258.3748585,
                        "learn": [
                          0.08337180708
                        ]
                      },
                      {
                        "test": [
                          0.1053521892
                        ],
                        "passed_time": 3057.317224,
                        "iteration": 922,
                        "remaining_time": 255.0524662,
                        "learn": [
                          0.08335465021
                        ]
                      },
                      {
                        "test": [
                          0.1053546992
                        ],
                        "passed_time": 3060.529709,
                        "iteration": 923,
                        "remaining_time": 251.7318809,
                        "learn": [
                          0.08334739743
                        ]
                      },
                      {
                        "test": [
                          0.1053053795
                        ],
                        "passed_time": 3063.740897,
                        "iteration": 924,
                        "remaining_time": 248.4114241,
                        "learn": [
                          0.08327437007
                        ]
                      },
                      {
                        "test": [
                          0.105298681
                        ],
                        "passed_time": 3066.914634,
                        "iteration": 925,
                        "remaining_time": 245.0882105,
                        "learn": [
                          0.08325943742
                        ]
                      },
                      {
                        "test": [
                          0.1052646325
                        ],
                        "passed_time": 3070.077963,
                        "iteration": 926,
                        "remaining_time": 241.7644998,
                        "learn": [
                          0.08317400516
                        ]
                      },
                      {
                        "test": [
                          0.1052638412
                        ],
                        "passed_time": 3073.215493,
                        "iteration": 927,
                        "remaining_time": 238.4391331,
                        "learn": [
                          0.08317036361
                        ]
                      },
                      {
                        "test": [
                          0.1052622444
                        ],
                        "passed_time": 3076.398358,
                        "iteration": 928,
                        "remaining_time": 235.1176355,
                        "learn": [
                          0.08314909846
                        ]
                      },
                      {
                        "test": [
                          0.1052240433
                        ],
                        "passed_time": 3079.691503,
                        "iteration": 929,
                        "remaining_time": 231.8047368,
                        "learn": [
                          0.08311533377
                        ]
                      },
                      {
                        "test": [
                          0.1049503338
                        ],
                        "passed_time": 3082.862607,
                        "iteration": 930,
                        "remaining_time": 228.4828355,
                        "learn": [
                          0.08286291792
                        ]
                      },
                      {
                        "test": [
                          0.1049475825
                        ],
                        "passed_time": 3086.084856,
                        "iteration": 931,
                        "remaining_time": 225.1649895,
                        "learn": [
                          0.08286088551
                        ]
                      },
                      {
                        "test": [
                          0.1049066053
                        ],
                        "passed_time": 3089.281486,
                        "iteration": 932,
                        "remaining_time": 221.8455086,
                        "learn": [
                          0.08279446362
                        ]
                      },
                      {
                        "test": [
                          0.1048761341
                        ],
                        "passed_time": 3092.467425,
                        "iteration": 933,
                        "remaining_time": 218.5255354,
                        "learn": [
                          0.08277472617
                        ]
                      },
                      {
                        "test": [
                          0.1048230347
                        ],
                        "passed_time": 3095.822583,
                        "iteration": 934,
                        "remaining_time": 215.2176127,
                        "learn": [
                          0.08273582806
                        ]
                      },
                      {
                        "test": [
                          0.1047421408
                        ],
                        "passed_time": 3099.221029,
                        "iteration": 935,
                        "remaining_time": 211.912549,
                        "learn": [
                          0.0826706849
                        ]
                      },
                      {
                        "test": [
                          0.1046983531
                        ],
                        "passed_time": 3102.601637,
                        "iteration": 936,
                        "remaining_time": 208.6060866,
                        "learn": [
                          0.08260062877
                        ]
                      },
                      {
                        "test": [
                          0.1046448661
                        ],
                        "passed_time": 3105.956596,
                        "iteration": 937,
                        "remaining_time": 205.2977707,
                        "learn": [
                          0.0825359914
                        ]
                      },
                      {
                        "test": [
                          0.1043308942
                        ],
                        "passed_time": 3109.401673,
                        "iteration": 938,
                        "remaining_time": 201.9952099,
                        "learn": [
                          0.0822241722
                        ]
                      },
                      {
                        "test": [
                          0.1043081963
                        ],
                        "passed_time": 3112.838687,
                        "iteration": 939,
                        "remaining_time": 198.6918311,
                        "learn": [
                          0.08220592167
                        ]
                      },
                      {
                        "test": [
                          0.1042998361
                        ],
                        "passed_time": 3116.293043,
                        "iteration": 940,
                        "remaining_time": 195.3892556,
                        "learn": [
                          0.08219282514
                        ]
                      },
                      {
                        "test": [
                          0.1042900248
                        ],
                        "passed_time": 3119.611169,
                        "iteration": 941,
                        "remaining_time": 192.0779701,
                        "learn": [
                          0.08216614716
                        ]
                      },
                      {
                        "test": [
                          0.1042829483
                        ],
                        "passed_time": 3122.796969,
                        "iteration": 942,
                        "remaining_time": 188.7586715,
                        "learn": [
                          0.08214203991
                        ]
                      },
                      {
                        "test": [
                          0.1042400394
                        ],
                        "passed_time": 3125.985023,
                        "iteration": 943,
                        "remaining_time": 185.4397895,
                        "learn": [
                          0.08209064776
                        ]
                      },
                      {
                        "test": [
                          0.1041918196
                        ],
                        "passed_time": 3129.172524,
                        "iteration": 944,
                        "remaining_time": 182.1211522,
                        "learn": [
                          0.08203178678
                        ]
                      },
                      {
                        "test": [
                          0.104180934
                        ],
                        "passed_time": 3132.38642,
                        "iteration": 945,
                        "remaining_time": 178.8042988,
                        "learn": [
                          0.08198051399
                        ]
                      },
                      {
                        "test": [
                          0.1041840463
                        ],
                        "passed_time": 3135.651704,
                        "iteration": 946,
                        "remaining_time": 175.4905389,
                        "learn": [
                          0.08196684885
                        ]
                      },
                      {
                        "test": [
                          0.104159754
                        ],
                        "passed_time": 3138.830296,
                        "iteration": 947,
                        "remaining_time": 172.1721259,
                        "learn": [
                          0.08193124874
                        ]
                      },
                      {
                        "test": [
                          0.1041066683
                        ],
                        "passed_time": 3141.945507,
                        "iteration": 948,
                        "remaining_time": 168.8506015,
                        "learn": [
                          0.08187641755
                        ]
                      },
                      {
                        "test": [
                          0.1041001459
                        ],
                        "passed_time": 3145.101968,
                        "iteration": 949,
                        "remaining_time": 165.5316825,
                        "learn": [
                          0.08186962481
                        ]
                      },
                      {
                        "test": [
                          0.1040506125
                        ],
                        "passed_time": 3148.30206,
                        "iteration": 950,
                        "remaining_time": 162.2153532,
                        "learn": [
                          0.08179641641
                        ]
                      },
                      {
                        "test": [
                          0.1040371446
                        ],
                        "passed_time": 3151.473006,
                        "iteration": 951,
                        "remaining_time": 158.8977986,
                        "learn": [
                          0.08175058242
                        ]
                      },
                      {
                        "test": [
                          0.1040398669
                        ],
                        "passed_time": 3154.605393,
                        "iteration": 952,
                        "remaining_time": 155.57865,
                        "learn": [
                          0.08172108522
                        ]
                      },
                      {
                        "test": [
                          0.1040381892
                        ],
                        "passed_time": 3157.765195,
                        "iteration": 953,
                        "remaining_time": 152.2612148,
                        "learn": [
                          0.08171455676
                        ]
                      },
                      {
                        "test": [
                          0.1040005662
                        ],
                        "passed_time": 3161.183559,
                        "iteration": 954,
                        "remaining_time": 148.9562934,
                        "learn": [
                          0.08166198678
                        ]
                      },
                      {
                        "test": [
                          0.1039998586
                        ],
                        "passed_time": 3164.619256,
                        "iteration": 955,
                        "remaining_time": 145.6519323,
                        "learn": [
                          0.08164790717
                        ]
                      },
                      {
                        "test": [
                          0.1039594223
                        ],
                        "passed_time": 3168.040844,
                        "iteration": 956,
                        "remaining_time": 142.3466628,
                        "learn": [
                          0.08159173599
                        ]
                      },
                      {
                        "test": [
                          0.1039022882
                        ],
                        "passed_time": 3171.439988,
                        "iteration": 957,
                        "remaining_time": 139.0401665,
                        "learn": [
                          0.08152397174
                        ]
                      },
                      {
                        "test": [
                          0.1038804769
                        ],
                        "passed_time": 3174.849426,
                        "iteration": 958,
                        "remaining_time": 135.7339171,
                        "learn": [
                          0.08149574366
                        ]
                      },
                      {
                        "test": [
                          0.1038785397
                        ],
                        "passed_time": 3178.293001,
                        "iteration": 959,
                        "remaining_time": 132.428875,
                        "learn": [
                          0.08148956988
                        ]
                      },
                      {
                        "test": [
                          0.1038627535
                        ],
                        "passed_time": 3181.734976,
                        "iteration": 960,
                        "remaining_time": 129.1234798,
                        "learn": [
                          0.08146178409
                        ]
                      },
                      {
                        "test": [
                          0.1038348232
                        ],
                        "passed_time": 3185.0381,
                        "iteration": 961,
                        "remaining_time": 125.8123158,
                        "learn": [
                          0.08140041754
                        ]
                      },
                      {
                        "test": [
                          0.1037330803
                        ],
                        "passed_time": 3188.288071,
                        "iteration": 962,
                        "remaining_time": 122.4991263,
                        "learn": [
                          0.08123206985
                        ]
                      },
                      {
                        "test": [
                          0.1036869112
                        ],
                        "passed_time": 3191.446229,
                        "iteration": 963,
                        "remaining_time": 119.1826392,
                        "learn": [
                          0.08118671082
                        ]
                      },
                      {
                        "test": [
                          0.1035479866
                        ],
                        "passed_time": 3194.785682,
                        "iteration": 964,
                        "remaining_time": 115.8730558,
                        "learn": [
                          0.08105516158
                        ]
                      },
                      {
                        "test": [
                          0.1035432296
                        ],
                        "passed_time": 3198.175654,
                        "iteration": 965,
                        "remaining_time": 112.5651886,
                        "learn": [
                          0.08104566425
                        ]
                      },
                      {
                        "test": [
                          0.1035387097
                        ],
                        "passed_time": 3201.586548,
                        "iteration": 966,
                        "remaining_time": 109.2578657,
                        "learn": [
                          0.08104001667
                        ]
                      },
                      {
                        "test": [
                          0.1035379925
                        ],
                        "passed_time": 3205.011928,
                        "iteration": 967,
                        "remaining_time": 105.9508075,
                        "learn": [
                          0.0810064853
                        ]
                      },
                      {
                        "test": [
                          0.1035441314
                        ],
                        "passed_time": 3208.448994,
                        "iteration": 968,
                        "remaining_time": 102.6438791,
                        "learn": [
                          0.08100031833
                        ]
                      },
                      {
                        "test": [
                          0.103413375
                        ],
                        "passed_time": 3211.860545,
                        "iteration": 969,
                        "remaining_time": 99.33589315,
                        "learn": [
                          0.08084339475
                        ]
                      },
                      {
                        "test": [
                          0.1034178702
                        ],
                        "passed_time": 3215.307239,
                        "iteration": 970,
                        "remaining_time": 96.0287435,
                        "learn": [
                          0.08082579227
                        ]
                      },
                      {
                        "test": [
                          0.1033902657
                        ],
                        "passed_time": 3218.752547,
                        "iteration": 971,
                        "remaining_time": 92.72126679,
                        "learn": [
                          0.08080731051
                        ]
                      },
                      {
                        "test": [
                          0.1033505229
                        ],
                        "passed_time": 3221.874206,
                        "iteration": 972,
                        "remaining_time": 89.40452576,
                        "learn": [
                          0.08072020128
                        ]
                      },
                      {
                        "test": [
                          0.1032261494
                        ],
                        "passed_time": 3225.001856,
                        "iteration": 973,
                        "remaining_time": 86.08834523,
                        "learn": [
                          0.08060207715
                        ]
                      },
                      {
                        "test": [
                          0.1032273498
                        ],
                        "passed_time": 3228.171199,
                        "iteration": 974,
                        "remaining_time": 82.77362048,
                        "learn": [
                          0.0805792901
                        ]
                      },
                      {
                        "test": [
                          0.1032176176
                        ],
                        "passed_time": 3231.405846,
                        "iteration": 975,
                        "remaining_time": 79.46079949,
                        "learn": [
                          0.08055257598
                        ]
                      },
                      {
                        "test": [
                          0.1031985355
                        ],
                        "passed_time": 3234.621997,
                        "iteration": 976,
                        "remaining_time": 76.14770311,
                        "learn": [
                          0.08054021836
                        ]
                      },
                      {
                        "test": [
                          0.1031896478
                        ],
                        "passed_time": 3237.827807,
                        "iteration": 977,
                        "remaining_time": 72.83457235,
                        "learn": [
                          0.08052244098
                        ]
                      },
                      {
                        "test": [
                          0.1031297691
                        ],
                        "passed_time": 3241.000698,
                        "iteration": 978,
                        "remaining_time": 69.52095471,
                        "learn": [
                          0.08042187457
                        ]
                      },
                      {
                        "test": [
                          0.1031298558
                        ],
                        "passed_time": 3244.281278,
                        "iteration": 979,
                        "remaining_time": 66.209822,
                        "learn": [
                          0.08041978464
                        ]
                      },
                      {
                        "test": [
                          0.103109717
                        ],
                        "passed_time": 3247.540983,
                        "iteration": 980,
                        "remaining_time": 62.89834728,
                        "learn": [
                          0.08037077385
                        ]
                      },
                      {
                        "test": [
                          0.1031032132
                        ],
                        "passed_time": 3250.741182,
                        "iteration": 981,
                        "remaining_time": 59.58588725,
                        "learn": [
                          0.08035302056
                        ]
                      },
                      {
                        "test": [
                          0.1031123455
                        ],
                        "passed_time": 3253.965334,
                        "iteration": 982,
                        "remaining_time": 56.27406987,
                        "learn": [
                          0.08032382884
                        ]
                      },
                      {
                        "test": [
                          0.1030698152
                        ],
                        "passed_time": 3257.151794,
                        "iteration": 983,
                        "remaining_time": 52.96181778,
                        "learn": [
                          0.08024768399
                        ]
                      },
                      {
                        "test": [
                          0.1029875056
                        ],
                        "passed_time": 3260.540069,
                        "iteration": 984,
                        "remaining_time": 49.65289445,
                        "learn": [
                          0.08015592759
                        ]
                      },
                      {
                        "test": [
                          0.1029577607
                        ],
                        "passed_time": 3263.968898,
                        "iteration": 985,
                        "remaining_time": 46.34438597,
                        "learn": [
                          0.08013062222
                        ]
                      },
                      {
                        "test": [
                          0.1028592325
                        ],
                        "passed_time": 3267.392848,
                        "iteration": 986,
                        "remaining_time": 43.03556943,
                        "learn": [
                          0.08002443903
                        ]
                      },
                      {
                        "test": [
                          0.1028579265
                        ],
                        "passed_time": 3270.891447,
                        "iteration": 987,
                        "remaining_time": 39.72742649,
                        "learn": [
                          0.08002156687
                        ]
                      },
                      {
                        "test": [
                          0.1028339674
                        ],
                        "passed_time": 3274.300966,
                        "iteration": 988,
                        "remaining_time": 36.41790761,
                        "learn": [
                          0.07998902736
                        ]
                      },
                      {
                        "test": [
                          0.1028308933
                        ],
                        "passed_time": 3277.712805,
                        "iteration": 989,
                        "remaining_time": 33.10821015,
                        "learn": [
                          0.07997204199
                        ]
                      },
                      {
                        "test": [
                          0.1028309248
                        ],
                        "passed_time": 3281.151044,
                        "iteration": 990,
                        "remaining_time": 29.79854632,
                        "learn": [
                          0.0799569442
                        ]
                      },
                      {
                        "test": [
                          0.1028309692
                        ],
                        "passed_time": 3284.555101,
                        "iteration": 991,
                        "remaining_time": 26.48834759,
                        "learn": [
                          0.079955406
                        ]
                      },
                      {
                        "test": [
                          0.1027791052
                        ],
                        "passed_time": 3287.754302,
                        "iteration": 992,
                        "remaining_time": 23.17651573,
                        "learn": [
                          0.07989351768
                        ]
                      },
                      {
                        "test": [
                          0.1027535006
                        ],
                        "passed_time": 3290.96831,
                        "iteration": 993,
                        "remaining_time": 19.86499986,
                        "learn": [
                          0.07986033211
                        ]
                      },
                      {
                        "test": [
                          0.1027470679
                        ],
                        "passed_time": 3294.195386,
                        "iteration": 994,
                        "remaining_time": 16.55374566,
                        "learn": [
                          0.07985532512
                        ]
                      },
                      {
                        "test": [
                          0.1027351559
                        ],
                        "passed_time": 3297.506648,
                        "iteration": 995,
                        "remaining_time": 13.24299859,
                        "learn": [
                          0.07984573853
                        ]
                      },
                      {
                        "test": [
                          0.1027322931
                        ],
                        "passed_time": 3300.726885,
                        "iteration": 996,
                        "remaining_time": 9.931976585,
                        "learn": [
                          0.07982249189
                        ]
                      },
                      {
                        "test": [
                          0.1027245685
                        ],
                        "passed_time": 3303.961399,
                        "iteration": 997,
                        "remaining_time": 6.621165129,
                        "learn": [
                          0.07980653319
                        ]
                      },
                      {
                        "test": [
                          0.1026992878
                        ],
                        "passed_time": 3307.122883,
                        "iteration": 998,
                        "remaining_time": 3.310433316,
                        "learn": [
                          0.079750222
                        ]
                      },
                      {
                        "test": [
                          0.1026869988
                        ],
                        "passed_time": 3310.305715,
                        "iteration": 999,
                        "remaining_time": 0,
                        "learn": [
                          0.07973203546
                        ]
                      }
                    ]
                  },
                  "total_iterations": 1000,
                  "passed_iterations": 999
                },
                "path": "catboost_info",
                "name": "catboost_info"
              }
            },
            "_view_module": "catboost-widget",
            "_model_module_version": "^1.0.0",
            "_view_count": null,
            "_view_module_version": "^1.0.0",
            "layout": "IPY_MODEL_a6f3cd2f2ac64519b56995a80a66112d",
            "_model_module": "catboost-widget"
          }
        }
      }
    }
  },
  "cells": [
    {
      "cell_type": "markdown",
      "metadata": {
        "id": "view-in-github",
        "colab_type": "text"
      },
      "source": [
        "<a href=\"https://colab.research.google.com/github/juanagustinmasi/VacunarTech/blob/main/TP3/Cuaderno_2_martes_grupo6_2021.ipynb\" target=\"_parent\"><img src=\"https://colab.research.google.com/assets/colab-badge.svg\" alt=\"Open In Colab\"/></a>"
      ]
    },
    {
      "cell_type": "markdown",
      "metadata": {
        "id": "HiLtBgKwy6lU"
      },
      "source": [
        "# **1.Introduccion**\n",
        "En este notebook se usara Keras, MNIST y CatBoost para clasificación de dígitos del 0 al 9 escritos a mano para crear una Convolutional Neural Network (CNN) para crear un modelo que identifica y predice una imagen de un dígito que nunca ha visto con un 99% de exactitud a mano.\n"
      ]
    },
    {
      "cell_type": "markdown",
      "metadata": {
        "id": "5XFljxRly94Z"
      },
      "source": [
        "# **2.Armado del Ambiente**"
      ]
    },
    {
      "cell_type": "markdown",
      "metadata": {
        "id": "OdeuO8-efg34"
      },
      "source": [
        "Instalacion de CatBoost para data science (CatBoost es una biblioteca de código abierto de alto rendimiento para boostear el gradiente en árboles de decisión)"
      ]
    },
    {
      "cell_type": "code",
      "metadata": {
        "colab": {
          "base_uri": "https://localhost:8080/"
        },
        "id": "3428aAUEff3T",
        "outputId": "8efdc91d-25b9-41dc-96c2-833da402107b"
      },
      "source": [
        "!pip install catboost"
      ],
      "execution_count": null,
      "outputs": [
        {
          "output_type": "stream",
          "text": [
            "Collecting catboost\n",
            "  Downloading catboost-0.26-cp37-none-manylinux1_x86_64.whl (69.2 MB)\n",
            "\u001b[K     |████████████████████████████████| 69.2 MB 4.9 kB/s \n",
            "\u001b[?25hRequirement already satisfied: graphviz in /usr/local/lib/python3.7/dist-packages (from catboost) (0.10.1)\n",
            "Requirement already satisfied: pandas>=0.24.0 in /usr/local/lib/python3.7/dist-packages (from catboost) (1.1.5)\n",
            "Requirement already satisfied: plotly in /usr/local/lib/python3.7/dist-packages (from catboost) (4.4.1)\n",
            "Requirement already satisfied: six in /usr/local/lib/python3.7/dist-packages (from catboost) (1.15.0)\n",
            "Requirement already satisfied: numpy>=1.16.0 in /usr/local/lib/python3.7/dist-packages (from catboost) (1.19.5)\n",
            "Requirement already satisfied: scipy in /usr/local/lib/python3.7/dist-packages (from catboost) (1.4.1)\n",
            "Requirement already satisfied: matplotlib in /usr/local/lib/python3.7/dist-packages (from catboost) (3.2.2)\n",
            "Requirement already satisfied: pytz>=2017.2 in /usr/local/lib/python3.7/dist-packages (from pandas>=0.24.0->catboost) (2018.9)\n",
            "Requirement already satisfied: python-dateutil>=2.7.3 in /usr/local/lib/python3.7/dist-packages (from pandas>=0.24.0->catboost) (2.8.1)\n",
            "Requirement already satisfied: cycler>=0.10 in /usr/local/lib/python3.7/dist-packages (from matplotlib->catboost) (0.10.0)\n",
            "Requirement already satisfied: kiwisolver>=1.0.1 in /usr/local/lib/python3.7/dist-packages (from matplotlib->catboost) (1.3.1)\n",
            "Requirement already satisfied: pyparsing!=2.0.4,!=2.1.2,!=2.1.6,>=2.0.1 in /usr/local/lib/python3.7/dist-packages (from matplotlib->catboost) (2.4.7)\n",
            "Requirement already satisfied: retrying>=1.3.3 in /usr/local/lib/python3.7/dist-packages (from plotly->catboost) (1.3.3)\n",
            "Installing collected packages: catboost\n",
            "Successfully installed catboost-0.26\n"
          ],
          "name": "stdout"
        }
      ]
    },
    {
      "cell_type": "markdown",
      "metadata": {
        "id": "uNx5W1NY13Sn"
      },
      "source": [
        "Importacion de bibliotecas y catboost"
      ]
    },
    {
      "cell_type": "code",
      "metadata": {
        "id": "rCmghplfloky"
      },
      "source": [
        "import catboost \n",
        "import keras\n",
        "from keras.datasets import mnist\n",
        "\n",
        "import time\n",
        "import numpy as np\n",
        "import matplotlib.pyplot as plt\n",
        "\n",
        "%matplotlib inline"
      ],
      "execution_count": null,
      "outputs": []
    },
    {
      "cell_type": "markdown",
      "metadata": {
        "id": "2uqxSlsLiZkj"
      },
      "source": [
        "CatBoost se usa para problemas de aprendizaje supervisado, donde usamos los datos de entrenamiento (con múltiples funciones)  para predecir una variable objetivo. \n",
        "El modelo en nuestro aprendizaje supervisado generalmente se refiere a la estructura matemática por la cual la predicción ` Yi` se hace a partir de la entrada  `Xi` . Un ejemplo común es un modelo lineal , donde la predicción se da como ![sumatory.png](data:image/png;base64,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)  , una combinación lineal de características de entrada ponderadas. El valor de predicción puede tener diferentes interpretaciones, dependiendo de la tarea, es decir, regresión o clasificación."
      ]
    },
    {
      "cell_type": "code",
      "metadata": {
        "id": "Gt6gTlgC3QlE",
        "colab": {
          "base_uri": "https://localhost:8080/"
        },
        "outputId": "a31f0446-e010-4269-bb16-accd70337191"
      },
      "source": [
        "(x_train, y_train), (x_test, y_test) = mnist.load_data()\n",
        "\n",
        "img_rows, img_cols =  x_train.shape[1:3]\n",
        "\n",
        "x_train = x_train.reshape(x_train.shape[0], img_rows * img_cols)\n",
        "x_test = x_test.reshape(x_test.shape[0], img_rows * img_cols)\n",
        "\n",
        "D_train = catboost.Pool(x_train, y_train)\n",
        "D_val = catboost.Pool(x_test, y_test)"
      ],
      "execution_count": null,
      "outputs": [
        {
          "output_type": "stream",
          "text": [
            "Downloading data from https://storage.googleapis.com/tensorflow/tf-keras-datasets/mnist.npz\n",
            "11493376/11490434 [==============================] - 0s 0us/step\n",
            "11501568/11490434 [==============================] - 0s 0us/step\n"
          ],
          "name": "stdout"
        }
      ]
    },
    {
      "cell_type": "markdown",
      "metadata": {
        "id": "pqHhotsfr7Uk"
      },
      "source": [
        "*Los parámetros son la parte indeterminada que necesitamos aprender de los datos. En problemas de regresión lineal, los parámetros son los coeficientes `Theta`. Usualmente usaremos `Theta` para denotar los parámetros.*"
      ]
    },
    {
      "cell_type": "markdown",
      "metadata": {
        "id": "Tn-siQAtKlwe"
      },
      "source": [
        "# **3.Desarrollo**"
      ]
    },
    {
      "cell_type": "markdown",
      "metadata": {
        "id": "nEr2R0oZRejm"
      },
      "source": [
        "Realizamos la ejecución del modelo sobre GPU."
      ]
    },
    {
      "cell_type": "code",
      "metadata": {
        "id": "wcq9as8VCSpr",
        "colab": {
          "base_uri": "https://localhost:8080/",
          "height": 34,
          "referenced_widgets": [
            "5014750c96fc41beb5d4c7723df011ea"
          ]
        },
        "outputId": "934f2c5e-ca9f-4d2e-aaae-b5446976c4ed"
      },
      "source": [
        "params = dict()\n",
        "params['learning_rate'] = 0.10\n",
        "params['depth'] = 6\n",
        "params['l2_leaf_reg'] = 4\n",
        "params['rsm'] = 1.0\n",
        "\n",
        "model = catboost.CatBoostClassifier(iterations=1000,\n",
        "                                    learning_rate=params['learning_rate'],\n",
        "                                    depth=int(params['depth']),\n",
        "                                    loss_function='MultiClass',\n",
        "                                    use_best_model=True,\n",
        "                                    eval_metric='MultiClass',\n",
        "                                    l2_leaf_reg=params['l2_leaf_reg'],\n",
        "                                    od_pval=1e-3,\n",
        "                                    random_seed=123456,\n",
        "                                    verbose=False,\n",
        "                                    task_type=\"GPU\"         #aca indicamos si queremos correr la NN en GPU o CPU\n",
        "                                   )\n",
        "\n",
        "model.fit(D_train, eval_set=D_val, verbose=False, plot=True)"
      ],
      "execution_count": null,
      "outputs": [
        {
          "output_type": "display_data",
          "data": {
            "application/vnd.jupyter.widget-view+json": {
              "model_id": "5014750c96fc41beb5d4c7723df011ea",
              "version_minor": 0,
              "version_major": 2
            },
            "text/plain": [
              "MetricVisualizer(layout=Layout(align_self='stretch', height='500px'))"
            ]
          },
          "metadata": {
            "tags": []
          }
        },
        {
          "output_type": "execute_result",
          "data": {
            "text/plain": [
              "<catboost.core.CatBoostClassifier at 0x7f8cd6fbb9d0>"
            ]
          },
          "metadata": {
            "tags": []
          },
          "execution_count": 6
        }
      ]
    },
    {
      "cell_type": "markdown",
      "metadata": {
        "id": "Nvfc4cGjRa-3"
      },
      "source": [
        "Ahora lo realizamos con CPU\n",
        "**Va a tardar aprox 23 minutos en ejecutar**"
      ]
    },
    {
      "cell_type": "code",
      "metadata": {
        "colab": {
          "base_uri": "https://localhost:8080/",
          "height": 34,
          "referenced_widgets": [
            "c31dd6f6ef6941ef95d32ae0d812b926"
          ]
        },
        "id": "Nfw1q6_wRZD_",
        "outputId": "842436a5-1253-4bf5-8435-e0741c3ce827"
      },
      "source": [
        "params = dict()\n",
        "params['learning_rate'] = 0.10\n",
        "params['depth'] = 6\n",
        "params['l2_leaf_reg'] = 4\n",
        "params['rsm'] = 1.0\n",
        "\n",
        "model = catboost.CatBoostClassifier(iterations=1000,\n",
        "                                    learning_rate=params['learning_rate'],\n",
        "                                    depth=int(params['depth']),\n",
        "                                    loss_function='MultiClass',\n",
        "                                    use_best_model=True,\n",
        "                                    eval_metric='MultiClass',\n",
        "                                    l2_leaf_reg=params['l2_leaf_reg'],\n",
        "                                    od_pval=1e-3,\n",
        "                                    random_seed=123456,\n",
        "                                    verbose=False,\n",
        "                                    task_type=\"CPU\"         #aca indicamos si queremos correr la NN en GPU o CPU\n",
        "                                   )\n",
        "\n",
        "model.fit(D_train, eval_set=D_val, verbose=False, plot=True)"
      ],
      "execution_count": null,
      "outputs": [
        {
          "output_type": "display_data",
          "data": {
            "application/vnd.jupyter.widget-view+json": {
              "model_id": "c31dd6f6ef6941ef95d32ae0d812b926",
              "version_major": 2,
              "version_minor": 0
            },
            "text/plain": [
              "MetricVisualizer(layout=Layout(align_self='stretch', height='500px'))"
            ]
          },
          "metadata": {
            "tags": []
          }
        },
        {
          "output_type": "execute_result",
          "data": {
            "text/plain": [
              "<catboost.core.CatBoostClassifier at 0x7f8cab086590>"
            ]
          },
          "metadata": {
            "tags": []
          },
          "execution_count": 10
        }
      ]
    },
    {
      "cell_type": "markdown",
      "metadata": {
        "id": "E4v5zFf9uEd0"
      },
      "source": [
        "**Predecimos el modelo y lo imprimimos**"
      ]
    },
    {
      "cell_type": "code",
      "metadata": {
        "id": "eMIIavyZPAW2",
        "colab": {
          "base_uri": "https://localhost:8080/",
          "height": 283
        },
        "outputId": "2650ccd3-2735-4b39-ccf4-64a5d38be40f"
      },
      "source": [
        "sample = np.random.randint(0, 1000)\n",
        "\n",
        "plt.figure()\n",
        "plt.imshow(x_test[sample].reshape(28, 28))\n",
        "plt.colorbar()\n",
        "plt.grid(False)\n",
        "plt.show()\n",
        "\n",
        "print('Prediction:', model.predict(x_test[sample]))"
      ],
      "execution_count": null,
      "outputs": [
        {
          "output_type": "display_data",
          "data": {
            "image/png": "[encoded data removed]",
            "text/plain": [
              "<Figure size 432x288 with 2 Axes>"
            ]
          },
          "metadata": {
            "tags": [],
            "needs_background": "light"
          }
        },
        {
          "output_type": "stream",
          "text": [
            "Prediction: [7]\n"
          ],
          "name": "stdout"
        }
      ]
    },
    {
      "cell_type": "markdown",
      "metadata": {
        "id": "JKUs-tEizMcm"
      },
      "source": [
        "# **4.Metricas**"
      ]
    },
    {
      "cell_type": "code",
      "metadata": {
        "colab": {
          "base_uri": "https://localhost:8080/"
        },
        "id": "yU7uyAyvPZ_E",
        "outputId": "3f09dec5-7829-4f95-f0e2-afca4b0c232b"
      },
      "source": [
        "from sklearn.metrics import classification_report\n",
        "y_pred = model.predict(x_test)\n",
        "print(classification_report(y_test, y_pred))"
      ],
      "execution_count": null,
      "outputs": [
        {
          "output_type": "stream",
          "text": [
            "              precision    recall  f1-score   support\n",
            "\n",
            "           0       0.97      0.99      0.98       980\n",
            "           1       0.99      0.99      0.99      1135\n",
            "           2       0.97      0.97      0.97      1032\n",
            "           3       0.97      0.98      0.97      1010\n",
            "           4       0.98      0.97      0.98       982\n",
            "           5       0.98      0.97      0.98       892\n",
            "           6       0.98      0.98      0.98       958\n",
            "           7       0.98      0.96      0.97      1028\n",
            "           8       0.96      0.96      0.96       974\n",
            "           9       0.96      0.96      0.96      1009\n",
            "\n",
            "    accuracy                           0.97     10000\n",
            "   macro avg       0.97      0.97      0.97     10000\n",
            "weighted avg       0.97      0.97      0.97     10000\n",
            "\n"
          ],
          "name": "stdout"
        }
      ]
    },
    {
      "cell_type": "markdown",
      "metadata": {
        "id": "AxLIlweyzPVS"
      },
      "source": [
        "## **5.Conclusiones**\n",
        "Uno de los problemas surgidos en el desarrollo del ejercicio, fue utilizar el procesamiento con CPU ya que tardaba demasiado en ejecutar para obtener los resultados, lo que demoraba las pruebas para comparar la eficiencia entra GPU y CPU. \n",
        "Adicionalmente, tuvimos que descargar la biblioteca CatBoost porque no esta incluida en la API de tensorFlow.\n",
        "La conclusion de mayor importancia que encontramos, realizando este notebook, es la gran diferencia de tiempo que hay utlizando el procesamiento con GPU contra el procesamiento con CPU.\n"
      ]
    },
    {
      "cell_type": "markdown",
      "metadata": {
        "id": "KGATK23rzTVW"
      },
      "source": [
        "# **6.Bibliografía**\n",
        "1-\thttps://keras.io/\n",
        "\n",
        "2-\thttps://catboost.ai/\n",
        "\n",
        "3-\thttps://onlinelibrary.wiley.com/doi/abs/10.1002/9781119564843.ch5\n",
        "\n",
        "4-\thttps://www.sciencedirect.com/science/article/abs/pii/S0040162521000901\n"
      ]
    }
  ]
}