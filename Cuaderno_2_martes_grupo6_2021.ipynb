{
  "nbformat": 4,
  "nbformat_minor": 0,
  "metadata": {
    "colab": {
      "name": "Cuaderno_2_martes_grupo6_2021.ipynb",
      "provenance": [],
      "authorship_tag": "ABX9TyPBszY4cc+SmHi62nfOvtaz",
      "include_colab_link": true
    },
    "kernelspec": {
      "name": "python3",
      "display_name": "Python 3"
    },
    "language_info": {
      "name": "python"
    }
  },
  "cells": [
    {
      "cell_type": "markdown",
      "metadata": {
        "id": "view-in-github",
        "colab_type": "text"
      },
      "source": [
        "<a href=\"https://colab.research.google.com/github/juanagustinmasi/VacunarTech/blob/main/Cuaderno_2_martes_grupo6_2021.ipynb\" target=\"_parent\"><img src=\"https://colab.research.google.com/assets/colab-badge.svg\" alt=\"Open In Colab\"/></a>"
      ]
    },
    {
      "cell_type": "markdown",
      "metadata": {
        "id": "HiLtBgKwy6lU"
      },
      "source": [
        "# **1.Introduccion**\n",
        "\n",
        "Kenya tiene un promedio de muertes por accidentes de tránsito de 27.8 cada 100.000 habitantes, casi el doble del promedio de muertes por accidente de transito a nivel mundial. Por eso, entender los factores determinantes del peligro de las carretera son clave y nosotros intentamos lograr este objetivo mediante la construcción de un modelo de deep learning basado integramente en videos de varios tramos de carreteras de Nairobi en colaboración con el Banco mundial.\n",
        "\n",
        "Este notebook se centra en la detención de múltiples objetos en fotogramas extraídos de los videos, para ello procesamos y anotamos 855 imágenes (Fotogramas de los videos) y entrenamos diferentes modelos de la familia YOLO (YOLOv5, especificamente) para la detección de objetos. Obtuvimos resultados decentes con nuestro mejor modelo alcanzando valores AP@0.5 de 0.75 y AP@0.5: 0.05: 0.95 valor de 0.42 para algunas clases."
      ]
    },
    {
      "cell_type": "markdown",
      "metadata": {
        "id": "5XFljxRly94Z"
      },
      "source": [
        "# **2.Armado del Ambiente**"
      ]
    },
    {
      "cell_type": "markdown",
      "metadata": {
        "id": "pvQ6ZCKezBQW"
      },
      "source": [
        "# **3.Desarrollo**"
      ]
    },
    {
      "cell_type": "markdown",
      "metadata": {
        "id": "JKUs-tEizMcm"
      },
      "source": [
        "# **4.Metricas**"
      ]
    },
    {
      "cell_type": "markdown",
      "metadata": {
        "id": "AxLIlweyzPVS"
      },
      "source": [
        "# **5.Conclusiones**"
      ]
    },
    {
      "cell_type": "markdown",
      "metadata": {
        "id": "KGATK23rzTVW"
      },
      "source": [
        "# **6.Bibliografía**"
      ]
    }
  ]
}